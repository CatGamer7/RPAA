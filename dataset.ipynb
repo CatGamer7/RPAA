{
 "cells": [
  {
   "cell_type": "code",
   "execution_count": 1,
   "metadata": {},
   "outputs": [],
   "source": [
    "import pandas as pd\n",
    "import seaborn as sns"
   ]
  },
  {
   "cell_type": "code",
   "execution_count": 2,
   "metadata": {},
   "outputs": [],
   "source": [
    "sns.set_theme(rc={\n",
    "    \"figure.figsize\": (16, 9)\n",
    "})"
   ]
  },
  {
   "cell_type": "code",
   "execution_count": 3,
   "metadata": {},
   "outputs": [],
   "source": [
    "df = pd.read_csv(\"27_10_20_53.csv\")"
   ]
  },
  {
   "cell_type": "code",
   "execution_count": 4,
   "metadata": {},
   "outputs": [
    {
     "data": {
      "text/html": [
       "<div>\n",
       "<style scoped>\n",
       "    .dataframe tbody tr th:only-of-type {\n",
       "        vertical-align: middle;\n",
       "    }\n",
       "\n",
       "    .dataframe tbody tr th {\n",
       "        vertical-align: top;\n",
       "    }\n",
       "\n",
       "    .dataframe thead th {\n",
       "        text-align: right;\n",
       "    }\n",
       "</style>\n",
       "<table border=\"1\" class=\"dataframe\">\n",
       "  <thead>\n",
       "    <tr style=\"text-align: right;\">\n",
       "      <th></th>\n",
       "      <th>full_name</th>\n",
       "      <th>text_body</th>\n",
       "      <th>author_name</th>\n",
       "      <th>votes</th>\n",
       "      <th>responds_to</th>\n",
       "      <th>parent_submission_name</th>\n",
       "      <th>submission_flair</th>\n",
       "      <th>created_timestamp</th>\n",
       "      <th>parsed_timestamp</th>\n",
       "      <th>controversiality</th>\n",
       "    </tr>\n",
       "  </thead>\n",
       "  <tbody>\n",
       "    <tr>\n",
       "      <th>0</th>\n",
       "      <td>t3_1fo8hat</td>\n",
       "      <td>Harini Amarasuriya, feminist and outspoken adv...</td>\n",
       "      <td>t2_hwz7hlpj</td>\n",
       "      <td>682</td>\n",
       "      <td>NaN</td>\n",
       "      <td>t3_1fo8hat</td>\n",
       "      <td>Politics</td>\n",
       "      <td>1.727171e+09</td>\n",
       "      <td>1730036388</td>\n",
       "      <td>False</td>\n",
       "    </tr>\n",
       "    <tr>\n",
       "      <th>1</th>\n",
       "      <td>t1_loo1nty</td>\n",
       "      <td>I like the fact I am hearing a lot more Dr in ...</td>\n",
       "      <td>t2_7z9p1u76</td>\n",
       "      <td>203</td>\n",
       "      <td>t3_1fo8hat</td>\n",
       "      <td>t3_1fo8hat</td>\n",
       "      <td>Politics</td>\n",
       "      <td>1.727171e+09</td>\n",
       "      <td>1730036390</td>\n",
       "      <td>False</td>\n",
       "    </tr>\n",
       "    <tr>\n",
       "      <th>2</th>\n",
       "      <td>t1_loo6dk0</td>\n",
       "      <td>She's an excellent lecturer and very popular w...</td>\n",
       "      <td>t2_88sa0qyh</td>\n",
       "      <td>255</td>\n",
       "      <td>t3_1fo8hat</td>\n",
       "      <td>t3_1fo8hat</td>\n",
       "      <td>Politics</td>\n",
       "      <td>1.727171e+09</td>\n",
       "      <td>1730036390</td>\n",
       "      <td>False</td>\n",
       "    </tr>\n",
       "    <tr>\n",
       "      <th>3</th>\n",
       "      <td>t1_loo37mt</td>\n",
       "      <td>From the perspective of a bi-racial child of a...</td>\n",
       "      <td>t2_yhhuya1j4</td>\n",
       "      <td>135</td>\n",
       "      <td>t3_1fo8hat</td>\n",
       "      <td>t3_1fo8hat</td>\n",
       "      <td>Politics</td>\n",
       "      <td>1.727171e+09</td>\n",
       "      <td>1730036390</td>\n",
       "      <td>False</td>\n",
       "    </tr>\n",
       "    <tr>\n",
       "      <th>4</th>\n",
       "      <td>t1_loo9jcy</td>\n",
       "      <td>Let's hope we see some change here finally. Pe...</td>\n",
       "      <td>t2_14avw6woy3</td>\n",
       "      <td>35</td>\n",
       "      <td>t3_1fo8hat</td>\n",
       "      <td>t3_1fo8hat</td>\n",
       "      <td>Politics</td>\n",
       "      <td>1.727171e+09</td>\n",
       "      <td>1730036390</td>\n",
       "      <td>False</td>\n",
       "    </tr>\n",
       "  </tbody>\n",
       "</table>\n",
       "</div>"
      ],
      "text/plain": [
       "    full_name                                          text_body  \\\n",
       "0  t3_1fo8hat  Harini Amarasuriya, feminist and outspoken adv...   \n",
       "1  t1_loo1nty  I like the fact I am hearing a lot more Dr in ...   \n",
       "2  t1_loo6dk0  She's an excellent lecturer and very popular w...   \n",
       "3  t1_loo37mt  From the perspective of a bi-racial child of a...   \n",
       "4  t1_loo9jcy  Let's hope we see some change here finally. Pe...   \n",
       "\n",
       "     author_name  votes responds_to parent_submission_name submission_flair  \\\n",
       "0    t2_hwz7hlpj    682         NaN             t3_1fo8hat         Politics   \n",
       "1    t2_7z9p1u76    203  t3_1fo8hat             t3_1fo8hat         Politics   \n",
       "2    t2_88sa0qyh    255  t3_1fo8hat             t3_1fo8hat         Politics   \n",
       "3   t2_yhhuya1j4    135  t3_1fo8hat             t3_1fo8hat         Politics   \n",
       "4  t2_14avw6woy3     35  t3_1fo8hat             t3_1fo8hat         Politics   \n",
       "\n",
       "   created_timestamp  parsed_timestamp  controversiality  \n",
       "0       1.727171e+09        1730036388             False  \n",
       "1       1.727171e+09        1730036390             False  \n",
       "2       1.727171e+09        1730036390             False  \n",
       "3       1.727171e+09        1730036390             False  \n",
       "4       1.727171e+09        1730036390             False  "
      ]
     },
     "execution_count": 4,
     "metadata": {},
     "output_type": "execute_result"
    }
   ],
   "source": [
    "df.head()"
   ]
  },
  {
   "attachments": {},
   "cell_type": "markdown",
   "metadata": {},
   "source": [
    "### Описание столбцов\n",
    "1. *full_name* - Идентификатор текстовой записи (публикация или комментарий). Тип: строка.\n",
    "2. *text_body* - Текстовое содержание записи, кодированное в UTF-8. Может содержать несвязный текст или текст на языке, отличном от английского. Может содержать пропуски (автор удалил аккаунт или комментарий). Тип: строка.\n",
    "3. *author_name* - Идентификатор автора текстовой записи. Может содержать пропуски (автор удалил аккаунт). Тип: строка.\n",
    "4. *votes* - Рейтинг записи. Тип: число.\n",
    "5. *responds_to* - Идентификатор записи, на которую отвечает данная. Может содержать пропуски (запись является корневой публикацией). Тип: строка.\n",
    "6. *parent_submission_name* - Идентификатор публикации, в дереве которой находится данная запись. Может содержать пропуски (запись является корневой публикацией). Тип: строка.\n",
    "7. *submission_flair* - Категория текстовой записи. Единая для всего дерева публикации. Тип: строка\n",
    "8. *created_timestamp* - UNIX метка времени создания записи по данным Reddit. Тип: число\n",
    "9. *parsed_timestamp* - UNIX метка времени сохранения записи парсером. Тип: число\n",
    "10. *controversiality* - Отметка о спорности публикации по данным Reddit. Тип: булев"
   ]
  },
  {
   "cell_type": "code",
   "execution_count": 5,
   "metadata": {},
   "outputs": [
    {
     "name": "stdout",
     "output_type": "stream",
     "text": [
      "Row count: 51892\n",
      "Unique rows: 51892\n",
      "Unique authors (including null value): 7513\n",
      "Unique submissions (not comments): 922\n"
     ]
    }
   ],
   "source": [
    "print(f\"Row count: {df.shape[0]}\")\n",
    "\n",
    "print(f\"Unique rows: {df[\"full_name\"].nunique()}\")\n",
    "print(f\"Unique authors (including null value): {df[\"author_name\"].nunique()}\")\n",
    "print(f\"Unique submissions (not comments): {df[\"parent_submission_name\"].nunique()}\")"
   ]
  },
  {
   "cell_type": "code",
   "execution_count": 6,
   "metadata": {},
   "outputs": [
    {
     "data": {
      "text/plain": [
       "submission_flair\n",
       "Discussion          23021\n",
       "Politics            13827\n",
       "News                10747\n",
       "Rumour               4035\n",
       "Beaurocracy           105\n",
       "Rumour Disproven      105\n",
       "Name: count, dtype: int64"
      ]
     },
     "execution_count": 6,
     "metadata": {},
     "output_type": "execute_result"
    }
   ],
   "source": [
    "df[\"submission_flair\"].value_counts()"
   ]
  },
  {
   "attachments": {},
   "cell_type": "markdown",
   "metadata": {},
   "source": [
    "1. 51892 уникальных записей, опубликованных 7512 авторами, среди 922 публикаций\n",
    "2. Записи распределены по 6 категориям, в порядке убывания: Discussion, Politics, News, Rumour, Beaurocracy, Rumour Disproven\n",
    "3. Категория Beaurocracy имеет [очень нетипичное написание](https://dictionary.cambridge.org/us/dictionary/english-russian/bureaucracy)\n"
   ]
  },
  {
   "attachments": {},
   "cell_type": "markdown",
   "metadata": {},
   "source": [
    "### Признак controversiality "
   ]
  },
  {
   "cell_type": "code",
   "execution_count": 7,
   "metadata": {},
   "outputs": [
    {
     "data": {
      "text/plain": [
       "controversiality\n",
       "False    49056\n",
       "True      2836\n",
       "Name: count, dtype: int64"
      ]
     },
     "execution_count": 7,
     "metadata": {},
     "output_type": "execute_result"
    }
   ],
   "source": [
    "df[\"controversiality\"].value_counts()"
   ]
  },
  {
   "cell_type": "code",
   "execution_count": 8,
   "metadata": {},
   "outputs": [
    {
     "data": {
      "text/plain": [
       "submission_flair  controversiality\n",
       "Beaurocracy       False                 105\n",
       "Discussion        False               22228\n",
       "                  True                  793\n",
       "News              False               10231\n",
       "                  True                  516\n",
       "Politics          False               12391\n",
       "                  True                 1436\n",
       "Rumour            False                3944\n",
       "                  True                   91\n",
       "Rumour Disproven  False                 105\n",
       "dtype: int64"
      ]
     },
     "execution_count": 8,
     "metadata": {},
     "output_type": "execute_result"
    }
   ],
   "source": [
    "df.groupby([\"submission_flair\", \"controversiality\"]).size()"
   ]
  },
  {
   "cell_type": "code",
   "execution_count": 9,
   "metadata": {},
   "outputs": [],
   "source": [
    "def build_replies_up(df: pd.DataFrame, starting_node: pd.DataFrame) -> list[str]:\n",
    "    out = [starting_node[\"text_body\"]]\n",
    "    next_parent = starting_node[\"responds_to\"]\n",
    "\n",
    "    while isinstance(next_parent, str):\n",
    "        node = df[df[\"full_name\"] == next_parent]\n",
    "        out.append(node.iloc[0]['text_body'])\n",
    "        next_parent = node.iloc[0]['responds_to']\n",
    "\n",
    "    return list(reversed(out))"
   ]
  },
  {
   "cell_type": "code",
   "execution_count": 10,
   "metadata": {},
   "outputs": [],
   "source": [
    "def print_replies(start_id: int) -> None:\n",
    "    for i in build_replies_up(df, df.iloc[start_id]):\n",
    "        print(i)\n",
    "        print(\"=\"*20)"
   ]
  },
  {
   "cell_type": "code",
   "execution_count": 11,
   "metadata": {},
   "outputs": [
    {
     "data": {
      "text/plain": [
       "15       Isn’t she very opposed to private universities...\n",
       "30                                               Dr.Cabral\n",
       "109      I have bsc in Accounting from japura. You can'...\n",
       "113      How is it fine? That's like in the US, where t...\n",
       "141                         Did you even watch the videos?\n",
       "                               ...                        \n",
       "13808                                               Sajith\n",
       "13810      Seeing this post for the nth time in this sub 😭\n",
       "13811                                                Ranil\n",
       "13812                                                Anura\n",
       "13813                                    Karma whore much?\n",
       "Name: text_body, Length: 1436, dtype: object"
      ]
     },
     "execution_count": 11,
     "metadata": {},
     "output_type": "execute_result"
    }
   ],
   "source": [
    "df[(df[\"controversiality\"] == True) & (df[\"submission_flair\"] == \"Politics\")][\"text_body\"]"
   ]
  },
  {
   "cell_type": "code",
   "execution_count": 12,
   "metadata": {},
   "outputs": [
    {
     "name": "stdout",
     "output_type": "stream",
     "text": [
      "Harini Amarasuriya, feminist and outspoken advocate for the LGBTQ+ community, is the new prime minister of Sri Lanka.\n",
      "====================\n",
      "Isn’t she very opposed to private universities? 🤨\n",
      "\n",
      "I really want to love her but I remember her being vocally opposed to that on Twitter.\n",
      "\n",
      "Edit: just to clarify here, I am not stating that she actually is against private universities but that I remember her being involved in some of the discussions related to that area. Someone please correct me if I am wrong.\n",
      "\n",
      "Edit 2: it seems she supports regulation for private universities: https://x.com/dr_harinia/status/1407610723539247113?s=46\n",
      "====================\n"
     ]
    }
   ],
   "source": [
    "print_replies(15)"
   ]
  },
  {
   "cell_type": "code",
   "execution_count": 13,
   "metadata": {},
   "outputs": [
    {
     "name": "stdout",
     "output_type": "stream",
     "text": [
      "Harini Amarasuriya, feminist and outspoken advocate for the LGBTQ+ community, is the new prime minister of Sri Lanka.\n",
      "====================\n",
      "She's an excellent lecturer and very popular with Open University students. She was what drew many educated youth who are against the JVP's violent, racist roots to the NPP. She's not against private universities, most students that are not in the Anthare leadership are not against them, but only fear that private unis will give the government an excuse to neglect the already derelict public universities and lower the cache of public education. As always there are legitimate issues behind discontent being hijacked by reactionaries on both sides. \n",
      "\n",
      "Dr. Harini's revolutionary idea is that university students are not the enemy of the state. She's a moderate whose goal is regulation of and access to quality higher education. And she does not want the military involved in civil affairs. I really hope that she won't get completely swallowed up by politics and lose sight of her objectives. A lot of people start out with good intentions and then realize the system has made it so they have to compromise their values to stay in power. It would be a waste of a great academic administrator.\n",
      "====================\n",
      "nan\n",
      "====================\n",
      "I agree. The private higher education institutions right now are predatory, substandard and full of fraudulence. Their primary goal seems facilitating brain drain because graduates can't recoup the cost of education here. I went to ANC and then transferred my credits to Canada for my B.A before I had to drop out because of chronic illness. Felt so guilty about all the millions wasted, especially considering the cost of my medical treatments later. Registered at Open University several years later to try and get my B.A at my own pace and was surprised and pleased at the quality of education. There were a couple of lecturers who were duds but much less than at ANC which was frankly a shitshow. The material was good, the lecturers truly cared, it didn't matter if I missed lectures when I got sick. I wish I had known this was an option before. \n",
      "\n",
      "Many people who secured the BA then go onto work and earn enough to do their Masters at better unis. My daily maid's son also started an IT degree at Open some years back and he's doing so well without completely eating up his parents savings and having to kill himself at Moratuwa. \n",
      "\n",
      "I think Open University courses should be expanded to more areas or equivalent tertiary options offered by non-profits with the same academic regulations and oversight as state unis. It will take time and I don't kid myself that preventing private universities will be an option until the means for non-profits materialise. But they need to at least work towards those models instead of just letting private companies take over. Hopefully they'll pay more attention to accessibility needs as well. There's a disheartening lack of resources and alternatives for disabled students. We have value too.\n",
      "====================\n",
      "nan\n",
      "====================\n",
      "How is it fine? That's like in the US, where the military preys on disenfranchised students who have no other means of getting an education other than enlist. Military academies are just brainwashing factories. No academic worth their salt would affiliate themselves with state enforcers.\n",
      "====================\n"
     ]
    }
   ],
   "source": [
    "print_replies(113)"
   ]
  },
  {
   "cell_type": "code",
   "execution_count": 14,
   "metadata": {},
   "outputs": [
    {
     "name": "stdout",
     "output_type": "stream",
     "text": [
      "Who are you guys voting for this time ?\n",
      "====================\n",
      "Ranil\n",
      "====================\n"
     ]
    }
   ],
   "source": [
    "print_replies(13811)"
   ]
  },
  {
   "cell_type": "code",
   "execution_count": 15,
   "metadata": {},
   "outputs": [
    {
     "name": "stdout",
     "output_type": "stream",
     "text": [
      "Good luck to Dr Harini, our first PM with a Doctorate.\n",
      "====================\n",
      "These comments damn. Why's everyone like Harini is going to make gay sex mandatory lol ? You are not required to participate unless you want.\n",
      "====================\n",
      "What else do you think a gender studies expert will do. I mean, you have mutated the concern into a farce, it would be a waste of time to explain to you the concerns.  \n",
      "- Hinted at more ESG and DEI policies in work force\n",
      "\n",
      "- Gender studies majors loves to normalize degenerate behaviors like gay sex, crimes such as killing babies or grooming and child mutilation\n",
      "\n",
      "- Gender theory is based on a degenerate pedophile who did unethical experiments on kids called John Money. Which also resulted in the death of the kids he sexually abused.\n",
      "\n",
      "- Her research shows her alignments and that she is an ideologue. We need a centrist, not a radical feminist with a PhD in social anthropology and gender studies.\n",
      "\n",
      "- If she fails and since she is being marketed as \"the 3rd woman who became PM\" with\"PhD\" it's gonna taint the name of other women and the credibility and respect towards people of academia.\n",
      "\n",
      "- If she takes a back seat and just limits herself to talks, even that wouldn't result in favorability.   \n",
      "  \n",
      "You can't understand what they did to her, like Mahinda did, they sacrificed her good name and the credibility of her credentials to gain a little more PR for probably the general election. Even if she doesn't tap into her radical tendencies, this will not be favorable for her good name. Just look at people even now bringing up their concerns, and the more the supporter attack these concerns the bigger the pushback will be, and the same could be said about the impression. \n",
      "\n",
      "We can't go past this with simple ignorance either, liberals used to be a political faction of rationality now they have fallen into narcissism and arrogance, that's the reason I parted with both FLSP and JVP after the city level councils we made after the Aragalaya.\n",
      "====================\n"
     ]
    }
   ],
   "source": [
    "print_replies(13850)"
   ]
  },
  {
   "attachments": {},
   "cell_type": "markdown",
   "metadata": {},
   "source": [
    "1. Лишь около 5% записей имеют отметку controversiality, что не делает её единственной и достаточной в обнаружении проблемного дискурса\n",
    "2. Восстановление текста родительских комментариев необходимо для установления контекста, позволяющего провести соответствие между обсуждаемой сущностью и ответами"
   ]
  },
  {
   "attachments": {},
   "cell_type": "markdown",
   "metadata": {},
   "source": [
    "### Признак votes"
   ]
  },
  {
   "cell_type": "code",
   "execution_count": 16,
   "metadata": {},
   "outputs": [
    {
     "data": {
      "text/plain": [
       "count    51892.000000\n",
       "mean         7.852135\n",
       "std         23.030875\n",
       "min       -115.000000\n",
       "25%          1.000000\n",
       "50%          2.000000\n",
       "75%          6.000000\n",
       "max        868.000000\n",
       "Name: votes, dtype: float64"
      ]
     },
     "execution_count": 16,
     "metadata": {},
     "output_type": "execute_result"
    }
   ],
   "source": [
    "df[\"votes\"].describe()"
   ]
  },
  {
   "cell_type": "code",
   "execution_count": 17,
   "metadata": {},
   "outputs": [
    {
     "data": {
      "text/plain": [
       "<Axes: xlabel='votes', ylabel='Count'>"
      ]
     },
     "execution_count": 17,
     "metadata": {},
     "output_type": "execute_result"
    },
    {
     "data": {
      "image/png": "[encoded data removed]",
      "text/plain": [
       "<Figure size 1600x900 with 1 Axes>"
      ]
     },
     "metadata": {},
     "output_type": "display_data"
    }
   ],
   "source": [
    "sns.histplot(data=df, x=\"votes\", bins=100)"
   ]
  },
  {
   "cell_type": "code",
   "execution_count": 18,
   "metadata": {},
   "outputs": [
    {
     "data": {
      "text/plain": [
       "[(0.0, 100.0)]"
      ]
     },
     "execution_count": 18,
     "metadata": {},
     "output_type": "execute_result"
    },
    {
     "data": {
      "image/png": "[encoded data removed]",
      "text/plain": [
       "<Figure size 1600x900 with 1 Axes>"
      ]
     },
     "metadata": {},
     "output_type": "display_data"
    }
   ],
   "source": [
    "ax = sns.histplot(data=df, x=\"votes\", bins=50)\n",
    "ax.set(ylim=(0, 100))"
   ]
  },
  {
   "cell_type": "code",
   "execution_count": 19,
   "metadata": {},
   "outputs": [
    {
     "name": "stdout",
     "output_type": "stream",
     "text": [
      "99th quantile of votes: 107.08999999999651\n"
     ]
    }
   ],
   "source": [
    "print(f\"99th quantile of votes: {df[\"votes\"].quantile(0.99)}\")"
   ]
  },
  {
   "cell_type": "code",
   "execution_count": 20,
   "metadata": {},
   "outputs": [
    {
     "data": {
      "text/plain": [
       "<Axes: xlabel='submission_flair', ylabel='votes'>"
      ]
     },
     "execution_count": 20,
     "metadata": {},
     "output_type": "execute_result"
    },
    {
     "data": {
      "image/png": "[encoded data removed]",
      "text/plain": [
       "<Figure size 1600x900 with 1 Axes>"
      ]
     },
     "metadata": {},
     "output_type": "display_data"
    }
   ],
   "source": [
    "sns.boxplot(data=df, x=\"submission_flair\", y=\"votes\")"
   ]
  },
  {
   "cell_type": "code",
   "execution_count": 21,
   "metadata": {},
   "outputs": [
    {
     "data": {
      "text/html": [
       "<div>\n",
       "<style scoped>\n",
       "    .dataframe tbody tr th:only-of-type {\n",
       "        vertical-align: middle;\n",
       "    }\n",
       "\n",
       "    .dataframe tbody tr th {\n",
       "        vertical-align: top;\n",
       "    }\n",
       "\n",
       "    .dataframe thead th {\n",
       "        text-align: right;\n",
       "    }\n",
       "</style>\n",
       "<table border=\"1\" class=\"dataframe\">\n",
       "  <thead>\n",
       "    <tr style=\"text-align: right;\">\n",
       "      <th></th>\n",
       "      <th>count</th>\n",
       "      <th>mean</th>\n",
       "      <th>std</th>\n",
       "      <th>min</th>\n",
       "      <th>25%</th>\n",
       "      <th>50%</th>\n",
       "      <th>75%</th>\n",
       "      <th>max</th>\n",
       "    </tr>\n",
       "    <tr>\n",
       "      <th>submission_flair</th>\n",
       "      <th></th>\n",
       "      <th></th>\n",
       "      <th></th>\n",
       "      <th></th>\n",
       "      <th></th>\n",
       "      <th></th>\n",
       "      <th></th>\n",
       "      <th></th>\n",
       "    </tr>\n",
       "  </thead>\n",
       "  <tbody>\n",
       "    <tr>\n",
       "      <th>Beaurocracy</th>\n",
       "      <td>105.0</td>\n",
       "      <td>8.600000</td>\n",
       "      <td>17.053987</td>\n",
       "      <td>0.0</td>\n",
       "      <td>1.0</td>\n",
       "      <td>2.0</td>\n",
       "      <td>7.0</td>\n",
       "      <td>94.0</td>\n",
       "    </tr>\n",
       "    <tr>\n",
       "      <th>Discussion</th>\n",
       "      <td>23021.0</td>\n",
       "      <td>7.357543</td>\n",
       "      <td>22.600166</td>\n",
       "      <td>-95.0</td>\n",
       "      <td>1.0</td>\n",
       "      <td>2.0</td>\n",
       "      <td>5.0</td>\n",
       "      <td>868.0</td>\n",
       "    </tr>\n",
       "    <tr>\n",
       "      <th>News</th>\n",
       "      <td>10747.0</td>\n",
       "      <td>9.194938</td>\n",
       "      <td>25.572184</td>\n",
       "      <td>-100.0</td>\n",
       "      <td>1.0</td>\n",
       "      <td>2.0</td>\n",
       "      <td>8.0</td>\n",
       "      <td>601.0</td>\n",
       "    </tr>\n",
       "    <tr>\n",
       "      <th>Politics</th>\n",
       "      <td>13827.0</td>\n",
       "      <td>7.640992</td>\n",
       "      <td>22.636509</td>\n",
       "      <td>-113.0</td>\n",
       "      <td>1.0</td>\n",
       "      <td>2.0</td>\n",
       "      <td>7.0</td>\n",
       "      <td>682.0</td>\n",
       "    </tr>\n",
       "    <tr>\n",
       "      <th>Rumour</th>\n",
       "      <td>4035.0</td>\n",
       "      <td>7.865675</td>\n",
       "      <td>19.786836</td>\n",
       "      <td>-115.0</td>\n",
       "      <td>1.0</td>\n",
       "      <td>2.0</td>\n",
       "      <td>7.0</td>\n",
       "      <td>352.0</td>\n",
       "    </tr>\n",
       "    <tr>\n",
       "      <th>Rumour Disproven</th>\n",
       "      <td>105.0</td>\n",
       "      <td>6.238095</td>\n",
       "      <td>11.951443</td>\n",
       "      <td>-13.0</td>\n",
       "      <td>1.0</td>\n",
       "      <td>2.0</td>\n",
       "      <td>7.0</td>\n",
       "      <td>90.0</td>\n",
       "    </tr>\n",
       "  </tbody>\n",
       "</table>\n",
       "</div>"
      ],
      "text/plain": [
       "                    count      mean        std    min  25%  50%  75%    max\n",
       "submission_flair                                                           \n",
       "Beaurocracy         105.0  8.600000  17.053987    0.0  1.0  2.0  7.0   94.0\n",
       "Discussion        23021.0  7.357543  22.600166  -95.0  1.0  2.0  5.0  868.0\n",
       "News              10747.0  9.194938  25.572184 -100.0  1.0  2.0  8.0  601.0\n",
       "Politics          13827.0  7.640992  22.636509 -113.0  1.0  2.0  7.0  682.0\n",
       "Rumour             4035.0  7.865675  19.786836 -115.0  1.0  2.0  7.0  352.0\n",
       "Rumour Disproven    105.0  6.238095  11.951443  -13.0  1.0  2.0  7.0   90.0"
      ]
     },
     "execution_count": 21,
     "metadata": {},
     "output_type": "execute_result"
    }
   ],
   "source": [
    "df.groupby(\"submission_flair\")[\"votes\"].describe()"
   ]
  },
  {
   "cell_type": "code",
   "execution_count": 22,
   "metadata": {},
   "outputs": [
    {
     "data": {
      "text/plain": [
       "submission_flair  controversiality\n",
       "Beaurocracy       False               8.600000\n",
       "Discussion        False               7.609906\n",
       "                  True                0.283733\n",
       "News              False               9.640602\n",
       "                  True                0.358527\n",
       "Politics          False               8.462755\n",
       "                  True                0.550139\n",
       "Rumour            False               8.045639\n",
       "                  True                0.065934\n",
       "Rumour Disproven  False               6.238095\n",
       "Name: votes, dtype: float64"
      ]
     },
     "execution_count": 22,
     "metadata": {},
     "output_type": "execute_result"
    }
   ],
   "source": [
    "df.groupby([\"submission_flair\", \"controversiality\"])[\"votes\"].mean()"
   ]
  },
  {
   "cell_type": "code",
   "execution_count": 23,
   "metadata": {},
   "outputs": [
    {
     "data": {
      "text/plain": [
       "submission_flair  controversiality\n",
       "Beaurocracy       False               2.0\n",
       "Discussion        False               2.0\n",
       "                  True                0.0\n",
       "News              False               3.0\n",
       "                  True                0.0\n",
       "Politics          False               2.0\n",
       "                  True                1.0\n",
       "Rumour            False               3.0\n",
       "                  True                0.0\n",
       "Rumour Disproven  False               2.0\n",
       "Name: votes, dtype: float64"
      ]
     },
     "execution_count": 23,
     "metadata": {},
     "output_type": "execute_result"
    }
   ],
   "source": [
    "df.groupby([\"submission_flair\", \"controversiality\"])[\"votes\"].median()"
   ]
  },
  {
   "cell_type": "code",
   "execution_count": 24,
   "metadata": {},
   "outputs": [
    {
     "data": {
      "text/plain": [
       "submission_flair  controversiality\n",
       "Beaurocracy       False                94\n",
       "Discussion        False               868\n",
       "                  True                 32\n",
       "News              False               601\n",
       "                  True                 21\n",
       "Politics          False               682\n",
       "                  True                 21\n",
       "Rumour            False               352\n",
       "                  True                  6\n",
       "Rumour Disproven  False                90\n",
       "Name: votes, dtype: int64"
      ]
     },
     "execution_count": 24,
     "metadata": {},
     "output_type": "execute_result"
    }
   ],
   "source": [
    "df.groupby([\"submission_flair\", \"controversiality\"])[\"votes\"].max()"
   ]
  },
  {
   "cell_type": "code",
   "execution_count": 25,
   "metadata": {},
   "outputs": [
    {
     "name": "stdout",
     "output_type": "stream",
     "text": [
      "90th quantile of votes: 18.0\n"
     ]
    }
   ],
   "source": [
    "print(f\"90th quantile of votes: {df[\"votes\"].quantile(0.90)}\")"
   ]
  },
  {
   "attachments": {},
   "cell_type": "markdown",
   "metadata": {},
   "source": [
    "1. Распределения голосов по категориям Politics, News, Discussion и Rumour похожи (по средним значениям и среднеквадратичным отклонениям)\n",
    "2. Распределения голосов по категориям Beaurocracy и Rumour Disproven имеют заметно меньше отрицательных значений\n",
    "2. Существует корреляция между отметкой спорности и рейтингом записи (спорные записи в среднем имеют рейтинг ниже 25 перцентиля)\n",
    "3. Даже популярные записи (популярнее 90 квантиля по голосам) могут быть отмечены как спорные"
   ]
  },
  {
   "attachments": {},
   "cell_type": "markdown",
   "metadata": {},
   "source": [
    "### Признак created_timestamp"
   ]
  },
  {
   "cell_type": "code",
   "execution_count": 26,
   "metadata": {},
   "outputs": [],
   "source": [
    "from datetime import datetime"
   ]
  },
  {
   "cell_type": "code",
   "execution_count": 27,
   "metadata": {},
   "outputs": [],
   "source": [
    "df[\"created_datetime\"] = df[\"created_timestamp\"].apply(\n",
    "    lambda x: datetime.fromtimestamp(x)\n",
    ")"
   ]
  },
  {
   "cell_type": "code",
   "execution_count": 28,
   "metadata": {},
   "outputs": [
    {
     "data": {
      "text/plain": [
       "Timestamp('2019-04-28 12:35:08')"
      ]
     },
     "execution_count": 28,
     "metadata": {},
     "output_type": "execute_result"
    }
   ],
   "source": [
    "df[\"created_datetime\"].min()"
   ]
  },
  {
   "cell_type": "code",
   "execution_count": 29,
   "metadata": {},
   "outputs": [
    {
     "data": {
      "text/plain": [
       "Timestamp('2024-10-27 19:32:54')"
      ]
     },
     "execution_count": 29,
     "metadata": {},
     "output_type": "execute_result"
    }
   ],
   "source": [
    "df[\"created_datetime\"].max()"
   ]
  },
  {
   "cell_type": "code",
   "execution_count": 30,
   "metadata": {},
   "outputs": [],
   "source": [
    "df[\"year\"] = df[\"created_datetime\"].apply(\n",
    "    lambda x: x.year\n",
    ")"
   ]
  },
  {
   "cell_type": "code",
   "execution_count": 31,
   "metadata": {},
   "outputs": [
    {
     "data": {
      "text/plain": [
       "year\n",
       "2019       41\n",
       "2020       44\n",
       "2021      423\n",
       "2022     1821\n",
       "2023     6294\n",
       "2024    43269\n",
       "Name: votes, dtype: int64"
      ]
     },
     "execution_count": 31,
     "metadata": {},
     "output_type": "execute_result"
    }
   ],
   "source": [
    "df.groupby(\"year\")[\"votes\"].size()"
   ]
  },
  {
   "cell_type": "code",
   "execution_count": 32,
   "metadata": {},
   "outputs": [
    {
     "data": {
      "text/plain": [
       "year  submission_flair\n",
       "2019  Rumour                 12\n",
       "      Rumour Disproven       29\n",
       "2020  Rumour                 44\n",
       "2021  News                  246\n",
       "      Rumour                177\n",
       "2022  News                  920\n",
       "      Politics              258\n",
       "      Rumour                567\n",
       "      Rumour Disproven       76\n",
       "2023  Discussion           3138\n",
       "      News                 1868\n",
       "      Politics              441\n",
       "      Rumour                847\n",
       "2024  Beaurocracy           105\n",
       "      Discussion          19883\n",
       "      News                 7713\n",
       "      Politics            13128\n",
       "      Rumour               2388\n",
       "Name: votes, dtype: int64"
      ]
     },
     "execution_count": 32,
     "metadata": {},
     "output_type": "execute_result"
    }
   ],
   "source": [
    "df.groupby([\"year\", \"submission_flair\"])[\"votes\"].size()"
   ]
  },
  {
   "cell_type": "code",
   "execution_count": 33,
   "metadata": {},
   "outputs": [
    {
     "data": {
      "text/plain": [
       "year  controversiality\n",
       "2019  False                  41\n",
       "2020  False                  44\n",
       "2021  False                 398\n",
       "      True                   25\n",
       "2022  False                1747\n",
       "      True                   74\n",
       "2023  False                6050\n",
       "      True                  244\n",
       "2024  False               40776\n",
       "      True                 2493\n",
       "Name: votes, dtype: int64"
      ]
     },
     "execution_count": 33,
     "metadata": {},
     "output_type": "execute_result"
    }
   ],
   "source": [
    "df.groupby([\"year\", \"controversiality\"])[\"votes\"].size()"
   ]
  },
  {
   "cell_type": "code",
   "execution_count": 34,
   "metadata": {},
   "outputs": [
    {
     "data": {
      "text/html": [
       "<div>\n",
       "<style scoped>\n",
       "    .dataframe tbody tr th:only-of-type {\n",
       "        vertical-align: middle;\n",
       "    }\n",
       "\n",
       "    .dataframe tbody tr th {\n",
       "        vertical-align: top;\n",
       "    }\n",
       "\n",
       "    .dataframe thead th {\n",
       "        text-align: right;\n",
       "    }\n",
       "</style>\n",
       "<table border=\"1\" class=\"dataframe\">\n",
       "  <thead>\n",
       "    <tr style=\"text-align: right;\">\n",
       "      <th></th>\n",
       "      <th>count</th>\n",
       "      <th>mean</th>\n",
       "      <th>std</th>\n",
       "      <th>min</th>\n",
       "      <th>25%</th>\n",
       "      <th>50%</th>\n",
       "      <th>75%</th>\n",
       "      <th>max</th>\n",
       "    </tr>\n",
       "    <tr>\n",
       "      <th>year</th>\n",
       "      <th></th>\n",
       "      <th></th>\n",
       "      <th></th>\n",
       "      <th></th>\n",
       "      <th></th>\n",
       "      <th></th>\n",
       "      <th></th>\n",
       "      <th></th>\n",
       "    </tr>\n",
       "  </thead>\n",
       "  <tbody>\n",
       "    <tr>\n",
       "      <th>2019</th>\n",
       "      <td>41.0</td>\n",
       "      <td>6.463415</td>\n",
       "      <td>7.506989</td>\n",
       "      <td>-3.0</td>\n",
       "      <td>2.0</td>\n",
       "      <td>5.0</td>\n",
       "      <td>7.0</td>\n",
       "      <td>39.0</td>\n",
       "    </tr>\n",
       "    <tr>\n",
       "      <th>2020</th>\n",
       "      <td>44.0</td>\n",
       "      <td>2.272727</td>\n",
       "      <td>3.787149</td>\n",
       "      <td>-5.0</td>\n",
       "      <td>1.0</td>\n",
       "      <td>1.0</td>\n",
       "      <td>3.0</td>\n",
       "      <td>16.0</td>\n",
       "    </tr>\n",
       "    <tr>\n",
       "      <th>2021</th>\n",
       "      <td>423.0</td>\n",
       "      <td>6.555556</td>\n",
       "      <td>24.768332</td>\n",
       "      <td>-36.0</td>\n",
       "      <td>1.0</td>\n",
       "      <td>2.0</td>\n",
       "      <td>6.0</td>\n",
       "      <td>429.0</td>\n",
       "    </tr>\n",
       "    <tr>\n",
       "      <th>2022</th>\n",
       "      <td>1821.0</td>\n",
       "      <td>8.569467</td>\n",
       "      <td>22.894268</td>\n",
       "      <td>-39.0</td>\n",
       "      <td>1.0</td>\n",
       "      <td>3.0</td>\n",
       "      <td>8.0</td>\n",
       "      <td>354.0</td>\n",
       "    </tr>\n",
       "    <tr>\n",
       "      <th>2023</th>\n",
       "      <td>6294.0</td>\n",
       "      <td>7.167779</td>\n",
       "      <td>20.048887</td>\n",
       "      <td>-89.0</td>\n",
       "      <td>1.0</td>\n",
       "      <td>2.0</td>\n",
       "      <td>6.0</td>\n",
       "      <td>525.0</td>\n",
       "    </tr>\n",
       "    <tr>\n",
       "      <th>2024</th>\n",
       "      <td>43269.0</td>\n",
       "      <td>7.941159</td>\n",
       "      <td>23.439794</td>\n",
       "      <td>-115.0</td>\n",
       "      <td>1.0</td>\n",
       "      <td>2.0</td>\n",
       "      <td>6.0</td>\n",
       "      <td>868.0</td>\n",
       "    </tr>\n",
       "  </tbody>\n",
       "</table>\n",
       "</div>"
      ],
      "text/plain": [
       "        count      mean        std    min  25%  50%  75%    max\n",
       "year                                                           \n",
       "2019     41.0  6.463415   7.506989   -3.0  2.0  5.0  7.0   39.0\n",
       "2020     44.0  2.272727   3.787149   -5.0  1.0  1.0  3.0   16.0\n",
       "2021    423.0  6.555556  24.768332  -36.0  1.0  2.0  6.0  429.0\n",
       "2022   1821.0  8.569467  22.894268  -39.0  1.0  3.0  8.0  354.0\n",
       "2023   6294.0  7.167779  20.048887  -89.0  1.0  2.0  6.0  525.0\n",
       "2024  43269.0  7.941159  23.439794 -115.0  1.0  2.0  6.0  868.0"
      ]
     },
     "execution_count": 34,
     "metadata": {},
     "output_type": "execute_result"
    }
   ],
   "source": [
    "df.groupby(\"year\")[\"votes\"].describe()"
   ]
  },
  {
   "attachments": {},
   "cell_type": "markdown",
   "metadata": {},
   "source": [
    "1. Собраны записи с конца апреля 2019 года по конец октября 2024 года\n",
    "2. Более 85% записей приходятся на 2024 год. Это связано как с механизмом извлечения записей (извлекались записи толко с метками категории, в то время как записи старше 1 года редко имеют какую-либо категорию), так и с ростом популярности самого сообщества r/srilanka (за последний год количесво подписчиков [увеличилось на 19%](https://gummysearch.com/r/srilanka/))\n",
    "3. 2019 и 2020 годы отличаются крайне малым количеством записей (около 0.1% от общего количества записей)\n",
    "4. Из года в год структура обсуждаемых категорий значительно меняется (категории смещаются на 1-3 пункта в рейтинге популярности по количеству записей)\n",
    "5. Не выявлено значительных отклонений в структуре отметок спорности в отрезке [2021, 2024] годов\n",
    "6. Не выявлено значительных отклонений в распредлении голосов в отрезке [2021, 2024] годов"
   ]
  },
  {
   "cell_type": "code",
   "execution_count": 35,
   "metadata": {},
   "outputs": [
    {
     "name": "stderr",
     "output_type": "stream",
     "text": [
      "c:\\Users\\syrvi\\Desktop\\RPAA\\.venv\\Lib\\site-packages\\tqdm\\auto.py:21: TqdmWarning: IProgress not found. Please update jupyter and ipywidgets. See https://ipywidgets.readthedocs.io/en/stable/user_install.html\n",
      "  from .autonotebook import tqdm as notebook_tqdm\n"
     ]
    }
   ],
   "source": [
    "from transformers import AutoTokenizer, AutoModelForTokenClassification\n",
    "from transformers import pipeline\n"
   ]
  },
  {
   "cell_type": "code",
   "execution_count": 36,
   "metadata": {},
   "outputs": [
    {
     "name": "stderr",
     "output_type": "stream",
     "text": [
      "c:\\Users\\syrvi\\Desktop\\RPAA\\.venv\\Lib\\site-packages\\huggingface_hub\\file_download.py:139: UserWarning: `huggingface_hub` cache-system uses symlinks by default to efficiently store duplicated files but your machine does not support them in C:\\Users\\syrvi\\.cache\\huggingface\\hub\\models--Babelscape--wikineural-multilingual-ner. Caching files will still work but in a degraded version that might require more space on your disk. This warning can be disabled by setting the `HF_HUB_DISABLE_SYMLINKS_WARNING` environment variable. For more details, see https://huggingface.co/docs/huggingface_hub/how-to-cache#limitations.\n",
      "To support symlinks on Windows, you either need to activate Developer Mode or to run Python as an administrator. In order to activate developer mode, see this article: https://docs.microsoft.com/en-us/windows/apps/get-started/enable-your-device-for-development\n",
      "  warnings.warn(message)\n",
      "c:\\Users\\syrvi\\Desktop\\RPAA\\.venv\\Lib\\site-packages\\transformers\\pipelines\\token_classification.py:170: UserWarning: `grouped_entities` is deprecated and will be removed in version v5.0.0, defaulted to `aggregation_strategy=\"AggregationStrategy.SIMPLE\"` instead.\n",
      "  warnings.warn(\n"
     ]
    }
   ],
   "source": [
    "tokenizer = AutoTokenizer.from_pretrained(\"Babelscape/wikineural-multilingual-ner\")\n",
    "model = AutoModelForTokenClassification.from_pretrained(\"Babelscape/wikineural-multilingual-ner\")\n",
    "\n",
    "nlp = pipeline(\"ner\", model=model, tokenizer=tokenizer, grouped_entities=True)\n"
   ]
  },
  {
   "cell_type": "code",
   "execution_count": 37,
   "metadata": {},
   "outputs": [
    {
     "name": "stdout",
     "output_type": "stream",
     "text": [
      "1122\n"
     ]
    }
   ],
   "source": [
    "res = df.loc[:, ['full_name','responds_to', 'text_body']]\n",
    "res = res[res['responds_to'].isnull()==True]\n",
    "all_entities = []\n",
    "for i in res.itertuples():\n",
    "    ner_results = nlp(i[3])\n",
    "    for j in ner_results:\n",
    "        entity = j\n",
    "        entity[\"submission_id\"] = i[1]\n",
    "        all_entities.append(j)\n",
    "print(len(all_entities))"
   ]
  },
  {
   "cell_type": "code",
   "execution_count": null,
   "metadata": {},
   "outputs": [],
   "source": []
  },
  {
   "cell_type": "code",
   "execution_count": 38,
   "metadata": {},
   "outputs": [
    {
     "data": {
      "text/html": [
       "<div>\n",
       "<style scoped>\n",
       "    .dataframe tbody tr th:only-of-type {\n",
       "        vertical-align: middle;\n",
       "    }\n",
       "\n",
       "    .dataframe tbody tr th {\n",
       "        vertical-align: top;\n",
       "    }\n",
       "\n",
       "    .dataframe thead th {\n",
       "        text-align: right;\n",
       "    }\n",
       "</style>\n",
       "<table border=\"1\" class=\"dataframe\">\n",
       "  <thead>\n",
       "    <tr style=\"text-align: right;\">\n",
       "      <th></th>\n",
       "      <th>entity_group</th>\n",
       "      <th>score</th>\n",
       "      <th>word</th>\n",
       "      <th>start</th>\n",
       "      <th>end</th>\n",
       "      <th>submission_id</th>\n",
       "    </tr>\n",
       "  </thead>\n",
       "  <tbody>\n",
       "    <tr>\n",
       "      <th>0</th>\n",
       "      <td>PER</td>\n",
       "      <td>0.997228</td>\n",
       "      <td>Harini Amarasuriya</td>\n",
       "      <td>0</td>\n",
       "      <td>18</td>\n",
       "      <td>t3_1fo8hat</td>\n",
       "    </tr>\n",
       "    <tr>\n",
       "      <th>1</th>\n",
       "      <td>LOC</td>\n",
       "      <td>0.999710</td>\n",
       "      <td>Sri Lanka</td>\n",
       "      <td>107</td>\n",
       "      <td>116</td>\n",
       "      <td>t3_1fo8hat</td>\n",
       "    </tr>\n",
       "    <tr>\n",
       "      <th>2</th>\n",
       "      <td>MISC</td>\n",
       "      <td>0.573400</td>\n",
       "      <td>Oh hell</td>\n",
       "      <td>0</td>\n",
       "      <td>7</td>\n",
       "      <td>t3_1g42r4y</td>\n",
       "    </tr>\n",
       "    <tr>\n",
       "      <th>3</th>\n",
       "      <td>PER</td>\n",
       "      <td>0.679610</td>\n",
       "      <td>Ranil</td>\n",
       "      <td>10</td>\n",
       "      <td>15</td>\n",
       "      <td>t3_1fms0jd</td>\n",
       "    </tr>\n",
       "    <tr>\n",
       "      <th>4</th>\n",
       "      <td>PER</td>\n",
       "      <td>0.661872</td>\n",
       "      <td>Gen Z</td>\n",
       "      <td>31</td>\n",
       "      <td>36</td>\n",
       "      <td>t3_1fdaqec</td>\n",
       "    </tr>\n",
       "    <tr>\n",
       "      <th>...</th>\n",
       "      <td>...</td>\n",
       "      <td>...</td>\n",
       "      <td>...</td>\n",
       "      <td>...</td>\n",
       "      <td>...</td>\n",
       "      <td>...</td>\n",
       "    </tr>\n",
       "    <tr>\n",
       "      <th>1117</th>\n",
       "      <td>LOC</td>\n",
       "      <td>0.998718</td>\n",
       "      <td>Colombo</td>\n",
       "      <td>50</td>\n",
       "      <td>57</td>\n",
       "      <td>t3_kerz3b</td>\n",
       "    </tr>\n",
       "    <tr>\n",
       "      <th>1118</th>\n",
       "      <td>LOC</td>\n",
       "      <td>0.999483</td>\n",
       "      <td>India</td>\n",
       "      <td>66</td>\n",
       "      <td>71</td>\n",
       "      <td>t3_kerz3b</td>\n",
       "    </tr>\n",
       "    <tr>\n",
       "      <th>1119</th>\n",
       "      <td>MISC</td>\n",
       "      <td>0.717813</td>\n",
       "      <td>What</td>\n",
       "      <td>0</td>\n",
       "      <td>4</td>\n",
       "      <td>t3_bq6r00</td>\n",
       "    </tr>\n",
       "    <tr>\n",
       "      <th>1120</th>\n",
       "      <td>MISC</td>\n",
       "      <td>0.538920</td>\n",
       "      <td>gu</td>\n",
       "      <td>12</td>\n",
       "      <td>14</td>\n",
       "      <td>t3_bq6r00</td>\n",
       "    </tr>\n",
       "    <tr>\n",
       "      <th>1121</th>\n",
       "      <td>MISC</td>\n",
       "      <td>0.816550</td>\n",
       "      <td>islam</td>\n",
       "      <td>40</td>\n",
       "      <td>45</td>\n",
       "      <td>t3_bi82s0</td>\n",
       "    </tr>\n",
       "  </tbody>\n",
       "</table>\n",
       "<p>1122 rows × 6 columns</p>\n",
       "</div>"
      ],
      "text/plain": [
       "     entity_group     score                word  start  end submission_id\n",
       "0             PER  0.997228  Harini Amarasuriya      0   18    t3_1fo8hat\n",
       "1             LOC  0.999710           Sri Lanka    107  116    t3_1fo8hat\n",
       "2            MISC  0.573400             Oh hell      0    7    t3_1g42r4y\n",
       "3             PER  0.679610               Ranil     10   15    t3_1fms0jd\n",
       "4             PER  0.661872               Gen Z     31   36    t3_1fdaqec\n",
       "...           ...       ...                 ...    ...  ...           ...\n",
       "1117          LOC  0.998718             Colombo     50   57     t3_kerz3b\n",
       "1118          LOC  0.999483               India     66   71     t3_kerz3b\n",
       "1119         MISC  0.717813                What      0    4     t3_bq6r00\n",
       "1120         MISC  0.538920                  gu     12   14     t3_bq6r00\n",
       "1121         MISC  0.816550               islam     40   45     t3_bi82s0\n",
       "\n",
       "[1122 rows x 6 columns]"
      ]
     },
     "execution_count": 38,
     "metadata": {},
     "output_type": "execute_result"
    }
   ],
   "source": [
    "entities_category = pd.DataFrame(all_entities)\n",
    "entities_category"
   ]
  },
  {
   "cell_type": "code",
   "execution_count": null,
   "metadata": {},
   "outputs": [
    {
     "data": {
      "text/html": [
       "<div>\n",
       "<style scoped>\n",
       "    .dataframe tbody tr th:only-of-type {\n",
       "        vertical-align: middle;\n",
       "    }\n",
       "\n",
       "    .dataframe tbody tr th {\n",
       "        vertical-align: top;\n",
       "    }\n",
       "\n",
       "    .dataframe thead th {\n",
       "        text-align: right;\n",
       "    }\n",
       "</style>\n",
       "<table border=\"1\" class=\"dataframe\">\n",
       "  <thead>\n",
       "    <tr style=\"text-align: right;\">\n",
       "      <th></th>\n",
       "      <th>full_name</th>\n",
       "      <th>text_body</th>\n",
       "      <th>author_name</th>\n",
       "      <th>votes</th>\n",
       "      <th>responds_to</th>\n",
       "      <th>parent_submission_name</th>\n",
       "      <th>submission_flair</th>\n",
       "      <th>created_timestamp</th>\n",
       "      <th>parsed_timestamp</th>\n",
       "      <th>controversiality</th>\n",
       "      <th>created_datetime</th>\n",
       "      <th>year</th>\n",
       "    </tr>\n",
       "  </thead>\n",
       "  <tbody>\n",
       "    <tr>\n",
       "      <th>0</th>\n",
       "      <td>t3_1fo8hat</td>\n",
       "      <td>Harini Amarasuriya, feminist and outspoken adv...</td>\n",
       "      <td>t2_hwz7hlpj</td>\n",
       "      <td>682</td>\n",
       "      <td>NaN</td>\n",
       "      <td>t3_1fo8hat</td>\n",
       "      <td>Politics</td>\n",
       "      <td>1.727171e+09</td>\n",
       "      <td>1730036388</td>\n",
       "      <td>False</td>\n",
       "      <td>2024-09-24 16:36:32</td>\n",
       "      <td>2024</td>\n",
       "    </tr>\n",
       "    <tr>\n",
       "      <th>1</th>\n",
       "      <td>t1_loo1nty</td>\n",
       "      <td>I like the fact I am hearing a lot more Dr in ...</td>\n",
       "      <td>t2_7z9p1u76</td>\n",
       "      <td>203</td>\n",
       "      <td>t3_1fo8hat</td>\n",
       "      <td>t3_1fo8hat</td>\n",
       "      <td>Politics</td>\n",
       "      <td>1.727171e+09</td>\n",
       "      <td>1730036390</td>\n",
       "      <td>False</td>\n",
       "      <td>2024-09-24 16:36:32</td>\n",
       "      <td>2024</td>\n",
       "    </tr>\n",
       "    <tr>\n",
       "      <th>2</th>\n",
       "      <td>t1_loo6dk0</td>\n",
       "      <td>She's an excellent lecturer and very popular w...</td>\n",
       "      <td>t2_88sa0qyh</td>\n",
       "      <td>255</td>\n",
       "      <td>t3_1fo8hat</td>\n",
       "      <td>t3_1fo8hat</td>\n",
       "      <td>Politics</td>\n",
       "      <td>1.727171e+09</td>\n",
       "      <td>1730036390</td>\n",
       "      <td>False</td>\n",
       "      <td>2024-09-24 16:36:32</td>\n",
       "      <td>2024</td>\n",
       "    </tr>\n",
       "    <tr>\n",
       "      <th>3</th>\n",
       "      <td>t1_loo37mt</td>\n",
       "      <td>From the perspective of a bi-racial child of a...</td>\n",
       "      <td>t2_yhhuya1j4</td>\n",
       "      <td>135</td>\n",
       "      <td>t3_1fo8hat</td>\n",
       "      <td>t3_1fo8hat</td>\n",
       "      <td>Politics</td>\n",
       "      <td>1.727171e+09</td>\n",
       "      <td>1730036390</td>\n",
       "      <td>False</td>\n",
       "      <td>2024-09-24 16:36:32</td>\n",
       "      <td>2024</td>\n",
       "    </tr>\n",
       "    <tr>\n",
       "      <th>4</th>\n",
       "      <td>t1_loo9jcy</td>\n",
       "      <td>Let's hope we see some change here finally. Pe...</td>\n",
       "      <td>t2_14avw6woy3</td>\n",
       "      <td>35</td>\n",
       "      <td>t3_1fo8hat</td>\n",
       "      <td>t3_1fo8hat</td>\n",
       "      <td>Politics</td>\n",
       "      <td>1.727171e+09</td>\n",
       "      <td>1730036390</td>\n",
       "      <td>False</td>\n",
       "      <td>2024-09-24 16:36:32</td>\n",
       "      <td>2024</td>\n",
       "    </tr>\n",
       "    <tr>\n",
       "      <th>...</th>\n",
       "      <td>...</td>\n",
       "      <td>...</td>\n",
       "      <td>...</td>\n",
       "      <td>...</td>\n",
       "      <td>...</td>\n",
       "      <td>...</td>\n",
       "      <td>...</td>\n",
       "      <td>...</td>\n",
       "      <td>...</td>\n",
       "      <td>...</td>\n",
       "      <td>...</td>\n",
       "      <td>...</td>\n",
       "    </tr>\n",
       "    <tr>\n",
       "      <th>51887</th>\n",
       "      <td>t1_eo3azm2</td>\n",
       "      <td>And 2009</td>\n",
       "      <td>t2_1tuh92k</td>\n",
       "      <td>5</td>\n",
       "      <td>t1_eo32l9e</td>\n",
       "      <td>t3_bq6r00</td>\n",
       "      <td>Rumour</td>\n",
       "      <td>1.558202e+09</td>\n",
       "      <td>1730037150</td>\n",
       "      <td>False</td>\n",
       "      <td>2019-05-19 00:53:02</td>\n",
       "      <td>2019</td>\n",
       "    </tr>\n",
       "    <tr>\n",
       "      <th>51888</th>\n",
       "      <td>t3_bi82s0</td>\n",
       "      <td>Is it true that all the foreigners from islami...</td>\n",
       "      <td>t2_14blzq</td>\n",
       "      <td>9</td>\n",
       "      <td>NaN</td>\n",
       "      <td>t3_bi82s0</td>\n",
       "      <td>Rumour Disproven</td>\n",
       "      <td>1.556430e+09</td>\n",
       "      <td>1730037150</td>\n",
       "      <td>False</td>\n",
       "      <td>2019-04-28 12:35:08</td>\n",
       "      <td>2019</td>\n",
       "    </tr>\n",
       "    <tr>\n",
       "      <th>51889</th>\n",
       "      <td>t1_elyszdw</td>\n",
       "      <td>No such governmental ruling.\\n\\n&gt; What happens...</td>\n",
       "      <td>t2_hw1f7</td>\n",
       "      <td>9</td>\n",
       "      <td>t3_bi82s0</td>\n",
       "      <td>t3_bi82s0</td>\n",
       "      <td>Rumour Disproven</td>\n",
       "      <td>1.556430e+09</td>\n",
       "      <td>1730037151</td>\n",
       "      <td>False</td>\n",
       "      <td>2019-04-28 12:35:08</td>\n",
       "      <td>2019</td>\n",
       "    </tr>\n",
       "    <tr>\n",
       "      <th>51890</th>\n",
       "      <td>t1_elz0zbf</td>\n",
       "      <td>Well Immigration officials cannot deport a per...</td>\n",
       "      <td>NaN</td>\n",
       "      <td>3</td>\n",
       "      <td>t3_bi82s0</td>\n",
       "      <td>t3_bi82s0</td>\n",
       "      <td>Rumour Disproven</td>\n",
       "      <td>1.556430e+09</td>\n",
       "      <td>1730037151</td>\n",
       "      <td>False</td>\n",
       "      <td>2019-04-28 12:35:08</td>\n",
       "      <td>2019</td>\n",
       "    </tr>\n",
       "    <tr>\n",
       "      <th>51891</th>\n",
       "      <td>t1_elytcq6</td>\n",
       "      <td>Oh alright. I saw a metropolis law post on twi...</td>\n",
       "      <td>t2_14blzq</td>\n",
       "      <td>6</td>\n",
       "      <td>t1_elyszdw</td>\n",
       "      <td>t3_bi82s0</td>\n",
       "      <td>Rumour Disproven</td>\n",
       "      <td>1.556430e+09</td>\n",
       "      <td>1730037151</td>\n",
       "      <td>False</td>\n",
       "      <td>2019-04-28 12:35:08</td>\n",
       "      <td>2019</td>\n",
       "    </tr>\n",
       "  </tbody>\n",
       "</table>\n",
       "<p>51892 rows × 12 columns</p>\n",
       "</div>"
      ],
      "text/plain": [
       "        full_name                                          text_body  \\\n",
       "0      t3_1fo8hat  Harini Amarasuriya, feminist and outspoken adv...   \n",
       "1      t1_loo1nty  I like the fact I am hearing a lot more Dr in ...   \n",
       "2      t1_loo6dk0  She's an excellent lecturer and very popular w...   \n",
       "3      t1_loo37mt  From the perspective of a bi-racial child of a...   \n",
       "4      t1_loo9jcy  Let's hope we see some change here finally. Pe...   \n",
       "...           ...                                                ...   \n",
       "51887  t1_eo3azm2                                           And 2009   \n",
       "51888   t3_bi82s0  Is it true that all the foreigners from islami...   \n",
       "51889  t1_elyszdw  No such governmental ruling.\\n\\n> What happens...   \n",
       "51890  t1_elz0zbf  Well Immigration officials cannot deport a per...   \n",
       "51891  t1_elytcq6  Oh alright. I saw a metropolis law post on twi...   \n",
       "\n",
       "         author_name  votes responds_to parent_submission_name  \\\n",
       "0        t2_hwz7hlpj    682         NaN             t3_1fo8hat   \n",
       "1        t2_7z9p1u76    203  t3_1fo8hat             t3_1fo8hat   \n",
       "2        t2_88sa0qyh    255  t3_1fo8hat             t3_1fo8hat   \n",
       "3       t2_yhhuya1j4    135  t3_1fo8hat             t3_1fo8hat   \n",
       "4      t2_14avw6woy3     35  t3_1fo8hat             t3_1fo8hat   \n",
       "...              ...    ...         ...                    ...   \n",
       "51887     t2_1tuh92k      5  t1_eo32l9e              t3_bq6r00   \n",
       "51888      t2_14blzq      9         NaN              t3_bi82s0   \n",
       "51889       t2_hw1f7      9   t3_bi82s0              t3_bi82s0   \n",
       "51890            NaN      3   t3_bi82s0              t3_bi82s0   \n",
       "51891      t2_14blzq      6  t1_elyszdw              t3_bi82s0   \n",
       "\n",
       "       submission_flair  created_timestamp  parsed_timestamp  \\\n",
       "0              Politics       1.727171e+09        1730036388   \n",
       "1              Politics       1.727171e+09        1730036390   \n",
       "2              Politics       1.727171e+09        1730036390   \n",
       "3              Politics       1.727171e+09        1730036390   \n",
       "4              Politics       1.727171e+09        1730036390   \n",
       "...                 ...                ...               ...   \n",
       "51887            Rumour       1.558202e+09        1730037150   \n",
       "51888  Rumour Disproven       1.556430e+09        1730037150   \n",
       "51889  Rumour Disproven       1.556430e+09        1730037151   \n",
       "51890  Rumour Disproven       1.556430e+09        1730037151   \n",
       "51891  Rumour Disproven       1.556430e+09        1730037151   \n",
       "\n",
       "       controversiality    created_datetime  year  \n",
       "0                 False 2024-09-24 16:36:32  2024  \n",
       "1                 False 2024-09-24 16:36:32  2024  \n",
       "2                 False 2024-09-24 16:36:32  2024  \n",
       "3                 False 2024-09-24 16:36:32  2024  \n",
       "4                 False 2024-09-24 16:36:32  2024  \n",
       "...                 ...                 ...   ...  \n",
       "51887             False 2019-05-19 00:53:02  2019  \n",
       "51888             False 2019-04-28 12:35:08  2019  \n",
       "51889             False 2019-04-28 12:35:08  2019  \n",
       "51890             False 2019-04-28 12:35:08  2019  \n",
       "51891             False 2019-04-28 12:35:08  2019  \n",
       "\n",
       "[51892 rows x 12 columns]"
      ]
     },
     "execution_count": 42,
     "metadata": {},
     "output_type": "execute_result"
    }
   ],
   "source": [
    "df_emo = df['full_name', 'text_body']\n",
    "df_emo.dropna(subset=['text_body'])\n"
   ]
  },
  {
   "cell_type": "code",
   "execution_count": 40,
   "metadata": {},
   "outputs": [],
   "source": [
    "res_answers = df.loc[:, ['full_name','responds_to', 'text_body']]\n",
    "res_answers = res_answers[(res_answers['responds_to'].isnull()==False) & (res_answers['text_body'].isnull()==False)]\n",
    "all_entities_answers = []\n",
    "for i in res_answers.itertuples():\n",
    "    if i[3] is not None and  i[3]!=\"\":\n",
    "        ner_results = nlp(i[3])\n",
    "        for j in ner_results:\n",
    "            entity = j\n",
    "            entity[\"submission_id\"] = i[1]\n",
    "            all_entities_answers.append(j)\n",
    "print(len(all_entities_answers))"
   ]
  }
 ],
 "metadata": {
  "kernelspec": {
   "display_name": ".venv",
   "language": "python",
   "name": "python3"
  },
  "language_info": {
   "codemirror_mode": {
    "name": "ipython",
    "version": 3
   },
   "file_extension": ".py",
   "mimetype": "text/x-python",
   "name": "python",
   "nbconvert_exporter": "python",
   "pygments_lexer": "ipython3",
   "version": "3.12.5"
  }
 },
 "nbformat": 4,
 "nbformat_minor": 2
}
