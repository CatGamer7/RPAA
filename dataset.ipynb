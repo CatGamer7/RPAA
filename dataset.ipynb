{
 "cells": [
  {
   "cell_type": "code",
   "execution_count": 1,
   "metadata": {},
   "outputs": [],
   "source": [
    "import pandas as pd\n",
    "import seaborn as sns"
   ]
  },
  {
   "cell_type": "code",
   "execution_count": 2,
   "metadata": {},
   "outputs": [],
   "source": [
    "sns.set_theme(rc={\n",
    "    \"figure.figsize\": (16, 9)\n",
    "})"
   ]
  },
  {
   "cell_type": "code",
   "execution_count": 3,
   "metadata": {},
   "outputs": [],
   "source": [
    "df = pd.read_csv(\"27_10_20_53.csv\")"
   ]
  },
  {
   "cell_type": "code",
   "execution_count": 4,
   "metadata": {},
   "outputs": [
    {
     "data": {
      "text/html": [
       "<div>\n",
       "<style scoped>\n",
       "    .dataframe tbody tr th:only-of-type {\n",
       "        vertical-align: middle;\n",
       "    }\n",
       "\n",
       "    .dataframe tbody tr th {\n",
       "        vertical-align: top;\n",
       "    }\n",
       "\n",
       "    .dataframe thead th {\n",
       "        text-align: right;\n",
       "    }\n",
       "</style>\n",
       "<table border=\"1\" class=\"dataframe\">\n",
       "  <thead>\n",
       "    <tr style=\"text-align: right;\">\n",
       "      <th></th>\n",
       "      <th>full_name</th>\n",
       "      <th>text_body</th>\n",
       "      <th>author_name</th>\n",
       "      <th>votes</th>\n",
       "      <th>responds_to</th>\n",
       "      <th>parent_submission_name</th>\n",
       "      <th>submission_flair</th>\n",
       "      <th>created_timestamp</th>\n",
       "      <th>parsed_timestamp</th>\n",
       "      <th>controversiality</th>\n",
       "    </tr>\n",
       "  </thead>\n",
       "  <tbody>\n",
       "    <tr>\n",
       "      <th>0</th>\n",
       "      <td>t3_1fo8hat</td>\n",
       "      <td>Harini Amarasuriya, feminist and outspoken adv...</td>\n",
       "      <td>t2_hwz7hlpj</td>\n",
       "      <td>682</td>\n",
       "      <td>NaN</td>\n",
       "      <td>t3_1fo8hat</td>\n",
       "      <td>Politics</td>\n",
       "      <td>1.727171e+09</td>\n",
       "      <td>1730036388</td>\n",
       "      <td>False</td>\n",
       "    </tr>\n",
       "    <tr>\n",
       "      <th>1</th>\n",
       "      <td>t1_loo1nty</td>\n",
       "      <td>I like the fact I am hearing a lot more Dr in ...</td>\n",
       "      <td>t2_7z9p1u76</td>\n",
       "      <td>203</td>\n",
       "      <td>t3_1fo8hat</td>\n",
       "      <td>t3_1fo8hat</td>\n",
       "      <td>Politics</td>\n",
       "      <td>1.727171e+09</td>\n",
       "      <td>1730036390</td>\n",
       "      <td>False</td>\n",
       "    </tr>\n",
       "    <tr>\n",
       "      <th>2</th>\n",
       "      <td>t1_loo6dk0</td>\n",
       "      <td>She's an excellent lecturer and very popular w...</td>\n",
       "      <td>t2_88sa0qyh</td>\n",
       "      <td>255</td>\n",
       "      <td>t3_1fo8hat</td>\n",
       "      <td>t3_1fo8hat</td>\n",
       "      <td>Politics</td>\n",
       "      <td>1.727171e+09</td>\n",
       "      <td>1730036390</td>\n",
       "      <td>False</td>\n",
       "    </tr>\n",
       "    <tr>\n",
       "      <th>3</th>\n",
       "      <td>t1_loo37mt</td>\n",
       "      <td>From the perspective of a bi-racial child of a...</td>\n",
       "      <td>t2_yhhuya1j4</td>\n",
       "      <td>135</td>\n",
       "      <td>t3_1fo8hat</td>\n",
       "      <td>t3_1fo8hat</td>\n",
       "      <td>Politics</td>\n",
       "      <td>1.727171e+09</td>\n",
       "      <td>1730036390</td>\n",
       "      <td>False</td>\n",
       "    </tr>\n",
       "    <tr>\n",
       "      <th>4</th>\n",
       "      <td>t1_loo9jcy</td>\n",
       "      <td>Let's hope we see some change here finally. Pe...</td>\n",
       "      <td>t2_14avw6woy3</td>\n",
       "      <td>35</td>\n",
       "      <td>t3_1fo8hat</td>\n",
       "      <td>t3_1fo8hat</td>\n",
       "      <td>Politics</td>\n",
       "      <td>1.727171e+09</td>\n",
       "      <td>1730036390</td>\n",
       "      <td>False</td>\n",
       "    </tr>\n",
       "  </tbody>\n",
       "</table>\n",
       "</div>"
      ],
      "text/plain": [
       "    full_name                                          text_body  \\\n",
       "0  t3_1fo8hat  Harini Amarasuriya, feminist and outspoken adv...   \n",
       "1  t1_loo1nty  I like the fact I am hearing a lot more Dr in ...   \n",
       "2  t1_loo6dk0  She's an excellent lecturer and very popular w...   \n",
       "3  t1_loo37mt  From the perspective of a bi-racial child of a...   \n",
       "4  t1_loo9jcy  Let's hope we see some change here finally. Pe...   \n",
       "\n",
       "     author_name  votes responds_to parent_submission_name submission_flair  \\\n",
       "0    t2_hwz7hlpj    682         NaN             t3_1fo8hat         Politics   \n",
       "1    t2_7z9p1u76    203  t3_1fo8hat             t3_1fo8hat         Politics   \n",
       "2    t2_88sa0qyh    255  t3_1fo8hat             t3_1fo8hat         Politics   \n",
       "3   t2_yhhuya1j4    135  t3_1fo8hat             t3_1fo8hat         Politics   \n",
       "4  t2_14avw6woy3     35  t3_1fo8hat             t3_1fo8hat         Politics   \n",
       "\n",
       "   created_timestamp  parsed_timestamp  controversiality  \n",
       "0       1.727171e+09        1730036388             False  \n",
       "1       1.727171e+09        1730036390             False  \n",
       "2       1.727171e+09        1730036390             False  \n",
       "3       1.727171e+09        1730036390             False  \n",
       "4       1.727171e+09        1730036390             False  "
      ]
     },
     "execution_count": 4,
     "metadata": {},
     "output_type": "execute_result"
    }
   ],
   "source": [
    "df.head()"
   ]
  },
  {
   "attachments": {},
   "cell_type": "markdown",
   "metadata": {},
   "source": [
    "### Описание столбцов\n",
    "1. *full_name* - Идентификатор текстовой записи (публикация или комментарий). Тип: строка.\n",
    "2. *text_body* - Текстовое содержание записи, кодированное в UTF-8. Может содержать несвязный текст или текст на языке, отличном от английского. Может содержать пропуски (автор удалил аккаунт или комментарий). Тип: строка.\n",
    "3. *author_name* - Идентификатор автора текстовой записи. Может содержать пропуски (автор удалил аккаунт). Тип: строка.\n",
    "4. *votes* - Рейтинг записи. Тип: число.\n",
    "5. *responds_to* - Идентификатор записи, на которую отвечает данная. Может содержать пропуски (запись является корневой публикацией). Тип: строка.\n",
    "6. *parent_submission_name* - Идентификатор публикации, в дереве которой находится данная запись. Может содержать пропуски (запись является корневой публикацией). Тип: строка.\n",
    "7. *submission_flair* - Категория текстовой записи. Единая для всего дерева публикации. Тип: строка\n",
    "8. *created_timestamp* - UNIX метка времени создания записи по данным Reddit. Тип: число\n",
    "9. *parsed_timestamp* - UNIX метка времени сохранения записи парсером. Тип: число\n",
    "10. *controversiality* - Отметка о спорности публикации по данным Reddit. Тип: булев"
   ]
  },
  {
   "cell_type": "code",
   "execution_count": 5,
   "metadata": {},
   "outputs": [
    {
     "name": "stdout",
     "output_type": "stream",
     "text": [
      "Row count: 51892\n",
      "Unique rows: 51892\n",
      "Unique authors (including null value): 7513\n",
      "Unique submissions (not comments): 922\n"
     ]
    }
   ],
   "source": [
    "print(f\"Row count: {df.shape[0]}\")\n",
    "\n",
    "print(f\"Unique rows: {df[\"full_name\"].nunique()}\")\n",
    "print(f\"Unique authors (including null value): {df[\"author_name\"].nunique()}\")\n",
    "print(f\"Unique submissions (not comments): {df[\"parent_submission_name\"].nunique()}\")"
   ]
  },
  {
   "cell_type": "code",
   "execution_count": 6,
   "metadata": {},
   "outputs": [
    {
     "data": {
      "text/plain": [
       "submission_flair\n",
       "Discussion          23021\n",
       "Politics            13827\n",
       "News                10747\n",
       "Rumour               4035\n",
       "Beaurocracy           105\n",
       "Rumour Disproven      105\n",
       "Name: count, dtype: int64"
      ]
     },
     "execution_count": 6,
     "metadata": {},
     "output_type": "execute_result"
    }
   ],
   "source": [
    "df[\"submission_flair\"].value_counts()"
   ]
  },
  {
   "attachments": {},
   "cell_type": "markdown",
   "metadata": {},
   "source": [
    "1. 51892 уникальных записей, опубликованных 7512 авторами, среди 922 публикаций\n",
    "2. Записи распределены по 6 категориям, в порядке убывания: Discussion, Politics, News, Rumour, Beaurocracy, Rumour Disproven\n",
    "3. Категория Beaurocracy имеет [очень нетипичное написание](https://dictionary.cambridge.org/us/dictionary/english-russian/bureaucracy)\n"
   ]
  },
  {
   "attachments": {},
   "cell_type": "markdown",
   "metadata": {},
   "source": [
    "### Признак controversiality "
   ]
  },
  {
   "cell_type": "code",
   "execution_count": 7,
   "metadata": {},
   "outputs": [
    {
     "data": {
      "text/plain": [
       "controversiality\n",
       "False    49056\n",
       "True      2836\n",
       "Name: count, dtype: int64"
      ]
     },
     "execution_count": 7,
     "metadata": {},
     "output_type": "execute_result"
    }
   ],
   "source": [
    "df[\"controversiality\"].value_counts()"
   ]
  },
  {
   "cell_type": "code",
   "execution_count": 8,
   "metadata": {},
   "outputs": [
    {
     "data": {
      "text/plain": [
       "submission_flair  controversiality\n",
       "Beaurocracy       False                 105\n",
       "Discussion        False               22228\n",
       "                  True                  793\n",
       "News              False               10231\n",
       "                  True                  516\n",
       "Politics          False               12391\n",
       "                  True                 1436\n",
       "Rumour            False                3944\n",
       "                  True                   91\n",
       "Rumour Disproven  False                 105\n",
       "dtype: int64"
      ]
     },
     "execution_count": 8,
     "metadata": {},
     "output_type": "execute_result"
    }
   ],
   "source": [
    "df.groupby([\"submission_flair\", \"controversiality\"]).size()"
   ]
  },
  {
   "cell_type": "code",
   "execution_count": 9,
   "metadata": {},
   "outputs": [],
   "source": [
    "def build_replies_up(df: pd.DataFrame, starting_node: pd.DataFrame) -> list[str]:\n",
    "    out = [starting_node[\"text_body\"]]\n",
    "    next_parent = starting_node[\"responds_to\"]\n",
    "\n",
    "    while isinstance(next_parent, str):\n",
    "        node = df[df[\"full_name\"] == next_parent]\n",
    "        out.append(node.iloc[0]['text_body'])\n",
    "        next_parent = node.iloc[0]['responds_to']\n",
    "\n",
    "    return list(reversed(out))"
   ]
  },
  {
   "cell_type": "code",
   "execution_count": 10,
   "metadata": {},
   "outputs": [],
   "source": [
    "def print_replies(start_id: int) -> None:\n",
    "    for i in build_replies_up(df, df.iloc[start_id]):\n",
    "        print(i)\n",
    "        print(\"=\"*20)"
   ]
  },
  {
   "cell_type": "code",
   "execution_count": 11,
   "metadata": {},
   "outputs": [
    {
     "data": {
      "text/plain": [
       "15       Isn’t she very opposed to private universities...\n",
       "30                                               Dr.Cabral\n",
       "109      I have bsc in Accounting from japura. You can'...\n",
       "113      How is it fine? That's like in the US, where t...\n",
       "141                         Did you even watch the videos?\n",
       "                               ...                        \n",
       "13808                                               Sajith\n",
       "13810      Seeing this post for the nth time in this sub 😭\n",
       "13811                                                Ranil\n",
       "13812                                                Anura\n",
       "13813                                    Karma whore much?\n",
       "Name: text_body, Length: 1436, dtype: object"
      ]
     },
     "execution_count": 11,
     "metadata": {},
     "output_type": "execute_result"
    }
   ],
   "source": [
    "df[(df[\"controversiality\"] == True) & (df[\"submission_flair\"] == \"Politics\")][\"text_body\"]"
   ]
  },
  {
   "cell_type": "code",
   "execution_count": 12,
   "metadata": {},
   "outputs": [
    {
     "name": "stdout",
     "output_type": "stream",
     "text": [
      "Harini Amarasuriya, feminist and outspoken advocate for the LGBTQ+ community, is the new prime minister of Sri Lanka.\n",
      "====================\n",
      "Isn’t she very opposed to private universities? 🤨\n",
      "\n",
      "I really want to love her but I remember her being vocally opposed to that on Twitter.\n",
      "\n",
      "Edit: just to clarify here, I am not stating that she actually is against private universities but that I remember her being involved in some of the discussions related to that area. Someone please correct me if I am wrong.\n",
      "\n",
      "Edit 2: it seems she supports regulation for private universities: https://x.com/dr_harinia/status/1407610723539247113?s=46\n",
      "====================\n"
     ]
    }
   ],
   "source": [
    "print_replies(15)"
   ]
  },
  {
   "cell_type": "code",
   "execution_count": 13,
   "metadata": {},
   "outputs": [
    {
     "name": "stdout",
     "output_type": "stream",
     "text": [
      "Harini Amarasuriya, feminist and outspoken advocate for the LGBTQ+ community, is the new prime minister of Sri Lanka.\n",
      "====================\n",
      "She's an excellent lecturer and very popular with Open University students. She was what drew many educated youth who are against the JVP's violent, racist roots to the NPP. She's not against private universities, most students that are not in the Anthare leadership are not against them, but only fear that private unis will give the government an excuse to neglect the already derelict public universities and lower the cache of public education. As always there are legitimate issues behind discontent being hijacked by reactionaries on both sides. \n",
      "\n",
      "Dr. Harini's revolutionary idea is that university students are not the enemy of the state. She's a moderate whose goal is regulation of and access to quality higher education. And she does not want the military involved in civil affairs. I really hope that she won't get completely swallowed up by politics and lose sight of her objectives. A lot of people start out with good intentions and then realize the system has made it so they have to compromise their values to stay in power. It would be a waste of a great academic administrator.\n",
      "====================\n",
      "nan\n",
      "====================\n",
      "I agree. The private higher education institutions right now are predatory, substandard and full of fraudulence. Their primary goal seems facilitating brain drain because graduates can't recoup the cost of education here. I went to ANC and then transferred my credits to Canada for my B.A before I had to drop out because of chronic illness. Felt so guilty about all the millions wasted, especially considering the cost of my medical treatments later. Registered at Open University several years later to try and get my B.A at my own pace and was surprised and pleased at the quality of education. There were a couple of lecturers who were duds but much less than at ANC which was frankly a shitshow. The material was good, the lecturers truly cared, it didn't matter if I missed lectures when I got sick. I wish I had known this was an option before. \n",
      "\n",
      "Many people who secured the BA then go onto work and earn enough to do their Masters at better unis. My daily maid's son also started an IT degree at Open some years back and he's doing so well without completely eating up his parents savings and having to kill himself at Moratuwa. \n",
      "\n",
      "I think Open University courses should be expanded to more areas or equivalent tertiary options offered by non-profits with the same academic regulations and oversight as state unis. It will take time and I don't kid myself that preventing private universities will be an option until the means for non-profits materialise. But they need to at least work towards those models instead of just letting private companies take over. Hopefully they'll pay more attention to accessibility needs as well. There's a disheartening lack of resources and alternatives for disabled students. We have value too.\n",
      "====================\n",
      "nan\n",
      "====================\n",
      "How is it fine? That's like in the US, where the military preys on disenfranchised students who have no other means of getting an education other than enlist. Military academies are just brainwashing factories. No academic worth their salt would affiliate themselves with state enforcers.\n",
      "====================\n"
     ]
    }
   ],
   "source": [
    "print_replies(113)"
   ]
  },
  {
   "cell_type": "code",
   "execution_count": 14,
   "metadata": {},
   "outputs": [
    {
     "name": "stdout",
     "output_type": "stream",
     "text": [
      "Who are you guys voting for this time ?\n",
      "====================\n",
      "Ranil\n",
      "====================\n"
     ]
    }
   ],
   "source": [
    "print_replies(13811)"
   ]
  },
  {
   "cell_type": "code",
   "execution_count": 15,
   "metadata": {},
   "outputs": [
    {
     "name": "stdout",
     "output_type": "stream",
     "text": [
      "Good luck to Dr Harini, our first PM with a Doctorate.\n",
      "====================\n",
      "These comments damn. Why's everyone like Harini is going to make gay sex mandatory lol ? You are not required to participate unless you want.\n",
      "====================\n",
      "What else do you think a gender studies expert will do. I mean, you have mutated the concern into a farce, it would be a waste of time to explain to you the concerns.  \n",
      "- Hinted at more ESG and DEI policies in work force\n",
      "\n",
      "- Gender studies majors loves to normalize degenerate behaviors like gay sex, crimes such as killing babies or grooming and child mutilation\n",
      "\n",
      "- Gender theory is based on a degenerate pedophile who did unethical experiments on kids called John Money. Which also resulted in the death of the kids he sexually abused.\n",
      "\n",
      "- Her research shows her alignments and that she is an ideologue. We need a centrist, not a radical feminist with a PhD in social anthropology and gender studies.\n",
      "\n",
      "- If she fails and since she is being marketed as \"the 3rd woman who became PM\" with\"PhD\" it's gonna taint the name of other women and the credibility and respect towards people of academia.\n",
      "\n",
      "- If she takes a back seat and just limits herself to talks, even that wouldn't result in favorability.   \n",
      "  \n",
      "You can't understand what they did to her, like Mahinda did, they sacrificed her good name and the credibility of her credentials to gain a little more PR for probably the general election. Even if she doesn't tap into her radical tendencies, this will not be favorable for her good name. Just look at people even now bringing up their concerns, and the more the supporter attack these concerns the bigger the pushback will be, and the same could be said about the impression. \n",
      "\n",
      "We can't go past this with simple ignorance either, liberals used to be a political faction of rationality now they have fallen into narcissism and arrogance, that's the reason I parted with both FLSP and JVP after the city level councils we made after the Aragalaya.\n",
      "====================\n"
     ]
    }
   ],
   "source": [
    "print_replies(13850)"
   ]
  },
  {
   "attachments": {},
   "cell_type": "markdown",
   "metadata": {},
   "source": [
    "1. Лишь около 5% записей имеют отметку controversiality, что не делает её единственной и достаточной в обнаружении проблемного дискурса\n",
    "2. Восстановление текста родительских комментариев необходимо для установления контекста, позволяющего провести соответствие между обсуждаемой сущностью и ответами"
   ]
  },
  {
   "attachments": {},
   "cell_type": "markdown",
   "metadata": {},
   "source": [
    "### Признак votes"
   ]
  },
  {
   "cell_type": "code",
   "execution_count": 16,
   "metadata": {},
   "outputs": [
    {
     "data": {
      "text/plain": [
       "count    51892.000000\n",
       "mean         7.852135\n",
       "std         23.030875\n",
       "min       -115.000000\n",
       "25%          1.000000\n",
       "50%          2.000000\n",
       "75%          6.000000\n",
       "max        868.000000\n",
       "Name: votes, dtype: float64"
      ]
     },
     "execution_count": 16,
     "metadata": {},
     "output_type": "execute_result"
    }
   ],
   "source": [
    "df[\"votes\"].describe()"
   ]
  },
  {
   "cell_type": "code",
   "execution_count": 17,
   "metadata": {},
   "outputs": [
    {
     "data": {
      "text/plain": [
       "<Axes: xlabel='votes', ylabel='Count'>"
      ]
     },
     "execution_count": 17,
     "metadata": {},
     "output_type": "execute_result"
    },
    {
     "data": {
      "image/png": "[encoded data removed]",
      "text/plain": [
       "<Figure size 1600x900 with 1 Axes>"
      ]
     },
     "metadata": {},
     "output_type": "display_data"
    }
   ],
   "source": [
    "sns.histplot(data=df, x=\"votes\", bins=100)"
   ]
  },
  {
   "cell_type": "code",
   "execution_count": 18,
   "metadata": {},
   "outputs": [
    {
     "data": {
      "text/plain": [
       "[(0.0, 100.0)]"
      ]
     },
     "execution_count": 18,
     "metadata": {},
     "output_type": "execute_result"
    },
    {
     "data": {
      "image/png": "[encoded data removed]",
      "text/plain": [
       "<Figure size 1600x900 with 1 Axes>"
      ]
     },
     "metadata": {},
     "output_type": "display_data"
    }
   ],
   "source": [
    "ax = sns.histplot(data=df, x=\"votes\", bins=50)\n",
    "ax.set(ylim=(0, 100))"
   ]
  },
  {
   "cell_type": "code",
   "execution_count": 19,
   "metadata": {},
   "outputs": [
    {
     "name": "stdout",
     "output_type": "stream",
     "text": [
      "99th quantile of votes: 107.08999999999651\n"
     ]
    }
   ],
   "source": [
    "print(f\"99th quantile of votes: {df[\"votes\"].quantile(0.99)}\")"
   ]
  },
  {
   "cell_type": "code",
   "execution_count": 20,
   "metadata": {},
   "outputs": [
    {
     "data": {
      "text/plain": [
       "<Axes: xlabel='submission_flair', ylabel='votes'>"
      ]
     },
     "execution_count": 20,
     "metadata": {},
     "output_type": "execute_result"
    },
    {
     "data": {
      "image/png": "[encoded data removed]",
      "text/plain": [
       "<Figure size 1600x900 with 1 Axes>"
      ]
     },
     "metadata": {},
     "output_type": "display_data"
    }
   ],
   "source": [
    "sns.boxplot(data=df, x=\"submission_flair\", y=\"votes\")"
   ]
  },
  {
   "cell_type": "code",
   "execution_count": 21,
   "metadata": {},
   "outputs": [
    {
     "data": {
      "text/html": [
       "<div>\n",
       "<style scoped>\n",
       "    .dataframe tbody tr th:only-of-type {\n",
       "        vertical-align: middle;\n",
       "    }\n",
       "\n",
       "    .dataframe tbody tr th {\n",
       "        vertical-align: top;\n",
       "    }\n",
       "\n",
       "    .dataframe thead th {\n",
       "        text-align: right;\n",
       "    }\n",
       "</style>\n",
       "<table border=\"1\" class=\"dataframe\">\n",
       "  <thead>\n",
       "    <tr style=\"text-align: right;\">\n",
       "      <th></th>\n",
       "      <th>count</th>\n",
       "      <th>mean</th>\n",
       "      <th>std</th>\n",
       "      <th>min</th>\n",
       "      <th>25%</th>\n",
       "      <th>50%</th>\n",
       "      <th>75%</th>\n",
       "      <th>max</th>\n",
       "    </tr>\n",
       "    <tr>\n",
       "      <th>submission_flair</th>\n",
       "      <th></th>\n",
       "      <th></th>\n",
       "      <th></th>\n",
       "      <th></th>\n",
       "      <th></th>\n",
       "      <th></th>\n",
       "      <th></th>\n",
       "      <th></th>\n",
       "    </tr>\n",
       "  </thead>\n",
       "  <tbody>\n",
       "    <tr>\n",
       "      <th>Beaurocracy</th>\n",
       "      <td>105.0</td>\n",
       "      <td>8.600000</td>\n",
       "      <td>17.053987</td>\n",
       "      <td>0.0</td>\n",
       "      <td>1.0</td>\n",
       "      <td>2.0</td>\n",
       "      <td>7.0</td>\n",
       "      <td>94.0</td>\n",
       "    </tr>\n",
       "    <tr>\n",
       "      <th>Discussion</th>\n",
       "      <td>23021.0</td>\n",
       "      <td>7.357543</td>\n",
       "      <td>22.600166</td>\n",
       "      <td>-95.0</td>\n",
       "      <td>1.0</td>\n",
       "      <td>2.0</td>\n",
       "      <td>5.0</td>\n",
       "      <td>868.0</td>\n",
       "    </tr>\n",
       "    <tr>\n",
       "      <th>News</th>\n",
       "      <td>10747.0</td>\n",
       "      <td>9.194938</td>\n",
       "      <td>25.572184</td>\n",
       "      <td>-100.0</td>\n",
       "      <td>1.0</td>\n",
       "      <td>2.0</td>\n",
       "      <td>8.0</td>\n",
       "      <td>601.0</td>\n",
       "    </tr>\n",
       "    <tr>\n",
       "      <th>Politics</th>\n",
       "      <td>13827.0</td>\n",
       "      <td>7.640992</td>\n",
       "      <td>22.636509</td>\n",
       "      <td>-113.0</td>\n",
       "      <td>1.0</td>\n",
       "      <td>2.0</td>\n",
       "      <td>7.0</td>\n",
       "      <td>682.0</td>\n",
       "    </tr>\n",
       "    <tr>\n",
       "      <th>Rumour</th>\n",
       "      <td>4035.0</td>\n",
       "      <td>7.865675</td>\n",
       "      <td>19.786836</td>\n",
       "      <td>-115.0</td>\n",
       "      <td>1.0</td>\n",
       "      <td>2.0</td>\n",
       "      <td>7.0</td>\n",
       "      <td>352.0</td>\n",
       "    </tr>\n",
       "    <tr>\n",
       "      <th>Rumour Disproven</th>\n",
       "      <td>105.0</td>\n",
       "      <td>6.238095</td>\n",
       "      <td>11.951443</td>\n",
       "      <td>-13.0</td>\n",
       "      <td>1.0</td>\n",
       "      <td>2.0</td>\n",
       "      <td>7.0</td>\n",
       "      <td>90.0</td>\n",
       "    </tr>\n",
       "  </tbody>\n",
       "</table>\n",
       "</div>"
      ],
      "text/plain": [
       "                    count      mean        std    min  25%  50%  75%    max\n",
       "submission_flair                                                           \n",
       "Beaurocracy         105.0  8.600000  17.053987    0.0  1.0  2.0  7.0   94.0\n",
       "Discussion        23021.0  7.357543  22.600166  -95.0  1.0  2.0  5.0  868.0\n",
       "News              10747.0  9.194938  25.572184 -100.0  1.0  2.0  8.0  601.0\n",
       "Politics          13827.0  7.640992  22.636509 -113.0  1.0  2.0  7.0  682.0\n",
       "Rumour             4035.0  7.865675  19.786836 -115.0  1.0  2.0  7.0  352.0\n",
       "Rumour Disproven    105.0  6.238095  11.951443  -13.0  1.0  2.0  7.0   90.0"
      ]
     },
     "execution_count": 21,
     "metadata": {},
     "output_type": "execute_result"
    }
   ],
   "source": [
    "df.groupby(\"submission_flair\")[\"votes\"].describe()"
   ]
  },
  {
   "cell_type": "code",
   "execution_count": 22,
   "metadata": {},
   "outputs": [
    {
     "data": {
      "text/plain": [
       "submission_flair  controversiality\n",
       "Beaurocracy       False               8.600000\n",
       "Discussion        False               7.609906\n",
       "                  True                0.283733\n",
       "News              False               9.640602\n",
       "                  True                0.358527\n",
       "Politics          False               8.462755\n",
       "                  True                0.550139\n",
       "Rumour            False               8.045639\n",
       "                  True                0.065934\n",
       "Rumour Disproven  False               6.238095\n",
       "Name: votes, dtype: float64"
      ]
     },
     "execution_count": 22,
     "metadata": {},
     "output_type": "execute_result"
    }
   ],
   "source": [
    "df.groupby([\"submission_flair\", \"controversiality\"])[\"votes\"].mean()"
   ]
  },
  {
   "cell_type": "code",
   "execution_count": 23,
   "metadata": {},
   "outputs": [
    {
     "data": {
      "text/plain": [
       "submission_flair  controversiality\n",
       "Beaurocracy       False               2.0\n",
       "Discussion        False               2.0\n",
       "                  True                0.0\n",
       "News              False               3.0\n",
       "                  True                0.0\n",
       "Politics          False               2.0\n",
       "                  True                1.0\n",
       "Rumour            False               3.0\n",
       "                  True                0.0\n",
       "Rumour Disproven  False               2.0\n",
       "Name: votes, dtype: float64"
      ]
     },
     "execution_count": 23,
     "metadata": {},
     "output_type": "execute_result"
    }
   ],
   "source": [
    "df.groupby([\"submission_flair\", \"controversiality\"])[\"votes\"].median()"
   ]
  },
  {
   "cell_type": "code",
   "execution_count": 24,
   "metadata": {},
   "outputs": [
    {
     "data": {
      "text/plain": [
       "submission_flair  controversiality\n",
       "Beaurocracy       False                94\n",
       "Discussion        False               868\n",
       "                  True                 32\n",
       "News              False               601\n",
       "                  True                 21\n",
       "Politics          False               682\n",
       "                  True                 21\n",
       "Rumour            False               352\n",
       "                  True                  6\n",
       "Rumour Disproven  False                90\n",
       "Name: votes, dtype: int64"
      ]
     },
     "execution_count": 24,
     "metadata": {},
     "output_type": "execute_result"
    }
   ],
   "source": [
    "df.groupby([\"submission_flair\", \"controversiality\"])[\"votes\"].max()"
   ]
  },
  {
   "cell_type": "code",
   "execution_count": 25,
   "metadata": {},
   "outputs": [
    {
     "name": "stdout",
     "output_type": "stream",
     "text": [
      "90th quantile of votes: 18.0\n"
     ]
    }
   ],
   "source": [
    "print(f\"90th quantile of votes: {df[\"votes\"].quantile(0.90)}\")"
   ]
  },
  {
   "attachments": {},
   "cell_type": "markdown",
   "metadata": {},
   "source": [
    "1. Распределения голосов по категориям Politics, News, Discussion и Rumour похожи (по средним значениям и среднеквадратичным отклонениям)\n",
    "2. Распределения голосов по категориям Beaurocracy и Rumour Disproven имеют заметно меньше отрицательных значений\n",
    "2. Существует корреляция между отметкой спорности и рейтингом записи (спорные записи в среднем имеют рейтинг ниже 25 перцентиля)\n",
    "3. Даже популярные записи (популярнее 90 квантиля по голосам) могут быть отмечены как спорные"
   ]
  },
  {
   "attachments": {},
   "cell_type": "markdown",
   "metadata": {},
   "source": [
    "### Признак created_timestamp"
   ]
  },
  {
   "cell_type": "code",
   "execution_count": 26,
   "metadata": {},
   "outputs": [],
   "source": [
    "from datetime import datetime"
   ]
  },
  {
   "cell_type": "code",
   "execution_count": 27,
   "metadata": {},
   "outputs": [],
   "source": [
    "df[\"created_datetime\"] = df[\"created_timestamp\"].apply(\n",
    "    lambda x: datetime.fromtimestamp(x)\n",
    ")"
   ]
  },
  {
   "cell_type": "code",
   "execution_count": 28,
   "metadata": {},
   "outputs": [
    {
     "data": {
      "text/plain": [
       "Timestamp('2019-04-28 12:35:08')"
      ]
     },
     "execution_count": 28,
     "metadata": {},
     "output_type": "execute_result"
    }
   ],
   "source": [
    "df[\"created_datetime\"].min()"
   ]
  },
  {
   "cell_type": "code",
   "execution_count": 29,
   "metadata": {},
   "outputs": [
    {
     "data": {
      "text/plain": [
       "Timestamp('2024-10-27 19:32:54')"
      ]
     },
     "execution_count": 29,
     "metadata": {},
     "output_type": "execute_result"
    }
   ],
   "source": [
    "df[\"created_datetime\"].max()"
   ]
  },
  {
   "cell_type": "code",
   "execution_count": 30,
   "metadata": {},
   "outputs": [],
   "source": [
    "df[\"year\"] = df[\"created_datetime\"].apply(\n",
    "    lambda x: x.year\n",
    ")"
   ]
  },
  {
   "cell_type": "code",
   "execution_count": 31,
   "metadata": {},
   "outputs": [
    {
     "data": {
      "text/plain": [
       "year\n",
       "2019       41\n",
       "2020       44\n",
       "2021      423\n",
       "2022     1821\n",
       "2023     6294\n",
       "2024    43269\n",
       "Name: votes, dtype: int64"
      ]
     },
     "execution_count": 31,
     "metadata": {},
     "output_type": "execute_result"
    }
   ],
   "source": [
    "df.groupby(\"year\")[\"votes\"].size()"
   ]
  },
  {
   "cell_type": "code",
   "execution_count": 32,
   "metadata": {},
   "outputs": [
    {
     "data": {
      "text/plain": [
       "year  submission_flair\n",
       "2019  Rumour                 12\n",
       "      Rumour Disproven       29\n",
       "2020  Rumour                 44\n",
       "2021  News                  246\n",
       "      Rumour                177\n",
       "2022  News                  920\n",
       "      Politics              258\n",
       "      Rumour                567\n",
       "      Rumour Disproven       76\n",
       "2023  Discussion           3138\n",
       "      News                 1868\n",
       "      Politics              441\n",
       "      Rumour                847\n",
       "2024  Beaurocracy           105\n",
       "      Discussion          19883\n",
       "      News                 7713\n",
       "      Politics            13128\n",
       "      Rumour               2388\n",
       "Name: votes, dtype: int64"
      ]
     },
     "execution_count": 32,
     "metadata": {},
     "output_type": "execute_result"
    }
   ],
   "source": [
    "df.groupby([\"year\", \"submission_flair\"])[\"votes\"].size()"
   ]
  },
  {
   "cell_type": "code",
   "execution_count": 33,
   "metadata": {},
   "outputs": [
    {
     "data": {
      "text/plain": [
       "year  controversiality\n",
       "2019  False                  41\n",
       "2020  False                  44\n",
       "2021  False                 398\n",
       "      True                   25\n",
       "2022  False                1747\n",
       "      True                   74\n",
       "2023  False                6050\n",
       "      True                  244\n",
       "2024  False               40776\n",
       "      True                 2493\n",
       "Name: votes, dtype: int64"
      ]
     },
     "execution_count": 33,
     "metadata": {},
     "output_type": "execute_result"
    }
   ],
   "source": [
    "df.groupby([\"year\", \"controversiality\"])[\"votes\"].size()"
   ]
  },
  {
   "cell_type": "code",
   "execution_count": 34,
   "metadata": {},
   "outputs": [
    {
     "data": {
      "text/html": [
       "<div>\n",
       "<style scoped>\n",
       "    .dataframe tbody tr th:only-of-type {\n",
       "        vertical-align: middle;\n",
       "    }\n",
       "\n",
       "    .dataframe tbody tr th {\n",
       "        vertical-align: top;\n",
       "    }\n",
       "\n",
       "    .dataframe thead th {\n",
       "        text-align: right;\n",
       "    }\n",
       "</style>\n",
       "<table border=\"1\" class=\"dataframe\">\n",
       "  <thead>\n",
       "    <tr style=\"text-align: right;\">\n",
       "      <th></th>\n",
       "      <th>count</th>\n",
       "      <th>mean</th>\n",
       "      <th>std</th>\n",
       "      <th>min</th>\n",
       "      <th>25%</th>\n",
       "      <th>50%</th>\n",
       "      <th>75%</th>\n",
       "      <th>max</th>\n",
       "    </tr>\n",
       "    <tr>\n",
       "      <th>year</th>\n",
       "      <th></th>\n",
       "      <th></th>\n",
       "      <th></th>\n",
       "      <th></th>\n",
       "      <th></th>\n",
       "      <th></th>\n",
       "      <th></th>\n",
       "      <th></th>\n",
       "    </tr>\n",
       "  </thead>\n",
       "  <tbody>\n",
       "    <tr>\n",
       "      <th>2019</th>\n",
       "      <td>41.0</td>\n",
       "      <td>6.463415</td>\n",
       "      <td>7.506989</td>\n",
       "      <td>-3.0</td>\n",
       "      <td>2.0</td>\n",
       "      <td>5.0</td>\n",
       "      <td>7.0</td>\n",
       "      <td>39.0</td>\n",
       "    </tr>\n",
       "    <tr>\n",
       "      <th>2020</th>\n",
       "      <td>44.0</td>\n",
       "      <td>2.272727</td>\n",
       "      <td>3.787149</td>\n",
       "      <td>-5.0</td>\n",
       "      <td>1.0</td>\n",
       "      <td>1.0</td>\n",
       "      <td>3.0</td>\n",
       "      <td>16.0</td>\n",
       "    </tr>\n",
       "    <tr>\n",
       "      <th>2021</th>\n",
       "      <td>423.0</td>\n",
       "      <td>6.555556</td>\n",
       "      <td>24.768332</td>\n",
       "      <td>-36.0</td>\n",
       "      <td>1.0</td>\n",
       "      <td>2.0</td>\n",
       "      <td>6.0</td>\n",
       "      <td>429.0</td>\n",
       "    </tr>\n",
       "    <tr>\n",
       "      <th>2022</th>\n",
       "      <td>1821.0</td>\n",
       "      <td>8.569467</td>\n",
       "      <td>22.894268</td>\n",
       "      <td>-39.0</td>\n",
       "      <td>1.0</td>\n",
       "      <td>3.0</td>\n",
       "      <td>8.0</td>\n",
       "      <td>354.0</td>\n",
       "    </tr>\n",
       "    <tr>\n",
       "      <th>2023</th>\n",
       "      <td>6294.0</td>\n",
       "      <td>7.167779</td>\n",
       "      <td>20.048887</td>\n",
       "      <td>-89.0</td>\n",
       "      <td>1.0</td>\n",
       "      <td>2.0</td>\n",
       "      <td>6.0</td>\n",
       "      <td>525.0</td>\n",
       "    </tr>\n",
       "    <tr>\n",
       "      <th>2024</th>\n",
       "      <td>43269.0</td>\n",
       "      <td>7.941159</td>\n",
       "      <td>23.439794</td>\n",
       "      <td>-115.0</td>\n",
       "      <td>1.0</td>\n",
       "      <td>2.0</td>\n",
       "      <td>6.0</td>\n",
       "      <td>868.0</td>\n",
       "    </tr>\n",
       "  </tbody>\n",
       "</table>\n",
       "</div>"
      ],
      "text/plain": [
       "        count      mean        std    min  25%  50%  75%    max\n",
       "year                                                           \n",
       "2019     41.0  6.463415   7.506989   -3.0  2.0  5.0  7.0   39.0\n",
       "2020     44.0  2.272727   3.787149   -5.0  1.0  1.0  3.0   16.0\n",
       "2021    423.0  6.555556  24.768332  -36.0  1.0  2.0  6.0  429.0\n",
       "2022   1821.0  8.569467  22.894268  -39.0  1.0  3.0  8.0  354.0\n",
       "2023   6294.0  7.167779  20.048887  -89.0  1.0  2.0  6.0  525.0\n",
       "2024  43269.0  7.941159  23.439794 -115.0  1.0  2.0  6.0  868.0"
      ]
     },
     "execution_count": 34,
     "metadata": {},
     "output_type": "execute_result"
    }
   ],
   "source": [
    "df.groupby(\"year\")[\"votes\"].describe()"
   ]
  },
  {
   "attachments": {},
   "cell_type": "markdown",
   "metadata": {},
   "source": [
    "1. Собраны записи с конца апреля 2019 года по конец октября 2024 года\n",
    "2. Более 85% записей приходятся на 2024 год. Это связано как с механизмом извлечения записей (извлекались записи толко с метками категории, в то время как записи старше 1 года редко имеют какую-либо категорию), так и с ростом популярности самого сообщества r/srilanka (за последний год количесво подписчиков [увеличилось на 19%](https://gummysearch.com/r/srilanka/))\n",
    "3. 2019 и 2020 годы отличаются крайне малым количеством записей (около 0.1% от общего количества записей)\n",
    "4. Из года в год структура обсуждаемых категорий значительно меняется (категории смещаются на 1-3 пункта в рейтинге популярности по количеству записей)\n",
    "5. Не выявлено значительных отклонений в структуре отметок спорности в отрезке [2021, 2024] годов\n",
    "6. Не выявлено значительных отклонений в распредлении голосов в отрезке [2021, 2024] годов"
   ]
  },
  {
   "cell_type": "code",
   "execution_count": 35,
   "metadata": {},
   "outputs": [
    {
     "name": "stderr",
     "output_type": "stream",
     "text": [
      "c:\\Users\\Vizor\\Desktop\\Учеба\\4 course\\RPAA\\.venv\\Lib\\site-packages\\tqdm\\auto.py:21: TqdmWarning: IProgress not found. Please update jupyter and ipywidgets. See https://ipywidgets.readthedocs.io/en/stable/user_install.html\n",
      "  from .autonotebook import tqdm as notebook_tqdm\n"
     ]
    }
   ],
   "source": [
    "from transformers import AutoTokenizer, AutoModelForTokenClassification\n",
    "from transformers import pipeline\n"
   ]
  },
  {
   "cell_type": "code",
   "execution_count": 36,
   "metadata": {},
   "outputs": [
    {
     "name": "stderr",
     "output_type": "stream",
     "text": [
      "c:\\Users\\Vizor\\Desktop\\Учеба\\4 course\\RPAA\\.venv\\Lib\\site-packages\\transformers\\pipelines\\token_classification.py:170: UserWarning: `grouped_entities` is deprecated and will be removed in version v5.0.0, defaulted to `aggregation_strategy=\"AggregationStrategy.SIMPLE\"` instead.\n",
      "  warnings.warn(\n"
     ]
    }
   ],
   "source": [
    "tokenizer = AutoTokenizer.from_pretrained(\"Babelscape/wikineural-multilingual-ner\")\n",
    "model = AutoModelForTokenClassification.from_pretrained(\"Babelscape/wikineural-multilingual-ner\")\n",
    "nlp = pipeline(\"ner\", model=model, tokenizer=tokenizer, grouped_entities=True)\n"
   ]
  },
  {
   "cell_type": "code",
   "execution_count": 68,
   "metadata": {},
   "outputs": [
    {
     "name": "stdout",
     "output_type": "stream",
     "text": [
      "1122\n"
     ]
    }
   ],
   "source": [
    "res = df.loc[:, ['full_name','responds_to', 'text_body']]\n",
    "res = res[res['responds_to'].isnull()==True]\n",
    "all_entities = []\n",
    "for i in res.itertuples():\n",
    "    ner_results = nlp(i[3])\n",
    "    for j in ner_results:\n",
    "        entity = j\n",
    "        entity[\"submission_id\"] = i[1]\n",
    "\n",
    "        all_entities.append(j)\n",
    "print(len(all_entities))"
   ]
  },
  {
   "cell_type": "code",
   "execution_count": 66,
   "metadata": {},
   "outputs": [
    {
     "name": "stdout",
     "output_type": "stream",
     "text": [
      "[{'entity_group': 'PER', 'score': np.float32(0.9972281), 'word': 'Harini Amarasuriya', 'start': 0, 'end': 18, 'submission_id': 't3_1fo8hat'}, {'entity_group': 'LOC', 'score': np.float32(0.99971044), 'word': 'Sri Lanka', 'start': 107, 'end': 116, 'submission_id': 't3_1fo8hat'}, {'entity_group': 'MISC', 'score': np.float32(0.57339954), 'word': 'Oh hell', 'start': 0, 'end': 7, 'submission_id': 't3_1g42r4y'}, {'entity_group': 'PER', 'score': np.float32(0.67960984), 'word': 'Ranil', 'start': 10, 'end': 15, 'submission_id': 't3_1fms0jd'}, {'entity_group': 'PER', 'score': np.float32(0.66187227), 'word': 'Gen Z', 'start': 31, 'end': 36, 'submission_id': 't3_1fdaqec'}, {'entity_group': 'PER', 'score': np.float32(0.9894068), 'word': 'Ranil', 'start': 14, 'end': 19, 'submission_id': 't3_1ennprd'}, {'entity_group': 'PER', 'score': np.float32(0.974848), 'word': 'Sajith Premadasa', 'start': 8, 'end': 24, 'submission_id': 't3_1fmojie'}, {'entity_group': 'MISC', 'score': np.float32(0.5858616), 'word': 'Tamil', 'start': 47, 'end': 52, 'submission_id': 't3_1fmojie'}, {'entity_group': 'LOC', 'score': np.float32(0.6664455), 'word': 'North', 'start': 57, 'end': 62, 'submission_id': 't3_1fmojie'}, {'entity_group': 'LOC', 'score': np.float32(0.6034528), 'word': 'East', 'start': 67, 'end': 71, 'submission_id': 't3_1fmojie'}, {'entity_group': 'ORG', 'score': np.float32(0.95138466), 'word': 'AKD', 'start': 26, 'end': 29, 'submission_id': 't3_1fp4jsv'}, {'entity_group': 'MISC', 'score': np.float32(0.40980822), 'word': 'Let', 'start': 0, 'end': 3, 'submission_id': 't3_1gcfpfk'}, {'entity_group': 'PER', 'score': np.float32(0.448658), 'word': 'Ra', 'start': 0, 'end': 2, 'submission_id': 't3_1eosucq'}, {'entity_group': 'PER', 'score': np.float32(0.504418), 'word': 'Sa', 'start': 14, 'end': 16, 'submission_id': 't3_1eosucq'}, {'entity_group': 'MISC', 'score': np.float32(0.9744466), 'word': 'Happy Victory Day', 'start': 0, 'end': 17, 'submission_id': 't3_1cuw6ag'}, {'entity_group': 'ORG', 'score': np.float32(0.9541605), 'word': 'AKD', 'start': 11, 'end': 14, 'submission_id': 't3_1fq00z7'}, {'entity_group': 'ORG', 'score': np.float32(0.6222358), 'word': 'NPP', 'start': 69, 'end': 72, 'submission_id': 't3_1fik0e5'}, {'entity_group': 'MISC', 'score': np.float32(0.5660336), 'word': 'Mod', 'start': 131, 'end': 134, 'submission_id': 't3_1fik0e5'}, {'entity_group': 'PER', 'score': np.float32(0.9666847), 'word': 'Ranil', 'start': 20, 'end': 25, 'submission_id': 't3_1fdd7ig'}, {'entity_group': 'PER', 'score': np.float32(0.9470424), 'word': 'Anura', 'start': 26, 'end': 31, 'submission_id': 't3_1fdd7ig'}, {'entity_group': 'PER', 'score': np.float32(0.9485958), 'word': 'Sajith', 'start': 32, 'end': 38, 'submission_id': 't3_1fdd7ig'}, {'entity_group': 'PER', 'score': np.float32(0.4859501), 'word': 'Ra', 'start': 93, 'end': 95, 'submission_id': 't3_1eopnlr'}, {'entity_group': 'MISC', 'score': np.float32(0.4728103), 'word': '##nil', 'start': 95, 'end': 98, 'submission_id': 't3_1eopnlr'}, {'entity_group': 'LOC', 'score': np.float32(0.84324145), 'word': 'Sri Lanka', 'start': 7, 'end': 16, 'submission_id': 't3_1ckml77'}, {'entity_group': 'ORG', 'score': np.float32(0.4821441), 'word': 'NP', 'start': 31, 'end': 33, 'submission_id': 't3_1ckml77'}, {'entity_group': 'MISC', 'score': np.float32(0.62425077), 'word': 'Communist', 'start': 37, 'end': 46, 'submission_id': 't3_1ckml77'}, {'entity_group': 'MISC', 'score': np.float32(0.6427394), 'word': 'Socialist Policies Will Lead the Country in the Right Direction', 'start': 47, 'end': 110, 'submission_id': 't3_1ckml77'}, {'entity_group': 'LOC', 'score': np.float32(0.99976605), 'word': 'Sri Lanka', 'start': 45, 'end': 54, 'submission_id': 't3_1de6v8s'}, {'entity_group': 'ORG', 'score': np.float32(0.85506934), 'word': 'AKD', 'start': 19, 'end': 22, 'submission_id': 't3_1dunxk5'}, {'entity_group': 'PER', 'score': np.float32(0.8668267), 'word': 'Ranil', 'start': 30, 'end': 35, 'submission_id': 't3_1ej6g41'}, {'entity_group': 'LOC', 'score': np.float32(0.99977916), 'word': 'Sri Lanka', 'start': 32, 'end': 41, 'submission_id': 't3_1ay7z9e'}, {'entity_group': 'PER', 'score': np.float32(0.864684), 'word': 'Dilith', 'start': 18, 'end': 24, 'submission_id': 't3_1ez9eal'}, {'entity_group': 'MISC', 'score': np.float32(0.38598716), 'word': 'Be', 'start': 20, 'end': 22, 'submission_id': 't3_1ev9hi5'}, {'entity_group': 'MISC', 'score': np.float32(0.48733413), 'word': 'election', 'start': 0, 'end': 8, 'submission_id': 't3_1eivuj8'}, {'entity_group': 'PER', 'score': np.float32(0.66827464), 'word': 'Namal', 'start': 0, 'end': 5, 'submission_id': 't3_1fmr9nk'}, {'entity_group': 'PER', 'score': np.float32(0.9673584), 'word': 'Anura', 'start': 25, 'end': 30, 'submission_id': 't3_1fmr9nk'}, {'entity_group': 'LOC', 'score': np.float32(0.6671095), 'word': 'This', 'start': 0, 'end': 4, 'submission_id': 't3_1fpynwq'}, {'entity_group': 'ORG', 'score': np.float32(0.64180535), 'word': 'J', 'start': 5, 'end': 6, 'submission_id': 't3_1bzx28f'}, {'entity_group': 'ORG', 'score': np.float32(0.48034623), 'word': '##P', 'start': 7, 'end': 8, 'submission_id': 't3_1bzx28f'}, {'entity_group': 'PER', 'score': np.float32(0.7426768), 'word': 'Namal', 'start': 11, 'end': 16, 'submission_id': 't3_1fhxla3'}, {'entity_group': 'ORG', 'score': np.float32(0.8656879), 'word': 'AKD', 'start': 24, 'end': 27, 'submission_id': 't3_1fgn983'}, {'entity_group': 'MISC', 'score': np.float32(0.54405314), 'word': 'l', 'start': 21, 'end': 22, 'submission_id': 't3_1cq1su4'}, {'entity_group': 'ORG', 'score': np.float32(0.99493456), 'word': 'NPP', 'start': 21, 'end': 24, 'submission_id': 't3_1espsm7'}, {'entity_group': 'PER', 'score': np.float32(0.9642827), 'word': 'Sajith', 'start': 23, 'end': 29, 'submission_id': 't3_1fmbjgu'}, {'entity_group': 'PER', 'score': np.float32(0.98315287), 'word': 'Ranil', 'start': 34, 'end': 39, 'submission_id': 't3_1fmbjgu'}, {'entity_group': 'MISC', 'score': np.float32(0.9993196), 'word': 'World War 3', 'start': 27, 'end': 38, 'submission_id': 't3_1dqc64b'}, {'entity_group': 'MISC', 'score': np.float32(0.7219832), 'word': 'NP', 'start': 0, 'end': 2, 'submission_id': 't3_1fnih4i'}, {'entity_group': 'ORG', 'score': np.float32(0.34668866), 'word': '##P', 'start': 2, 'end': 3, 'submission_id': 't3_1fnih4i'}, {'entity_group': 'MISC', 'score': np.float32(0.7040374), 'word': 'NPP', 'start': 17, 'end': 20, 'submission_id': 't3_1fiuaew'}, {'entity_group': 'LOC', 'score': np.float32(0.9275892), 'word': 'Sri Lanka', 'start': 2, 'end': 11, 'submission_id': 't3_1ewxgzw'}, {'entity_group': 'PER', 'score': np.float32(0.7349982), 'word': 'Mcdonald', 'start': 22, 'end': 30, 'submission_id': 't3_1bmiz68'}, {'entity_group': 'LOC', 'score': np.float32(0.95577604), 'word': 'Sri Lanka', 'start': 15, 'end': 24, 'submission_id': 't3_1feilzi'}, {'entity_group': 'MISC', 'score': np.float32(0.6447025), 'word': 'Th', 'start': 0, 'end': 2, 'submission_id': 't3_1cex6f9'}, {'entity_group': 'MISC', 'score': np.float32(0.98990035), 'word': 'I Think the Change is Necessary', 'start': 0, 'end': 31, 'submission_id': 't3_1fjpx2f'}, {'entity_group': 'ORG', 'score': np.float32(0.6151271), 'word': 'NP', 'start': 7, 'end': 9, 'submission_id': 't3_1fj1l67'}, {'entity_group': 'LOC', 'score': np.float32(0.99906933), 'word': 'Sri Lanka', 'start': 36, 'end': 45, 'submission_id': 't3_190zqh5'}, {'entity_group': 'MISC', 'score': np.float32(0.49677104), 'word': 'presidential', 'start': 29, 'end': 41, 'submission_id': 't3_1evvolm'}, {'entity_group': 'MISC', 'score': np.float32(0.89956486), 'word': 'Sri Lanka Presidential election', 'start': 5, 'end': 36, 'submission_id': 't3_1dot3ej'}, {'entity_group': 'MISC', 'score': np.float32(0.8530542), 'word': 'Fairy Tale Policies', 'start': 12, 'end': 31, 'submission_id': 't3_1f4stiu'}, {'entity_group': 'ORG', 'score': np.float32(0.9757884), 'word': 'NPP', 'start': 0, 'end': 3, 'submission_id': 't3_1femfb3'}, {'entity_group': 'PER', 'score': np.float32(0.9673011), 'word': 'Ranil', 'start': 23, 'end': 28, 'submission_id': 't3_1akzisg'}, {'entity_group': 'ORG', 'score': np.float32(0.53217435), 'word': 'AKD', 'start': 4, 'end': 7, 'submission_id': 't3_1falx7w'}, {'entity_group': 'ORG', 'score': np.float32(0.9708866), 'word': 'AKD', 'start': 7, 'end': 10, 'submission_id': 't3_1e5iwp9'}, {'entity_group': 'MISC', 'score': np.float32(0.93605816), 'word': 'NPP', 'start': 13, 'end': 16, 'submission_id': 't3_1e0fbxn'}, {'entity_group': 'PER', 'score': np.float32(0.98979634), 'word': 'Jeevan Thondaman', 'start': 0, 'end': 16, 'submission_id': 't3_1fhgd3r'}, {'entity_group': 'ORG', 'score': np.float32(0.44358206), 'word': 'SL', 'start': 51, 'end': 53, 'submission_id': 't3_1fhgd3r'}, {'entity_group': 'MISC', 'score': np.float32(0.7225261), 'word': 'Tamil', 'start': 80, 'end': 85, 'submission_id': 't3_1fhgd3r'}, {'entity_group': 'MISC', 'score': np.float32(0.8364706), 'word': 'LGBT', 'start': 0, 'end': 4, 'submission_id': 't3_1feg6ks'}, {'entity_group': 'ORG', 'score': np.float32(0.3429792), 'word': 'National', 'start': 44, 'end': 52, 'submission_id': 't3_1g1rt11'}, {'entity_group': 'MISC', 'score': np.float32(0.3779646), 'word': 'List', 'start': 53, 'end': 57, 'submission_id': 't3_1g1rt11'}, {'entity_group': 'ORG', 'score': np.float32(0.92639124), 'word': 'NPP', 'start': 61, 'end': 64, 'submission_id': 't3_1g1rt11'}, {'entity_group': 'PER', 'score': np.float32(0.9932973), 'word': 'Ravi Seneviratne', 'start': 1, 'end': 17, 'submission_id': 't3_1g8j3hj'}, {'entity_group': 'PER', 'score': np.float32(0.99367344), 'word': 'Ravi Seneviratne', 'start': 20, 'end': 36, 'submission_id': 't3_1g8j3hj'}, {'entity_group': 'PER', 'score': np.float32(0.9936889), 'word': 'Ravi Seneviratne', 'start': 40, 'end': 56, 'submission_id': 't3_1g8j3hj'}, {'entity_group': 'MISC', 'score': np.float32(0.61691123), 'word': 'Easter', 'start': 118, 'end': 124, 'submission_id': 't3_1g8j3hj'}, {'entity_group': 'LOC', 'score': np.float32(0.893053), 'word': 'Namal', 'start': 22, 'end': 27, 'submission_id': 't3_1epjbte'}, {'entity_group': 'ORG', 'score': np.float32(0.74271333), 'word': 'AK', 'start': 40, 'end': 42, 'submission_id': 't3_1fjklbh'}, {'entity_group': 'ORG', 'score': np.float32(0.56789047), 'word': 'RW', 'start': 48, 'end': 50, 'submission_id': 't3_1fjklbh'}, {'entity_group': 'PER', 'score': np.float32(0.6979088), 'word': 'Sajith', 'start': 60, 'end': 66, 'submission_id': 't3_1fjklbh'}, {'entity_group': 'ORG', 'score': np.float32(0.49637944), 'word': 'AK', 'start': 14, 'end': 16, 'submission_id': 't3_1fazmhj'}, {'entity_group': 'MISC', 'score': np.float32(0.4738372), 'word': 'Gota', 'start': 56, 'end': 60, 'submission_id': 't3_1fazmhj'}, {'entity_group': 'ORG', 'score': np.float32(0.9863523), 'word': 'NPP', 'start': 7, 'end': 10, 'submission_id': 't3_1f29mv9'}, {'entity_group': 'MISC', 'score': np.float32(0.8221695), 'word': 'Sinhalese', 'start': 23, 'end': 32, 'submission_id': 't3_1ffow30'}, {'entity_group': 'MISC', 'score': np.float32(0.6285257), 'word': 'Buddhist', 'start': 33, 'end': 41, 'submission_id': 't3_1ffow30'}, {'entity_group': 'LOC', 'score': np.float32(0.694639), 'word': 'Sajith', 'start': 75, 'end': 81, 'submission_id': 't3_1ffow30'}, {'entity_group': 'ORG', 'score': np.float32(0.82001305), 'word': 'NPP', 'start': 94, 'end': 97, 'submission_id': 't3_1ffow30'}, {'entity_group': 'PER', 'score': np.float32(0.99916285), 'word': 'Anura Kumara', 'start': 0, 'end': 12, 'submission_id': 't3_1akf6ne'}, {'entity_group': 'PER', 'score': np.float32(0.74278873), 'word': 'Ranil', 'start': 0, 'end': 5, 'submission_id': 't3_1fbstx4'}, {'entity_group': 'MISC', 'score': np.float32(0.5681945), 'word': 'You', 'start': 0, 'end': 3, 'submission_id': 't3_1fmxlfv'}, {'entity_group': 'ORG', 'score': np.float32(0.9294574), 'word': 'NPP', 'start': 17, 'end': 20, 'submission_id': 't3_1feawqg'}, {'entity_group': 'ORG', 'score': np.float32(0.6667676), 'word': 'NPP', 'start': 48, 'end': 51, 'submission_id': 't3_1feawqg'}, {'entity_group': 'MISC', 'score': np.float32(0.76192826), 'word': 'presidential election', 'start': 5, 'end': 26, 'submission_id': 't3_1em5ndg'}, {'entity_group': 'PER', 'score': np.float32(0.9817988), 'word': 'Sajith', 'start': 22, 'end': 28, 'submission_id': 't3_1ffl0ql'}, {'entity_group': 'ORG', 'score': np.float32(0.7797016), 'word': 'AKD', 'start': 26, 'end': 29, 'submission_id': 't3_1g4fgj4'}, {'entity_group': 'PER', 'score': np.float32(0.76265603), 'word': 'Anura Kumara', 'start': 0, 'end': 12, 'submission_id': 't3_1fn9hgg'}, {'entity_group': 'ORG', 'score': np.float32(0.5815584), 'word': 'AK', 'start': 8, 'end': 10, 'submission_id': 't3_1dpi4nn'}, {'entity_group': 'PER', 'score': np.float32(0.5729279), 'word': 'Ranil', 'start': 15, 'end': 20, 'submission_id': 't3_1dpi4nn'}, {'entity_group': 'PER', 'score': np.float32(0.9947695), 'word': 'Sajith Premadasa', 'start': 14, 'end': 30, 'submission_id': 't3_1fe24ci'}, {'entity_group': 'ORG', 'score': np.float32(0.49637103), 'word': 'AK', 'start': 8, 'end': 10, 'submission_id': 't3_1fbxqea'}, {'entity_group': 'PER', 'score': np.float32(0.99897623), 'word': 'Ali Sabry', 'start': 37, 'end': 46, 'submission_id': 't3_1fbxqea'}, {'entity_group': 'MISC', 'score': np.float32(0.772874), 'word': 'Muslims', 'start': 59, 'end': 66, 'submission_id': 't3_1fbxqea'}, {'entity_group': 'PER', 'score': np.float32(0.5787409), 'word': 'Gota', 'start': 79, 'end': 83, 'submission_id': 't3_1fbxqea'}, {'entity_group': 'PER', 'score': np.float32(0.862259), 'word': 'Anura', 'start': 1, 'end': 6, 'submission_id': 't3_1f7vul7'}, {'entity_group': 'PER', 'score': np.float32(0.950357), 'word': 'Sajith', 'start': 11, 'end': 17, 'submission_id': 't3_1f7vul7'}, {'entity_group': 'LOC', 'score': np.float32(0.9997363), 'word': 'Sri Lanka', 'start': 60, 'end': 69, 'submission_id': 't3_1al2r4k'}, {'entity_group': 'MISC', 'score': np.float32(0.8747494), 'word': 'Amount of Fake Posts', 'start': 4, 'end': 24, 'submission_id': 't3_1fazhnh'}, {'entity_group': 'MISC', 'score': np.float32(0.8653725), 'word': 'X Against NPP is Mind Blowing', 'start': 28, 'end': 57, 'submission_id': 't3_1fazhnh'}, {'entity_group': 'LOC', 'score': np.float32(0.9997651), 'word': 'Sri Lanka', 'start': 37, 'end': 46, 'submission_id': 't3_1dk6cyl'}, {'entity_group': 'ORG', 'score': np.float32(0.64231795), 'word': 'AKD', 'start': 0, 'end': 3, 'submission_id': 't3_1fnqyf8'}, {'entity_group': 'PER', 'score': np.float32(0.9731401), 'word': 'Namal', 'start': 18, 'end': 23, 'submission_id': 't3_1fcqdef'}, {'entity_group': 'PER', 'score': np.float32(0.95578676), 'word': 'Sajith', 'start': 39, 'end': 45, 'submission_id': 't3_1fcqdef'}, {'entity_group': 'MISC', 'score': np.float32(0.9043126), 'word': 'Manifesto', 'start': 0, 'end': 9, 'submission_id': 't3_1fhwfp6'}, {'entity_group': 'PER', 'score': np.float32(0.959324), 'word': 'Ranil', 'start': 8, 'end': 13, 'submission_id': 't3_1fixhsv'}, {'entity_group': 'PER', 'score': np.float32(0.95205754), 'word': 'Ranil', 'start': 32, 'end': 37, 'submission_id': 't3_1fixhsv'}, {'entity_group': 'ORG', 'score': np.float32(0.9790851), 'word': 'AKD', 'start': 8, 'end': 11, 'submission_id': 't3_1eujnyg'}, {'entity_group': 'PER', 'score': np.float32(0.9981223), 'word': 'Hasanah Segu Isadeen', 'start': 33, 'end': 53, 'submission_id': 't3_1frc5i1'}, {'entity_group': 'MISC', 'score': np.float32(0.85156786), 'word': 'What will he Say', 'start': 0, 'end': 16, 'submission_id': 't3_1fp144s'}, {'entity_group': 'PER', 'score': np.float32(0.9994502), 'word': 'Anura Kumara Dissanayake', 'start': 3, 'end': 27, 'submission_id': 't3_1fmjlv1'}, {'entity_group': 'ORG', 'score': np.float32(0.5582267), 'word': 'AK', 'start': 29, 'end': 31, 'submission_id': 't3_1fmjlv1'}, {'entity_group': 'MISC', 'score': np.float32(0.81249756), 'word': 'TamilGuardian', 'start': 0, 'end': 13, 'submission_id': 't3_1fnpvqs'}, {'entity_group': 'PER', 'score': np.float32(0.45030227), 'word': 'AK', 'start': 35, 'end': 37, 'submission_id': 't3_1fnpvqs'}, {'entity_group': 'MISC', 'score': np.float32(0.9462284), 'word': 'I Think, Therefore I Vote!', 'start': 0, 'end': 26, 'submission_id': 't3_1fbxsyc'}, {'entity_group': 'ORG', 'score': np.float32(0.99676025), 'word': 'Leftist Political Organization', 'start': 0, 'end': 30, 'submission_id': 't3_1e6pg04'}, {'entity_group': 'ORG', 'score': np.float32(0.9831723), 'word': 'AKD', 'start': 3, 'end': 6, 'submission_id': 't3_1f1qg8w'}, {'entity_group': 'ORG', 'score': np.float32(0.72761786), 'word': 'AKD', 'start': 27, 'end': 30, 'submission_id': 't3_1fh4y58'}, {'entity_group': 'ORG', 'score': np.float32(0.6622779), 'word': 'NP', 'start': 0, 'end': 2, 'submission_id': 't3_1f6hmad'}, {'entity_group': 'LOC', 'score': np.float32(0.3226113), 'word': 'Seattle', 'start': 26, 'end': 33, 'submission_id': 't3_1f6hmad'}, {'entity_group': 'MISC', 'score': np.float32(0.8476158), 'word': 'Sri Lankan Central Bank bombing 1996', 'start': 0, 'end': 36, 'submission_id': 't3_1affv7k'}, {'entity_group': 'LOC', 'score': np.float32(0.7038031), 'word': 'Ranil', 'start': 12, 'end': 17, 'submission_id': 't3_1ev6f8b'}, {'entity_group': 'MISC', 'score': np.float32(0.9967641), 'word': 'Lords of Chaos : The Self - Proclaimed Saviors Who Predict Doom Without Them', 'start': 0, 'end': 73, 'submission_id': 't3_1f6yzph'}, {'entity_group': 'PER', 'score': np.float32(0.99036056), 'word': 'Ranil', 'start': 13, 'end': 18, 'submission_id': 't3_1enziq5'}, {'entity_group': 'MISC', 'score': np.float32(0.7193391), 'word': 'Sri Lankan Economy for Real', 'start': 27, 'end': 54, 'submission_id': 't3_1enziq5'}, {'entity_group': 'LOC', 'score': np.float32(0.9993675), 'word': 'Sri Lanka', 'start': 5, 'end': 14, 'submission_id': 't3_1g9ghqa'}, {'entity_group': 'ORG', 'score': np.float32(0.9957552), 'word': 'ASEAN', 'start': 20, 'end': 25, 'submission_id': 't3_1g9ghqa'}, {'entity_group': 'LOC', 'score': np.float32(0.78652763), 'word': 'Sri Lanka', 'start': 7, 'end': 16, 'submission_id': 't3_1fn46jm'}, {'entity_group': 'PER', 'score': np.float32(0.97975796), 'word': 'Rohana Wijeweera', 'start': 27, 'end': 43, 'submission_id': 't3_1fn46jm'}, {'entity_group': 'PER', 'score': np.float32(0.9717016), 'word': 'Ranil MF', 'start': 0, 'end': 8, 'submission_id': 't3_1env02p'}, {'entity_group': 'PER', 'score': np.float32(0.79874605), 'word': 'Sirasa', 'start': 28, 'end': 34, 'submission_id': 't3_1fmbpq5'}, {'entity_group': 'PER', 'score': np.float32(0.33365098), 'word': 'YOU', 'start': 78, 'end': 81, 'submission_id': 't3_1fghfnc'}, {'entity_group': 'MISC', 'score': np.float32(0.53173596), 'word': 'Raja', 'start': 58, 'end': 62, 'submission_id': 't3_1fmbd47'}, {'entity_group': 'PER', 'score': np.float32(0.34837887), 'word': '##paksha', 'start': 62, 'end': 68, 'submission_id': 't3_1fmbd47'}, {'entity_group': 'LOC', 'score': np.float32(0.9203112), 'word': 'Suriya Kanda', 'start': 0, 'end': 12, 'submission_id': 't3_1f3oqab'}, {'entity_group': 'MISC', 'score': np.float32(0.766444), 'word': 'Sinhalese', 'start': 43, 'end': 52, 'submission_id': 't3_1f3oqab'}, {'entity_group': 'MISC', 'score': np.float32(0.67902637), 'word': 'Ranil', 'start': 29, 'end': 34, 'submission_id': 't3_1cq1ypn'}, {'entity_group': 'ORG', 'score': np.float32(0.4723963), 'word': 'ak', 'start': 24, 'end': 26, 'submission_id': 't3_1foazd8'}, {'entity_group': 'ORG', 'score': np.float32(0.85053307), 'word': 'Commission to In', 'start': 81, 'end': 97, 'submission_id': 't3_1g41jzl'}, {'entity_group': 'MISC', 'score': np.float32(0.7710653), 'word': '##vestigate Allegations of Bribery or Corruption', 'start': 97, 'end': 143, 'submission_id': 't3_1g41jzl'}, {'entity_group': 'MISC', 'score': np.float32(0.81146586), 'word': 'Opinion on election', 'start': 0, 'end': 19, 'submission_id': 't3_1fn9p3m'}, {'entity_group': 'MISC', 'score': np.float32(0.93616104), 'word': 'Dead Serious', 'start': 73, 'end': 85, 'submission_id': 't3_19dkhna'}, {'entity_group': 'PER', 'score': np.float32(0.991268), 'word': 'Tom Pacha', 'start': 25, 'end': 34, 'submission_id': 't3_1fp89pk'}, {'entity_group': 'ORG', 'score': np.float32(0.97175956), 'word': 'AKD', 'start': 5, 'end': 8, 'submission_id': 't3_1f15z02'}, {'entity_group': 'MISC', 'score': np.float32(0.5771092), 'word': 'Mun okkoma', 'start': 0, 'end': 10, 'submission_id': 't3_1fo3wpg'}, {'entity_group': 'MISC', 'score': np.float32(0.9164519), 'word': 'Gen Z', 'start': 0, 'end': 5, 'submission_id': 't3_1fhvhwj'}, {'entity_group': 'ORG', 'score': np.float32(0.98963916), 'word': 'NPP', 'start': 28, 'end': 31, 'submission_id': 't3_1fcmvmn'}, {'entity_group': 'ORG', 'score': np.float32(0.95462143), 'word': 'AKD', 'start': 26, 'end': 29, 'submission_id': 't3_1fmexv1'}, {'entity_group': 'PER', 'score': np.float32(0.66541564), 'word': 'Poyt', 'start': 85, 'end': 89, 'submission_id': 't3_1fidkt7'}, {'entity_group': 'LOC', 'score': np.float32(0.42066595), 'word': 'Front', 'start': 0, 'end': 5, 'submission_id': 't3_1c9zpn9'}, {'entity_group': 'PER', 'score': np.float32(0.97605413), 'word': 'Ranil Wickramasing', 'start': 0, 'end': 18, 'submission_id': 't3_1f5fby7'}, {'entity_group': 'ORG', 'score': np.float32(0.7160109), 'word': 'AK', 'start': 30, 'end': 32, 'submission_id': 't3_1f7xanw'}, {'entity_group': 'PER', 'score': np.float32(0.5125979), 'word': '##D', 'start': 32, 'end': 33, 'submission_id': 't3_1f7xanw'}, {'entity_group': 'ORG', 'score': np.float32(0.59672225), 'word': 'AK', 'start': 0, 'end': 2, 'submission_id': 't3_1fmxtyy'}, {'entity_group': 'PER', 'score': np.float32(0.6971589), 'word': '##D', 'start': 2, 'end': 3, 'submission_id': 't3_1fmxtyy'}, {'entity_group': 'LOC', 'score': np.float32(0.99980116), 'word': 'Sri Lanka', 'start': 31, 'end': 40, 'submission_id': 't3_1fm4fna'}, {'entity_group': 'LOC', 'score': np.float32(0.9996972), 'word': 'Sri Lanka', 'start': 35, 'end': 44, 'submission_id': 't3_1edb6y8'}, {'entity_group': 'LOC', 'score': np.float32(0.92946005), 'word': 'Sri Lanka', 'start': 62, 'end': 71, 'submission_id': 't3_1fgl3vk'}, {'entity_group': 'ORG', 'score': np.float32(0.9251332), 'word': 'CORRUPT', 'start': 5, 'end': 12, 'submission_id': 't3_1bui9us'}, {'entity_group': 'PER', 'score': np.float32(0.7614906), 'word': 'Ranil', 'start': 51, 'end': 56, 'submission_id': 't3_1fgord5'}, {'entity_group': 'PER', 'score': np.float32(0.7238175), 'word': 'Ranil', 'start': 5, 'end': 10, 'submission_id': 't3_1fmvfcl'}, {'entity_group': 'PER', 'score': np.float32(0.96923804), 'word': 'Gota', 'start': 76, 'end': 80, 'submission_id': 't3_1fmvfcl'}, {'entity_group': 'LOC', 'score': np.float32(0.9993957), 'word': 'Sri Lanka', 'start': 7, 'end': 16, 'submission_id': 't3_1ep583g'}, {'entity_group': 'PER', 'score': np.float32(0.96714675), 'word': 'Rajapaksa', 'start': 41, 'end': 50, 'submission_id': 't3_1ep583g'}, {'entity_group': 'ORG', 'score': np.float32(0.74241185), 'word': 'I', 'start': 46, 'end': 47, 'submission_id': 't3_1ag2i1t'}, {'entity_group': 'MISC', 'score': np.float32(0.5050899), 'word': 'WHO', 'start': 0, 'end': 3, 'submission_id': 't3_1fmn77n'}, {'entity_group': 'PER', 'score': np.float32(0.9992644), 'word': 'D', 'start': 7, 'end': 8, 'submission_id': 't3_18l6aiy'}, {'entity_group': 'PER', 'score': np.float32(0.92258406), 'word': '##hammika Perera', 'start': 8, 'end': 22, 'submission_id': 't3_18l6aiy'}, {'entity_group': 'MISC', 'score': np.float32(0.60110456), 'word': 'WTF', 'start': 0, 'end': 3, 'submission_id': 't3_1fztuvu'}, {'entity_group': 'MISC', 'score': np.float32(0.581632), 'word': '😂', 'start': 0, 'end': 1, 'submission_id': 't3_1fbb5lq'}, {'entity_group': 'MISC', 'score': np.float32(0.63376886), 'word': 'What', 'start': 0, 'end': 4, 'submission_id': 't3_1fapyni'}, {'entity_group': 'MISC', 'score': np.float32(0.9463195), 'word': 'Tamil', 'start': 70, 'end': 75, 'submission_id': 't3_1fng305'}, {'entity_group': 'LOC', 'score': np.float32(0.99795914), 'word': 'Cuba', 'start': 0, 'end': 4, 'submission_id': 't3_1g4scno'}, {'entity_group': 'PER', 'score': np.float32(0.9024751), 'word': 'Che', 'start': 28, 'end': 31, 'submission_id': 't3_1fmgsob'}, {'entity_group': 'PER', 'score': np.float32(0.99284816), 'word': 'Lenin', 'start': 36, 'end': 41, 'submission_id': 't3_1fmgsob'}, {'entity_group': 'ORG', 'score': np.float32(0.72648686), 'word': 'RW', 'start': 27, 'end': 29, 'submission_id': 't3_1clofb7'}, {'entity_group': 'ORG', 'score': np.float32(0.96639967), 'word': 'UNP', 'start': 0, 'end': 3, 'submission_id': 't3_1fnoit7'}, {'entity_group': 'PER', 'score': np.float32(0.9975301), 'word': 'Lasantha Wickramatunge', 'start': 25, 'end': 47, 'submission_id': 't3_1fnialy'}, {'entity_group': 'ORG', 'score': np.float32(0.9921001), 'word': 'NPP', 'start': 75, 'end': 78, 'submission_id': 't3_1fmpejz'}, {'entity_group': 'MISC', 'score': np.float32(0.84564745), 'word': 'Tamil', 'start': 64, 'end': 69, 'submission_id': 't3_1fdm6vp'}, {'entity_group': 'LOC', 'score': np.float32(0.999017), 'word': 'UK', 'start': 84, 'end': 86, 'submission_id': 't3_1fdm6vp'}, {'entity_group': 'MISC', 'score': np.float32(0.8325062), 'word': 'Tamil', 'start': 108, 'end': 113, 'submission_id': 't3_1fdm6vp'}, {'entity_group': 'MISC', 'score': np.float32(0.7171266), 'word': 'Circles', 'start': 16, 'end': 23, 'submission_id': 't3_1fg4ffh'}, {'entity_group': 'MISC', 'score': np.float32(0.86856544), 'word': 'Sri Lankan conflict', 'start': 14, 'end': 33, 'submission_id': 't3_1f7eo1h'}, {'entity_group': 'ORG', 'score': np.float32(0.98342156), 'word': 'AKD', 'start': 3, 'end': 6, 'submission_id': 't3_1fmfsfs'}, {'entity_group': 'MISC', 'score': np.float32(0.48808944), 'word': 'fr', 'start': 21, 'end': 23, 'submission_id': 't3_1f2jvk2'}, {'entity_group': 'PER', 'score': np.float32(0.3340697), 'word': '##eu', 'start': 23, 'end': 25, 'submission_id': 't3_1f2jvk2'}, {'entity_group': 'ORG', 'score': np.float32(0.8239621), 'word': 'AKD', 'start': 0, 'end': 3, 'submission_id': 't3_1fmd3u5'}, {'entity_group': 'ORG', 'score': np.float32(0.7471918), 'word': 'UNP', 'start': 20, 'end': 23, 'submission_id': 't3_1f5jjko'}, {'entity_group': 'ORG', 'score': np.float32(0.8054346), 'word': 'SJB', 'start': 26, 'end': 29, 'submission_id': 't3_1f5jjko'}, {'entity_group': 'PER', 'score': np.float32(0.9877373), 'word': 'Ranil', 'start': 18, 'end': 23, 'submission_id': 't3_1ejt6xd'}, {'entity_group': 'MISC', 'score': np.float32(0.99289215), 'word': 'Sinh', 'start': 13, 'end': 17, 'submission_id': 't3_tv91m5'}, {'entity_group': 'MISC', 'score': np.float32(0.8220383), 'word': '##ales', 'start': 17, 'end': 21, 'submission_id': 't3_tv91m5'}, {'entity_group': 'MISC', 'score': np.float32(0.88917804), 'word': '##e', 'start': 21, 'end': 22, 'submission_id': 't3_tv91m5'}, {'entity_group': 'PER', 'score': np.float32(0.412882), 'word': 'ran', 'start': 3, 'end': 6, 'submission_id': 't3_1fmlroo'}, {'entity_group': 'ORG', 'score': np.float32(0.7864002), 'word': 'AK', 'start': 36, 'end': 38, 'submission_id': 't3_1fociu2'}, {'entity_group': 'MISC', 'score': np.float32(0.69281006), 'word': 'English', 'start': 59, 'end': 66, 'submission_id': 't3_1fociu2'}, {'entity_group': 'ORG', 'score': np.float32(0.6506402), 'word': 'UN', 'start': 0, 'end': 2, 'submission_id': 't3_1fnmowe'}, {'entity_group': 'ORG', 'score': np.float32(0.55873245), 'word': 'SJ', 'start': 14, 'end': 16, 'submission_id': 't3_1fnmowe'}, {'entity_group': 'PER', 'score': np.float32(0.46520936), 'word': 'Sajith', 'start': 0, 'end': 6, 'submission_id': 't3_1es75a7'}, {'entity_group': 'MISC', 'score': np.float32(0.6746229), 'word': 'Thought', 'start': 0, 'end': 7, 'submission_id': 't3_1ff0yne'}, {'entity_group': 'LOC', 'score': np.float32(0.9978668), 'word': 'India', 'start': 18, 'end': 23, 'submission_id': 't3_1esr12r'}, {'entity_group': 'PER', 'score': np.float32(0.97777474), 'word': 'Ranil', 'start': 89, 'end': 94, 'submission_id': 't3_1esr12r'}, {'entity_group': 'PER', 'score': np.float32(0.9176831), 'word': 'Ranil', 'start': 29, 'end': 34, 'submission_id': 't3_1ehl0x0'}, {'entity_group': 'MISC', 'score': np.float32(0.96039045), 'word': 'General Election', 'start': 46, 'end': 62, 'submission_id': 't3_1g13o3w'}, {'entity_group': 'MISC', 'score': np.float32(0.65884453), 'word': 'Election', 'start': 48, 'end': 56, 'submission_id': 't3_1fmo9l7'}, {'entity_group': 'ORG', 'score': np.float32(0.69311243), 'word': 'AK', 'start': 30, 'end': 32, 'submission_id': 't3_1fmo07k'}, {'entity_group': 'PER', 'score': np.float32(0.6257172), 'word': 'Sajith', 'start': 38, 'end': 44, 'submission_id': 't3_1fmo07k'}, {'entity_group': 'ORG', 'score': np.float32(0.9448897), 'word': 'NPP', 'start': 57, 'end': 60, 'submission_id': 't3_1fahl1s'}, {'entity_group': 'ORG', 'score': np.float32(0.9391696), 'word': 'NPP', 'start': 29, 'end': 32, 'submission_id': 't3_1f0vye1'}, {'entity_group': 'ORG', 'score': np.float32(0.9381149), 'word': 'AKD', 'start': 37, 'end': 40, 'submission_id': 't3_1f0vye1'}, {'entity_group': 'PER', 'score': np.float32(0.99696136), 'word': 'Laka', 'start': 44, 'end': 48, 'submission_id': 't3_1f51m1t'}, {'entity_group': 'MISC', 'score': np.float32(0.93941164), 'word': 'Koombiyo', 'start': 76, 'end': 84, 'submission_id': 't3_1f51m1t'}, {'entity_group': 'PER', 'score': np.float32(0.98653495), 'word': 'Ranil', 'start': 29, 'end': 34, 'submission_id': 't3_1fdkcj0'}, {'entity_group': 'ORG', 'score': np.float32(0.7445262), 'word': 'YouTube', 'start': 35, 'end': 42, 'submission_id': 't3_1ds1sqj'}, {'entity_group': 'ORG', 'score': np.float32(0.96979403), 'word': 'NPP', 'start': 23, 'end': 26, 'submission_id': 't3_1fsvw3x'}, {'entity_group': 'ORG', 'score': np.float32(0.99867404), 'word': 'IMF', 'start': 87, 'end': 90, 'submission_id': 't3_1f3dd55'}, {'entity_group': 'MISC', 'score': np.float32(0.7390482), 'word': 'SL', 'start': 12, 'end': 14, 'submission_id': 't3_1ffo12w'}, {'entity_group': 'PER', 'score': np.float32(0.97691274), 'word': 'Gammanpila', 'start': 7, 'end': 17, 'submission_id': 't3_1g4wo6t'}, {'entity_group': 'PER', 'score': np.float32(0.5503487), 'word': 'ran', 'start': 28, 'end': 31, 'submission_id': 't3_1fe94rj'}, {'entity_group': 'PER', 'score': np.float32(0.4597897), 'word': 'nah', 'start': 69, 'end': 72, 'submission_id': 't3_1fe94rj'}, {'entity_group': 'MISC', 'score': np.float32(0.815069), 'word': 'S', 'start': 0, 'end': 1, 'submission_id': 't3_1fl957d'}, {'entity_group': 'MISC', 'score': np.float32(0.5932254), 'word': '##k', 'start': 4, 'end': 5, 'submission_id': 't3_1fl957d'}, {'entity_group': 'PER', 'score': np.float32(0.99788475), 'word': 'Sajith Premadasa', 'start': 24, 'end': 40, 'submission_id': 't3_196ww97'}, {'entity_group': 'MISC', 'score': np.float32(0.5532182), 'word': 'Photo', 'start': 4, 'end': 9, 'submission_id': 't3_1etxww5'}, {'entity_group': 'MISC', 'score': np.float32(0.5556092), 'word': 'Ra', 'start': 12, 'end': 14, 'submission_id': 't3_1etxww5'}, {'entity_group': 'LOC', 'score': np.float32(0.981247), 'word': 'US', 'start': 134, 'end': 136, 'submission_id': 't3_1fo5s75'}, {'entity_group': 'MISC', 'score': np.float32(0.87729025), 'word': 'Sinhala', 'start': 27, 'end': 34, 'submission_id': 't3_1f76tbe'}, {'entity_group': 'MISC', 'score': np.float32(0.6887238), 'word': 'Tamil', 'start': 39, 'end': 44, 'submission_id': 't3_1f76tbe'}, {'entity_group': 'LOC', 'score': np.float32(0.9946409), 'word': 'Sri Lanka', 'start': 57, 'end': 66, 'submission_id': 't3_1f76tbe'}, {'entity_group': 'LOC', 'score': np.float32(0.97281504), 'word': 'Sri Lanka', 'start': 11, 'end': 20, 'submission_id': 't3_1fh9v02'}, {'entity_group': 'MISC', 'score': np.float32(0.57078654), 'word': 'Religion', 'start': 91, 'end': 99, 'submission_id': 't3_1fh9v02'}, {'entity_group': 'MISC', 'score': np.float32(0.37232298), 'word': 'Culture', 'start': 104, 'end': 111, 'submission_id': 't3_1fh9v02'}, {'entity_group': 'PER', 'score': np.float32(0.9132933), 'word': 'Namal R', 'start': 0, 'end': 7, 'submission_id': 't3_1exqqwx'}, {'entity_group': 'MISC', 'score': np.float32(0.82604194), 'word': 'QUESTION', 'start': 4, 'end': 12, 'submission_id': 't3_1f8jz49'}, {'entity_group': 'ORG', 'score': np.float32(0.9857398), 'word': 'CCC', 'start': 59, 'end': 62, 'submission_id': 't3_1f4m6oz'}, {'entity_group': 'PER', 'score': np.float32(0.80282974), 'word': 'Rajapaksa', 'start': 35, 'end': 44, 'submission_id': 't3_1fnsur8'}, {'entity_group': 'MISC', 'score': np.float32(0.32986328), 'word': 'GE', 'start': 63, 'end': 65, 'submission_id': 't3_1fo2jim'}, {'entity_group': 'ORG', 'score': np.float32(0.49398348), 'word': '##NE', 'start': 65, 'end': 67, 'submission_id': 't3_1fo2jim'}, {'entity_group': 'LOC', 'score': np.float32(0.9120045), 'word': 'Sri Lanka', 'start': 33, 'end': 42, 'submission_id': 't3_1al31j1'}, {'entity_group': 'ORG', 'score': np.float32(0.9894695), 'word': 'AKD', 'start': 20, 'end': 23, 'submission_id': 't3_1f7uy70'}, {'entity_group': 'ORG', 'score': np.float32(0.70493305), 'word': 'NPP', 'start': 3, 'end': 6, 'submission_id': 't3_1gbz90b'}, {'entity_group': 'LOC', 'score': np.float32(0.9750243), 'word': 'Elpitiya', 'start': 49, 'end': 57, 'submission_id': 't3_1gbz90b'}, {'entity_group': 'MISC', 'score': np.float32(0.7142016), 'word': 'District - President Election', 'start': 42, 'end': 71, 'submission_id': 't3_1fiz6eg'}, {'entity_group': 'MISC', 'score': np.float32(0.7141356), 'word': '##wers for a Bangladeshi', 'start': 3, 'end': 25, 'submission_id': 't3_1fji5bf'}, {'entity_group': 'ORG', 'score': np.float32(0.7995416), 'word': 'NPP', 'start': 11, 'end': 14, 'submission_id': 't3_1ferl5n'}, {'entity_group': 'ORG', 'score': np.float32(0.5823244), 'word': 'NPP', 'start': 39, 'end': 42, 'submission_id': 't3_1ferl5n'}, {'entity_group': 'ORG', 'score': np.float32(0.87068427), 'word': 'NPP', 'start': 92, 'end': 95, 'submission_id': 't3_1ferl5n'}, {'entity_group': 'MISC', 'score': np.float32(0.9510797), 'word': 'NPP', 'start': 12, 'end': 15, 'submission_id': 't3_1fgqce7'}, {'entity_group': 'LOC', 'score': np.float32(0.26448262), 'word': 'Got', 'start': 94, 'end': 97, 'submission_id': 't3_1fdidsb'}, {'entity_group': 'MISC', 'score': np.float32(0.3973777), 'word': '##a', 'start': 97, 'end': 98, 'submission_id': 't3_1fdidsb'}, {'entity_group': 'ORG', 'score': np.float32(0.8652687), 'word': 'New Government', 'start': 43, 'end': 57, 'submission_id': 't3_1fs1epw'}, {'entity_group': 'ORG', 'score': np.float32(0.4736269), 'word': 'Sar', 'start': 19, 'end': 22, 'submission_id': 't3_1fq3ypj'}, {'entity_group': 'PER', 'score': np.float32(0.58793813), 'word': '##vajana Balaya', 'start': 22, 'end': 35, 'submission_id': 't3_1fq3ypj'}, {'entity_group': 'PER', 'score': np.float32(0.80367637), 'word': 'Wimal', 'start': 51, 'end': 56, 'submission_id': 't3_1fq3ypj'}, {'entity_group': 'PER', 'score': np.float32(0.80943793), 'word': 'Gammanpila', 'start': 58, 'end': 68, 'submission_id': 't3_1fq3ypj'}, {'entity_group': 'PER', 'score': np.float32(0.8414185), 'word': 'Vasudeva', 'start': 70, 'end': 78, 'submission_id': 't3_1fq3ypj'}, {'entity_group': 'LOC', 'score': np.float32(0.87775767), 'word': 'Sri Lanka', 'start': 0, 'end': 9, 'submission_id': 't3_1fjv8sj'}, {'entity_group': 'MISC', 'score': np.float32(0.82976943), 'word': 'Israeli', 'start': 21, 'end': 28, 'submission_id': 't3_19823gq'}, {'entity_group': 'MISC', 'score': np.float32(0.49870992), 'word': 'Peace & Love', 'start': 44, 'end': 56, 'submission_id': 't3_19823gq'}, {'entity_group': 'LOC', 'score': np.float32(0.9986131), 'word': 'Mirissa Hills', 'start': 67, 'end': 80, 'submission_id': 't3_19823gq'}, {'entity_group': 'PER', 'score': np.float32(0.98473585), 'word': 'Harini', 'start': 16, 'end': 22, 'submission_id': 't3_1fox0xw'}, {'entity_group': 'MISC', 'score': np.float32(0.6109815), 'word': 'Military', 'start': 68, 'end': 76, 'submission_id': 't3_1fwwtl7'}, {'entity_group': 'MISC', 'score': np.float32(0.5532132), 'word': 'Grade Weapons', 'start': 77, 'end': 90, 'submission_id': 't3_1fwwtl7'}, {'entity_group': 'LOC', 'score': np.float32(0.9583447), 'word': 'Sri Lanka', 'start': 94, 'end': 103, 'submission_id': 't3_1fwwtl7'}, {'entity_group': 'PER', 'score': np.float32(0.49262452), 'word': 'Yoshitha', 'start': 110, 'end': 118, 'submission_id': 't3_1fwwtl7'}, {'entity_group': 'MISC', 'score': np.float32(0.78382766), 'word': 'Cop', 'start': 0, 'end': 3, 'submission_id': 't3_1eawqps'}, {'entity_group': 'MISC', 'score': np.float32(0.6276861), 'word': 'Israeli', 'start': 40, 'end': 47, 'submission_id': 't3_1gavedt'}, {'entity_group': 'LOC', 'score': np.float32(0.99901676), 'word': 'Sri Lanka', 'start': 52, 'end': 61, 'submission_id': 't3_1gavedt'}, {'entity_group': 'ORG', 'score': np.float32(0.9108415), 'word': 'LMAO', 'start': 15, 'end': 19, 'submission_id': 't3_1ezwwqc'}, {'entity_group': 'LOC', 'score': np.float32(0.9891145), 'word': 'Sri Lanka', 'start': 0, 'end': 9, 'submission_id': 't3_1echegl'}, {'entity_group': 'MISC', 'score': np.float32(0.94366044), 'word': \"New Women ' s Rights Act\", 'start': 27, 'end': 49, 'submission_id': 't3_1echegl'}, {'entity_group': 'MISC', 'score': np.float32(0.8712387), 'word': 'LGBTQ Rights', 'start': 51, 'end': 63, 'submission_id': 't3_1echegl'}, {'entity_group': 'MISC', 'score': np.float32(0.7998891), 'word': 'Abortion', 'start': 69, 'end': 77, 'submission_id': 't3_1echegl'}, {'entity_group': 'LOC', 'score': np.float32(0.9958891), 'word': 'Sri Lanka', 'start': 0, 'end': 9, 'submission_id': 't3_1fa33b7'}, {'entity_group': 'MISC', 'score': np.float32(0.7541942), 'word': 'Tamil Genocide', 'start': 35, 'end': 49, 'submission_id': 't3_1fa33b7'}, {'entity_group': 'PER', 'score': np.float32(0.9984086), 'word': 'Harini Amarasuriya', 'start': 4, 'end': 22, 'submission_id': 't3_1fo8cap'}, {'entity_group': 'LOC', 'score': np.float32(0.9963106), 'word': 'Sri Lanka', 'start': 58, 'end': 67, 'submission_id': 't3_1fo8cap'}, {'entity_group': 'MISC', 'score': np.float32(0.851825), 'word': 'Starlink Effect', 'start': 4, 'end': 19, 'submission_id': 't3_1gbykku'}, {'entity_group': 'LOC', 'score': np.float32(0.9997396), 'word': 'Dubai', 'start': 114, 'end': 119, 'submission_id': 't3_1g7rjx2'}, {'entity_group': 'ORG', 'score': np.float32(0.87114334), 'word': 'Israel National Security Council', 'start': 0, 'end': 32, 'submission_id': 't3_1ga893y'}, {'entity_group': 'MISC', 'score': np.float32(0.7927879), 'word': 'Israeli', 'start': 47, 'end': 54, 'submission_id': 't3_1ga893y'}, {'entity_group': 'LOC', 'score': np.float32(0.99960554), 'word': 'Sri Lanka', 'start': 65, 'end': 74, 'submission_id': 't3_1ga893y'}, {'entity_group': 'LOC', 'score': np.float32(0.99930036), 'word': 'Colombo', 'start': 90, 'end': 97, 'submission_id': 't3_1ga893y'}, {'entity_group': 'MISC', 'score': np.float32(0.74346006), 'word': 'White', 'start': 8, 'end': 13, 'submission_id': 't3_1ay09az'}, {'entity_group': 'MISC', 'score': np.float32(0.90748817), 'word': 'Credible Threat of Attack', 'start': 12, 'end': 37, 'submission_id': 't3_1ga1sat'}, {'entity_group': 'LOC', 'score': np.float32(0.99839026), 'word': 'Arugam Bay', 'start': 41, 'end': 51, 'submission_id': 't3_1ga1sat'}, {'entity_group': 'LOC', 'score': np.float32(0.99967355), 'word': 'Sri Lanka', 'start': 53, 'end': 62, 'submission_id': 't3_1ga1sat'}, {'entity_group': 'LOC', 'score': np.float32(0.99855256), 'word': 'Sri Lanka', 'start': 0, 'end': 9, 'submission_id': 't3_1b1g5ln'}, {'entity_group': 'MISC', 'score': np.float32(0.8932414), 'word': 'Russian', 'start': 44, 'end': 51, 'submission_id': 't3_1b1g5ln'}, {'entity_group': 'MISC', 'score': np.float32(0.8645176), 'word': 'Ukrainian', 'start': 62, 'end': 71, 'submission_id': 't3_1b1g5ln'}, {'entity_group': 'ORG', 'score': np.float32(0.9944499), 'word': 'Sri Lanka Police', 'start': 38, 'end': 54, 'submission_id': 't3_1g39vyg'}, {'entity_group': 'ORG', 'score': np.float32(0.7347486), 'word': 'AKD', 'start': 3, 'end': 6, 'submission_id': 't3_1fqgi0f'}, {'entity_group': 'PER', 'score': np.float32(0.9647278), 'word': 'Sajith', 'start': 33, 'end': 39, 'submission_id': 't3_1fqgi0f'}, {'entity_group': 'ORG', 'score': np.float32(0.91019756), 'word': 'SL', 'start': 0, 'end': 2, 'submission_id': 't3_1f72qy2'}, {'entity_group': 'PER', 'score': np.float32(0.9919032), 'word': 'Sanath Nishantha', 'start': 0, 'end': 16, 'submission_id': 't3_19exzjs'}, {'entity_group': 'PER', 'score': np.float32(0.96171296), 'word': 'Lahiru Hathurusinghe', 'start': 11, 'end': 31, 'submission_id': 't3_1g15c92'}, {'entity_group': 'ORG', 'score': np.float32(0.8810415), 'word': 'Presidents Guard', 'start': 65, 'end': 81, 'submission_id': 't3_1g15c92'}, {'entity_group': 'ORG', 'score': np.float32(0.9235154), 'word': 'Ukrainian Foreign Legion Troops', 'start': 105, 'end': 136, 'submission_id': 't3_1g15c92'}, {'entity_group': 'LOC', 'score': np.float32(0.94207263), 'word': 'Kursk', 'start': 140, 'end': 145, 'submission_id': 't3_1g15c92'}, {'entity_group': 'MISC', 'score': np.float32(0.4986787), 'word': 'Story', 'start': 4, 'end': 9, 'submission_id': 't3_1b9ecj3'}, {'entity_group': 'LOC', 'score': np.float32(0.9912657), 'word': 'Ottawa', 'start': 13, 'end': 19, 'submission_id': 't3_1b9ecj3'}, {'entity_group': 'LOC', 'score': np.float32(0.9946642), 'word': 'Canada', 'start': 21, 'end': 27, 'submission_id': 't3_1b9ecj3'}, {'entity_group': 'LOC', 'score': np.float32(0.99949706), 'word': 'Sri Lanka', 'start': 25, 'end': 34, 'submission_id': 't3_1drspiy'}, {'entity_group': 'PER', 'score': np.float32(0.9984744), 'word': 'Tilak Siyambalapitiya', 'start': 6, 'end': 27, 'submission_id': 't3_1fptj4a'}, {'entity_group': 'ORG', 'score': np.float32(0.6970202), 'word': 'CEB', 'start': 57, 'end': 60, 'submission_id': 't3_1fptj4a'}, {'entity_group': 'LOC', 'score': np.float32(0.99971473), 'word': 'Sri Lanka', 'start': 20, 'end': 29, 'submission_id': 't3_184wt6r'}, {'entity_group': 'MISC', 'score': np.float32(0.50451106), 'word': 'Russia', 'start': 28, 'end': 34, 'submission_id': 't3_1bo4z6j'}, {'entity_group': 'LOC', 'score': np.float32(0.75535876), 'word': 'Ukraine', 'start': 35, 'end': 42, 'submission_id': 't3_1bo4z6j'}, {'entity_group': 'MISC', 'score': np.float32(0.4888146), 'word': 'Spot', 'start': 0, 'end': 4, 'submission_id': 't3_1bzshdg'}, {'entity_group': 'LOC', 'score': np.float32(0.9997672), 'word': 'Sri Lanka', 'start': 45, 'end': 54, 'submission_id': 't3_1bzshdg'}, {'entity_group': 'ORG', 'score': np.float32(0.86352783), 'word': 'BYD', 'start': 32, 'end': 35, 'submission_id': 't3_1g740he'}, {'entity_group': 'LOC', 'score': np.float32(0.99966013), 'word': 'Colombo', 'start': 55, 'end': 62, 'submission_id': 't3_1g740he'}, {'entity_group': 'MISC', 'score': np.float32(0.5807253), 'word': 'ada dera', 'start': 12, 'end': 20, 'submission_id': 't3_1gbmu02'}, {'entity_group': 'ORG', 'score': np.float32(0.9952513), 'word': 'SriLankan Airlines', 'start': 37, 'end': 55, 'submission_id': 't3_1fsnm2r'}, {'entity_group': 'ORG', 'score': np.float32(0.51885164), 'word': 'IS', 'start': 12, 'end': 14, 'submission_id': 't3_1cx9a1i'}, {'entity_group': 'LOC', 'score': np.float32(0.9997617), 'word': 'Sri Lanka', 'start': 33, 'end': 42, 'submission_id': 't3_1cx9a1i'}, {'entity_group': 'LOC', 'score': np.float32(0.99881023), 'word': 'Ahmedabad', 'start': 55, 'end': 64, 'submission_id': 't3_1cx9a1i'}, {'entity_group': 'LOC', 'score': np.float32(0.65189993), 'word': 'Sri Lanka', 'start': 4, 'end': 13, 'submission_id': 't3_1g1v6uu'}, {'entity_group': 'LOC', 'score': np.float32(0.997285), 'word': 'Lebanon', 'start': 31, 'end': 38, 'submission_id': 't3_1g1v6uu'}, {'entity_group': 'MISC', 'score': np.float32(0.549643), 'word': 'Israeli', 'start': 50, 'end': 57, 'submission_id': 't3_1g1v6uu'}, {'entity_group': 'MISC', 'score': np.float32(0.6724081), 'word': 'Starlink', 'start': 0, 'end': 8, 'submission_id': 't3_1g7cavl'}, {'entity_group': 'LOC', 'score': np.float32(0.43535134), 'word': 'Go', 'start': 0, 'end': 2, 'submission_id': 't3_1fjk4jl'}, {'entity_group': 'PER', 'score': np.float32(0.6546263), 'word': 'Sajith', 'start': 74, 'end': 80, 'submission_id': 't3_1fitgt4'}, {'entity_group': 'PER', 'score': np.float32(0.72961885), 'word': 'Sajith', 'start': 103, 'end': 109, 'submission_id': 't3_1fitgt4'}, {'entity_group': 'MISC', 'score': np.float32(0.76384974), 'word': 'Premadasa Era', 'start': 144, 'end': 157, 'submission_id': 't3_1fitgt4'}, {'entity_group': 'PER', 'score': np.float32(0.9921118), 'word': 'Namal Rajapaksa', 'start': 0, 'end': 15, 'submission_id': 't3_1fumn04'}, {'entity_group': 'PER', 'score': np.float32(0.9883641), 'word': 'Dissanayake', 'start': 37, 'end': 48, 'submission_id': 't3_1fumn04'}, {'entity_group': 'MISC', 'score': np.float32(0.7765364), 'word': 'Corruption Allegations', 'start': 58, 'end': 80, 'submission_id': 't3_1fumn04'}, {'entity_group': 'MISC', 'score': np.float32(0.35446933), 'word': '##hur', 'start': 26, 'end': 29, 'submission_id': 't3_1dy31ds'}, {'entity_group': 'MISC', 'score': np.float32(0.3635033), 'word': '##ugi', 'start': 29, 'end': 32, 'submission_id': 't3_1dy31ds'}, {'entity_group': 'LOC', 'score': np.float32(0.25194564), 'word': '##riy', 'start': 32, 'end': 35, 'submission_id': 't3_1dy31ds'}, {'entity_group': 'MISC', 'score': np.float32(0.52748233), 'word': 'Seri', 'start': 0, 'end': 4, 'submission_id': 't3_1dv9v1y'}, {'entity_group': 'PER', 'score': np.float32(0.74579483), 'word': 'Ranil', 'start': 0, 'end': 5, 'submission_id': 't3_1cvj66k'}, {'entity_group': 'PER', 'score': np.float32(0.99519515), 'word': 'Elon Musk', 'start': 12, 'end': 21, 'submission_id': 't3_1cvj66k'}, {'entity_group': 'LOC', 'score': np.float32(0.9992581), 'word': 'Bali', 'start': 25, 'end': 29, 'submission_id': 't3_1cvj66k'}, {'entity_group': 'LOC', 'score': np.float32(0.999645), 'word': 'Sri Lanka', 'start': 0, 'end': 9, 'submission_id': 't3_1cfpjl8'}, {'entity_group': 'LOC', 'score': np.float32(0.8878885), 'word': 'Ottawa', 'start': 26, 'end': 32, 'submission_id': 't3_1bb5yvt'}, {'entity_group': 'ORG', 'score': np.float32(0.85546905), 'word': 'McDonald', 'start': 22, 'end': 30, 'submission_id': 't3_1blu8nu'}, {'entity_group': 'ORG', 'score': np.float32(0.9084335), 'word': 'AKD', 'start': 17, 'end': 20, 'submission_id': 't3_1fmj0lx'}, {'entity_group': 'ORG', 'score': np.float32(0.98096824), 'word': 'Chanel 4', 'start': 17, 'end': 25, 'submission_id': 't3_169xwfg'}, {'entity_group': 'MISC', 'score': np.float32(0.8972028), 'word': 'Easter Bombings', 'start': 43, 'end': 58, 'submission_id': 't3_169xwfg'}, {'entity_group': 'ORG', 'score': np.float32(0.7590764), 'word': 'Visa', 'start': 30, 'end': 34, 'submission_id': 't3_1cle6s5'}, {'entity_group': 'PER', 'score': np.float32(0.9791695), 'word': 'Ranil', 'start': 65, 'end': 70, 'submission_id': 't3_1cle6s5'}, {'entity_group': 'MISC', 'score': np.float32(0.7492173), 'word': 'Sinhales', 'start': 3, 'end': 11, 'submission_id': 't3_1b8yq4t'}, {'entity_group': 'PER', 'score': np.float32(0.48453683), 'word': 'God', 'start': 38, 'end': 41, 'submission_id': 't3_1b8yq4t'}, {'entity_group': 'PER', 'score': np.float32(0.995419), 'word': 'Elon Musk', 'start': 0, 'end': 9, 'submission_id': 't3_1cvpapz'}, {'entity_group': 'MISC', 'score': np.float32(0.60123765), 'word': 'Good Meeting', 'start': 18, 'end': 30, 'submission_id': 't3_1cvpapz'}, {'entity_group': 'LOC', 'score': np.float32(0.98522866), 'word': 'Sri Lanka', 'start': 1, 'end': 10, 'submission_id': 't3_1bvr93p'}, {'entity_group': 'PER', 'score': np.float32(0.97941375), 'word': 'Azzam Ameen', 'start': 48, 'end': 59, 'submission_id': 't3_1bvr93p'}, {'entity_group': 'ORG', 'score': np.float32(0.71373105), 'word': 'Sri Lankan Teachers', 'start': 0, 'end': 19, 'submission_id': 't3_18o5r7h'}, {'entity_group': 'PER', 'score': np.float32(0.9850302), 'word': 'Radhya Gunasekara', 'start': 22, 'end': 39, 'submission_id': 't3_1g9exrs'}, {'entity_group': 'ORG', 'score': np.float32(0.6189403), 'word': 'Parents Against CIS', 'start': 42, 'end': 61, 'submission_id': 't3_1g9exrs'}, {'entity_group': 'MISC', 'score': np.float32(0.9775303), 'word': 'Almost Got Scammed Today', 'start': 33, 'end': 57, 'submission_id': 't3_1dqi6e3'}, {'entity_group': 'MISC', 'score': np.float32(0.80932456), 'word': 'Income Tax', 'start': 0, 'end': 10, 'submission_id': 't3_18sxb2t'}, {'entity_group': 'LOC', 'score': np.float32(0.99695134), 'word': 'Sri Lanka', 'start': 2, 'end': 11, 'submission_id': 't3_1gca8uu'}, {'entity_group': 'MISC', 'score': np.float32(0.8618631), 'word': 'First Global Robotics Competition!!', 'start': 36, 'end': 71, 'submission_id': 't3_1gca8uu'}, {'entity_group': 'LOC', 'score': np.float32(0.9824499), 'word': 'Israel', 'start': 24, 'end': 30, 'submission_id': 't3_173v8gh'}, {'entity_group': 'MISC', 'score': np.float32(0.90819204), 'word': 'Hamas Terrorist Attack', 'start': 41, 'end': 63, 'submission_id': 't3_173v8gh'}, {'entity_group': 'MISC', 'score': np.float32(0.9876127), 'word': 'May She Find Peace According to Her Beliefs', 'start': 66, 'end': 109, 'submission_id': 't3_173v8gh'}, {'entity_group': 'LOC', 'score': np.float32(0.99951154), 'word': 'Sri Lanka', 'start': 23, 'end': 32, 'submission_id': 't3_w3fwwp'}, {'entity_group': 'PER', 'score': np.float32(0.9865336), 'word': 'Ranil Wickremesinghe', 'start': 33, 'end': 53, 'submission_id': 't3_w3fwwp'}, {'entity_group': 'ORG', 'score': np.float32(0.74051), 'word': 'VAT', 'start': 3, 'end': 6, 'submission_id': 't3_18ngrt2'}, {'entity_group': 'LOC', 'score': np.float32(0.99972284), 'word': 'Sri Lanka', 'start': 51, 'end': 60, 'submission_id': 't3_1g8gizc'}, {'entity_group': 'LOC', 'score': np.float32(0.9929193), 'word': 'Sri Lanka', 'start': 0, 'end': 9, 'submission_id': 't3_1c6ydok'}, {'entity_group': 'PER', 'score': np.float32(0.99000543), 'word': 'Piyumi Wijesekara', 'start': 12, 'end': 29, 'submission_id': 't3_1c6ydok'}, {'entity_group': 'ORG', 'score': np.float32(0.97141224), 'word': 'NASA', 'start': 40, 'end': 44, 'submission_id': 't3_1c6ydok'}, {'entity_group': 'MISC', 'score': np.float32(0.48505494), 'word': 'Mars', 'start': 69, 'end': 73, 'submission_id': 't3_1c6ydok'}, {'entity_group': 'LOC', 'score': np.float32(0.9997276), 'word': 'Sri Lanka', 'start': 25, 'end': 34, 'submission_id': 't3_1fm6ru4'}, {'entity_group': 'ORG', 'score': np.float32(0.48841122), 'word': 'News', 'start': 64, 'end': 68, 'submission_id': 't3_1fm6ru4'}, {'entity_group': 'MISC', 'score': np.float32(0.5896067), 'word': '##Wire', 'start': 68, 'end': 72, 'submission_id': 't3_1fm6ru4'}, {'entity_group': 'LOC', 'score': np.float32(0.99854803), 'word': 'Sri Lanka', 'start': 2, 'end': 11, 'submission_id': 't3_1busb9d'}, {'entity_group': 'MISC', 'score': np.float32(0.5973123), 'word': 'African', 'start': 112, 'end': 119, 'submission_id': 't3_1busb9d'}, {'entity_group': 'MISC', 'score': np.float32(0.5308614), 'word': 'Indian', 'start': 146, 'end': 152, 'submission_id': 't3_1busb9d'}, {'entity_group': 'PER', 'score': np.float32(0.9882657), 'word': 'Sanath Nishantha', 'start': 48, 'end': 64, 'submission_id': 't3_1aemhmu'}, {'entity_group': 'PER', 'score': np.float32(0.88286346), 'word': 'Dummaldeniye Sumangala', 'start': 114, 'end': 136, 'submission_id': 't3_1aemhmu'}, {'entity_group': 'MISC', 'score': np.float32(0.94768256), 'word': 'Disturbing Discrimination at Lazies Hotel Midigama : A Wake - Up Call', 'start': 1, 'end': 67, 'submission_id': 't3_1b1ijaa'}, {'entity_group': 'LOC', 'score': np.float32(0.980724), 'word': 'SL', 'start': 35, 'end': 37, 'submission_id': 't3_1g8gve8'}, {'entity_group': 'ORG', 'score': np.float32(0.7988926), 'word': 'Uni', 'start': 0, 'end': 3, 'submission_id': 't3_1dkym78'}, {'entity_group': 'MISC', 'score': np.float32(0.9093077), 'word': 'Online Safety Bill', 'start': 14, 'end': 32, 'submission_id': 't3_19ehd5p'}, {'entity_group': 'LOC', 'score': np.float32(0.9995705), 'word': 'Sri Lanka', 'start': 43, 'end': 52, 'submission_id': 't3_19ehd5p'}, {'entity_group': 'PER', 'score': np.float32(0.9781352), 'word': 'Ranil', 'start': 61, 'end': 66, 'submission_id': 't3_19ehd5p'}, {'entity_group': 'PER', 'score': np.float32(0.6838264), 'word': 'Milo', 'start': 19, 'end': 23, 'submission_id': 't3_19dpfnu'}, {'entity_group': 'LOC', 'score': np.float32(0.99974483), 'word': 'Australia', 'start': 58, 'end': 67, 'submission_id': 't3_uqw62j'}, {'entity_group': 'MISC', 'score': np.float32(0.85432035), 'word': 'Presidential', 'start': 0, 'end': 12, 'submission_id': 't3_1gbccjg'}, {'entity_group': 'PER', 'score': np.float32(0.48355576), 'word': 'Bayyos', 'start': 28, 'end': 34, 'submission_id': 't3_1fiys8q'}, {'entity_group': 'PER', 'score': np.float32(0.6461242), 'word': 'Ranil', 'start': 44, 'end': 49, 'submission_id': 't3_1fiys8q'}, {'entity_group': 'PER', 'score': np.float32(0.9810192), 'word': 'Mahinda', 'start': 70, 'end': 77, 'submission_id': 't3_1fiys8q'}, {'entity_group': 'PER', 'score': np.float32(0.9454973), 'word': 'Namal', 'start': 90, 'end': 95, 'submission_id': 't3_1fiys8q'}, {'entity_group': 'PER', 'score': np.float32(0.8972157), 'word': 'Ranil', 'start': 117, 'end': 122, 'submission_id': 't3_1fiys8q'}, {'entity_group': 'LOC', 'score': np.float32(0.37657988), 'word': 'R', 'start': 54, 'end': 55, 'submission_id': 't3_1g0bfw0'}, {'entity_group': 'ORG', 'score': np.float32(0.9767175), 'word': 'SL Police', 'start': 0, 'end': 9, 'submission_id': 't3_19agtgl'}, {'entity_group': 'ORG', 'score': np.float32(0.5539477), 'word': 'Lorry', 'start': 25, 'end': 30, 'submission_id': 't3_19agtgl'}, {'entity_group': 'MISC', 'score': np.float32(0.49108276), 'word': 'Batman', 'start': 4, 'end': 10, 'submission_id': 't3_12bc100'}, {'entity_group': 'PER', 'score': np.float32(0.9998799), 'word': 'Christian Bale', 'start': 11, 'end': 25, 'submission_id': 't3_12bc100'}, {'entity_group': 'LOC', 'score': np.float32(0.8563273), 'word': 'Sri', 'start': 35, 'end': 38, 'submission_id': 't3_12bc100'}, {'entity_group': 'MISC', 'score': np.float32(0.61962354), 'word': 'Easter Sunday', 'start': 31, 'end': 44, 'submission_id': 't3_169i1gt'}, {'entity_group': 'LOC', 'score': np.float32(0.836867), 'word': 'Sri Lanka', 'start': 45, 'end': 54, 'submission_id': 't3_169i1gt'}, {'entity_group': 'MISC', 'score': np.float32(0.9701481), 'word': 'Parliament Road Accident', 'start': 0, 'end': 24, 'submission_id': 't3_1ej3xpi'}, {'entity_group': 'PER', 'score': np.float32(0.9089987), 'word': 'Ranil', 'start': 0, 'end': 5, 'submission_id': 't3_1eeptyx'}, {'entity_group': 'PER', 'score': np.float32(0.9979473), 'word': 'Mahinda Rajapakse', 'start': 30, 'end': 47, 'submission_id': 't3_1eeptyx'}, {'entity_group': 'ORG', 'score': np.float32(0.9663419), 'word': 'SLPP', 'start': 78, 'end': 82, 'submission_id': 't3_1eeptyx'}, {'entity_group': 'PER', 'score': np.float32(0.9971441), 'word': 'Ranil Wickremesinghe', 'start': 11, 'end': 31, 'submission_id': 't3_1efxsr4'}, {'entity_group': 'ORG', 'score': np.float32(0.7723499), 'word': 'SLPP', 'start': 61, 'end': 65, 'submission_id': 't3_1efxsr4'}, {'entity_group': 'PER', 'score': np.float32(0.9990347), 'word': 'Mahinda Rajapaksa', 'start': 73, 'end': 90, 'submission_id': 't3_1efxsr4'}, {'entity_group': 'MISC', 'score': np.float32(0.9984622), 'word': 'The Death Of The 13 Year Old Boy', 'start': 0, 'end': 32, 'submission_id': 't3_18bm53t'}, {'entity_group': 'LOC', 'score': np.float32(0.7337398), 'word': 'Batagoda', 'start': 19, 'end': 27, 'submission_id': 't3_1fe3leb'}, {'entity_group': 'ORG', 'score': np.float32(0.99508697), 'word': 'University of Colombo', 'start': 21, 'end': 42, 'submission_id': 't3_rjuh9j'}, {'entity_group': 'MISC', 'score': np.float32(0.8382993), 'word': 'Vehicle Market - Set for a Reset', 'start': 0, 'end': 32, 'submission_id': 't3_1cf0mup'}, {'entity_group': 'ORG', 'score': np.float32(0.9985738), 'word': 'Sri Lanka Tourism Alliance', 'start': 0, 'end': 26, 'submission_id': 't3_1gbpi3g'}, {'entity_group': 'LOC', 'score': np.float32(0.9993407), 'word': 'Sri Lanka', 'start': 94, 'end': 103, 'submission_id': 't3_1gbpi3g'}, {'entity_group': 'MISC', 'score': np.float32(0.8933282), 'word': 'Ukrainian', 'start': 9, 'end': 18, 'submission_id': 't3_1azeyqa'}, {'entity_group': 'ORG', 'score': np.float32(0.71763134), 'word': 'Sunday Times', 'start': 63, 'end': 75, 'submission_id': 't3_1azeyqa'}, {'entity_group': 'PER', 'score': np.float32(0.9922943), 'word': 'Senaka Batagoda', 'start': 0, 'end': 15, 'submission_id': 't3_1fe1iru'}, {'entity_group': 'PER', 'score': np.float32(0.99894494), 'word': 'Will Mcdonald', 'start': 0, 'end': 13, 'submission_id': 't3_1d9mnpu'}, {'entity_group': 'ORG', 'score': np.float32(0.7247033), 'word': 'Lotus Tower', 'start': 12, 'end': 23, 'submission_id': 't3_1fyrm3d'}, {'entity_group': 'ORG', 'score': np.float32(0.70717645), 'word': 'Altair', 'start': 26, 'end': 32, 'submission_id': 't3_1fyrm3d'}, {'entity_group': 'ORG', 'score': np.float32(0.5690997), 'word': 'Police', 'start': 56, 'end': 62, 'submission_id': 't3_1fyrm3d'}, {'entity_group': 'LOC', 'score': np.float32(0.884784), 'word': 'Russia', 'start': 0, 'end': 6, 'submission_id': 't3_14ap8l9'}, {'entity_group': 'ORG', 'score': np.float32(0.69302714), 'word': 'Rosatom', 'start': 9, 'end': 16, 'submission_id': 't3_14ap8l9'}, {'entity_group': 'LOC', 'score': np.float32(0.65715015), 'word': 'SL', 'start': 45, 'end': 47, 'submission_id': 't3_14ap8l9'}, {'entity_group': 'LOC', 'score': np.float32(0.99803776), 'word': 'Canada', 'start': 41, 'end': 47, 'submission_id': 't3_1dqlq1n'}, {'entity_group': 'ORG', 'score': np.float32(0.9928206), 'word': 'AKD', 'start': 21, 'end': 24, 'submission_id': 't3_1fni9w3'}, {'entity_group': 'LOC', 'score': np.float32(0.99672353), 'word': 'Sri Lanka', 'start': 2, 'end': 11, 'submission_id': 't3_1bvm7mv'}, {'entity_group': 'ORG', 'score': np.float32(0.98385006), 'word': 'United Nations', 'start': 35, 'end': 49, 'submission_id': 't3_1bvm7mv'}, {'entity_group': 'ORG', 'score': np.float32(0.88365924), 'word': 'UN', 'start': 51, 'end': 53, 'submission_id': 't3_1bvm7mv'}, {'entity_group': 'MISC', 'score': np.float32(0.48606884), 'word': 'World', 'start': 55, 'end': 60, 'submission_id': 't3_1bvm7mv'}, {'entity_group': 'ORG', 'score': np.float32(0.80455375), 'word': 'Banana Forum', 'start': 61, 'end': 73, 'submission_id': 't3_1bvm7mv'}, {'entity_group': 'MISC', 'score': np.float32(0.5492079), 'word': 'Schoolgirl', 'start': 16, 'end': 26, 'submission_id': 't3_17agfau'}, {'entity_group': 'MISC', 'score': np.float32(0.6280308), 'word': 'Trousers', 'start': 39, 'end': 47, 'submission_id': 't3_17agfau'}, {'entity_group': 'PER', 'score': np.float32(0.97367036), 'word': 'Nandalal Weerasinghe', 'start': 0, 'end': 20, 'submission_id': 't3_1eyduto'}, {'entity_group': 'ORG', 'score': np.float32(0.97286046), 'word': 'Global Finance', 'start': 41, 'end': 55, 'submission_id': 't3_1eyduto'}, {'entity_group': 'MISC', 'score': np.float32(0.8888765), 'word': 'Central Banker Report Cards', 'start': 63, 'end': 90, 'submission_id': 't3_1eyduto'}, {'entity_group': 'ORG', 'score': np.float32(0.7673611), 'word': 'MF Police', 'start': 0, 'end': 9, 'submission_id': 't3_1ac875s'}, {'entity_group': 'MISC', 'score': np.float32(0.96850556), 'word': 'Sanath Nishantha Accident', 'start': 62, 'end': 87, 'submission_id': 't3_1ac875s'}, {'entity_group': 'MISC', 'score': np.float32(0.9159179), 'word': 'Scam', 'start': 6, 'end': 10, 'submission_id': 't3_1gaobxv'}, {'entity_group': 'MISC', 'score': np.float32(0.8531198), 'word': 'Phishing', 'start': 11, 'end': 19, 'submission_id': 't3_1gaobxv'}, {'entity_group': 'ORG', 'score': np.float32(0.87731504), 'word': 'Russian Embassy', 'start': 11, 'end': 26, 'submission_id': 't3_1b0ascq'}, {'entity_group': 'LOC', 'score': np.float32(0.9929169), 'word': 'Sri Lanka', 'start': 26, 'end': 35, 'submission_id': 't3_1fohvx4'}, {'entity_group': 'PER', 'score': np.float32(0.9917509), 'word': 'New Scam Guised', 'start': 0, 'end': 15, 'submission_id': 't3_1fjmkj2'}, {'entity_group': 'PER', 'score': np.float32(0.7301522), 'word': 'Sampath', 'start': 19, 'end': 26, 'submission_id': 't3_1fjmkj2'}, {'entity_group': 'ORG', 'score': np.float32(0.98754966), 'word': 'Starlink', 'start': 0, 'end': 8, 'submission_id': 't3_1er1ott'}, {'entity_group': 'ORG', 'score': np.float32(0.96085286), 'word': 'Chineses Engineers', 'start': 10, 'end': 28, 'submission_id': 't3_16bgr5r'}, {'entity_group': 'ORG', 'score': np.float32(0.9651158), 'word': 'Sri Lankan Engineers', 'start': 103, 'end': 123, 'submission_id': 't3_16bgr5r'}, {'entity_group': 'LOC', 'score': np.float32(0.97826695), 'word': 'Srilanka', 'start': 0, 'end': 8, 'submission_id': 't3_16pwu8v'}, {'entity_group': 'LOC', 'score': np.float32(0.9741553), 'word': 'Bambalapitiya railway station', 'start': 58, 'end': 87, 'submission_id': 't3_16pwu8v'}, {'entity_group': 'LOC', 'score': np.float32(0.9996743), 'word': 'Ireland', 'start': 35, 'end': 42, 'submission_id': 't3_1f5y19p'}, {'entity_group': 'PER', 'score': np.float32(0.9998869), 'word': 'Jackson Anthony', 'start': 14, 'end': 29, 'submission_id': 't3_173gg8m'}, {'entity_group': 'ORG', 'score': np.float32(0.941031), 'word': 'Fox Hill Journey', 'start': 0, 'end': 16, 'submission_id': 't3_1c9oyff'}, {'entity_group': 'MISC', 'score': np.float32(0.87189305), 'word': 'Vaccine Mandate', 'start': 0, 'end': 15, 'submission_id': 't3_qpz6ps'}, {'entity_group': 'MISC', 'score': np.float32(0.9524902), 'word': 'Closing Meat Shops for State Vesak Festival', 'start': 0, 'end': 43, 'submission_id': 't3_1bujd3p'}, {'entity_group': 'MISC', 'score': np.float32(0.74529475), 'word': 'Is It Democratic?', 'start': 46, 'end': 63, 'submission_id': 't3_1bujd3p'}, {'entity_group': 'MISC', 'score': np.float32(0.8463134), 'word': 'Dialog Fiber Home Packages', 'start': 0, 'end': 26, 'submission_id': 't3_1czmzlk'}, {'entity_group': 'PER', 'score': np.float32(0.975617), 'word': 'Dhanushka Gunathilaka', 'start': 0, 'end': 21, 'submission_id': 't3_16u54nr'}, {'entity_group': 'MISC', 'score': np.float32(0.64026546), 'word': 'Australian', 'start': 58, 'end': 68, 'submission_id': 't3_16u54nr'}, {'entity_group': 'PER', 'score': np.float32(0.92280596), 'word': 'Gnanasara Thera', 'start': 38, 'end': 53, 'submission_id': 't3_1em1p3t'}, {'entity_group': 'ORG', 'score': np.float32(0.44808397), 'word': 'Police', 'start': 0, 'end': 6, 'submission_id': 't3_1c1at3g'}, {'entity_group': 'MISC', 'score': np.float32(0.6596378), 'word': 'ST', 'start': 37, 'end': 39, 'submission_id': 't3_18vfgzq'}, {'entity_group': 'MISC', 'score': np.float32(0.49313888), 'word': '##L', 'start': 39, 'end': 40, 'submission_id': 't3_18vfgzq'}, {'entity_group': 'PER', 'score': np.float32(0.9991088), 'word': 'Kamindu Mendis', 'start': 59, 'end': 73, 'submission_id': 't3_1fest49'}, {'entity_group': 'MISC', 'score': np.float32(0.99909604), 'word': \"24 Years a Free Agent on Valentine ' s Day\", 'start': 0, 'end': 40, 'submission_id': 't3_1aptnpi'}, {'entity_group': 'MISC', 'score': np.float32(0.6182476), 'word': '##gic Event', 'start': 3, 'end': 12, 'submission_id': 't3_1b92pnf'}, {'entity_group': 'LOC', 'score': np.float32(0.71356344), 'word': 'Canada', 'start': 16, 'end': 22, 'submission_id': 't3_1b92pnf'}, {'entity_group': 'LOC', 'score': np.float32(0.99983776), 'word': 'Sri Lanka', 'start': 28, 'end': 37, 'submission_id': 't3_1g1v2ef'}, {'entity_group': 'MISC', 'score': np.float32(0.5550616), 'word': '##asan', 'start': 5, 'end': 9, 'submission_id': 't3_1c8bjeq'}, {'entity_group': 'LOC', 'score': np.float32(0.9967466), 'word': 'Kurumba Bay', 'start': 25, 'end': 36, 'submission_id': 't3_1c8bjeq'}, {'entity_group': 'LOC', 'score': np.float32(0.9892966), 'word': 'Weligama', 'start': 38, 'end': 46, 'submission_id': 't3_1c8bjeq'}, {'entity_group': 'LOC', 'score': np.float32(0.60669196), 'word': 'Sri Lanka', 'start': 13, 'end': 22, 'submission_id': 't3_1g9vnek'}, {'entity_group': 'MISC', 'score': np.float32(0.71914774), 'word': '##n Passport', 'start': 22, 'end': 32, 'submission_id': 't3_1g9vnek'}, {'entity_group': 'LOC', 'score': np.float32(0.9994792), 'word': 'Sri Lanka', 'start': 19, 'end': 28, 'submission_id': 't3_1b8gw6i'}, {'entity_group': 'LOC', 'score': np.float32(0.99940526), 'word': 'India', 'start': 37, 'end': 42, 'submission_id': 't3_1b8gw6i'}, {'entity_group': 'PER', 'score': np.float32(0.95676154), 'word': 'Pathum Nissanka', 'start': 0, 'end': 15, 'submission_id': 't3_1fe3ftl'}, {'entity_group': 'MISC', 'score': np.float32(0.93643546), 'word': 'Century in England Soil rewriting History', 'start': 25, 'end': 66, 'submission_id': 't3_1fe3ftl'}, {'entity_group': 'LOC', 'score': np.float32(0.9952169), 'word': 'Sri Lanka', 'start': 0, 'end': 9, 'submission_id': 't3_1g1757p'}, {'entity_group': 'MISC', 'score': np.float32(0.7808476), 'word': 'Top Story', 'start': 81, 'end': 90, 'submission_id': 't3_1g1757p'}, {'entity_group': 'LOC', 'score': np.float32(0.99605364), 'word': 'Sri lanka', 'start': 0, 'end': 9, 'submission_id': 't3_190ja2b'}, {'entity_group': 'LOC', 'score': np.float32(0.997923), 'word': 'Sri Lanka', 'start': 0, 'end': 9, 'submission_id': 't3_1ejkmqy'}, {'entity_group': 'PER', 'score': np.float32(0.9769715), 'word': 'Rohitha Abeygunawardena', 'start': 0, 'end': 23, 'submission_id': 't3_1ejoui2'}, {'entity_group': 'PER', 'score': np.float32(0.99868447), 'word': 'Ranil Wickremesinghe', 'start': 69, 'end': 89, 'submission_id': 't3_1ejoui2'}, {'entity_group': 'ORG', 'score': np.float32(0.41263098), 'word': 'O', 'start': 23, 'end': 24, 'submission_id': 't3_1fzlda9'}, {'entity_group': 'ORG', 'score': np.float32(0.40740466), 'word': '##L', 'start': 26, 'end': 27, 'submission_id': 't3_1fzlda9'}, {'entity_group': 'MISC', 'score': np.float32(0.4230512), 'word': 'G', 'start': 28, 'end': 29, 'submission_id': 't3_1fzlda9'}, {'entity_group': 'ORG', 'score': np.float32(0.49152866), 'word': '##loMark', 'start': 29, 'end': 35, 'submission_id': 't3_1fzlda9'}, {'entity_group': 'MISC', 'score': np.float32(0.8339674), 'word': 'w', 'start': 0, 'end': 1, 'submission_id': 't3_152lsyo'}, {'entity_group': 'MISC', 'score': np.float32(0.5599325), 'word': '##t', 'start': 1, 'end': 2, 'submission_id': 't3_152lsyo'}, {'entity_group': 'MISC', 'score': np.float32(0.34004742), 'word': '##f', 'start': 2, 'end': 3, 'submission_id': 't3_152lsyo'}, {'entity_group': 'MISC', 'score': np.float32(0.95143044), 'word': 'IQ', 'start': 27, 'end': 29, 'submission_id': 't3_18yov53'}, {'entity_group': 'LOC', 'score': np.float32(0.9997526), 'word': 'India', 'start': 13, 'end': 18, 'submission_id': 't3_193ty3g'}, {'entity_group': 'LOC', 'score': np.float32(0.99968684), 'word': 'Lanka', 'start': 32, 'end': 37, 'submission_id': 't3_193ty3g'}, {'entity_group': 'PER', 'score': np.float32(0.9630475), 'word': 'Wenasa Sapada', 'start': 3, 'end': 16, 'submission_id': 't3_1g5rco2'}, {'entity_group': 'LOC', 'score': np.float32(0.9906294), 'word': 'Thailand', 'start': 0, 'end': 8, 'submission_id': 't3_1d3vaen'}, {'entity_group': 'LOC', 'score': np.float32(0.76378626), 'word': 'Sri Lankan', 'start': 48, 'end': 58, 'submission_id': 't3_1d3vaen'}, {'entity_group': 'ORG', 'score': np.float32(0.93762684), 'word': 'Foreign Media', 'start': 123, 'end': 136, 'submission_id': 't3_1d3vaen'}, {'entity_group': 'LOC', 'score': np.float32(0.9997151), 'word': 'Sri Lanka', 'start': 35, 'end': 44, 'submission_id': 't3_1beey4p'}, {'entity_group': 'MISC', 'score': np.float32(0.8485513), 'word': 'SL Insurance Law Amendment', 'start': 6, 'end': 32, 'submission_id': 't3_1bxtier'}, {'entity_group': 'MISC', 'score': np.float32(0.52555245), 'word': 'Third', 'start': 37, 'end': 42, 'submission_id': 't3_1bxtier'}, {'entity_group': 'ORG', 'score': np.float32(0.6322879), 'word': 'Party', 'start': 43, 'end': 48, 'submission_id': 't3_1bxtier'}, {'entity_group': 'PER', 'score': np.float32(0.7462635), 'word': 'Gotta', 'start': 0, 'end': 5, 'submission_id': 't3_uan5tk'}, {'entity_group': 'LOC', 'score': np.float32(0.99792105), 'word': 'Sri Lanka', 'start': 0, 'end': 9, 'submission_id': 't3_1blilk2'}, {'entity_group': 'LOC', 'score': np.float32(0.9840059), 'word': 'South Asia', 'start': 16, 'end': 26, 'submission_id': 't3_1blilk2'}, {'entity_group': 'ORG', 'score': np.float32(0.99740994), 'word': 'Central Bank', 'start': 0, 'end': 12, 'submission_id': 't3_1at9p6w'}, {'entity_group': 'MISC', 'score': np.float32(0.66784275), 'word': 'Economic Downturn', 'start': 49, 'end': 66, 'submission_id': 't3_1at9p6w'}, {'entity_group': 'MISC', 'score': np.float32(0.5339917), 'word': 'Contribut', 'start': 70, 'end': 79, 'submission_id': 't3_1at9p6w'}, {'entity_group': 'PER', 'score': np.float32(0.9916702), 'word': 'Elon Musk', 'start': 0, 'end': 9, 'submission_id': 't3_1cwai4w'}, {'entity_group': 'LOC', 'score': np.float32(0.9997657), 'word': 'Sri Lanka', 'start': 19, 'end': 28, 'submission_id': 't3_1cwai4w'}, {'entity_group': 'MISC', 'score': np.float32(0.65222716), 'word': 'StarLink', 'start': 49, 'end': 57, 'submission_id': 't3_1cwai4w'}, {'entity_group': 'MISC', 'score': np.float32(0.981713), 'word': 'Fox Hill Super Cross Accident', 'start': 0, 'end': 29, 'submission_id': 't3_1c9f4yg'}, {'entity_group': 'LOC', 'score': np.float32(0.9997945), 'word': 'Sri Lanka', 'start': 34, 'end': 43, 'submission_id': 't3_16naumx'}, {'entity_group': 'LOC', 'score': np.float32(0.99700564), 'word': 'Sri Lanka', 'start': 0, 'end': 9, 'submission_id': 't3_13jzh4e'}, {'entity_group': 'MISC', 'score': np.float32(0.98537254), 'word': 'Spotify', 'start': 0, 'end': 7, 'submission_id': 't3_1cz6wkz'}, {'entity_group': 'MISC', 'score': np.float32(0.98899883), 'word': 'IM', 'start': 20, 'end': 22, 'submission_id': 't3_1dqo8t2'}, {'entity_group': 'MISC', 'score': np.float32(0.57955736), 'word': '##AX', 'start': 22, 'end': 24, 'submission_id': 't3_1dqo8t2'}, {'entity_group': 'MISC', 'score': np.float32(0.90371287), 'word': 'Twitter', 'start': 183, 'end': 190, 'submission_id': 't3_t4vatw'}, {'entity_group': 'LOC', 'score': np.float32(0.4645445), 'word': 'Welikumbu', 'start': 192, 'end': 201, 'submission_id': 't3_t4vatw'}, {'entity_group': 'ORG', 'score': np.float32(0.6872293), 'word': 'Immigration De', 'start': 0, 'end': 14, 'submission_id': 't3_1g96mew'}, {'entity_group': 'LOC', 'score': np.float32(0.9956711), 'word': 'Sri Lanka', 'start': 0, 'end': 9, 'submission_id': 't3_1ao0vt2'}, {'entity_group': 'MISC', 'score': np.float32(0.90866333), 'word': 'Online Safety Bill', 'start': 35, 'end': 53, 'submission_id': 't3_1ao0vt2'}, {'entity_group': 'PER', 'score': np.float32(0.9898161), 'word': 'Piumi Hansamali', 'start': 13, 'end': 28, 'submission_id': 't3_1dl3ws5'}, {'entity_group': 'MISC', 'score': np.float32(0.89627016), 'word': 'Presidential Election', 'start': 0, 'end': 21, 'submission_id': 't3_1ecdh7a'}, {'entity_group': 'LOC', 'score': np.float32(0.9950949), 'word': 'Thailand', 'start': 0, 'end': 8, 'submission_id': 't3_1e35da5'}, {'entity_group': 'LOC', 'score': np.float32(0.9333389), 'word': 'Sri Lanka', 'start': 36, 'end': 45, 'submission_id': 't3_1e35da5'}, {'entity_group': 'ORG', 'score': np.float32(0.96738386), 'word': 'South Eastern University', 'start': 16, 'end': 40, 'submission_id': 't3_1gb5k43'}, {'entity_group': 'MISC', 'score': np.float32(0.809821), 'word': 'People', 'start': 26, 'end': 32, 'submission_id': 't3_1bwtap6'}, {'entity_group': 'PER', 'score': np.float32(0.998836), 'word': 'Harini Amarasuriya', 'start': 63, 'end': 81, 'submission_id': 't3_1fo8t36'}, {'entity_group': 'MISC', 'score': np.float32(0.7036914), 'word': 'Daily Mirror', 'start': 49, 'end': 61, 'submission_id': 't3_1eh621x'}, {'entity_group': 'LOC', 'score': np.float32(0.9956573), 'word': 'Sri Lanka', 'start': 36, 'end': 45, 'submission_id': 't3_1d2hfh9'}, {'entity_group': 'MISC', 'score': np.float32(0.90816015), 'word': 'Friends', 'start': 0, 'end': 7, 'submission_id': 't3_1e9kkpw'}, {'entity_group': 'ORG', 'score': np.float32(0.88037634), 'word': 'Central Bank', 'start': 0, 'end': 12, 'submission_id': 't3_1f8kr9i'}, {'entity_group': 'PER', 'score': np.float32(0.9009058), 'word': 'Ranil', 'start': 33, 'end': 38, 'submission_id': 't3_1f8kr9i'}, {'entity_group': 'ORG', 'score': np.float32(0.6930072), 'word': 'NP', 'start': 53, 'end': 55, 'submission_id': 't3_1f8kr9i'}, {'entity_group': 'LOC', 'score': np.float32(0.9943491), 'word': 'Kirulapone', 'start': 89, 'end': 99, 'submission_id': 't3_18lgv4d'}, {'entity_group': 'LOC', 'score': np.float32(0.9997962), 'word': 'Sri Lanka', 'start': 36, 'end': 45, 'submission_id': 't3_1eoosxb'}, {'entity_group': 'ORG', 'score': np.float32(0.8680204), 'word': 'NTB', 'start': 27, 'end': 30, 'submission_id': 't3_1fuzi5g'}, {'entity_group': 'LOC', 'score': np.float32(0.6420039), 'word': 'Sri Lanka', 'start': 0, 'end': 9, 'submission_id': 't3_1eycllk'}, {'entity_group': 'MISC', 'score': np.float32(0.93714166), 'word': 'Malaysian', 'start': 55, 'end': 64, 'submission_id': 't3_1eycllk'}, {'entity_group': 'PER', 'score': np.float32(0.99724716), 'word': 'Liam Payne', 'start': 88, 'end': 98, 'submission_id': 't3_1g5rm1w'}, {'entity_group': 'MISC', 'score': np.float32(0.4705148), 'word': 'Murder', 'start': 38, 'end': 44, 'submission_id': 't3_19brplq'}, {'entity_group': 'ORG', 'score': np.float32(0.9758933), 'word': 'Police', 'start': 59, 'end': 65, 'submission_id': 't3_19brplq'}, {'entity_group': 'LOC', 'score': np.float32(0.9438551), 'word': 'Sri Lanka', 'start': 0, 'end': 9, 'submission_id': 't3_u3lnwy'}, {'entity_group': 'PER', 'score': np.float32(0.55224574), 'word': 'Lanka Bell', 'start': 0, 'end': 10, 'submission_id': 't3_1bn2pxu'}, {'entity_group': 'LOC', 'score': np.float32(0.99882644), 'word': 'Nine Arch Bridge', 'start': 81, 'end': 97, 'submission_id': 't3_1fzryva'}, {'entity_group': 'MISC', 'score': np.float32(0.9021712), 'word': 'Slight Dip', 'start': 25, 'end': 35, 'submission_id': 't3_1g1thhy'}, {'entity_group': 'LOC', 'score': np.float32(0.97185814), 'word': 'Island', 'start': 0, 'end': 6, 'submission_id': 't3_18ecmzc'}, {'entity_group': 'PER', 'score': np.float32(0.9122009), 'word': 'Nathasha', 'start': 24, 'end': 32, 'submission_id': 't3_13unq6h'}, {'entity_group': 'PER', 'score': np.float32(0.9378774), 'word': 'Divaina', 'start': 75, 'end': 82, 'submission_id': 't3_13unq6h'}, {'entity_group': 'MISC', 'score': np.float32(0.54146135), 'word': 'Swivel', 'start': 23, 'end': 29, 'submission_id': 't3_1bt5kzm'}, {'entity_group': 'LOC', 'score': np.float32(0.6032442), 'word': 'Russia', 'start': 2, 'end': 8, 'submission_id': 't3_1bl95h0'}, {'entity_group': 'LOC', 'score': np.float32(0.8248446), 'word': 'Moscow', 'start': 9, 'end': 15, 'submission_id': 't3_1bl95h0'}, {'entity_group': 'LOC', 'score': np.float32(0.9628478), 'word': 'Crocus City Hall', 'start': 33, 'end': 49, 'submission_id': 't3_1bl95h0'}, {'entity_group': 'MISC', 'score': np.float32(0.29297355), 'word': 'Lanka', 'start': 62, 'end': 67, 'submission_id': 't3_1bl95h0'}, {'entity_group': 'LOC', 'score': np.float32(0.98427767), 'word': 'Moscow', 'start': 73, 'end': 79, 'submission_id': 't3_1bl95h0'}, {'entity_group': 'LOC', 'score': np.float32(0.9927982), 'word': \"President ' s House\", 'start': 45, 'end': 62, 'submission_id': 't3_1fqi3vm'}, {'entity_group': 'PER', 'score': np.float32(0.98440915), 'word': 'Ranjan', 'start': 31, 'end': 37, 'submission_id': 't3_1gd24mk'}, {'entity_group': 'LOC', 'score': np.float32(0.9600529), 'word': 'Sugathadasa', 'start': 51, 'end': 62, 'submission_id': 't3_1gd24mk'}, {'entity_group': 'LOC', 'score': np.float32(0.99625945), 'word': 'Sri Lanka', 'start': 23, 'end': 32, 'submission_id': 't3_1g4c2p8'}, {'entity_group': 'ORG', 'score': np.float32(0.83444107), 'word': 'Carlson Gracie Team', 'start': 49, 'end': 68, 'submission_id': 't3_1g4c2p8'}, {'entity_group': 'MISC', 'score': np.float32(0.9475652), 'word': 'ada', 'start': 11, 'end': 14, 'submission_id': 't3_1cw8tsf'}, {'entity_group': 'MISC', 'score': np.float32(0.532596), 'word': '##derana', 'start': 14, 'end': 20, 'submission_id': 't3_1cw8tsf'}, {'entity_group': 'PER', 'score': np.float32(0.916468), 'word': 'Elon', 'start': 45, 'end': 49, 'submission_id': 't3_1cwioii'}, {'entity_group': 'LOC', 'score': np.float32(0.9994711), 'word': 'Sri Lanka', 'start': 2, 'end': 11, 'submission_id': 't3_18f5utb'}, {'entity_group': 'MISC', 'score': np.float32(0.97642565), 'word': 'Colombo Book Fair', 'start': 17, 'end': 34, 'submission_id': 't3_1fs8r07'}, {'entity_group': 'LOC', 'score': np.float32(0.971255), 'word': 'Avenra', 'start': 20, 'end': 26, 'submission_id': 't3_umdjsc'}, {'entity_group': 'ORG', 'score': np.float32(0.97395915), 'word': 'Trinity', 'start': 0, 'end': 7, 'submission_id': 't3_1fbas4s'}, {'entity_group': 'MISC', 'score': np.float32(0.7039082), 'word': 'Ongoing Looting of', 'start': 4, 'end': 22, 'submission_id': 't3_1fz3t0z'}, {'entity_group': 'LOC', 'score': np.float32(0.7381314), 'word': 'Sri Lanka', 'start': 23, 'end': 32, 'submission_id': 't3_1fz3t0z'}, {'entity_group': 'MISC', 'score': np.float32(0.6118289), 'word': 's Cultural Heritage', 'start': 33, 'end': 52, 'submission_id': 't3_1fz3t0z'}, {'entity_group': 'LOC', 'score': np.float32(0.70335215), 'word': 'col', 'start': 28, 'end': 31, 'submission_id': 't3_1fvzvak'}, {'entity_group': 'LOC', 'score': np.float32(0.9996682), 'word': 'Sri Lanka', 'start': 0, 'end': 9, 'submission_id': 't3_1fwg9f7'}, {'entity_group': 'MISC', 'score': np.float32(0.9664784), 'word': 'Online Request for Birth, Death, and Marriage Certificates', 'start': 0, 'end': 58, 'submission_id': 't3_1gd2y44'}, {'entity_group': 'PER', 'score': np.float32(0.978141), 'word': 'Ranjan', 'start': 0, 'end': 6, 'submission_id': 't3_1fu6y83'}, {'entity_group': 'PER', 'score': np.float32(0.6876583), 'word': 'R. Sambandan', 'start': 0, 'end': 12, 'submission_id': 't3_1gbr5jr'}, {'entity_group': 'LOC', 'score': np.float32(0.9216057), 'word': 'Colombo', 'start': 32, 'end': 39, 'submission_id': 't3_1gbr5jr'}, {'entity_group': 'MISC', 'score': np.float32(0.59462786), 'word': 'Years After He', 'start': 74, 'end': 88, 'submission_id': 't3_1gbr5jr'}, {'entity_group': 'PER', 'score': np.float32(0.9931772), 'word': 'Jerome Guy', 'start': 5, 'end': 15, 'submission_id': 't3_13gmfb8'}, {'entity_group': 'LOC', 'score': np.float32(0.99919975), 'word': 'Sri Lanka', 'start': 45, 'end': 54, 'submission_id': 't3_13gmfb8'}, {'entity_group': 'PER', 'score': np.float32(0.9196287), 'word': 'Buddha', 'start': 97, 'end': 103, 'submission_id': 't3_13gmfb8'}, {'entity_group': 'MISC', 'score': np.float32(0.9124216), 'word': 'Civil war', 'start': 152, 'end': 161, 'submission_id': 't3_13gmfb8'}, {'entity_group': 'ORG', 'score': np.float32(0.9983385), 'word': 'SriLankan Airlines', 'start': 16, 'end': 34, 'submission_id': 't3_1b70cmu'}, {'entity_group': 'MISC', 'score': np.float32(0.791391), 'word': 'Ukrainian Arrested', 'start': 35, 'end': 53, 'submission_id': 't3_1ftj7hv'}, {'entity_group': 'LOC', 'score': np.float32(0.8453872), 'word': 'Unawatuna', 'start': 59, 'end': 68, 'submission_id': 't3_1ftj7hv'}, {'entity_group': 'LOC', 'score': np.float32(0.998428), 'word': 'Sri Lanka', 'start': 0, 'end': 9, 'submission_id': 't3_1fsrqiv'}, {'entity_group': 'PER', 'score': np.float32(0.99705714), 'word': 'Anura Dissanayake', 'start': 89, 'end': 106, 'submission_id': 't3_1fsrqiv'}, {'entity_group': 'LOC', 'score': np.float32(0.9978555), 'word': 'Sri Lanka', 'start': 9, 'end': 18, 'submission_id': 't3_1fcnrnm'}, {'entity_group': 'MISC', 'score': np.float32(0.5725178), 'word': 'Test', 'start': 26, 'end': 30, 'submission_id': 't3_1fcnrnm'}, {'entity_group': 'LOC', 'score': np.float32(0.8957261), 'word': 'England', 'start': 38, 'end': 45, 'submission_id': 't3_1fcnrnm'}, {'entity_group': 'MISC', 'score': np.float32(0.5859054), 'word': 'Think', 'start': 0, 'end': 5, 'submission_id': 't3_18qm4fc'}, {'entity_group': 'MISC', 'score': np.float32(0.74582916), 'word': '##nd Amendment', 'start': 80, 'end': 92, 'submission_id': 't3_1e74g5v'}, {'entity_group': 'MISC', 'score': np.float32(0.9175001), 'word': 'Presidential Election Controversy', 'start': 98, 'end': 131, 'submission_id': 't3_1e74g5v'}, {'entity_group': 'PER', 'score': np.float32(0.9992349), 'word': 'Diana Gamage', 'start': 21, 'end': 33, 'submission_id': 't3_1cmxh7b'}, {'entity_group': 'ORG', 'score': np.float32(0.98985606), 'word': 'India High Commission', 'start': 35, 'end': 56, 'submission_id': 't3_una33m'}, {'entity_group': 'ORG', 'score': np.float32(0.7205757), 'word': 'pro', 'start': 19, 'end': 22, 'submission_id': 't3_1g78a97'}, {'entity_group': 'LOC', 'score': np.float32(0.9961076), 'word': 'Sri Lanka', 'start': 0, 'end': 9, 'submission_id': 't3_1d9dil5'}, {'entity_group': 'MISC', 'score': np.float32(0.51129717), 'word': 'Starlink', 'start': 47, 'end': 55, 'submission_id': 't3_1d9dil5'}, {'entity_group': 'MISC', 'score': np.float32(0.78881186), 'word': 'Crazy', 'start': 0, 'end': 5, 'submission_id': 't3_1aerqxt'}, {'entity_group': 'ORG', 'score': np.float32(0.6871157), 'word': 'W', 'start': 129, 'end': 130, 'submission_id': 't3_18xns4w'}, {'entity_group': 'ORG', 'score': np.float32(0.95617366), 'word': 'Trinity', 'start': 0, 'end': 7, 'submission_id': 't3_1f0a3gf'}, {'entity_group': 'LOC', 'score': np.float32(0.98959), 'word': 'Sri Lanka', 'start': 0, 'end': 9, 'submission_id': 't3_1ff1yrj'}, {'entity_group': 'ORG', 'score': np.float32(0.9181846), 'word': 'Bloomberg', 'start': 62, 'end': 71, 'submission_id': 't3_1ff1yrj'}, {'entity_group': 'LOC', 'score': np.float32(0.9993403), 'word': 'Sri Lanka', 'start': 0, 'end': 9, 'submission_id': 't3_1fy5lyp'}, {'entity_group': 'MISC', 'score': np.float32(0.82196605), 'word': '2024 Presidential Election', 'start': 0, 'end': 26, 'submission_id': 't3_1eccy4a'}, {'entity_group': 'MISC', 'score': np.float32(0.5839778), 'word': 'W', 'start': 0, 'end': 1, 'submission_id': 't3_1assm96'}, {'entity_group': 'LOC', 'score': np.float32(0.4948598), 'word': 'Sri Lanka', 'start': 0, 'end': 9, 'submission_id': 't3_1g3ht60'}, {'entity_group': 'LOC', 'score': np.float32(0.976918), 'word': 'India', 'start': 49, 'end': 54, 'submission_id': 't3_1g3ht60'}, {'entity_group': 'LOC', 'score': np.float32(0.9715701), 'word': 'Srilanka', 'start': 56, 'end': 64, 'submission_id': 't3_1g3ht60'}, {'entity_group': 'LOC', 'score': np.float32(0.8758442), 'word': 'Sri Lanka', 'start': 16, 'end': 25, 'submission_id': 't3_1blxzqc'}, {'entity_group': 'ORG', 'score': np.float32(0.96146685), 'word': 'McDonald Social Media', 'start': 27, 'end': 48, 'submission_id': 't3_1blxzqc'}, {'entity_group': 'MISC', 'score': np.float32(0.44258666), 'word': 'Web', 'start': 53, 'end': 56, 'submission_id': 't3_1blxzqc'}, {'entity_group': 'MISC', 'score': np.float32(0.79683584), 'word': 'Breaking News', 'start': 55, 'end': 68, 'submission_id': 't3_1eau5n8'}, {'entity_group': 'LOC', 'score': np.float32(0.9945919), 'word': 'Colombo', 'start': 0, 'end': 7, 'submission_id': 't3_1bdjetz'}, {'entity_group': 'LOC', 'score': np.float32(0.96916103), 'word': 'Ontario', 'start': 0, 'end': 7, 'submission_id': 't3_vn30or'}, {'entity_group': 'LOC', 'score': np.float32(0.9988894), 'word': 'Canada', 'start': 8, 'end': 14, 'submission_id': 't3_vn30or'}, {'entity_group': 'MISC', 'score': np.float32(0.859005), 'word': 'Tamil Genocide Education Week', 'start': 30, 'end': 59, 'submission_id': 't3_vn30or'}, {'entity_group': 'ORG', 'score': np.float32(0.971293), 'word': 'SLT', 'start': 0, 'end': 3, 'submission_id': 't3_12j8o5a'}, {'entity_group': 'PER', 'score': np.float32(0.99969375), 'word': 'Anura Kumara Dissanayake', 'start': 10, 'end': 34, 'submission_id': 't3_1foeemk'}, {'entity_group': 'MISC', 'score': np.float32(0.97679794), 'word': 'Public Holiday', 'start': 0, 'end': 14, 'submission_id': 't3_1fm62d1'}, {'entity_group': 'LOC', 'score': np.float32(0.9998276), 'word': 'Sri Lanka', 'start': 29, 'end': 38, 'submission_id': 't3_1g2s8a6'}, {'entity_group': 'LOC', 'score': np.float32(0.9997791), 'word': 'Sri Lanka', 'start': 35, 'end': 44, 'submission_id': 't3_14rxwqa'}, {'entity_group': 'ORG', 'score': np.float32(0.8831051), 'word': 'CB', 'start': 40, 'end': 42, 'submission_id': 't3_1fozbcp'}, {'entity_group': 'ORG', 'score': np.float32(0.6531923), 'word': 'Starlink', 'start': 0, 'end': 8, 'submission_id': 't3_1dkzda4'}, {'entity_group': 'LOC', 'score': np.float32(0.8214949), 'word': 'Lotus Tower', 'start': 53, 'end': 64, 'submission_id': 't3_1fy6ymb'}, {'entity_group': 'PER', 'score': np.float32(0.9928913), 'word': 'Gotabhaya Rajapaksha', 'start': 54, 'end': 74, 'submission_id': 't3_tt2vcs'}, {'entity_group': 'LOC', 'score': np.float32(0.9970853), 'word': 'Mirihana', 'start': 86, 'end': 94, 'submission_id': 't3_tt2vcs'}, {'entity_group': 'MISC', 'score': np.float32(0.86601657), 'word': 'Vehicle Imports : An Update from the Authorities', 'start': 0, 'end': 47, 'submission_id': 't3_1dc41o7'}, {'entity_group': 'MISC', 'score': np.float32(0.736169), 'word': 'Demodara', 'start': 41, 'end': 49, 'submission_id': 't3_15076ns'}, {'entity_group': 'LOC', 'score': np.float32(0.96669984), 'word': 'Sri Lanka', 'start': 23, 'end': 32, 'submission_id': 't3_17vqu2z'}, {'entity_group': 'MISC', 'score': np.float32(0.8364862), 'word': 'Formula 4', 'start': 57, 'end': 66, 'submission_id': 't3_17vqu2z'}, {'entity_group': 'MISC', 'score': np.float32(0.96590537), 'word': 'Readers ’ Choice Awards', 'start': 38, 'end': 60, 'submission_id': 't3_1g84jz6'}, {'entity_group': 'MISC', 'score': np.float32(0.90034235), 'word': \"Talduwa ' s Brief Calm : Flooding Subsides as Heavy Rain Looms Again\", 'start': 0, 'end': 65, 'submission_id': 't3_1g1ilwi'}, {'entity_group': 'ORG', 'score': np.float32(0.99905074), 'word': 'Election Commission', 'start': 23, 'end': 42, 'submission_id': 't3_1fnihxe'}, {'entity_group': 'PER', 'score': np.float32(0.9997555), 'word': 'Anura Kumara Dissanayake', 'start': 79, 'end': 103, 'submission_id': 't3_1fnihxe'}, {'entity_group': 'MISC', 'score': np.float32(0.7047035), 'word': 'Newsfirst', 'start': 22, 'end': 31, 'submission_id': 't3_1fzmf56'}, {'entity_group': 'ORG', 'score': np.float32(0.67151105), 'word': 'So mobile', 'start': 0, 'end': 9, 'submission_id': 't3_1fwq265'}, {'entity_group': 'LOC', 'score': np.float32(0.9979559), 'word': 'Israel', 'start': 54, 'end': 60, 'submission_id': 't3_1g7aad7'}, {'entity_group': 'MISC', 'score': np.float32(0.44596353), 'word': 'OL', 'start': 60, 'end': 62, 'submission_id': 't3_1frwu3u'}, {'entity_group': 'MISC', 'score': np.float32(0.613012), 'word': 'U', 'start': 0, 'end': 1, 'submission_id': 't3_1ga2ff0'}, {'entity_group': 'LOC', 'score': np.float32(0.9997548), 'word': 'Sri Lanka', 'start': 38, 'end': 47, 'submission_id': 't3_1fl2023'}, {'entity_group': 'ORG', 'score': np.float32(0.9265481), 'word': 'Reddit', 'start': 27, 'end': 33, 'submission_id': 't3_1fyxieg'}, {'entity_group': 'LOC', 'score': np.float32(0.77103907), 'word': 'Sri Lanka', 'start': 5, 'end': 14, 'submission_id': 't3_1fbtf9j'}, {'entity_group': 'MISC', 'score': np.float32(0.35641477), 'word': '##n', 'start': 14, 'end': 15, 'submission_id': 't3_1fbtf9j'}, {'entity_group': 'LOC', 'score': np.float32(0.74030757), 'word': 'Sri Lanka', 'start': 36, 'end': 45, 'submission_id': 't3_1fbtf9j'}, {'entity_group': 'MISC', 'score': np.float32(0.4223842), 'word': '##n', 'start': 45, 'end': 46, 'submission_id': 't3_1fbtf9j'}, {'entity_group': 'LOC', 'score': np.float32(0.9162154), 'word': 'Srilankan', 'start': 16, 'end': 25, 'submission_id': 't3_1fv6r3z'}, {'entity_group': 'MISC', 'score': np.float32(0.95359087), 'word': 'Came Across a Dumb Comment About', 'start': 0, 'end': 32, 'submission_id': 't3_1g251hx'}, {'entity_group': 'LOC', 'score': np.float32(0.64079857), 'word': 'Sri Lanka', 'start': 33, 'end': 42, 'submission_id': 't3_1g251hx'}, {'entity_group': 'ORG', 'score': np.float32(0.914578), 'word': 'CIS', 'start': 3, 'end': 6, 'submission_id': 't3_1fygkhx'}, {'entity_group': 'MISC', 'score': np.float32(0.6321139), 'word': 'Hey everyone!!', 'start': 0, 'end': 14, 'submission_id': 't3_1fs0c1z'}, {'entity_group': 'LOC', 'score': np.float32(0.9997527), 'word': 'Colombo', 'start': 86, 'end': 93, 'submission_id': 't3_1g42efc'}, {'entity_group': 'LOC', 'score': np.float32(0.9997093), 'word': 'Colombo', 'start': 40, 'end': 47, 'submission_id': 't3_1gaevlw'}, {'entity_group': 'MISC', 'score': np.float32(0.94760823), 'word': 'sinh', 'start': 84, 'end': 88, 'submission_id': 't3_1gbksye'}, {'entity_group': 'MISC', 'score': np.float32(0.8034345), 'word': '##ala', 'start': 88, 'end': 91, 'submission_id': 't3_1gbksye'}, {'entity_group': 'LOC', 'score': np.float32(0.5897398), 'word': 'SL', 'start': 12, 'end': 14, 'submission_id': 't3_1ejs97j'}, {'entity_group': 'MISC', 'score': np.float32(0.47111893), 'word': 'I', 'start': 0, 'end': 1, 'submission_id': 't3_1e8c2ax'}, {'entity_group': 'LOC', 'score': np.float32(0.9130963), 'word': 'Sri Lanka', 'start': 13, 'end': 22, 'submission_id': 't3_1e6xg2m'}, {'entity_group': 'LOC', 'score': np.float32(0.99967474), 'word': 'Sri Lanka', 'start': 3, 'end': 12, 'submission_id': 't3_1bvsy2n'}, {'entity_group': 'LOC', 'score': np.float32(0.8736752), 'word': 'Maradana', 'start': 15, 'end': 23, 'submission_id': 't3_1g4s8wl'}, {'entity_group': 'LOC', 'score': np.float32(0.70023704), 'word': 'Sri', 'start': 32, 'end': 35, 'submission_id': 't3_1fry36s'}, {'entity_group': 'ORG', 'score': np.float32(0.6516065), 'word': 'New Passport Design', 'start': 28, 'end': 47, 'submission_id': 't3_1g9qadc'}, {'entity_group': 'ORG', 'score': np.float32(0.66895354), 'word': 'Team Mu', 'start': 22, 'end': 29, 'submission_id': 't3_1f73ko4'}, {'entity_group': 'MISC', 'score': np.float32(0.48705542), 'word': '##nche', 'start': 29, 'end': 33, 'submission_id': 't3_1f73ko4'}, {'entity_group': 'ORG', 'score': np.float32(0.4972465), 'word': '##e', 'start': 33, 'end': 34, 'submission_id': 't3_1f73ko4'}, {'entity_group': 'ORG', 'score': np.float32(0.59674937), 'word': 'Team Maliban', 'start': 38, 'end': 50, 'submission_id': 't3_1f73ko4'}, {'entity_group': 'MISC', 'score': np.float32(0.61290026), 'word': 'What ’', 'start': 0, 'end': 5, 'submission_id': 't3_1f7xmvt'}, {'entity_group': 'LOC', 'score': np.float32(0.6417736), 'word': 'Sri Lanka', 'start': 10, 'end': 19, 'submission_id': 't3_1esyucy'}, {'entity_group': 'LOC', 'score': np.float32(0.47809163), 'word': 'Sri', 'start': 5, 'end': 8, 'submission_id': 't3_1g967hj'}, {'entity_group': 'ORG', 'score': np.float32(0.6549285), 'word': 'Lankan Pickup Lines', 'start': 9, 'end': 28, 'submission_id': 't3_1g967hj'}, {'entity_group': 'MISC', 'score': np.float32(0.97437173), 'word': 'Common', 'start': 0, 'end': 6, 'submission_id': 't3_1g5g2i8'}, {'entity_group': 'MISC', 'score': np.float32(0.82246655), 'word': 'Computer', 'start': 60, 'end': 68, 'submission_id': 't3_1el826c'}, {'entity_group': 'LOC', 'score': np.float32(0.9291549), 'word': 'Sri Lanka', 'start': 7, 'end': 16, 'submission_id': 't3_1f3tbx0'}, {'entity_group': 'LOC', 'score': np.float32(0.9474361), 'word': 'Sri Lanka', 'start': 78, 'end': 87, 'submission_id': 't3_1f3tbx0'}, {'entity_group': 'LOC', 'score': np.float32(0.99956524), 'word': 'Sri Lanka', 'start': 113, 'end': 122, 'submission_id': 't3_1f3tbx0'}, {'entity_group': 'MISC', 'score': np.float32(0.91089994), 'word': 'SL', 'start': 59, 'end': 61, 'submission_id': 't3_1g8pfcg'}, {'entity_group': 'LOC', 'score': np.float32(0.9990512), 'word': 'Sri Lanka', 'start': 0, 'end': 9, 'submission_id': 't3_1eq6m6c'}, {'entity_group': 'MISC', 'score': np.float32(0.58762574), 'word': '90', 'start': 0, 'end': 2, 'submission_id': 't3_1eptpk8'}, {'entity_group': 'ORG', 'score': np.float32(0.9851649), 'word': 'CID', 'start': 16, 'end': 19, 'submission_id': 't3_1f27099'}, {'entity_group': 'LOC', 'score': np.float32(0.5266331), 'word': 'Sri', 'start': 0, 'end': 3, 'submission_id': 't3_1fstemq'}, {'entity_group': 'PER', 'score': np.float32(0.5840421), 'word': '##lankan', 'start': 3, 'end': 9, 'submission_id': 't3_1fstemq'}, {'entity_group': 'LOC', 'score': np.float32(0.99584246), 'word': 'Sri Lanka', 'start': 5, 'end': 14, 'submission_id': 't3_1g3ahms'}, {'entity_group': 'MISC', 'score': np.float32(0.80322665), 'word': 'Developed Status Within Our Lifetime', 'start': 23, 'end': 59, 'submission_id': 't3_1g3ahms'}, {'entity_group': 'MISC', 'score': np.float32(0.8465858), 'word': 'Thoughts on the Path Ahead', 'start': 61, 'end': 87, 'submission_id': 't3_1g3ahms'}, {'entity_group': 'LOC', 'score': np.float32(0.9974686), 'word': 'Sri Lanka', 'start': 0, 'end': 9, 'submission_id': 't3_1fovki7'}, {'entity_group': 'LOC', 'score': np.float32(0.5125927), 'word': 'galle', 'start': 29, 'end': 34, 'submission_id': 't3_1g2ivk7'}, {'entity_group': 'LOC', 'score': np.float32(0.54317164), 'word': '##una', 'start': 41, 'end': 44, 'submission_id': 't3_1g2ivk7'}, {'entity_group': 'LOC', 'score': np.float32(0.83534706), 'word': 'Sri Lanka', 'start': 26, 'end': 35, 'submission_id': 't3_1fp44iu'}, {'entity_group': 'MISC', 'score': np.float32(0.48217008), 'word': '##n', 'start': 35, 'end': 36, 'submission_id': 't3_1fp44iu'}, {'entity_group': 'MISC', 'score': np.float32(0.9988398), 'word': 'Facebook', 'start': 22, 'end': 30, 'submission_id': 't3_1g75ha4'}, {'entity_group': 'MISC', 'score': np.float32(0.9759554), 'word': 'Election Night Live Stream on Discord – Join Us for Results & Discussion!', 'start': 0, 'end': 73, 'submission_id': 't3_1fm0mx2'}, {'entity_group': 'LOC', 'score': np.float32(0.95807946), 'word': 'Sri Lanka', 'start': 47, 'end': 56, 'submission_id': 't3_1bachmw'}, {'entity_group': 'LOC', 'score': np.float32(0.97802854), 'word': 'Sri Lanka', 'start': 7, 'end': 16, 'submission_id': 't3_1fywsla'}, {'entity_group': 'MISC', 'score': np.float32(0.571965), 'word': 'What', 'start': 0, 'end': 4, 'submission_id': 't3_188zr3p'}, {'entity_group': 'LOC', 'score': np.float32(0.98218524), 'word': 'Sri Lanka', 'start': 8, 'end': 17, 'submission_id': 't3_1fd6la4'}, {'entity_group': 'ORG', 'score': np.float32(0.9946727), 'word': 'Nuwara Eliya Hill Club', 'start': 0, 'end': 22, 'submission_id': 't3_1bjwzsm'}, {'entity_group': 'PER', 'score': np.float32(0.9968521), 'word': 'Pol Sambol', 'start': 4, 'end': 14, 'submission_id': 't3_1cefxxu'}, {'entity_group': 'MISC', 'score': np.float32(0.6860064), 'word': 's', 'start': 23, 'end': 24, 'submission_id': 't3_1g745n5'}, {'entity_group': 'MISC', 'score': np.float32(0.9252942), 'word': 'Video', 'start': 0, 'end': 5, 'submission_id': 't3_1dwmrr1'}, {'entity_group': 'ORG', 'score': np.float32(0.9361963), 'word': 'JVP', 'start': 18, 'end': 21, 'submission_id': 't3_1d2jjhg'}, {'entity_group': 'MISC', 'score': np.float32(0.9967675), 'word': 'The Reality of Taxes and Life Abroad', 'start': 0, 'end': 36, 'submission_id': 't3_1f4mxe8'}, {'entity_group': 'PER', 'score': np.float32(0.9996998), 'word': 'Bill Maher', 'start': 0, 'end': 10, 'submission_id': 't3_1anbx89'}, {'entity_group': 'MISC', 'score': np.float32(0.386555), 'word': 'Stil', 'start': 17, 'end': 21, 'submission_id': 't3_1anbx89'}, {'entity_group': 'LOC', 'score': np.float32(0.8920914), 'word': 'Sri Lanka', 'start': 40, 'end': 49, 'submission_id': 't3_1ga5a2o'}, {'entity_group': 'MISC', 'score': np.float32(0.3597449), 'word': '##n', 'start': 49, 'end': 50, 'submission_id': 't3_1ga5a2o'}, {'entity_group': 'LOC', 'score': np.float32(0.9996412), 'word': 'Sri Lanka', 'start': 18, 'end': 27, 'submission_id': 't3_1cbpzpn'}, {'entity_group': 'MISC', 'score': np.float32(0.5731254), 'word': 'AI', 'start': 11, 'end': 13, 'submission_id': 't3_1g55za4'}, {'entity_group': 'LOC', 'score': np.float32(0.8032601), 'word': 'SL', 'start': 12, 'end': 14, 'submission_id': 't3_1e725s3'}, {'entity_group': 'LOC', 'score': np.float32(0.9892491), 'word': 'USA', 'start': 85, 'end': 88, 'submission_id': 't3_1e725s3'}, {'entity_group': 'MISC', 'score': np.float32(0.8932324), 'word': 'Sri Lankan Hill Country Leopard', 'start': 8, 'end': 39, 'submission_id': 't3_1f68zga'}, {'entity_group': 'LOC', 'score': np.float32(0.76953936), 'word': 'Sri lanka', 'start': 21, 'end': 30, 'submission_id': 't3_1ctu7qk'}, {'entity_group': 'MISC', 'score': np.float32(0.9535848), 'word': 'Experience with Gynecomastia Surgery', 'start': 3, 'end': 39, 'submission_id': 't3_1czwbaw'}, {'entity_group': 'LOC', 'score': np.float32(0.99037004), 'word': 'Sri Lanka', 'start': 43, 'end': 52, 'submission_id': 't3_1czwbaw'}, {'entity_group': 'MISC', 'score': np.float32(0.8417103), 'word': 's', 'start': 22, 'end': 23, 'submission_id': 't3_1c59xa7'}, {'entity_group': 'MISC', 'score': np.float32(0.5481191), 'word': '##rilanka', 'start': 23, 'end': 30, 'submission_id': 't3_1c59xa7'}, {'entity_group': 'LOC', 'score': np.float32(0.74997556), 'word': 'Sri Lanka', 'start': 0, 'end': 9, 'submission_id': 't3_18v9sed'}, {'entity_group': 'MISC', 'score': np.float32(0.68454546), 'word': 'religious', 'start': 22, 'end': 31, 'submission_id': 't3_1dyulvb'}, {'entity_group': 'ORG', 'score': np.float32(0.26132658), 'word': 'Was', 'start': 5, 'end': 8, 'submission_id': 't3_1dy6s93'}, {'entity_group': 'PER', 'score': np.float32(0.65391076), 'word': '##antha', 'start': 8, 'end': 13, 'submission_id': 't3_1dy6s93'}, {'entity_group': 'MISC', 'score': np.float32(0.913389), 'word': 'Children ’ s Day', 'start': 25, 'end': 39, 'submission_id': 't3_1ftlw8k'}, {'entity_group': 'MISC', 'score': np.float32(0.94225436), 'word': 'Facebook', 'start': 91, 'end': 99, 'submission_id': 't3_1eu83j7'}, {'entity_group': 'PER', 'score': np.float32(0.72760147), 'word': 'Parippu', 'start': 35, 'end': 42, 'submission_id': 't3_1cmxkbh'}, {'entity_group': 'PER', 'score': np.float32(0.6369853), 'word': 'Niwithi', 'start': 48, 'end': 55, 'submission_id': 't3_1cmxkbh'}, {'entity_group': 'LOC', 'score': np.float32(0.9762529), 'word': 'Sri Lanka', 'start': 49, 'end': 58, 'submission_id': 't3_1drfzvz'}, {'entity_group': 'LOC', 'score': np.float32(0.99688005), 'word': 'Sri Lanka', 'start': 32, 'end': 41, 'submission_id': 't3_1ccrnu9'}, {'entity_group': 'LOC', 'score': np.float32(0.99284136), 'word': 'Colombo', 'start': 43, 'end': 50, 'submission_id': 't3_1ccrnu9'}, {'entity_group': 'PER', 'score': np.float32(0.49621958), 'word': 'Kot', 'start': 0, 'end': 3, 'submission_id': 't3_1e1ecyt'}, {'entity_group': 'MISC', 'score': np.float32(0.541752), 'word': '##tu', 'start': 3, 'end': 5, 'submission_id': 't3_1e1ecyt'}, {'entity_group': 'PER', 'score': np.float32(0.6960261), 'word': 'Mee', 'start': 6, 'end': 9, 'submission_id': 't3_1e1ecyt'}, {'entity_group': 'ORG', 'score': np.float32(0.99264884), 'word': 'Sampath Bank', 'start': 0, 'end': 12, 'submission_id': 't3_1g43f8h'}, {'entity_group': 'MISC', 'score': np.float32(0.5330528), 'word': 'Isreal', 'start': 28, 'end': 34, 'submission_id': 't3_1evxzgo'}, {'entity_group': 'LOC', 'score': np.float32(0.9630772), 'word': 'Sri Lanka', 'start': 12, 'end': 21, 'submission_id': 't3_1bsvkfy'}, {'entity_group': 'MISC', 'score': np.float32(0.3782355), 'word': 'I', 'start': 0, 'end': 1, 'submission_id': 't3_17tkt12'}, {'entity_group': 'ORG', 'score': np.float32(0.42023674), 'word': 'pl', 'start': 24, 'end': 26, 'submission_id': 't3_17tkt12'}, {'entity_group': 'LOC', 'score': np.float32(0.9997742), 'word': 'Sri Lanka', 'start': 58, 'end': 67, 'submission_id': 't3_1e268sh'}, {'entity_group': 'MISC', 'score': np.float32(0.65093553), 'word': 'sri lanka', 'start': 25, 'end': 34, 'submission_id': 't3_1fikkbv'}, {'entity_group': 'LOC', 'score': np.float32(0.81037587), 'word': 'Chiller', 'start': 10, 'end': 17, 'submission_id': 't3_1gcaooi'}, {'entity_group': 'LOC', 'score': np.float32(0.99693817), 'word': 'Srilanka', 'start': 8, 'end': 16, 'submission_id': 't3_1b1zwvx'}, {'entity_group': 'LOC', 'score': np.float32(0.7672546), 'word': 'Lanka', 'start': 10, 'end': 15, 'submission_id': 't3_1cct8bu'}, {'entity_group': 'MISC', 'score': np.float32(0.9892237), 'word': 'iPhone', 'start': 21, 'end': 27, 'submission_id': 't3_1bmec4e'}, {'entity_group': 'MISC', 'score': np.float32(0.71712255), 'word': 'Accountability', 'start': 0, 'end': 14, 'submission_id': 't3_1ckbkru'}, {'entity_group': 'LOC', 'score': np.float32(0.9606333), 'word': 'Sri Lanka', 'start': 3, 'end': 12, 'submission_id': 't3_17ijckl'}, {'entity_group': 'MISC', 'score': np.float32(0.55595446), 'word': 'Lanka', 'start': 38, 'end': 43, 'submission_id': 't3_17ijckl'}, {'entity_group': 'LOC', 'score': np.float32(0.47625148), 'word': 'sinh', 'start': 22, 'end': 26, 'submission_id': 't3_1dt8uqc'}, {'entity_group': 'MISC', 'score': np.float32(0.4245906), 'word': '##ale', 'start': 26, 'end': 29, 'submission_id': 't3_1dt8uqc'}, {'entity_group': 'MISC', 'score': np.float32(0.79099905), 'word': 'Sinh', 'start': 3, 'end': 7, 'submission_id': 't3_1969lb5'}, {'entity_group': 'ORG', 'score': np.float32(0.947172), 'word': 'NASA', 'start': 49, 'end': 53, 'submission_id': 't3_1969lb5'}, {'entity_group': 'LOC', 'score': np.float32(0.7486555), 'word': 'Sri Lankan', 'start': 69, 'end': 79, 'submission_id': 't3_1969lb5'}, {'entity_group': 'LOC', 'score': np.float32(0.4450798), 'word': 'SL', 'start': 23, 'end': 25, 'submission_id': 't3_1ahuv5j'}, {'entity_group': 'ORG', 'score': np.float32(0.6731193), 'word': 'Sri Lankan Cricket', 'start': 6, 'end': 24, 'submission_id': 't3_1dayyn8'}, {'entity_group': 'MISC', 'score': np.float32(0.69992644), 'word': 'Sinhalese', 'start': 47, 'end': 56, 'submission_id': 't3_1csp599'}, {'entity_group': 'MISC', 'score': np.float32(0.94146293), 'word': 'English', 'start': 67, 'end': 74, 'submission_id': 't3_1csp599'}, {'entity_group': 'MISC', 'score': np.float32(0.50117445), 'word': 'Start', 'start': 10, 'end': 15, 'submission_id': 't3_1g5mks8'}, {'entity_group': 'MISC', 'score': np.float32(0.8268494), 'word': 'Petition for Better Internet Speeds', 'start': 18, 'end': 53, 'submission_id': 't3_1g5mks8'}, {'entity_group': 'LOC', 'score': np.float32(0.9238194), 'word': 'Sri Lanka', 'start': 57, 'end': 66, 'submission_id': 't3_1g5mks8'}, {'entity_group': 'MISC', 'score': np.float32(0.7342994), 'word': 'This Plate Cost Me', 'start': 0, 'end': 18, 'submission_id': 't3_1btrs6t'}, {'entity_group': 'MISC', 'score': np.float32(0.8261136), 'word': 'Should Be', 'start': 43, 'end': 52, 'submission_id': 't3_1btrs6t'}, {'entity_group': 'MISC', 'score': np.float32(0.5905848), 'word': 'Now!', 'start': 68, 'end': 72, 'submission_id': 't3_1btrs6t'}, {'entity_group': 'ORG', 'score': np.float32(0.9231501), 'word': 'Hamas', 'start': 16, 'end': 21, 'submission_id': 't3_1844399'}, {'entity_group': 'LOC', 'score': np.float32(0.56607807), 'word': 'Bangladesh', 'start': 24, 'end': 34, 'submission_id': 't3_1emlu6b'}, {'entity_group': 'MISC', 'score': np.float32(0.33283108), 'word': '##i', 'start': 34, 'end': 35, 'submission_id': 't3_1emlu6b'}, {'entity_group': 'LOC', 'score': np.float32(0.9993633), 'word': 'Sri Lanka', 'start': 49, 'end': 58, 'submission_id': 't3_1b2ldsa'}, {'entity_group': 'LOC', 'score': np.float32(0.897196), 'word': 'Kiribath', 'start': 0, 'end': 8, 'submission_id': 't3_1cb4wxk'}, {'entity_group': 'ORG', 'score': np.float32(0.6501325), 'word': 'MasterC', 'start': 12, 'end': 19, 'submission_id': 't3_1cb4wxk'}, {'entity_group': 'ORG', 'score': np.float32(0.70288867), 'word': '##f', 'start': 21, 'end': 22, 'submission_id': 't3_1cb4wxk'}, {'entity_group': 'LOC', 'score': np.float32(0.60081947), 'word': 'Australia', 'start': 23, 'end': 32, 'submission_id': 't3_1cb4wxk'}, {'entity_group': 'MISC', 'score': np.float32(0.8094559), 'word': 'Ling - learn', 'start': 0, 'end': 12, 'submission_id': 't3_1e651bt'}, {'entity_group': 'MISC', 'score': np.float32(0.50155747), 'word': 'tam', 'start': 13, 'end': 16, 'submission_id': 't3_1e651bt'}, {'entity_group': 'LOC', 'score': np.float32(0.9383793), 'word': 'Sri Lanka', 'start': 9, 'end': 18, 'submission_id': 't3_1gb9ses'}, {'entity_group': 'LOC', 'score': np.float32(0.99972284), 'word': 'Sri Lanka', 'start': 15, 'end': 24, 'submission_id': 't3_1fvsjo4'}, {'entity_group': 'LOC', 'score': np.float32(0.9997499), 'word': 'Sri Lanka', 'start': 35, 'end': 44, 'submission_id': 't3_1czjmjk'}, {'entity_group': 'MISC', 'score': np.float32(0.44771704), 'word': 'Over', 'start': 0, 'end': 4, 'submission_id': 't3_1eksay3'}, {'entity_group': 'LOC', 'score': np.float32(0.99979365), 'word': 'Sri Lanka', 'start': 34, 'end': 43, 'submission_id': 't3_1buigre'}, {'entity_group': 'ORG', 'score': np.float32(0.697516), 'word': 'McDonald', 'start': 0, 'end': 8, 'submission_id': 't3_1blynxu'}, {'entity_group': 'LOC', 'score': np.float32(0.9996766), 'word': 'Sri Lanka', 'start': 74, 'end': 83, 'submission_id': 't3_1blynxu'}, {'entity_group': 'ORG', 'score': np.float32(0.7442568), 'word': 'Government & Private Uni Graduate', 'start': 11, 'end': 44, 'submission_id': 't3_1fl99k1'}, {'entity_group': 'ORG', 'score': np.float32(0.44311413), 'word': 'Ha', 'start': 0, 'end': 2, 'submission_id': 't3_1g80emx'}, {'entity_group': 'PER', 'score': np.float32(0.46047008), 'word': '##cker', 'start': 2, 'end': 6, 'submission_id': 't3_1g80emx'}, {'entity_group': 'LOC', 'score': np.float32(0.4767447), 'word': 'Sri lank', 'start': 18, 'end': 26, 'submission_id': 't3_1dxf70m'}, {'entity_group': 'ORG', 'score': np.float32(0.33564714), 'word': 'Vehicle', 'start': 28, 'end': 35, 'submission_id': 't3_1dxf70m'}, {'entity_group': 'LOC', 'score': np.float32(0.73647165), 'word': 'Sri Lankan', 'start': 41, 'end': 51, 'submission_id': 't3_1fp6gix'}, {'entity_group': 'ORG', 'score': np.float32(0.97532076), 'word': 'SL', 'start': 7, 'end': 9, 'submission_id': 't3_1c5cmm9'}, {'entity_group': 'PER', 'score': np.float32(0.36492482), 'word': \"Jerome ' s Daughter\", 'start': 10, 'end': 27, 'submission_id': 't3_1cj5ang'}, {'entity_group': 'MISC', 'score': np.float32(0.80849147), 'word': 'Porsche Taycan', 'start': 61, 'end': 75, 'submission_id': 't3_1cj5ang'}, {'entity_group': 'ORG', 'score': np.float32(0.853428), 'word': 'Govt', 'start': 0, 'end': 4, 'submission_id': 't3_1f7zxff'}, {'entity_group': 'LOC', 'score': np.float32(0.99975973), 'word': 'Sri Lanka', 'start': 42, 'end': 51, 'submission_id': 't3_1ft22d4'}, {'entity_group': 'LOC', 'score': np.float32(0.99974525), 'word': 'Sri Lanka', 'start': 128, 'end': 137, 'submission_id': 't3_1ft22d4'}, {'entity_group': 'LOC', 'score': np.float32(0.7422302), 'word': 'sri lanka', 'start': 37, 'end': 46, 'submission_id': 't3_18ww9gt'}, {'entity_group': 'MISC', 'score': np.float32(0.7823657), 'word': 'SL', 'start': 49, 'end': 51, 'submission_id': 't3_1b18cv8'}, {'entity_group': 'LOC', 'score': np.float32(0.9731925), 'word': 'Colombo', 'start': 20, 'end': 27, 'submission_id': 't3_1g3jx8o'}, {'entity_group': 'LOC', 'score': np.float32(0.9997664), 'word': 'Sri Lanka', 'start': 41, 'end': 50, 'submission_id': 't3_1ckafek'}, {'entity_group': 'LOC', 'score': np.float32(0.9997731), 'word': 'Sri Lanka', 'start': 57, 'end': 66, 'submission_id': 't3_1fskxmw'}, {'entity_group': 'PER', 'score': np.float32(0.7042384), 'word': 'Yohani', 'start': 0, 'end': 6, 'submission_id': 't3_15mfael'}, {'entity_group': 'LOC', 'score': np.float32(0.9992144), 'word': 'Times Square', 'start': 23, 'end': 35, 'submission_id': 't3_15mfael'}, {'entity_group': 'LOC', 'score': np.float32(0.9365171), 'word': 'Sri Lanka', 'start': 48, 'end': 57, 'submission_id': 't3_15mfael'}, {'entity_group': 'LOC', 'score': np.float32(0.9991902), 'word': 'Times Square', 'start': 83, 'end': 95, 'submission_id': 't3_15mfael'}, {'entity_group': 'LOC', 'score': np.float32(0.9922122), 'word': 'NYC', 'start': 97, 'end': 100, 'submission_id': 't3_15mfael'}, {'entity_group': 'MISC', 'score': np.float32(0.95692486), 'word': 'Indian', 'start': 27, 'end': 33, 'submission_id': 't3_1fzncj1'}, {'entity_group': 'LOC', 'score': np.float32(0.9965931), 'word': 'Sri Lanka', 'start': 0, 'end': 9, 'submission_id': 't3_1bu3bh8'}, {'entity_group': 'ORG', 'score': np.float32(0.60121214), 'word': 'Timeout', 'start': 87, 'end': 94, 'submission_id': 't3_1bu3bh8'}, {'entity_group': 'MISC', 'score': np.float32(0.43371153), 'word': 'Im', 'start': 16, 'end': 18, 'submission_id': 't3_1g15sng'}, {'entity_group': 'LOC', 'score': np.float32(0.9997804), 'word': 'Sri Lanka', 'start': 24, 'end': 33, 'submission_id': 't3_1d64qk3'}, {'entity_group': 'ORG', 'score': np.float32(0.93541145), 'word': 'Uber', 'start': 0, 'end': 4, 'submission_id': 't3_1aoy0ay'}, {'entity_group': 'LOC', 'score': np.float32(0.9987258), 'word': 'Sri Lanka', 'start': 0, 'end': 9, 'submission_id': 't3_13y4xsp'}, {'entity_group': 'LOC', 'score': np.float32(0.84118676), 'word': 'Sri Lanka', 'start': 16, 'end': 25, 'submission_id': 't3_1f04z18'}, {'entity_group': 'MISC', 'score': np.float32(0.359194), 'word': '##n', 'start': 25, 'end': 26, 'submission_id': 't3_1f04z18'}, {'entity_group': 'LOC', 'score': np.float32(0.9990097), 'word': 'Sri Lanka', 'start': 11, 'end': 20, 'submission_id': 't3_1cj29hd'}, {'entity_group': 'MISC', 'score': np.float32(0.8308259), 'word': '- Friend Listens to Jerome Fernando', 'start': 5, 'end': 40, 'submission_id': 't3_1g70fhh'}, {'entity_group': 'MISC', 'score': np.float32(0.86244774), 'word': 'One shot', 'start': 60, 'end': 68, 'submission_id': 't3_1g454x5'}, {'entity_group': 'LOC', 'score': np.float32(0.9807875), 'word': 'Sri Lanka', 'start': 4, 'end': 13, 'submission_id': 't3_1fzwdnt'}, {'entity_group': 'MISC', 'score': np.float32(0.7163629), 'word': 'AC', 'start': 24, 'end': 26, 'submission_id': 't3_1gatsqk'}, {'entity_group': 'LOC', 'score': np.float32(0.9577799), 'word': 'Sri Lanka', 'start': 20, 'end': 29, 'submission_id': 't3_17r46e9'}, {'entity_group': 'MISC', 'score': np.float32(0.5469484), 'word': 'of Socialist', 'start': 4, 'end': 16, 'submission_id': 't3_1foyb3q'}, {'entity_group': 'LOC', 'score': np.float32(0.54140514), 'word': 'Ceylon', 'start': 17, 'end': 23, 'submission_id': 't3_1foyb3q'}, {'entity_group': 'LOC', 'score': np.float32(0.9974596), 'word': 'Indian Subcontinent', 'start': 35, 'end': 54, 'submission_id': 't3_1af911a'}, {'entity_group': 'MISC', 'score': np.float32(0.6125496), 'word': 'Babe', 'start': 0, 'end': 4, 'submission_id': 't3_15rvhpa'}, {'entity_group': 'LOC', 'score': np.float32(0.86131954), 'word': 'Sri Lanka', 'start': 0, 'end': 9, 'submission_id': 't3_15m0qd0'}, {'entity_group': 'MISC', 'score': np.float32(0.5376549), 'word': 'Marketing', 'start': 0, 'end': 9, 'submission_id': 't3_1c2z398'}, {'entity_group': 'ORG', 'score': np.float32(0.9344638), 'word': 'NPP', 'start': 22, 'end': 25, 'submission_id': 't3_1f5bonj'}, {'entity_group': 'LOC', 'score': np.float32(0.5770268), 'word': 'Dinemore', 'start': 26, 'end': 34, 'submission_id': 't3_1boz97n'}, {'entity_group': 'LOC', 'score': np.float32(0.9829044), 'word': 'Lanka', 'start': 21, 'end': 26, 'submission_id': 't3_1bsbmma'}, {'entity_group': 'MISC', 'score': np.float32(0.50549024), 'word': 'Australian', 'start': 33, 'end': 43, 'submission_id': 't3_1bsbmma'}, {'entity_group': 'LOC', 'score': np.float32(0.9997965), 'word': 'Sri Lanka', 'start': 32, 'end': 41, 'submission_id': 't3_192bzsz'}, {'entity_group': 'MISC', 'score': np.float32(0.5648676), 'word': 'u', 'start': 26, 'end': 27, 'submission_id': 't3_1e8kmmy'}, {'entity_group': 'MISC', 'score': np.float32(0.7281776), 'word': '##ber', 'start': 27, 'end': 30, 'submission_id': 't3_1e8kmmy'}, {'entity_group': 'LOC', 'score': np.float32(0.9997845), 'word': 'Sri Lanka', 'start': 29, 'end': 38, 'submission_id': 't3_16fy155'}, {'entity_group': 'MISC', 'score': np.float32(0.7724055), 'word': 'Lanka', 'start': 27, 'end': 32, 'submission_id': 't3_1dlofx4'}, {'entity_group': 'MISC', 'score': np.float32(0.4923603), 'word': '##n', 'start': 32, 'end': 33, 'submission_id': 't3_1dlofx4'}, {'entity_group': 'MISC', 'score': np.float32(0.99522734), 'word': 'Buddhist', 'start': 43, 'end': 51, 'submission_id': 't3_1g31nqs'}, {'entity_group': 'ORG', 'score': np.float32(0.7465308), 'word': 'Starlink', 'start': 23, 'end': 31, 'submission_id': 't3_1g72saq'}, {'entity_group': 'MISC', 'score': np.float32(0.7030994), 'word': 'Chinese', 'start': 0, 'end': 7, 'submission_id': 't3_1g8k8x7'}, {'entity_group': 'LOC', 'score': np.float32(0.90912193), 'word': 'Sri Lanka', 'start': 3, 'end': 12, 'submission_id': 't3_17kn9gp'}, {'entity_group': 'MISC', 'score': np.float32(0.81741565), 'word': 'Lanka', 'start': 30, 'end': 35, 'submission_id': 't3_17kn9gp'}, {'entity_group': 'MISC', 'score': np.float32(0.33176154), 'word': '##n', 'start': 35, 'end': 36, 'submission_id': 't3_17kn9gp'}, {'entity_group': 'LOC', 'score': np.float32(0.9997696), 'word': 'Colombo', 'start': 50, 'end': 57, 'submission_id': 't3_1f1p878'}, {'entity_group': 'MISC', 'score': np.float32(0.7126299), 'word': 'Ravana', 'start': 27, 'end': 33, 'submission_id': 't3_1gd5ac7'}, {'entity_group': 'MISC', 'score': np.float32(0.860052), 'word': 'Buddhist', 'start': 5, 'end': 13, 'submission_id': 't3_1576fko'}, {'entity_group': 'MISC', 'score': np.float32(0.9523946), 'word': 'Christians', 'start': 16, 'end': 26, 'submission_id': 't3_1576fko'}, {'entity_group': 'MISC', 'score': np.float32(0.9491305), 'word': 'Muslims', 'start': 28, 'end': 35, 'submission_id': 't3_1576fko'}, {'entity_group': 'LOC', 'score': np.float32(0.9996195), 'word': 'Sri Lanka', 'start': 69, 'end': 78, 'submission_id': 't3_1576fko'}, {'entity_group': 'MISC', 'score': np.float32(0.5413196), 'word': 'Ok', 'start': 0, 'end': 2, 'submission_id': 't3_1cuvswu'}, {'entity_group': 'MISC', 'score': np.float32(0.9304495), 'word': 'Soul Mates', 'start': 19, 'end': 29, 'submission_id': 't3_1g2qhpj'}, {'entity_group': 'LOC', 'score': np.float32(0.9298847), 'word': 'Sri Lanka', 'start': 8, 'end': 17, 'submission_id': 't3_16k6t15'}, {'entity_group': 'LOC', 'score': np.float32(0.99977934), 'word': 'Sri Lanka', 'start': 55, 'end': 64, 'submission_id': 't3_1fpp2on'}, {'entity_group': 'MISC', 'score': np.float32(0.51469535), 'word': 'What', 'start': 0, 'end': 4, 'submission_id': 't3_1fcge7p'}, {'entity_group': 'LOC', 'score': np.float32(0.9997386), 'word': 'Sri Lanka', 'start': 59, 'end': 68, 'submission_id': 't3_1ftk80u'}, {'entity_group': 'LOC', 'score': np.float32(0.7165656), 'word': 'Sri Lanka', 'start': 34, 'end': 43, 'submission_id': 't3_1g5pmt4'}, {'entity_group': 'MISC', 'score': np.float32(0.37704545), 'word': '##n', 'start': 43, 'end': 44, 'submission_id': 't3_1g5pmt4'}, {'entity_group': 'LOC', 'score': np.float32(0.78191), 'word': 'Sri Lanka', 'start': 86, 'end': 95, 'submission_id': 't3_1g5pmt4'}, {'entity_group': 'MISC', 'score': np.float32(0.39636272), 'word': '##n', 'start': 95, 'end': 96, 'submission_id': 't3_1g5pmt4'}, {'entity_group': 'LOC', 'score': np.float32(0.9924977), 'word': 'Sri Lanka', 'start': 4, 'end': 13, 'submission_id': 't3_152wz1n'}, {'entity_group': 'LOC', 'score': np.float32(0.9996077), 'word': 'Sri Lanka', 'start': 24, 'end': 33, 'submission_id': 't3_1cae9yh'}, {'entity_group': 'MISC', 'score': np.float32(0.3203516), 'word': 'Local', 'start': 17, 'end': 22, 'submission_id': 't3_1fcgjkk'}, {'entity_group': 'ORG', 'score': np.float32(0.6625475), 'word': 'Universities', 'start': 23, 'end': 35, 'submission_id': 't3_1fcgjkk'}, {'entity_group': 'LOC', 'score': np.float32(0.70467067), 'word': 'Lanka', 'start': 21, 'end': 26, 'submission_id': 't3_1fvnnpk'}, {'entity_group': 'PER', 'score': np.float32(0.494692), 'word': 'RW', 'start': 30, 'end': 32, 'submission_id': 't3_1fnjp0c'}, {'entity_group': 'LOC', 'score': np.float32(0.765933), 'word': 'Sri Lankan', 'start': 22, 'end': 32, 'submission_id': 't3_1dr2605'}, {'entity_group': 'LOC', 'score': np.float32(0.99960715), 'word': 'Colombo', 'start': 54, 'end': 61, 'submission_id': 't3_1gbmesu'}, {'entity_group': 'MISC', 'score': np.float32(0.9921651), 'word': 'Easter Attack', 'start': 30, 'end': 43, 'submission_id': 't3_1fpq1i9'}, {'entity_group': 'MISC', 'score': np.float32(0.7512542), 'word': 'We Should Improve All Schools', 'start': 4, 'end': 33, 'submission_id': 't3_1gbnirl'}, {'entity_group': 'LOC', 'score': np.float32(0.9635333), 'word': 'Sri Lanka', 'start': 37, 'end': 46, 'submission_id': 't3_1gbnirl'}, {'entity_group': 'LOC', 'score': np.float32(0.9992193), 'word': 'Sri Lanka', 'start': 9, 'end': 18, 'submission_id': 't3_1627d2h'}, {'entity_group': 'LOC', 'score': np.float32(0.8924704), 'word': 's', 'start': 43, 'end': 44, 'submission_id': 't3_1cupeg9'}, {'entity_group': 'LOC', 'score': np.float32(0.79502153), 'word': '##ri Lanka', 'start': 44, 'end': 52, 'submission_id': 't3_1cupeg9'}, {'entity_group': 'PER', 'score': np.float32(0.91616625), 'word': 'Jerome', 'start': 21, 'end': 27, 'submission_id': 't3_1cphfnw'}, {'entity_group': 'ORG', 'score': np.float32(0.55819196), 'word': 'tu', 'start': 44, 'end': 46, 'submission_id': 't3_1dlwu10'}, {'entity_group': 'MISC', 'score': np.float32(0.7962879), 'word': 'Carnage', 'start': 29, 'end': 36, 'submission_id': 't3_188iqq7'}, {'entity_group': 'MISC', 'score': np.float32(0.7253334), 'word': 'Advice', 'start': 46, 'end': 52, 'submission_id': 't3_1djd2fz'}, {'entity_group': 'LOC', 'score': np.float32(0.9997157), 'word': 'Sri Lanka', 'start': 49, 'end': 58, 'submission_id': 't3_17jpls9'}, {'entity_group': 'LOC', 'score': np.float32(0.9789493), 'word': 'Sri Lanka', 'start': 3, 'end': 12, 'submission_id': 't3_1e1khxf'}, {'entity_group': 'LOC', 'score': np.float32(0.51660585), 'word': 'SL', 'start': 60, 'end': 62, 'submission_id': 't3_1c0nkpg'}, {'entity_group': 'MISC', 'score': np.float32(0.8409138), 'word': 'Sinhales', 'start': 87, 'end': 95, 'submission_id': 't3_1g276bl'}, {'entity_group': 'MISC', 'score': np.float32(0.47484103), 'word': '##e', 'start': 95, 'end': 96, 'submission_id': 't3_1g276bl'}, {'entity_group': 'MISC', 'score': np.float32(0.7412146), 'word': 'What', 'start': 0, 'end': 4, 'submission_id': 't3_1g5uh7m'}, {'entity_group': 'ORG', 'score': np.float32(0.9957058), 'word': 'Ice Packets', 'start': 19, 'end': 30, 'submission_id': 't3_1cpcu41'}, {'entity_group': 'LOC', 'score': np.float32(0.9350228), 'word': 'Sri Lanka', 'start': 0, 'end': 9, 'submission_id': 't3_1gaw7al'}, {'entity_group': 'LOC', 'score': np.float32(0.9984056), 'word': 'Sri Lanka', 'start': 15, 'end': 24, 'submission_id': 't3_1cyunj9'}, {'entity_group': 'ORG', 'score': np.float32(0.96459377), 'word': 'DCSL', 'start': 0, 'end': 4, 'submission_id': 't3_1gb3sg9'}, {'entity_group': 'LOC', 'score': np.float32(0.9997706), 'word': 'Sri Lanka', 'start': 31, 'end': 40, 'submission_id': 't3_1cwju5t'}, {'entity_group': 'LOC', 'score': np.float32(0.9997489), 'word': 'Lanka', 'start': 38, 'end': 43, 'submission_id': 't3_19cqkib'}, {'entity_group': 'LOC', 'score': np.float32(0.9990225), 'word': 'Norway', 'start': 57, 'end': 63, 'submission_id': 't3_1ezzo0i'}, {'entity_group': 'PER', 'score': np.float32(0.7792627), 'word': 'Sauce', 'start': 26, 'end': 31, 'submission_id': 't3_1934n3a'}, {'entity_group': 'ORG', 'score': np.float32(0.73449445), 'word': 'SL', 'start': 34, 'end': 36, 'submission_id': 't3_1ebqxv1'}, {'entity_group': 'ORG', 'score': np.float32(0.82822084), 'word': 'VISUM', 'start': 9, 'end': 14, 'submission_id': 't3_1e736vw'}, {'entity_group': 'ORG', 'score': np.float32(0.74287397), 'word': 'IDP', 'start': 0, 'end': 3, 'submission_id': 't3_1ceb5a5'}, {'entity_group': 'LOC', 'score': np.float32(0.9892121), 'word': 'Sri Lanka', 'start': 0, 'end': 9, 'submission_id': 't3_1cci19k'}, {'entity_group': 'MISC', 'score': np.float32(0.7915361), 'word': 'A Roadmap for Attracting Investment', 'start': 35, 'end': 70, 'submission_id': 't3_1cci19k'}, {'entity_group': 'MISC', 'score': np.float32(0.80182815), 'word': 'Upskilling the Workforce', 'start': 75, 'end': 99, 'submission_id': 't3_1cci19k'}, {'entity_group': 'LOC', 'score': np.float32(0.97570515), 'word': 'Sri Lanka', 'start': 3, 'end': 12, 'submission_id': 't3_198qzgn'}, {'entity_group': 'MISC', 'score': np.float32(0.7329628), 'word': 'Path Forward : Strategies for', 'start': 2, 'end': 30, 'submission_id': 't3_1bsyzrd'}, {'entity_group': 'LOC', 'score': np.float32(0.8105886), 'word': 'Sri Lanka', 'start': 31, 'end': 40, 'submission_id': 't3_1bsyzrd'}, {'entity_group': 'MISC', 'score': np.float32(0.76195794), 'word': 'to Overcome High Debt', 'start': 41, 'end': 62, 'submission_id': 't3_1bsyzrd'}, {'entity_group': 'LOC', 'score': np.float32(0.9932282), 'word': 'Sri Lanka', 'start': 10, 'end': 19, 'submission_id': 't3_1bul5ws'}, {'entity_group': 'MISC', 'score': np.float32(0.89383066), 'word': 'Economic Powerhouse : Innovative Strategies for Boosting Exports', 'start': 22, 'end': 85, 'submission_id': 't3_1bul5ws'}, {'entity_group': 'MISC', 'score': np.float32(0.6920301), 'word': 'FDI', 'start': 90, 'end': 93, 'submission_id': 't3_1bul5ws'}, {'entity_group': 'MISC', 'score': np.float32(0.88001126), 'word': '❤', 'start': 12, 'end': 13, 'submission_id': 't3_19528ej'}, {'entity_group': 'LOC', 'score': np.float32(0.9997003), 'word': 'Sri Lanka', 'start': 37, 'end': 46, 'submission_id': 't3_1f4panc'}, {'entity_group': 'LOC', 'score': np.float32(0.99938273), 'word': 'India', 'start': 73, 'end': 78, 'submission_id': 't3_1f4panc'}, {'entity_group': 'LOC', 'score': np.float32(0.99931604), 'word': 'Sri Lanka', 'start': 83, 'end': 92, 'submission_id': 't3_1f4panc'}, {'entity_group': 'PER', 'score': np.float32(0.501952), 'word': 'Femboy', 'start': 19, 'end': 25, 'submission_id': 't3_1fs2ig0'}, {'entity_group': 'MISC', 'score': np.float32(0.43638155), 'word': '🔴', 'start': 0, 'end': 1, 'submission_id': 't3_1bze6sw'}, {'entity_group': 'LOC', 'score': np.float32(0.8653026), 'word': 'Lyceum', 'start': 8, 'end': 14, 'submission_id': 't3_1b17c6b'}, {'entity_group': 'MISC', 'score': np.float32(0.6543903), 'word': 'Smart', 'start': 36, 'end': 41, 'submission_id': 't3_1g2qykk'}, {'entity_group': 'MISC', 'score': np.float32(0.57390827), 'word': 'School', 'start': 0, 'end': 6, 'submission_id': 't3_1dw6u4p'}, {'entity_group': 'LOC', 'score': np.float32(0.96186584), 'word': 'Srilankan', 'start': 7, 'end': 16, 'submission_id': 't3_1fu90kh'}, {'entity_group': 'ORG', 'score': np.float32(0.99238074), 'word': 'Reddit', 'start': 26, 'end': 32, 'submission_id': 't3_1fwuqo6'}, {'entity_group': 'LOC', 'score': np.float32(0.9998147), 'word': 'India', 'start': 24, 'end': 29, 'submission_id': 't3_1eqyjtv'}, {'entity_group': 'MISC', 'score': np.float32(0.6005139), 'word': 'Miss', 'start': 0, 'end': 4, 'submission_id': 't3_1eihsho'}, {'entity_group': 'LOC', 'score': np.float32(0.6163736), 'word': 'Sri', 'start': 5, 'end': 8, 'submission_id': 't3_1eihsho'}, {'entity_group': 'MISC', 'score': np.float32(0.52868676), 'word': 'Lanka', 'start': 9, 'end': 14, 'submission_id': 't3_1eihsho'}, {'entity_group': 'MISC', 'score': np.float32(0.8817966), 'word': 'Miss World', 'start': 19, 'end': 29, 'submission_id': 't3_1eihsho'}, {'entity_group': 'LOC', 'score': np.float32(0.7838442), 'word': 'sri lanka', 'start': 24, 'end': 33, 'submission_id': 't3_189yviz'}, {'entity_group': 'ORG', 'score': np.float32(0.43221262), 'word': 'W', 'start': 30, 'end': 31, 'submission_id': 't3_1f79xbc'}, {'entity_group': 'ORG', 'score': np.float32(0.6265969), 'word': 'Fitness', 'start': 0, 'end': 7, 'submission_id': 't3_1d3bh7h'}, {'entity_group': 'ORG', 'score': np.float32(0.58546454), 'word': 'WTF', 'start': 9, 'end': 12, 'submission_id': 't3_192xtf8'}, {'entity_group': 'PER', 'score': np.float32(0.91237444), 'word': 'Gal', 'start': 4, 'end': 7, 'submission_id': 't3_1fwq9sp'}, {'entity_group': 'MISC', 'score': np.float32(0.58211297), 'word': 'SLT', 'start': 0, 'end': 3, 'submission_id': 't3_191a6tp'}, {'entity_group': 'ORG', 'score': np.float32(0.9597304), 'word': 'Airtel', 'start': 0, 'end': 6, 'submission_id': 't3_1dqbjgt'}, {'entity_group': 'MISC', 'score': np.float32(0.8130776), 'word': 'Legit Deal : Unlimited Data', 'start': 22, 'end': 48, 'submission_id': 't3_1dqbjgt'}, {'entity_group': 'MISC', 'score': np.float32(0.7847928), 'word': 'Calls', 'start': 53, 'end': 58, 'submission_id': 't3_1dqbjgt'}, {'entity_group': 'ORG', 'score': np.float32(0.95990556), 'word': 'Airtel', 'start': 131, 'end': 137, 'submission_id': 't3_1dqbjgt'}, {'entity_group': 'MISC', 'score': np.float32(0.3239885), 'word': 'Dialog', 'start': 260, 'end': 266, 'submission_id': 't3_1dqbjgt'}, {'entity_group': 'PER', 'score': np.float32(0.9986971), 'word': 'Jerome', 'start': 28, 'end': 34, 'submission_id': 't3_1dpyjrf'}, {'entity_group': 'MISC', 'score': np.float32(0.9052664), 'word': 'Grease Yaka', 'start': 0, 'end': 11, 'submission_id': 't3_1ga7zqd'}, {'entity_group': 'LOC', 'score': np.float32(0.39203686), 'word': 'Parliament', 'start': 0, 'end': 10, 'submission_id': 't3_196iezn'}, {'entity_group': 'LOC', 'score': np.float32(0.5564332), 'word': 'Lyceum', 'start': 16, 'end': 22, 'submission_id': 't3_18jkwd9'}, {'entity_group': 'ORG', 'score': np.float32(0.8435361), 'word': 'Cambridge', 'start': 41, 'end': 50, 'submission_id': 't3_18jkwd9'}, {'entity_group': 'MISC', 'score': np.float32(0.324605), 'word': 'u', 'start': 3, 'end': 4, 'submission_id': 't3_1api4m5'}, {'entity_group': 'MISC', 'score': np.float32(0.28244522), 'word': '##ber', 'start': 4, 'end': 7, 'submission_id': 't3_1api4m5'}, {'entity_group': 'ORG', 'score': np.float32(0.40765083), 'word': 'අවුරුදු', 'start': 7, 'end': 14, 'submission_id': 't3_1bztbb0'}, {'entity_group': 'ORG', 'score': np.float32(0.81380796), 'word': 'SriLanka Cricket', 'start': 4, 'end': 20, 'submission_id': 't3_1eg3ek5'}, {'entity_group': 'LOC', 'score': np.float32(0.99978626), 'word': 'Sri Lanka', 'start': 36, 'end': 45, 'submission_id': 't3_1f46tgv'}, {'entity_group': 'LOC', 'score': np.float32(0.8284376), 'word': 'Sri Lanka', 'start': 7, 'end': 16, 'submission_id': 't3_1bwb6z6'}, {'entity_group': 'MISC', 'score': np.float32(0.42379746), 'word': '##n', 'start': 16, 'end': 17, 'submission_id': 't3_1bwb6z6'}, {'entity_group': 'LOC', 'score': np.float32(0.5984072), 'word': 'sigiriya', 'start': 34, 'end': 42, 'submission_id': 't3_1dcd5sk'}, {'entity_group': 'PER', 'score': np.float32(0.95562744), 'word': 'Srilanlan', 'start': 7, 'end': 16, 'submission_id': 't3_1fs4o9s'}, {'entity_group': 'MISC', 'score': np.float32(0.7258201), 'word': 'my', 'start': 20, 'end': 22, 'submission_id': 't3_1epho45'}, {'entity_group': 'MISC', 'score': np.float32(0.62113523), 'word': 'How Come', 'start': 0, 'end': 8, 'submission_id': 't3_1dj15ly'}, {'entity_group': 'MISC', 'score': np.float32(0.6473257), 'word': 'Number', 'start': 15, 'end': 21, 'submission_id': 't3_1dj15ly'}, {'entity_group': 'MISC', 'score': np.float32(0.6082082), 'word': '##otv', 'start': 48, 'end': 51, 'submission_id': 't3_1gcl367'}, {'entity_group': 'LOC', 'score': np.float32(0.99105704), 'word': 'Sri Lanka', 'start': 48, 'end': 57, 'submission_id': 't3_1foztc4'}, {'entity_group': 'ORG', 'score': np.float32(0.9520439), 'word': 'Law College', 'start': 84, 'end': 95, 'submission_id': 't3_1foztc4'}, {'entity_group': 'PER', 'score': np.float32(0.9992586), 'word': 'Yvonne Jonsson', 'start': 10, 'end': 24, 'submission_id': 't3_1dwl1cv'}, {'entity_group': 'PER', 'score': np.float32(0.99664265), 'word': 'Iman Cader', 'start': 3, 'end': 13, 'submission_id': 't3_1bdsv2w'}, {'entity_group': 'LOC', 'score': np.float32(0.9997889), 'word': 'Sri Lanka', 'start': 21, 'end': 30, 'submission_id': 't3_1ezcvpk'}, {'entity_group': 'PER', 'score': np.float32(0.63175005), 'word': 'Rajaputra', 'start': 0, 'end': 9, 'submission_id': 't3_1g90tuf'}, {'entity_group': 'MISC', 'score': np.float32(0.6530212), 'word': 'Facebook', 'start': 20, 'end': 28, 'submission_id': 't3_1g90tuf'}, {'entity_group': 'LOC', 'score': np.float32(0.9996208), 'word': 'Sri Lanka', 'start': 5, 'end': 14, 'submission_id': 't3_1gd7h88'}, {'entity_group': 'MISC', 'score': np.float32(0.8960328), 'word': 'Celebrate The Victory Peacefully', 'start': 0, 'end': 32, 'submission_id': 't3_1fm1bm9'}, {'entity_group': 'ORG', 'score': np.float32(0.993379), 'word': 'Air Lanka', 'start': 17, 'end': 26, 'submission_id': 't3_1fwp2p1'}, {'entity_group': 'MISC', 'score': np.float32(0.78356147), 'word': 'internet', 'start': 32, 'end': 40, 'submission_id': 't3_1757oai'}, {'entity_group': 'ORG', 'score': np.float32(0.98927927), 'word': 'Sri lanka Institute of Information Technology', 'start': 0, 'end': 45, 'submission_id': 't3_1gbnhc1'}, {'entity_group': 'LOC', 'score': np.float32(0.9824878), 'word': 'Galle', 'start': 46, 'end': 51, 'submission_id': 't3_1eoozb0'}, {'entity_group': 'LOC', 'score': np.float32(0.999777), 'word': 'Pakistan', 'start': 22, 'end': 30, 'submission_id': 't3_1e1gt26'}, {'entity_group': 'ORG', 'score': np.float32(0.7004), 'word': 'FB', 'start': 12, 'end': 14, 'submission_id': 't3_1b8t3ej'}, {'entity_group': 'MISC', 'score': np.float32(0.6140857), 'word': 'Athal', 'start': 10, 'end': 15, 'submission_id': 't3_1fp45tr'}, {'entity_group': 'MISC', 'score': np.float32(0.6302998), 'word': 'ChatGPT', 'start': 21, 'end': 28, 'submission_id': 't3_1fp45tr'}, {'entity_group': 'MISC', 'score': np.float32(0.9813734), 'word': 'Violence vs Uber Drivers : Galle Fort', 'start': 0, 'end': 36, 'submission_id': 't3_1cw8okm'}, {'entity_group': 'LOC', 'score': np.float32(0.99970484), 'word': 'Sri Lanka', 'start': 15, 'end': 24, 'submission_id': 't3_1fhy6jv'}, {'entity_group': 'PER', 'score': np.float32(0.9975325), 'word': 'Mahinda Rajapaksa', 'start': 12, 'end': 29, 'submission_id': 't3_1gb48ym'}, {'entity_group': 'MISC', 'score': np.float32(0.6898403), 'word': 'Ad. Lol', 'start': 35, 'end': 42, 'submission_id': 't3_1ftplhf'}, {'entity_group': 'MISC', 'score': np.float32(0.7969378), 'word': 'Vehicle', 'start': 9, 'end': 16, 'submission_id': 't3_1exjthw'}, {'entity_group': 'MISC', 'score': np.float32(0.8434909), 'word': 'Lanka', 'start': 35, 'end': 40, 'submission_id': 't3_1ebnfev'}, {'entity_group': 'MISC', 'score': np.float32(0.7193957), 'word': '##n', 'start': 40, 'end': 41, 'submission_id': 't3_1ebnfev'}, {'entity_group': 'MISC', 'score': np.float32(0.63766205), 'word': 'Li', 'start': 0, 'end': 2, 'submission_id': 't3_1fh82lm'}, {'entity_group': 'LOC', 'score': np.float32(0.99950445), 'word': 'India', 'start': 37, 'end': 42, 'submission_id': 't3_1dwvei7'}, {'entity_group': 'MISC', 'score': np.float32(0.52784103), 'word': 'Siri', 'start': 0, 'end': 4, 'submission_id': 't3_1b1l5to'}, {'entity_group': 'MISC', 'score': np.float32(0.8436048), 'word': 'Sinhala', 'start': 24, 'end': 31, 'submission_id': 't3_1b1l5to'}, {'entity_group': 'PER', 'score': np.float32(0.98233527), 'word': 'Bhanuka Harischandra', 'start': 34, 'end': 54, 'submission_id': 't3_195oxof'}, {'entity_group': 'ORG', 'score': np.float32(0.6287323), 'word': 'Royal', 'start': 77, 'end': 82, 'submission_id': 't3_1entqbx'}, {'entity_group': 'ORG', 'score': np.float32(0.46275878), 'word': 'Daddy', 'start': 26, 'end': 31, 'submission_id': 't3_1fot7ls'}, {'entity_group': 'LOC', 'score': np.float32(0.99081117), 'word': 'Batticaloa', 'start': 0, 'end': 10, 'submission_id': 't3_1fmmf7t'}, {'entity_group': 'LOC', 'score': np.float32(0.9911432), 'word': 'Kalkudah', 'start': 11, 'end': 19, 'submission_id': 't3_1fmmf7t'}, {'entity_group': 'LOC', 'score': np.float32(0.9821758), 'word': 'Batticalo', 'start': 22, 'end': 31, 'submission_id': 't3_1fmmf7t'}, {'entity_group': 'LOC', 'score': np.float32(0.9662876), 'word': 'Batticaloa', 'start': 32, 'end': 42, 'submission_id': 't3_1fmmf7t'}, {'entity_group': 'ORG', 'score': np.float32(0.9750838), 'word': 'Renewing', 'start': 0, 'end': 8, 'submission_id': 't3_1f0z5by'}, {'entity_group': 'LOC', 'score': np.float32(0.9910778), 'word': 'Port', 'start': 30, 'end': 34, 'submission_id': 't3_1f4xu7s'}, {'entity_group': 'MISC', 'score': np.float32(0.4189096), 'word': 'Saw', 'start': 0, 'end': 3, 'submission_id': 't3_1f5mf7t'}, {'entity_group': 'ORG', 'score': np.float32(0.86256844), 'word': 'Postpaid', 'start': 61, 'end': 69, 'submission_id': 't3_1eryr05'}, {'entity_group': 'MISC', 'score': np.float32(0.8531256), 'word': 'Chandrapala', 'start': 36, 'end': 47, 'submission_id': 't3_1dpv8ye'}, {'entity_group': 'MISC', 'score': np.float32(0.89749974), 'word': 'nuclear', 'start': 13, 'end': 20, 'submission_id': 't3_txmgzi'}, {'entity_group': 'LOC', 'score': np.float32(0.86273414), 'word': 'kadana', 'start': 3, 'end': 9, 'submission_id': 't3_1al0a62'}, {'entity_group': 'PER', 'score': np.float32(0.44041988), 'word': 'Amandha', 'start': 0, 'end': 7, 'submission_id': 't3_1d67kj7'}, {'entity_group': 'MISC', 'score': np.float32(0.5638924), 'word': 's', 'start': 23, 'end': 24, 'submission_id': 't3_1erhv6e'}, {'entity_group': 'LOC', 'score': np.float32(0.47307903), 'word': '##ri lank', 'start': 24, 'end': 31, 'submission_id': 't3_1erhv6e'}, {'entity_group': 'MISC', 'score': np.float32(0.6632096), 'word': 'Elpitiya', 'start': 11, 'end': 19, 'submission_id': 't3_1erhc74'}, {'entity_group': 'LOC', 'score': np.float32(0.60902697), 'word': 'srilanka', 'start': 21, 'end': 29, 'submission_id': 't3_1az0gpk'}, {'entity_group': 'LOC', 'score': np.float32(0.9987725), 'word': 'Sri Lanka', 'start': 8, 'end': 17, 'submission_id': 't3_1bxpzw8'}, {'entity_group': 'LOC', 'score': np.float32(0.99658823), 'word': 'Maldives', 'start': 23, 'end': 31, 'submission_id': 't3_1bxpzw8'}, {'entity_group': 'PER', 'score': np.float32(0.96530384), 'word': 'Prabhakaran', 'start': 12, 'end': 23, 'submission_id': 't3_1114x20'}, {'entity_group': 'MISC', 'score': np.float32(0.6889366), 'word': \"Tamil Leader ' s Shocking Claim\", 'start': 41, 'end': 70, 'submission_id': 't3_1114x20'}, {'entity_group': 'LOC', 'score': np.float32(0.46200857), 'word': 'Sri', 'start': 9, 'end': 12, 'submission_id': 't3_1beo49p'}, {'entity_group': 'MISC', 'score': np.float32(0.6549217), 'word': 'Lankan Tea', 'start': 13, 'end': 23, 'submission_id': 't3_1beo49p'}, {'entity_group': 'MISC', 'score': np.float32(0.4872755), 'word': 'Halo', 'start': 27, 'end': 31, 'submission_id': 't3_1beo49p'}, {'entity_group': 'PER', 'score': np.float32(0.746087), 'word': 'Ed Sheeran', 'start': 0, 'end': 10, 'submission_id': 't3_1dn82y4'}, {'entity_group': 'MISC', 'score': np.float32(0.50753796), 'word': 'in', 'start': 19, 'end': 21, 'submission_id': 't3_1dn82y4'}, {'entity_group': 'LOC', 'score': np.float32(0.55106115), 'word': 'Sri Lanka', 'start': 22, 'end': 31, 'submission_id': 't3_1dn82y4'}, {'entity_group': 'MISC', 'score': np.float32(0.9551203), 'word': 'Is It Ture That O / L', 'start': 0, 'end': 19, 'submission_id': 't3_1do994k'}, {'entity_group': 'MISC', 'score': np.float32(0.71448225), 'word': '10 Days', 'start': 45, 'end': 52, 'submission_id': 't3_1do994k'}, {'entity_group': 'LOC', 'score': np.float32(0.9998287), 'word': 'Sri Lanka', 'start': 29, 'end': 38, 'submission_id': 't3_1dmdo14'}, {'entity_group': 'LOC', 'score': np.float32(0.99988234), 'word': 'India', 'start': 42, 'end': 47, 'submission_id': 't3_1dmdo14'}, {'entity_group': 'MISC', 'score': np.float32(0.58569336), 'word': 'Lankatype', 'start': 3, 'end': 12, 'submission_id': 't3_1e9fp5n'}, {'entity_group': 'LOC', 'score': np.float32(0.93029), 'word': 'Sri Lanka', 'start': 11, 'end': 20, 'submission_id': 't3_vuyt1i'}, {'entity_group': 'PER', 'score': np.float32(0.8465776), 'word': 'got', 'start': 32, 'end': 35, 'submission_id': 't3_vuyt1i'}, {'entity_group': 'PER', 'score': np.float32(0.793012), 'word': '##abayarajapaksa', 'start': 35, 'end': 49, 'submission_id': 't3_vuyt1i'}, {'entity_group': 'LOC', 'score': np.float32(0.9991849), 'word': 'Colombo', 'start': 86, 'end': 93, 'submission_id': 't3_vuyt1i'}, {'entity_group': 'MISC', 'score': np.float32(0.9803732), 'word': 'Power of Unity & the Mind Games', 'start': 0, 'end': 31, 'submission_id': 't3_1bak0gf'}, {'entity_group': 'MISC', 'score': np.float32(0.9706279), 'word': 'English', 'start': 68, 'end': 75, 'submission_id': 't3_1cqz8t7'}, {'entity_group': 'ORG', 'score': np.float32(0.73141074), 'word': 'Keells', 'start': 20, 'end': 26, 'submission_id': 't3_1cadn84'}, {'entity_group': 'ORG', 'score': np.float32(0.59544367), 'word': 'Cargills Supermarkets', 'start': 31, 'end': 52, 'submission_id': 't3_1cadn84'}, {'entity_group': 'MISC', 'score': np.float32(0.857059), 'word': 'Your Experiences', 'start': 55, 'end': 71, 'submission_id': 't3_1cadn84'}, {'entity_group': 'PER', 'score': np.float32(0.9555678), 'word': 'Ranga Dias', 'start': 0, 'end': 10, 'submission_id': 't3_1c1dg0j'}, {'entity_group': 'MISC', 'score': np.float32(0.5590536), 'word': 'Sister', 'start': 11, 'end': 17, 'submission_id': 't3_11dbw82'}, {'entity_group': 'ORG', 'score': np.float32(0.7112376), 'word': 'Schools', 'start': 18, 'end': 25, 'submission_id': 't3_11dbw82'}, {'entity_group': 'MISC', 'score': np.float32(0.488564), 'word': 'among Leading', 'start': 26, 'end': 39, 'submission_id': 't3_11dbw82'}, {'entity_group': 'ORG', 'score': np.float32(0.59025455), 'word': 'Schools', 'start': 40, 'end': 47, 'submission_id': 't3_11dbw82'}, {'entity_group': 'LOC', 'score': np.float32(0.99977803), 'word': 'Sri Lanka', 'start': 31, 'end': 40, 'submission_id': 't3_19dsdll'}, {'entity_group': 'MISC', 'score': np.float32(0.56056815), 'word': 'What', 'start': 0, 'end': 4, 'submission_id': 't3_1bts688'}, {'entity_group': 'MISC', 'score': np.float32(0.73458064), 'word': 'Chocolate', 'start': 9, 'end': 18, 'submission_id': 't3_1ammniq'}, {'entity_group': 'MISC', 'score': np.float32(0.80638885), 'word': 'Genuine Village Existence', 'start': 0, 'end': 25, 'submission_id': 't3_189tojc'}, {'entity_group': 'MISC', 'score': np.float32(0.4147187), 'word': 'Pala', 'start': 54, 'end': 58, 'submission_id': 't3_189tojc'}, {'entity_group': 'MISC', 'score': np.float32(0.9095733), 'word': 'Public Bus Story', 'start': 12, 'end': 28, 'submission_id': 't3_1bxc0mm'}, {'entity_group': 'ORG', 'score': np.float32(0.8309323), 'word': 'Payoneer', 'start': 0, 'end': 8, 'submission_id': 't3_1bvsbup'}, {'entity_group': 'LOC', 'score': np.float32(0.9996034), 'word': 'Sri Lanka', 'start': 61, 'end': 70, 'submission_id': 't3_1bvsbup'}, {'entity_group': 'PER', 'score': np.float32(0.25089884), 'word': 'Hopper', 'start': 0, 'end': 6, 'submission_id': 't3_1adun8i'}, {'entity_group': 'LOC', 'score': np.float32(0.59073997), 'word': 'Lanka', 'start': 4, 'end': 9, 'submission_id': 't3_15j0fxd'}, {'entity_group': 'LOC', 'score': np.float32(0.7802632), 'word': 'Sri Lankan', 'start': 131, 'end': 141, 'submission_id': 't3_15j0fxd'}, {'entity_group': 'LOC', 'score': np.float32(0.63520354), 'word': 'US', 'start': 12, 'end': 14, 'submission_id': 't3_ty1u24'}, {'entity_group': 'LOC', 'score': np.float32(0.99981827), 'word': 'Colombo', 'start': 21, 'end': 28, 'submission_id': 't3_1b3rf9o'}, {'entity_group': 'LOC', 'score': np.float32(0.98654664), 'word': 'Nuwaraeliya', 'start': 9, 'end': 20, 'submission_id': 't3_17iusfh'}, {'entity_group': 'MISC', 'score': np.float32(0.98701197), 'word': 'Simple Thank - World Woman ’ s Day', 'start': 0, 'end': 32, 'submission_id': 't3_1b9qviy'}, {'entity_group': 'PER', 'score': np.float32(0.9937406), 'word': 'Mahinda', 'start': 23, 'end': 30, 'submission_id': 't3_13frc0m'}, {'entity_group': 'ORG', 'score': np.float32(0.8940351), 'word': 'Tuk Tuk', 'start': 4, 'end': 11, 'submission_id': 't3_15zp2cg'}, {'entity_group': 'LOC', 'score': np.float32(0.9798687), 'word': 'Portcity', 'start': 36, 'end': 44, 'submission_id': 't3_18qux21'}, {'entity_group': 'ORG', 'score': np.float32(0.8141351), 'word': 'Gota', 'start': 9, 'end': 13, 'submission_id': 't3_u81qnn'}, {'entity_group': 'MISC', 'score': np.float32(0.8893077), 'word': 'In', 'start': 0, 'end': 2, 'submission_id': 't3_w5aqk1'}, {'entity_group': 'MISC', 'score': np.float32(0.67105263), 'word': '##e', 'start': 2, 'end': 3, 'submission_id': 't3_w5aqk1'}, {'entity_group': 'MISC', 'score': np.float32(0.51913744), 'word': '##quality', 'start': 3, 'end': 10, 'submission_id': 't3_w5aqk1'}, {'entity_group': 'LOC', 'score': np.float32(0.99544847), 'word': 'Colombo National Musuem', 'start': 11, 'end': 34, 'submission_id': 't3_193x4jv'}, {'entity_group': 'LOC', 'score': np.float32(0.9831463), 'word': 'Sri Lanka', 'start': 18, 'end': 27, 'submission_id': 't3_w2qb95'}, {'entity_group': 'PER', 'score': np.float32(0.70300543), 'word': 'Gota', 'start': 53, 'end': 57, 'submission_id': 't3_16e44s0'}, {'entity_group': 'PER', 'score': np.float32(0.5399342), 'word': 'Sullays', 'start': 62, 'end': 69, 'submission_id': 't3_16e44s0'}, {'entity_group': 'MISC', 'score': np.float32(0.9082033), 'word': 'Sinhala', 'start': 107, 'end': 114, 'submission_id': 't3_16e44s0'}, {'entity_group': 'LOC', 'score': np.float32(0.9996331), 'word': 'Sri Lanka', 'start': 23, 'end': 32, 'submission_id': 't3_185575r'}, {'entity_group': 'PER', 'score': np.float32(0.8229049), 'word': 'Gotabaya', 'start': 0, 'end': 8, 'submission_id': 't3_vwhbum'}, {'entity_group': 'MISC', 'score': np.float32(0.7242615), 'word': 'mo', 'start': 30, 'end': 32, 'submission_id': 't3_170ad0q'}, {'entity_group': 'MISC', 'score': np.float32(0.5422174), 'word': '##bitel', 'start': 32, 'end': 37, 'submission_id': 't3_170ad0q'}, {'entity_group': 'MISC', 'score': np.float32(0.9985904), 'word': 'Facebook', 'start': 50, 'end': 58, 'submission_id': 't3_twtf2b'}, {'entity_group': 'LOC', 'score': np.float32(0.9985444), 'word': 'Sri Lanka', 'start': 5, 'end': 14, 'submission_id': 't3_myo4q5'}, {'entity_group': 'LOC', 'score': np.float32(0.74433917), 'word': 'Dimbulagala Inscription', 'start': 15, 'end': 38, 'submission_id': 't3_1895a5q'}, {'entity_group': 'MISC', 'score': np.float32(0.891468), 'word': 'Mobitel', 'start': 0, 'end': 7, 'submission_id': 't3_184y0of'}, {'entity_group': 'LOC', 'score': np.float32(0.99972486), 'word': 'Sri Lanka', 'start': 33, 'end': 42, 'submission_id': 't3_oi0qdu'}, {'entity_group': 'ORG', 'score': np.float32(0.8996787), 'word': 'Network Market', 'start': 3, 'end': 17, 'submission_id': 't3_12bpehe'}, {'entity_group': 'LOC', 'score': np.float32(0.9947527), 'word': 'Wellawatte', 'start': 7, 'end': 17, 'submission_id': 't3_11360xm'}, {'entity_group': 'MISC', 'score': np.float32(0.8391171), 'word': 'Arugam Bay Surf', 'start': 0, 'end': 15, 'submission_id': 't3_16pz41y'}, {'entity_group': 'LOC', 'score': np.float32(0.6876218), 'word': 'U', 'start': 0, 'end': 1, 'submission_id': 't3_vxcttb'}, {'entity_group': 'PER', 'score': np.float32(0.9380362), 'word': 'Gotabaya', 'start': 15, 'end': 23, 'submission_id': 't3_vxcttb'}, {'entity_group': 'MISC', 'score': np.float32(0.4690976), 'word': 'Roti', 'start': 1, 'end': 5, 'submission_id': 't3_171ik3r'}, {'entity_group': 'LOC', 'score': np.float32(0.9836873), 'word': 'Amana Takaful', 'start': 26, 'end': 39, 'submission_id': 't3_167ybk5'}, {'entity_group': 'MISC', 'score': np.float32(0.72591114), 'word': 'Wo', 'start': 0, 'end': 2, 'submission_id': 't3_15ov0q7'}, {'entity_group': 'MISC', 'score': np.float32(0.7480054), 'word': 'SLT', 'start': 0, 'end': 3, 'submission_id': 't3_zz9nj1'}, {'entity_group': 'MISC', 'score': np.float32(0.36355722), 'word': 'art', 'start': 0, 'end': 3, 'submission_id': 't3_15279ts'}, {'entity_group': 'MISC', 'score': np.float32(0.5665883), 'word': 'Elephant', 'start': 0, 'end': 8, 'submission_id': 't3_12ak8po'}, {'entity_group': 'PER', 'score': np.float32(0.9921278), 'word': 'Nethmi Ahinsa', 'start': 0, 'end': 13, 'submission_id': 't3_woa8pv'}, {'entity_group': 'MISC', 'score': np.float32(0.85686517), 'word': 'Commonwealth Games', 'start': 26, 'end': 44, 'submission_id': 't3_woa8pv'}, {'entity_group': 'PER', 'score': np.float32(0.9953642), 'word': 'Namal Rajapaksa', 'start': 74, 'end': 89, 'submission_id': 't3_woa8pv'}, {'entity_group': 'ORG', 'score': np.float32(0.9287086), 'word': 'YouTube', 'start': 44, 'end': 51, 'submission_id': 't3_15kp8fs'}, {'entity_group': 'MISC', 'score': np.float32(0.9583526), 'word': 'Power', 'start': 19, 'end': 24, 'submission_id': 't3_t98y9k'}, {'entity_group': 'MISC', 'score': np.float32(0.8422547), 'word': 'Doctors', 'start': 0, 'end': 7, 'submission_id': 't3_ty1ily'}, {'entity_group': 'PER', 'score': np.float32(0.95982933), 'word': 'Gotabaya', 'start': 0, 'end': 8, 'submission_id': 't3_wpr0o6'}, {'entity_group': 'PER', 'score': np.float32(0.9985638), 'word': 'Arthur C Clarke', 'start': 4, 'end': 19, 'submission_id': 't3_igo7w5'}, {'entity_group': 'MISC', 'score': np.float32(0.53027564), 'word': 'Pe', 'start': 35, 'end': 37, 'submission_id': 't3_igo7w5'}, {'entity_group': 'LOC', 'score': np.float32(0.8326995), 'word': 'Sri Lankan', 'start': 74, 'end': 84, 'submission_id': 't3_igo7w5'}, {'entity_group': 'MISC', 'score': np.float32(0.55102944), 'word': 'Another', 'start': 0, 'end': 7, 'submission_id': 't3_u9g340'}, {'entity_group': 'MISC', 'score': np.float32(0.45686555), 'word': '9gag', 'start': 167, 'end': 171, 'submission_id': 't3_txmnf9'}, {'entity_group': 'PER', 'score': np.float32(0.98735356), 'word': 'Rajakshas', 'start': 63, 'end': 72, 'submission_id': 't3_txqlji'}, {'entity_group': 'PER', 'score': np.float32(0.9781049), 'word': 'Rajapaksha', 'start': 149, 'end': 159, 'submission_id': 't3_txqlji'}, {'entity_group': 'MISC', 'score': np.float32(0.5499999), 'word': 'SL', 'start': 38, 'end': 40, 'submission_id': 't3_yok11o'}, {'entity_group': 'MISC', 'score': np.float32(0.4179198), 'word': 'Lockdown', 'start': 0, 'end': 8, 'submission_id': 't3_pwci2p'}, {'entity_group': 'MISC', 'score': np.float32(0.5081895), 'word': 'Hy', 'start': 7, 'end': 9, 'submission_id': 't3_omo6zx'}, {'entity_group': 'LOC', 'score': np.float32(0.9973966), 'word': 'Lebanon', 'start': 61, 'end': 68, 'submission_id': 't3_omo6zx'}, {'entity_group': 'LOC', 'score': np.float32(0.85113925), 'word': 'Hambantota', 'start': 13, 'end': 23, 'submission_id': 't3_qfk53m'}, {'entity_group': 'LOC', 'score': np.float32(0.99979854), 'word': 'Sri Lanka', 'start': 22, 'end': 31, 'submission_id': 't3_wz7mlh'}, {'entity_group': 'PER', 'score': np.float32(0.8008025), 'word': 'Gota', 'start': 21, 'end': 25, 'submission_id': 't3_w5rw3m'}, {'entity_group': 'ORG', 'score': np.float32(0.39772528), 'word': 'Government', 'start': 0, 'end': 10, 'submission_id': 't3_u8ekpf'}, {'entity_group': 'LOC', 'score': np.float32(0.99889547), 'word': 'Srilanka', 'start': 40, 'end': 48, 'submission_id': 't3_qv3yal'}, {'entity_group': 'MISC', 'score': np.float32(0.5872337), 'word': 'Computer', 'start': 67, 'end': 75, 'submission_id': 't3_qv3yal'}, {'entity_group': 'ORG', 'score': np.float32(0.32492137), 'word': 'Science', 'start': 76, 'end': 83, 'submission_id': 't3_qv3yal'}, {'entity_group': 'ORG', 'score': np.float32(0.37359318), 'word': 'Gene', 'start': 0, 'end': 4, 'submission_id': 't3_t49aoy'}, {'entity_group': 'MISC', 'score': np.float32(0.34865877), 'word': '##xt', 'start': 4, 'end': 6, 'submission_id': 't3_t49aoy'}, {'entity_group': 'ORG', 'score': np.float32(0.98451245), 'word': 'Apple', 'start': 17, 'end': 22, 'submission_id': 't3_t49aoy'}, {'entity_group': 'LOC', 'score': np.float32(0.99830866), 'word': 'Sri Lanka', 'start': 39, 'end': 48, 'submission_id': 't3_t49aoy'}, {'entity_group': 'LOC', 'score': np.float32(0.5350099), 'word': 'Ku', 'start': 28, 'end': 30, 'submission_id': 't3_ttiabf'}, {'entity_group': 'MISC', 'score': np.float32(0.5788842), 'word': '##mbiyoo', 'start': 30, 'end': 36, 'submission_id': 't3_ttiabf'}, {'entity_group': 'ORG', 'score': np.float32(0.33358252), 'word': 'Phys', 'start': 14, 'end': 18, 'submission_id': 't3_ynwvfr'}, {'entity_group': 'LOC', 'score': np.float32(0.4630606), 'word': 'Gota', 'start': 0, 'end': 4, 'submission_id': 't3_vxbqdz'}, {'entity_group': 'MISC', 'score': np.float32(0.89518845), 'word': 'un', 'start': 0, 'end': 2, 'submission_id': 't3_u1tkxj'}, {'entity_group': 'MISC', 'score': np.float32(0.44657606), 'word': 'G', 'start': 0, 'end': 1, 'submission_id': 't3_o2z00g'}, {'entity_group': 'ORG', 'score': np.float32(0.55673283), 'word': '##pu', 'start': 1, 'end': 3, 'submission_id': 't3_o2z00g'}, {'entity_group': 'MISC', 'score': np.float32(0.70384187), 'word': 'Powercuts', 'start': 32, 'end': 41, 'submission_id': 't3_ts3p2v'}, {'entity_group': 'LOC', 'score': np.float32(0.9998411), 'word': 'Dubai', 'start': 20, 'end': 25, 'submission_id': 't3_u4wove'}, {'entity_group': 'PER', 'score': np.float32(0.99342823), 'word': 'Gota', 'start': 0, 'end': 4, 'submission_id': 't3_vyy5qi'}, {'entity_group': 'ORG', 'score': np.float32(0.71766883), 'word': 'Uber & PickMe', 'start': 0, 'end': 13, 'submission_id': 't3_bi8e5q'}, {'entity_group': 'ORG', 'score': np.float32(0.9649969), 'word': 'Anonymous', 'start': 52, 'end': 61, 'submission_id': 't3_tyxjua'}, {'entity_group': 'ORG', 'score': np.float32(0.4479261), 'word': 'Petrol', 'start': 0, 'end': 6, 'submission_id': 't3_tete7o'}, {'entity_group': 'MISC', 'score': np.float32(0.78534716), 'word': 'g', 'start': 3, 'end': 4, 'submission_id': 't3_n62b18'}, {'entity_group': 'ORG', 'score': np.float32(0.87531024), 'word': 'Colombo High Court', 'start': 20, 'end': 38, 'submission_id': 't3_twv50l'}, {'entity_group': 'PER', 'score': np.float32(0.99586695), 'word': 'Namal Rajapaksa', 'start': 72, 'end': 87, 'submission_id': 't3_twv50l'}, {'entity_group': 'ORG', 'score': np.float32(0.9113048), 'word': 'Sri Lankan Brands', 'start': 23, 'end': 40, 'submission_id': 't3_tioin6'}, {'entity_group': 'MISC', 'score': np.float32(0.9942234), 'word': 'Spotify', 'start': 17, 'end': 24, 'submission_id': 't3_kynr76'}, {'entity_group': 'PER', 'score': np.float32(0.9468045), 'word': 'Nalin K', 'start': 1, 'end': 8, 'submission_id': 't3_kz1cdl'}, {'entity_group': 'MISC', 'score': np.float32(0.7412813), 'word': 'Twitter', 'start': 16, 'end': 23, 'submission_id': 't3_kz1cdl'}, {'entity_group': 'MISC', 'score': np.float32(0.6677458), 'word': 'SLT', 'start': 0, 'end': 3, 'submission_id': 't3_kxsyrs'}, {'entity_group': 'MISC', 'score': np.float32(0.40421125), 'word': 'Hiru', 'start': 38, 'end': 42, 'submission_id': 't3_jsm9cx'}, {'entity_group': 'MISC', 'score': np.float32(0.8818016), 'word': 'Naruto', 'start': 58, 'end': 64, 'submission_id': 't3_jsm9cx'}, {'entity_group': 'LOC', 'score': np.float32(0.99871755), 'word': 'Colombo', 'start': 50, 'end': 57, 'submission_id': 't3_kerz3b'}, {'entity_group': 'LOC', 'score': np.float32(0.999483), 'word': 'India', 'start': 66, 'end': 71, 'submission_id': 't3_kerz3b'}, {'entity_group': 'MISC', 'score': np.float32(0.7178134), 'word': 'What', 'start': 0, 'end': 4, 'submission_id': 't3_bq6r00'}, {'entity_group': 'MISC', 'score': np.float32(0.53892094), 'word': 'gu', 'start': 12, 'end': 14, 'submission_id': 't3_bq6r00'}, {'entity_group': 'MISC', 'score': np.float32(0.81655), 'word': 'islam', 'start': 40, 'end': 45, 'submission_id': 't3_bi82s0'}]\n"
     ]
    }
   ],
   "source": []
  },
  {
   "cell_type": "code",
   "execution_count": 69,
   "metadata": {},
   "outputs": [
    {
     "data": {
      "text/html": [
       "<div>\n",
       "<style scoped>\n",
       "    .dataframe tbody tr th:only-of-type {\n",
       "        vertical-align: middle;\n",
       "    }\n",
       "\n",
       "    .dataframe tbody tr th {\n",
       "        vertical-align: top;\n",
       "    }\n",
       "\n",
       "    .dataframe thead th {\n",
       "        text-align: right;\n",
       "    }\n",
       "</style>\n",
       "<table border=\"1\" class=\"dataframe\">\n",
       "  <thead>\n",
       "    <tr style=\"text-align: right;\">\n",
       "      <th></th>\n",
       "      <th>entity_group</th>\n",
       "      <th>score</th>\n",
       "      <th>word</th>\n",
       "      <th>start</th>\n",
       "      <th>end</th>\n",
       "      <th>submission_id</th>\n",
       "      <th>responds_to</th>\n",
       "    </tr>\n",
       "  </thead>\n",
       "  <tbody>\n",
       "    <tr>\n",
       "      <th>0</th>\n",
       "      <td>PER</td>\n",
       "      <td>0.997228</td>\n",
       "      <td>Harini Amarasuriya</td>\n",
       "      <td>0</td>\n",
       "      <td>18</td>\n",
       "      <td>t3_1fo8hat</td>\n",
       "      <td>NaN</td>\n",
       "    </tr>\n",
       "    <tr>\n",
       "      <th>1</th>\n",
       "      <td>LOC</td>\n",
       "      <td>0.999710</td>\n",
       "      <td>Sri Lanka</td>\n",
       "      <td>107</td>\n",
       "      <td>116</td>\n",
       "      <td>t3_1fo8hat</td>\n",
       "      <td>NaN</td>\n",
       "    </tr>\n",
       "    <tr>\n",
       "      <th>2</th>\n",
       "      <td>MISC</td>\n",
       "      <td>0.573400</td>\n",
       "      <td>Oh hell</td>\n",
       "      <td>0</td>\n",
       "      <td>7</td>\n",
       "      <td>t3_1g42r4y</td>\n",
       "      <td>NaN</td>\n",
       "    </tr>\n",
       "    <tr>\n",
       "      <th>3</th>\n",
       "      <td>PER</td>\n",
       "      <td>0.679610</td>\n",
       "      <td>Ranil</td>\n",
       "      <td>10</td>\n",
       "      <td>15</td>\n",
       "      <td>t3_1fms0jd</td>\n",
       "      <td>NaN</td>\n",
       "    </tr>\n",
       "    <tr>\n",
       "      <th>4</th>\n",
       "      <td>PER</td>\n",
       "      <td>0.661872</td>\n",
       "      <td>Gen Z</td>\n",
       "      <td>31</td>\n",
       "      <td>36</td>\n",
       "      <td>t3_1fdaqec</td>\n",
       "      <td>NaN</td>\n",
       "    </tr>\n",
       "    <tr>\n",
       "      <th>...</th>\n",
       "      <td>...</td>\n",
       "      <td>...</td>\n",
       "      <td>...</td>\n",
       "      <td>...</td>\n",
       "      <td>...</td>\n",
       "      <td>...</td>\n",
       "      <td>...</td>\n",
       "    </tr>\n",
       "    <tr>\n",
       "      <th>1117</th>\n",
       "      <td>LOC</td>\n",
       "      <td>0.998718</td>\n",
       "      <td>Colombo</td>\n",
       "      <td>50</td>\n",
       "      <td>57</td>\n",
       "      <td>t3_kerz3b</td>\n",
       "      <td>NaN</td>\n",
       "    </tr>\n",
       "    <tr>\n",
       "      <th>1118</th>\n",
       "      <td>LOC</td>\n",
       "      <td>0.999483</td>\n",
       "      <td>India</td>\n",
       "      <td>66</td>\n",
       "      <td>71</td>\n",
       "      <td>t3_kerz3b</td>\n",
       "      <td>NaN</td>\n",
       "    </tr>\n",
       "    <tr>\n",
       "      <th>1119</th>\n",
       "      <td>MISC</td>\n",
       "      <td>0.717813</td>\n",
       "      <td>What</td>\n",
       "      <td>0</td>\n",
       "      <td>4</td>\n",
       "      <td>t3_bq6r00</td>\n",
       "      <td>NaN</td>\n",
       "    </tr>\n",
       "    <tr>\n",
       "      <th>1120</th>\n",
       "      <td>MISC</td>\n",
       "      <td>0.538921</td>\n",
       "      <td>gu</td>\n",
       "      <td>12</td>\n",
       "      <td>14</td>\n",
       "      <td>t3_bq6r00</td>\n",
       "      <td>NaN</td>\n",
       "    </tr>\n",
       "    <tr>\n",
       "      <th>1121</th>\n",
       "      <td>MISC</td>\n",
       "      <td>0.816550</td>\n",
       "      <td>islam</td>\n",
       "      <td>40</td>\n",
       "      <td>45</td>\n",
       "      <td>t3_bi82s0</td>\n",
       "      <td>NaN</td>\n",
       "    </tr>\n",
       "  </tbody>\n",
       "</table>\n",
       "<p>1122 rows × 7 columns</p>\n",
       "</div>"
      ],
      "text/plain": [
       "     entity_group     score                word  start  end submission_id  \\\n",
       "0             PER  0.997228  Harini Amarasuriya      0   18    t3_1fo8hat   \n",
       "1             LOC  0.999710           Sri Lanka    107  116    t3_1fo8hat   \n",
       "2            MISC  0.573400             Oh hell      0    7    t3_1g42r4y   \n",
       "3             PER  0.679610               Ranil     10   15    t3_1fms0jd   \n",
       "4             PER  0.661872               Gen Z     31   36    t3_1fdaqec   \n",
       "...           ...       ...                 ...    ...  ...           ...   \n",
       "1117          LOC  0.998718             Colombo     50   57     t3_kerz3b   \n",
       "1118          LOC  0.999483               India     66   71     t3_kerz3b   \n",
       "1119         MISC  0.717813                What      0    4     t3_bq6r00   \n",
       "1120         MISC  0.538921                  gu     12   14     t3_bq6r00   \n",
       "1121         MISC  0.816550               islam     40   45     t3_bi82s0   \n",
       "\n",
       "      responds_to  \n",
       "0             NaN  \n",
       "1             NaN  \n",
       "2             NaN  \n",
       "3             NaN  \n",
       "4             NaN  \n",
       "...           ...  \n",
       "1117          NaN  \n",
       "1118          NaN  \n",
       "1119          NaN  \n",
       "1120          NaN  \n",
       "1121          NaN  \n",
       "\n",
       "[1122 rows x 7 columns]"
      ]
     },
     "execution_count": 69,
     "metadata": {},
     "output_type": "execute_result"
    }
   ],
   "source": [
    "entities_category = pd.DataFrame(all_entities)\n",
    "entities_category"
   ]
  },
  {
   "cell_type": "code",
   "execution_count": null,
   "metadata": {},
   "outputs": [],
   "source": []
  },
  {
   "cell_type": "code",
   "execution_count": 70,
   "metadata": {},
   "outputs": [
    {
     "name": "stdout",
     "output_type": "stream",
     "text": [
      "73635\n"
     ]
    }
   ],
   "source": [
    "res_answers = df.loc[:, ['full_name','responds_to', 'text_body']]\n",
    "res_answers = res_answers[(res_answers['responds_to'].isnull()==False) & (res_answers['text_body'].isnull()==False)]\n",
    "all_entities_answers = []\n",
    "for i in res_answers.itertuples():\n",
    "    if i[3] is not None and  i[3]!=\"\":\n",
    "        ner_results = nlp(i[3])\n",
    "        for j in ner_results:\n",
    "            entity = j\n",
    "            entity[\"submission_id\"] = i[1]\n",
    "            entity[\"responds_to\"] = i[2]\n",
    "            all_entities_answers.append(j)\n",
    "print(len(all_entities_answers))"
   ]
  },
  {
   "cell_type": "code",
   "execution_count": 71,
   "metadata": {},
   "outputs": [
    {
     "data": {
      "text/html": [
       "<div>\n",
       "<style scoped>\n",
       "    .dataframe tbody tr th:only-of-type {\n",
       "        vertical-align: middle;\n",
       "    }\n",
       "\n",
       "    .dataframe tbody tr th {\n",
       "        vertical-align: top;\n",
       "    }\n",
       "\n",
       "    .dataframe thead th {\n",
       "        text-align: right;\n",
       "    }\n",
       "</style>\n",
       "<table border=\"1\" class=\"dataframe\">\n",
       "  <thead>\n",
       "    <tr style=\"text-align: right;\">\n",
       "      <th></th>\n",
       "      <th>entity_group</th>\n",
       "      <th>score</th>\n",
       "      <th>word</th>\n",
       "      <th>start</th>\n",
       "      <th>end</th>\n",
       "      <th>submission_id</th>\n",
       "      <th>responds_to</th>\n",
       "    </tr>\n",
       "  </thead>\n",
       "  <tbody>\n",
       "    <tr>\n",
       "      <th>0</th>\n",
       "      <td>ORG</td>\n",
       "      <td>0.995675</td>\n",
       "      <td>Open University</td>\n",
       "      <td>50</td>\n",
       "      <td>65</td>\n",
       "      <td>t1_loo6dk0</td>\n",
       "      <td>t3_1fo8hat</td>\n",
       "    </tr>\n",
       "    <tr>\n",
       "      <th>1</th>\n",
       "      <td>ORG</td>\n",
       "      <td>0.910365</td>\n",
       "      <td>JVP</td>\n",
       "      <td>134</td>\n",
       "      <td>137</td>\n",
       "      <td>t1_loo6dk0</td>\n",
       "      <td>t3_1fo8hat</td>\n",
       "    </tr>\n",
       "    <tr>\n",
       "      <th>2</th>\n",
       "      <td>ORG</td>\n",
       "      <td>0.922723</td>\n",
       "      <td>NPP</td>\n",
       "      <td>169</td>\n",
       "      <td>172</td>\n",
       "      <td>t1_loo6dk0</td>\n",
       "      <td>t3_1fo8hat</td>\n",
       "    </tr>\n",
       "    <tr>\n",
       "      <th>3</th>\n",
       "      <td>ORG</td>\n",
       "      <td>0.651204</td>\n",
       "      <td>Anthare</td>\n",
       "      <td>248</td>\n",
       "      <td>255</td>\n",
       "      <td>t1_loo6dk0</td>\n",
       "      <td>t3_1fo8hat</td>\n",
       "    </tr>\n",
       "    <tr>\n",
       "      <th>4</th>\n",
       "      <td>PER</td>\n",
       "      <td>0.914559</td>\n",
       "      <td>Harini</td>\n",
       "      <td>558</td>\n",
       "      <td>564</td>\n",
       "      <td>t1_loo6dk0</td>\n",
       "      <td>t3_1fo8hat</td>\n",
       "    </tr>\n",
       "    <tr>\n",
       "      <th>...</th>\n",
       "      <td>...</td>\n",
       "      <td>...</td>\n",
       "      <td>...</td>\n",
       "      <td>...</td>\n",
       "      <td>...</td>\n",
       "      <td>...</td>\n",
       "      <td>...</td>\n",
       "    </tr>\n",
       "    <tr>\n",
       "      <th>73630</th>\n",
       "      <td>ORG</td>\n",
       "      <td>0.782095</td>\n",
       "      <td>UN</td>\n",
       "      <td>39</td>\n",
       "      <td>41</td>\n",
       "      <td>t1_eo1moic</td>\n",
       "      <td>t1_eo1ma3y</td>\n",
       "    </tr>\n",
       "    <tr>\n",
       "      <th>73631</th>\n",
       "      <td>PER</td>\n",
       "      <td>0.887043</td>\n",
       "      <td>Haha</td>\n",
       "      <td>0</td>\n",
       "      <td>4</td>\n",
       "      <td>t1_eo45x4w</td>\n",
       "      <td>t1_eo3rvqw</td>\n",
       "    </tr>\n",
       "    <tr>\n",
       "      <th>73632</th>\n",
       "      <td>ORG</td>\n",
       "      <td>0.959726</td>\n",
       "      <td>UNP</td>\n",
       "      <td>161</td>\n",
       "      <td>164</td>\n",
       "      <td>t1_eo2xs00</td>\n",
       "      <td>t1_eo1moic</td>\n",
       "    </tr>\n",
       "    <tr>\n",
       "      <th>73633</th>\n",
       "      <td>ORG</td>\n",
       "      <td>0.622910</td>\n",
       "      <td>Immigration</td>\n",
       "      <td>5</td>\n",
       "      <td>16</td>\n",
       "      <td>t1_elz0zbf</td>\n",
       "      <td>t3_bi82s0</td>\n",
       "    </tr>\n",
       "    <tr>\n",
       "      <th>73634</th>\n",
       "      <td>LOC</td>\n",
       "      <td>0.570578</td>\n",
       "      <td>metro</td>\n",
       "      <td>20</td>\n",
       "      <td>25</td>\n",
       "      <td>t1_elytcq6</td>\n",
       "      <td>t1_elyszdw</td>\n",
       "    </tr>\n",
       "  </tbody>\n",
       "</table>\n",
       "<p>73635 rows × 7 columns</p>\n",
       "</div>"
      ],
      "text/plain": [
       "      entity_group     score             word  start  end submission_id  \\\n",
       "0              ORG  0.995675  Open University     50   65    t1_loo6dk0   \n",
       "1              ORG  0.910365              JVP    134  137    t1_loo6dk0   \n",
       "2              ORG  0.922723              NPP    169  172    t1_loo6dk0   \n",
       "3              ORG  0.651204          Anthare    248  255    t1_loo6dk0   \n",
       "4              PER  0.914559           Harini    558  564    t1_loo6dk0   \n",
       "...            ...       ...              ...    ...  ...           ...   \n",
       "73630          ORG  0.782095               UN     39   41    t1_eo1moic   \n",
       "73631          PER  0.887043             Haha      0    4    t1_eo45x4w   \n",
       "73632          ORG  0.959726              UNP    161  164    t1_eo2xs00   \n",
       "73633          ORG  0.622910      Immigration      5   16    t1_elz0zbf   \n",
       "73634          LOC  0.570578            metro     20   25    t1_elytcq6   \n",
       "\n",
       "      responds_to  \n",
       "0      t3_1fo8hat  \n",
       "1      t3_1fo8hat  \n",
       "2      t3_1fo8hat  \n",
       "3      t3_1fo8hat  \n",
       "4      t3_1fo8hat  \n",
       "...           ...  \n",
       "73630  t1_eo1ma3y  \n",
       "73631  t1_eo3rvqw  \n",
       "73632  t1_eo1moic  \n",
       "73633   t3_bi82s0  \n",
       "73634  t1_elyszdw  \n",
       "\n",
       "[73635 rows x 7 columns]"
      ]
     },
     "execution_count": 71,
     "metadata": {},
     "output_type": "execute_result"
    }
   ],
   "source": [
    "entities_category_answers = pd.DataFrame(all_entities_answers)\n",
    "entities_category_answers"
   ]
  },
  {
   "cell_type": "code",
   "execution_count": 72,
   "metadata": {},
   "outputs": [],
   "source": [
    "entities_category_answers.to_csv('outc.csv')"
   ]
  },
  {
   "cell_type": "code",
   "execution_count": 73,
   "metadata": {},
   "outputs": [
    {
     "data": {
      "text/plain": [
       "np.float32(0.8221739)"
      ]
     },
     "execution_count": 73,
     "metadata": {},
     "output_type": "execute_result"
    }
   ],
   "source": [
    "entities_category_answers['score'].median()"
   ]
  },
  {
   "cell_type": "code",
   "execution_count": 74,
   "metadata": {},
   "outputs": [
    {
     "data": {
      "text/plain": [
       "np.float32(0.863131)"
      ]
     },
     "execution_count": 74,
     "metadata": {},
     "output_type": "execute_result"
    }
   ],
   "source": [
    "entities_category['score'].median()"
   ]
  },
  {
   "cell_type": "code",
   "execution_count": 75,
   "metadata": {},
   "outputs": [
    {
     "data": {
      "text/plain": [
       "np.float64(0.9731913506984711)"
      ]
     },
     "execution_count": 75,
     "metadata": {},
     "output_type": "execute_result"
    }
   ],
   "source": [
    "entities_category_answers['score'].quantile(0.75)"
   ]
  },
  {
   "cell_type": "code",
   "execution_count": 76,
   "metadata": {},
   "outputs": [
    {
     "data": {
      "text/plain": [
       "np.float64(0.9844866245985031)"
      ]
     },
     "execution_count": 76,
     "metadata": {},
     "output_type": "execute_result"
    }
   ],
   "source": [
    "entities_category['score'].quantile(0.75)"
   ]
  },
  {
   "cell_type": "code",
   "execution_count": 77,
   "metadata": {},
   "outputs": [
    {
     "data": {
      "text/html": [
       "<div>\n",
       "<style scoped>\n",
       "    .dataframe tbody tr th:only-of-type {\n",
       "        vertical-align: middle;\n",
       "    }\n",
       "\n",
       "    .dataframe tbody tr th {\n",
       "        vertical-align: top;\n",
       "    }\n",
       "\n",
       "    .dataframe thead th {\n",
       "        text-align: right;\n",
       "    }\n",
       "</style>\n",
       "<table border=\"1\" class=\"dataframe\">\n",
       "  <thead>\n",
       "    <tr style=\"text-align: right;\">\n",
       "      <th></th>\n",
       "      <th>entity_group</th>\n",
       "      <th>score</th>\n",
       "      <th>word</th>\n",
       "      <th>start</th>\n",
       "      <th>end</th>\n",
       "      <th>submission_id</th>\n",
       "      <th>responds_to</th>\n",
       "    </tr>\n",
       "  </thead>\n",
       "  <tbody>\n",
       "    <tr>\n",
       "      <th>0</th>\n",
       "      <td>ORG</td>\n",
       "      <td>0.995675</td>\n",
       "      <td>Open University</td>\n",
       "      <td>50</td>\n",
       "      <td>65</td>\n",
       "      <td>t1_loo6dk0</td>\n",
       "      <td>t3_1fo8hat</td>\n",
       "    </tr>\n",
       "    <tr>\n",
       "      <th>1</th>\n",
       "      <td>ORG</td>\n",
       "      <td>0.910365</td>\n",
       "      <td>JVP</td>\n",
       "      <td>134</td>\n",
       "      <td>137</td>\n",
       "      <td>t1_loo6dk0</td>\n",
       "      <td>t3_1fo8hat</td>\n",
       "    </tr>\n",
       "    <tr>\n",
       "      <th>2</th>\n",
       "      <td>ORG</td>\n",
       "      <td>0.922723</td>\n",
       "      <td>NPP</td>\n",
       "      <td>169</td>\n",
       "      <td>172</td>\n",
       "      <td>t1_loo6dk0</td>\n",
       "      <td>t3_1fo8hat</td>\n",
       "    </tr>\n",
       "    <tr>\n",
       "      <th>4</th>\n",
       "      <td>PER</td>\n",
       "      <td>0.914559</td>\n",
       "      <td>Harini</td>\n",
       "      <td>558</td>\n",
       "      <td>564</td>\n",
       "      <td>t1_loo6dk0</td>\n",
       "      <td>t3_1fo8hat</td>\n",
       "    </tr>\n",
       "    <tr>\n",
       "      <th>5</th>\n",
       "      <td>LOC</td>\n",
       "      <td>0.965340</td>\n",
       "      <td>Sri Lanka</td>\n",
       "      <td>47</td>\n",
       "      <td>56</td>\n",
       "      <td>t1_loo37mt</td>\n",
       "      <td>t3_1fo8hat</td>\n",
       "    </tr>\n",
       "    <tr>\n",
       "      <th>...</th>\n",
       "      <td>...</td>\n",
       "      <td>...</td>\n",
       "      <td>...</td>\n",
       "      <td>...</td>\n",
       "      <td>...</td>\n",
       "      <td>...</td>\n",
       "      <td>...</td>\n",
       "    </tr>\n",
       "    <tr>\n",
       "      <th>73621</th>\n",
       "      <td>LOC</td>\n",
       "      <td>0.993781</td>\n",
       "      <td>Hambantota</td>\n",
       "      <td>441</td>\n",
       "      <td>451</td>\n",
       "      <td>t1_gg7ij7l</td>\n",
       "      <td>t1_gg5rufw</td>\n",
       "    </tr>\n",
       "    <tr>\n",
       "      <th>73627</th>\n",
       "      <td>LOC</td>\n",
       "      <td>0.970297</td>\n",
       "      <td>North Korea</td>\n",
       "      <td>983</td>\n",
       "      <td>994</td>\n",
       "      <td>t1_eo4jj2i</td>\n",
       "      <td>t3_bq6r00</td>\n",
       "    </tr>\n",
       "    <tr>\n",
       "      <th>73628</th>\n",
       "      <td>PER</td>\n",
       "      <td>0.979266</td>\n",
       "      <td>Mahendran</td>\n",
       "      <td>1153</td>\n",
       "      <td>1162</td>\n",
       "      <td>t1_eo4jj2i</td>\n",
       "      <td>t3_bq6r00</td>\n",
       "    </tr>\n",
       "    <tr>\n",
       "      <th>73631</th>\n",
       "      <td>PER</td>\n",
       "      <td>0.887043</td>\n",
       "      <td>Haha</td>\n",
       "      <td>0</td>\n",
       "      <td>4</td>\n",
       "      <td>t1_eo45x4w</td>\n",
       "      <td>t1_eo3rvqw</td>\n",
       "    </tr>\n",
       "    <tr>\n",
       "      <th>73632</th>\n",
       "      <td>ORG</td>\n",
       "      <td>0.959726</td>\n",
       "      <td>UNP</td>\n",
       "      <td>161</td>\n",
       "      <td>164</td>\n",
       "      <td>t1_eo2xs00</td>\n",
       "      <td>t1_eo1moic</td>\n",
       "    </tr>\n",
       "  </tbody>\n",
       "</table>\n",
       "<p>34208 rows × 7 columns</p>\n",
       "</div>"
      ],
      "text/plain": [
       "      entity_group     score             word  start   end submission_id  \\\n",
       "0              ORG  0.995675  Open University     50    65    t1_loo6dk0   \n",
       "1              ORG  0.910365              JVP    134   137    t1_loo6dk0   \n",
       "2              ORG  0.922723              NPP    169   172    t1_loo6dk0   \n",
       "4              PER  0.914559           Harini    558   564    t1_loo6dk0   \n",
       "5              LOC  0.965340        Sri Lanka     47    56    t1_loo37mt   \n",
       "...            ...       ...              ...    ...   ...           ...   \n",
       "73621          LOC  0.993781       Hambantota    441   451    t1_gg7ij7l   \n",
       "73627          LOC  0.970297      North Korea    983   994    t1_eo4jj2i   \n",
       "73628          PER  0.979266        Mahendran   1153  1162    t1_eo4jj2i   \n",
       "73631          PER  0.887043             Haha      0     4    t1_eo45x4w   \n",
       "73632          ORG  0.959726              UNP    161   164    t1_eo2xs00   \n",
       "\n",
       "      responds_to  \n",
       "0      t3_1fo8hat  \n",
       "1      t3_1fo8hat  \n",
       "2      t3_1fo8hat  \n",
       "4      t3_1fo8hat  \n",
       "5      t3_1fo8hat  \n",
       "...           ...  \n",
       "73621  t1_gg5rufw  \n",
       "73627   t3_bq6r00  \n",
       "73628   t3_bq6r00  \n",
       "73631  t1_eo3rvqw  \n",
       "73632  t1_eo1moic  \n",
       "\n",
       "[34208 rows x 7 columns]"
      ]
     },
     "execution_count": 77,
     "metadata": {},
     "output_type": "execute_result"
    }
   ],
   "source": [
    "answers_filtered = entities_category_answers[(entities_category_answers['score'] > 0.85)]\n",
    "answers_filtered"
   ]
  },
  {
   "cell_type": "code",
   "execution_count": 78,
   "metadata": {},
   "outputs": [
    {
     "data": {
      "text/html": [
       "<div>\n",
       "<style scoped>\n",
       "    .dataframe tbody tr th:only-of-type {\n",
       "        vertical-align: middle;\n",
       "    }\n",
       "\n",
       "    .dataframe tbody tr th {\n",
       "        vertical-align: top;\n",
       "    }\n",
       "\n",
       "    .dataframe thead th {\n",
       "        text-align: right;\n",
       "    }\n",
       "</style>\n",
       "<table border=\"1\" class=\"dataframe\">\n",
       "  <thead>\n",
       "    <tr style=\"text-align: right;\">\n",
       "      <th></th>\n",
       "      <th>entity_group</th>\n",
       "      <th>score</th>\n",
       "      <th>word</th>\n",
       "      <th>start</th>\n",
       "      <th>end</th>\n",
       "      <th>submission_id</th>\n",
       "      <th>responds_to</th>\n",
       "    </tr>\n",
       "  </thead>\n",
       "  <tbody>\n",
       "    <tr>\n",
       "      <th>0</th>\n",
       "      <td>PER</td>\n",
       "      <td>0.997228</td>\n",
       "      <td>Harini Amarasuriya</td>\n",
       "      <td>0</td>\n",
       "      <td>18</td>\n",
       "      <td>t3_1fo8hat</td>\n",
       "      <td>NaN</td>\n",
       "    </tr>\n",
       "    <tr>\n",
       "      <th>1</th>\n",
       "      <td>LOC</td>\n",
       "      <td>0.999710</td>\n",
       "      <td>Sri Lanka</td>\n",
       "      <td>107</td>\n",
       "      <td>116</td>\n",
       "      <td>t3_1fo8hat</td>\n",
       "      <td>NaN</td>\n",
       "    </tr>\n",
       "    <tr>\n",
       "      <th>5</th>\n",
       "      <td>PER</td>\n",
       "      <td>0.989407</td>\n",
       "      <td>Ranil</td>\n",
       "      <td>14</td>\n",
       "      <td>19</td>\n",
       "      <td>t3_1ennprd</td>\n",
       "      <td>NaN</td>\n",
       "    </tr>\n",
       "    <tr>\n",
       "      <th>6</th>\n",
       "      <td>PER</td>\n",
       "      <td>0.974848</td>\n",
       "      <td>Sajith Premadasa</td>\n",
       "      <td>8</td>\n",
       "      <td>24</td>\n",
       "      <td>t3_1fmojie</td>\n",
       "      <td>NaN</td>\n",
       "    </tr>\n",
       "    <tr>\n",
       "      <th>10</th>\n",
       "      <td>ORG</td>\n",
       "      <td>0.951385</td>\n",
       "      <td>AKD</td>\n",
       "      <td>26</td>\n",
       "      <td>29</td>\n",
       "      <td>t3_1fp4jsv</td>\n",
       "      <td>NaN</td>\n",
       "    </tr>\n",
       "    <tr>\n",
       "      <th>...</th>\n",
       "      <td>...</td>\n",
       "      <td>...</td>\n",
       "      <td>...</td>\n",
       "      <td>...</td>\n",
       "      <td>...</td>\n",
       "      <td>...</td>\n",
       "      <td>...</td>\n",
       "    </tr>\n",
       "    <tr>\n",
       "      <th>1111</th>\n",
       "      <td>MISC</td>\n",
       "      <td>0.994223</td>\n",
       "      <td>Spotify</td>\n",
       "      <td>17</td>\n",
       "      <td>24</td>\n",
       "      <td>t3_kynr76</td>\n",
       "      <td>NaN</td>\n",
       "    </tr>\n",
       "    <tr>\n",
       "      <th>1112</th>\n",
       "      <td>PER</td>\n",
       "      <td>0.946805</td>\n",
       "      <td>Nalin K</td>\n",
       "      <td>1</td>\n",
       "      <td>8</td>\n",
       "      <td>t3_kz1cdl</td>\n",
       "      <td>NaN</td>\n",
       "    </tr>\n",
       "    <tr>\n",
       "      <th>1116</th>\n",
       "      <td>MISC</td>\n",
       "      <td>0.881802</td>\n",
       "      <td>Naruto</td>\n",
       "      <td>58</td>\n",
       "      <td>64</td>\n",
       "      <td>t3_jsm9cx</td>\n",
       "      <td>NaN</td>\n",
       "    </tr>\n",
       "    <tr>\n",
       "      <th>1117</th>\n",
       "      <td>LOC</td>\n",
       "      <td>0.998718</td>\n",
       "      <td>Colombo</td>\n",
       "      <td>50</td>\n",
       "      <td>57</td>\n",
       "      <td>t3_kerz3b</td>\n",
       "      <td>NaN</td>\n",
       "    </tr>\n",
       "    <tr>\n",
       "      <th>1118</th>\n",
       "      <td>LOC</td>\n",
       "      <td>0.999483</td>\n",
       "      <td>India</td>\n",
       "      <td>66</td>\n",
       "      <td>71</td>\n",
       "      <td>t3_kerz3b</td>\n",
       "      <td>NaN</td>\n",
       "    </tr>\n",
       "  </tbody>\n",
       "</table>\n",
       "<p>583 rows × 7 columns</p>\n",
       "</div>"
      ],
      "text/plain": [
       "     entity_group     score                word  start  end submission_id  \\\n",
       "0             PER  0.997228  Harini Amarasuriya      0   18    t3_1fo8hat   \n",
       "1             LOC  0.999710           Sri Lanka    107  116    t3_1fo8hat   \n",
       "5             PER  0.989407               Ranil     14   19    t3_1ennprd   \n",
       "6             PER  0.974848    Sajith Premadasa      8   24    t3_1fmojie   \n",
       "10            ORG  0.951385                 AKD     26   29    t3_1fp4jsv   \n",
       "...           ...       ...                 ...    ...  ...           ...   \n",
       "1111         MISC  0.994223             Spotify     17   24     t3_kynr76   \n",
       "1112          PER  0.946805             Nalin K      1    8     t3_kz1cdl   \n",
       "1116         MISC  0.881802              Naruto     58   64     t3_jsm9cx   \n",
       "1117          LOC  0.998718             Colombo     50   57     t3_kerz3b   \n",
       "1118          LOC  0.999483               India     66   71     t3_kerz3b   \n",
       "\n",
       "      responds_to  \n",
       "0             NaN  \n",
       "1             NaN  \n",
       "5             NaN  \n",
       "6             NaN  \n",
       "10            NaN  \n",
       "...           ...  \n",
       "1111          NaN  \n",
       "1112          NaN  \n",
       "1116          NaN  \n",
       "1117          NaN  \n",
       "1118          NaN  \n",
       "\n",
       "[583 rows x 7 columns]"
      ]
     },
     "execution_count": 78,
     "metadata": {},
     "output_type": "execute_result"
    }
   ],
   "source": [
    "submissions_filtered = entities_category[(entities_category['score'] > 0.85)]\n",
    "submissions_filtered"
   ]
  },
  {
   "cell_type": "code",
   "execution_count": 56,
   "metadata": {},
   "outputs": [
    {
     "data": {
      "text/plain": [
       "entity_group\n",
       "LOC     245\n",
       "PER     126\n",
       "MISC    112\n",
       "ORG     100\n",
       "Name: count, dtype: int64"
      ]
     },
     "execution_count": 56,
     "metadata": {},
     "output_type": "execute_result"
    }
   ],
   "source": [
    "submissions_filtered['entity_group'].value_counts()"
   ]
  },
  {
   "cell_type": "code",
   "execution_count": 57,
   "metadata": {},
   "outputs": [
    {
     "data": {
      "text/plain": [
       "entity_group\n",
       "LOC     13220\n",
       "PER      8237\n",
       "MISC     6869\n",
       "ORG      5882\n",
       "Name: count, dtype: int64"
      ]
     },
     "execution_count": 57,
     "metadata": {},
     "output_type": "execute_result"
    }
   ],
   "source": [
    "answers_filtered['entity_group'].value_counts()"
   ]
  },
  {
   "cell_type": "code",
   "execution_count": 58,
   "metadata": {},
   "outputs": [
    {
     "data": {
      "text/plain": [
       "word\n",
       "Sri Lanka                 3649\n",
       "Ranil                     1612\n",
       "India                      997\n",
       "NPP                        664\n",
       "Israel                     636\n",
       "                          ... \n",
       "RX 590                       1\n",
       "VGA Cards Buy and Sell       1\n",
       "Winsoft                      1\n",
       "Nanotech                     1\n",
       "Counter _ Narc               1\n",
       "Name: count, Length: 7369, dtype: int64"
      ]
     },
     "execution_count": 58,
     "metadata": {},
     "output_type": "execute_result"
    }
   ],
   "source": [
    "answers_filtered['word'].value_counts()"
   ]
  },
  {
   "cell_type": "code",
   "execution_count": 88,
   "metadata": {},
   "outputs": [
    {
     "name": "stdout",
     "output_type": "stream",
     "text": [
      "dict_keys(['Sri Lanka', 'Ranil', 'AKD', 'NPP', 'Colombo', 'India', 'Sajith', 'SL', 'Srilanka', 'Sajith Premadasa', 'Namal', 'Anura', 'Ranil Wickremesinghe', 'Elon Musk', 'Harini Amarasuriya', 'Canada', 'Lanka', 'Anura Kumara Dissanayake', 'Facebook', 'Ravi Seneviratne', 'Namal Rajapaksa', 'Online Safety Bill', 'SriLankan Airlines', 'Dubai', 'Mahinda Rajapaksa', 'Lebanon', 'Ukrainian', 'Gota', 'Sinhala', 'NASA', 'Thailand', 'Central Bank', 'Spotify', 'Ranjan', 'Trinity', 'Ottawa', 'Srilankan', 'Gotabaya', 'English', 'Sanath Nishantha', 'Times Square', 'Reddit', 'Jerome', 'Airtel', 'Batticaloa', 'Israel', 'Mahinda', 'Buddhist', 'Wellawatte', 'ASEAN', 'Rohana Wijeweera', 'Ranil MF', 'Suriya Kanda', 'Commission to In', 'Dead Serious', 'Tom Pacha', 'Gen Z', 'Ranil Wickramasing', 'CORRUPT', 'D', '##hammika Perera', 'Tamil', 'Cuba', 'Che', 'Lenin', 'UNP', 'Lasantha Wickramatunge', 'UK', 'Sri Lankan conflict', 'Sinh', '##e', 'General Election', 'Laka', 'Koombiyo', 'IMF', 'Gammanpila', 'US', 'Namal R', 'CCC', 'Elpitiya', 'New Government', 'Mirissa Hills', 'Harini', 'LMAO', \"New Women ' s Rights Act\", 'LGBTQ Rights', 'Starlink Effect', 'Israel National Security Council', 'Credible Threat of Attack', 'Arugam Bay', 'Russian', 'Sri Lanka Police', 'Rajapaksa', 'Lahiru Hathurusinghe', 'Presidents Guard', 'Ukrainian Foreign Legion Troops', 'Kursk', 'Tilak Siyambalapitiya', 'BYD', 'Ahmedabad', 'Dissanayake', 'Bali', 'McDonald', 'Chanel 4', 'Easter Bombings', 'Azzam Ameen', 'Radhya Gunasekara', 'Almost Got Scammed Today', 'First Global Robotics Competition!!', 'Hamas Terrorist Attack', 'May She Find Peace According to Her Beliefs', 'Piyumi Wijesekara', 'Dummaldeniye Sumangala', 'Disturbing Discrimination at Lazies Hotel Midigama : A Wake - Up Call', 'Australia', 'Presidential', 'SL Police', 'Christian Bale', 'Sri', 'Parliament Road Accident', 'Mahinda Rajapakse', 'SLPP', 'The Death Of The 13 Year Old Boy', 'University of Colombo', 'Sri Lanka Tourism Alliance', 'Senaka Batagoda', 'Will Mcdonald', 'Russia', 'United Nations', 'UN', 'Nandalal Weerasinghe', 'Global Finance', 'Central Banker Report Cards', 'Sanath Nishantha Accident', 'Scam', 'Phishing', 'Russian Embassy', 'New Scam Guised', 'Starlink', 'Chineses Engineers', 'Sri Lankan Engineers', 'Bambalapitiya railway station', 'Ireland', 'Jackson Anthony', 'Fox Hill Journey', 'Vaccine Mandate', 'Closing Meat Shops for State Vesak Festival', 'Dhanushka Gunathilaka', 'Gnanasara Thera', 'Kamindu Mendis', \"24 Years a Free Agent on Valentine ' s Day\", 'Kurumba Bay', 'Weligama', 'Pathum Nissanka', 'Century in England Soil rewriting History', 'Sri lanka', 'Rohitha Abeygunawardena', 'IQ', 'Happy Victory Day', 'Wenasa Sapada', 'Dilith', 'Foreign Media', 'South Asia', 'World War 3', 'Fox Hill Super Cross Accident', 'I Think the Change is Necessary', 'IM', 'Twitter', 'Piumi Hansamali', 'Presidential Election', 'South Eastern University', 'Friends', 'Kirulapone', 'NTB', 'Malaysian', 'Liam Payne', 'Police', 'Nine Arch Bridge', 'Slight Dip', 'Island', 'Nathasha', 'Divaina', 'Crocus City Hall', 'Moscow', \"President ' s House\", 'Prabhakaran', 'Sugathadasa', 'ada', 'Elon', 'Colombo Book Fair', 'Avenra', 'Lords of Chaos : The Self - Proclaimed Saviors Who Predict Doom Without Them', 'Online Request for Birth, Death, and Marriage Certificates', 'Jerome Guy', 'Buddha', 'Civil war', 'Anura Dissanayake', 'England', 'Presidential Election Controversy', 'Diana Gamage', 'India High Commission', 'Bloomberg', 'McDonald Social Media', 'Ontario', 'Tamil Genocide Education Week', 'SLT', 'Public Holiday', 'CB', 'Gotabhaya Rajapaksha', 'Mirihana', 'Vehicle Imports : An Update from the Authorities', 'Readers ’ Choice Awards', \"Talduwa ' s Brief Calm : Flooding Subsides as Heavy Rain Looms Again\", 'Election Commission', 'Is It Ture That O / L', 'Power of Unity & the Mind Games', 'Came Across a Dumb Comment About', 'CIS', 'sinh', 'Maradana', 'Common', 'CID', 'Your Experiences', 'Election Night Live Stream on Discord – Join Us for Results & Discussion!', 'Nuwara Eliya Hill Club', 'Pol Sambol', 'Video', 'JVP', 'The Reality of Taxes and Life Abroad', 'Bill Maher', 'USA', 'Sri Lankan Hill Country Leopard', 'Experience with Gynecomastia Surgery', 'Children ’ s Day', 'Sampath Bank', 'iPhone', 'Ranga Dias', 'Public Bus Story', 'Kiribath', 'Govt', 'Nuwaraeliya', 'NYC', 'Indian', 'Uber', 'One shot', 'Indian Subcontinent', 'Simple Thank - World Woman ’ s Day', 'Christians', 'Muslims', 'Soul Mates', 'Easter Attack', 's', 'Tuk Tuk', 'Ice Packets', 'DCSL', 'Norway', 'Economic Powerhouse : Innovative Strategies for Boosting Exports', '❤', 'Lyceum', 'Miss World', 'Gal', 'Portcity', 'Grease Yaka', 'Srilanlan', 'Law College', 'Yvonne Jonsson', 'Iman Cader', 'Celebrate The Victory Peacefully', 'Air Lanka', 'Sri lanka Institute of Information Technology', 'Galle', 'Pakistan', 'Violence vs Uber Drivers : Galle Fort', 'Bhanuka Harischandra', 'In', 'Kalkudah', 'Hamas', 'Renewing', 'Port', 'Postpaid', 'Chandrapala', 'nuclear', 'kadana', 'Maldives', 'Amana Takaful', 'Nethmi Ahinsa', 'Commonwealth Games', 'YouTube', 'Power', 'Arthur C Clarke', 'Rajakshas', 'Rajapaksha', 'Hambantota', 'Apple', 'un', 'Anonymous', 'Colombo High Court', 'Sri Lankan Brands', 'Nalin K', 'Naruto', 'Sri Lanka Presidential election', 'Fairy Tale Policies', 'Jeevan Thondaman', 'Colombo National Musuem', 'Mobitel', 'Anura Kumara', 'Ali Sabry', 'Amount of Fake Posts', 'X Against NPP is Mind Blowing', 'Manifesto', 'Hasanah Segu Isadeen', 'What will he Say', 'Network Market', 'I Think, Therefore I Vote!', 'Leftist Political Organization', 'Batticalo'])\n"
     ]
    }
   ],
   "source": [
    "print(dict(submissions_filtered['word'].value_counts()))"
   ]
  },
  {
   "cell_type": "code",
   "execution_count": null,
   "metadata": {},
   "outputs": [],
   "source": [
    "def entities_emotions(entities_df, emotions_df):\n",
    "    entities_list = dict(entities_df['word'].value_counts())\n",
    "    emotions = []\n",
    "    result = dict()\n",
    "    \n",
    "    for entity in entities_list.keys():\n",
    "        result[entity] = ()\n",
    "        sub_fr = entities_df[(entities_df['word']==entity)]\n",
    "        merged_fr = sub_fr.merge(emotions_df, on=\"submission_id\")\n",
    "        merged_fr[\"max_value\"] = merged_fr[emotions].max(axis=1) \n",
    "        for emotion in emotions:\n",
    "            merged_fr.loc[merged_fr[emotion]  != merged_fr[\"max_value\"], emotion] = 0\n",
    "            merged_fr.loc[merged_fr[emotion]  == merged_fr[\"max_value\"], emotion] = 1\n",
    "            result[entity][emotion] = merged_fr[emotion].sum()\n",
    "    return result\n",
    "    "
   ]
  },
  {
   "cell_type": "code",
   "execution_count": null,
   "metadata": {},
   "outputs": [],
   "source": []
  },
  {
   "cell_type": "code",
   "execution_count": 98,
   "metadata": {},
   "outputs": [
    {
     "name": "stdout",
     "output_type": "stream",
     "text": [
      "Sri Lanka\n"
     ]
    },
    {
     "data": {
      "text/html": [
       "<div>\n",
       "<style scoped>\n",
       "    .dataframe tbody tr th:only-of-type {\n",
       "        vertical-align: middle;\n",
       "    }\n",
       "\n",
       "    .dataframe tbody tr th {\n",
       "        vertical-align: top;\n",
       "    }\n",
       "\n",
       "    .dataframe thead th {\n",
       "        text-align: right;\n",
       "    }\n",
       "</style>\n",
       "<table border=\"1\" class=\"dataframe\">\n",
       "  <thead>\n",
       "    <tr style=\"text-align: right;\">\n",
       "      <th></th>\n",
       "      <th>entity_group</th>\n",
       "      <th>score</th>\n",
       "      <th>word</th>\n",
       "      <th>start</th>\n",
       "      <th>end</th>\n",
       "      <th>submission_id</th>\n",
       "      <th>responds_to</th>\n",
       "    </tr>\n",
       "  </thead>\n",
       "  <tbody>\n",
       "    <tr>\n",
       "      <th>5</th>\n",
       "      <td>LOC</td>\n",
       "      <td>0.965340</td>\n",
       "      <td>Sri Lanka</td>\n",
       "      <td>47</td>\n",
       "      <td>56</td>\n",
       "      <td>t1_loo37mt</td>\n",
       "      <td>t3_1fo8hat</td>\n",
       "    </tr>\n",
       "    <tr>\n",
       "      <th>6</th>\n",
       "      <td>LOC</td>\n",
       "      <td>0.999082</td>\n",
       "      <td>Sri Lanka</td>\n",
       "      <td>164</td>\n",
       "      <td>173</td>\n",
       "      <td>t1_loo37mt</td>\n",
       "      <td>t3_1fo8hat</td>\n",
       "    </tr>\n",
       "    <tr>\n",
       "      <th>17</th>\n",
       "      <td>LOC</td>\n",
       "      <td>0.916786</td>\n",
       "      <td>Sri Lanka</td>\n",
       "      <td>11</td>\n",
       "      <td>20</td>\n",
       "      <td>t1_looagkh</td>\n",
       "      <td>t3_1fo8hat</td>\n",
       "    </tr>\n",
       "    <tr>\n",
       "      <th>26</th>\n",
       "      <td>LOC</td>\n",
       "      <td>0.998658</td>\n",
       "      <td>Sri Lanka</td>\n",
       "      <td>155</td>\n",
       "      <td>164</td>\n",
       "      <td>t1_loupxck</td>\n",
       "      <td>t3_1fo8hat</td>\n",
       "    </tr>\n",
       "    <tr>\n",
       "      <th>42</th>\n",
       "      <td>LOC</td>\n",
       "      <td>0.999746</td>\n",
       "      <td>Sri Lanka</td>\n",
       "      <td>39</td>\n",
       "      <td>48</td>\n",
       "      <td>t1_loo3dpl</td>\n",
       "      <td>t1_loo37mt</td>\n",
       "    </tr>\n",
       "    <tr>\n",
       "      <th>...</th>\n",
       "      <td>...</td>\n",
       "      <td>...</td>\n",
       "      <td>...</td>\n",
       "      <td>...</td>\n",
       "      <td>...</td>\n",
       "      <td>...</td>\n",
       "      <td>...</td>\n",
       "    </tr>\n",
       "    <tr>\n",
       "      <th>73425</th>\n",
       "      <td>LOC</td>\n",
       "      <td>0.998478</td>\n",
       "      <td>Sri Lanka</td>\n",
       "      <td>815</td>\n",
       "      <td>824</td>\n",
       "      <td>t1_hyxdffd</td>\n",
       "      <td>t3_t49aoy</td>\n",
       "    </tr>\n",
       "    <tr>\n",
       "      <th>73472</th>\n",
       "      <td>LOC</td>\n",
       "      <td>0.964168</td>\n",
       "      <td>Sri Lanka</td>\n",
       "      <td>162</td>\n",
       "      <td>171</td>\n",
       "      <td>t1_i2p6ycq</td>\n",
       "      <td>t3_ts3p2v</td>\n",
       "    </tr>\n",
       "    <tr>\n",
       "      <th>73530</th>\n",
       "      <td>LOC</td>\n",
       "      <td>0.960788</td>\n",
       "      <td>Sri Lanka</td>\n",
       "      <td>20</td>\n",
       "      <td>29</td>\n",
       "      <td>t1_elyu920</td>\n",
       "      <td>t3_bi8e5q</td>\n",
       "    </tr>\n",
       "    <tr>\n",
       "      <th>73560</th>\n",
       "      <td>LOC</td>\n",
       "      <td>0.999656</td>\n",
       "      <td>Sri Lanka</td>\n",
       "      <td>303</td>\n",
       "      <td>312</td>\n",
       "      <td>t1_gjc2rbe</td>\n",
       "      <td>t3_kxsyrs</td>\n",
       "    </tr>\n",
       "    <tr>\n",
       "      <th>73592</th>\n",
       "      <td>LOC</td>\n",
       "      <td>0.961774</td>\n",
       "      <td>Sri Lanka</td>\n",
       "      <td>810</td>\n",
       "      <td>819</td>\n",
       "      <td>t1_gg4qwsl</td>\n",
       "      <td>t3_kerz3b</td>\n",
       "    </tr>\n",
       "  </tbody>\n",
       "</table>\n",
       "<p>3649 rows × 7 columns</p>\n",
       "</div>"
      ],
      "text/plain": [
       "      entity_group     score       word  start  end submission_id responds_to\n",
       "5              LOC  0.965340  Sri Lanka     47   56    t1_loo37mt  t3_1fo8hat\n",
       "6              LOC  0.999082  Sri Lanka    164  173    t1_loo37mt  t3_1fo8hat\n",
       "17             LOC  0.916786  Sri Lanka     11   20    t1_looagkh  t3_1fo8hat\n",
       "26             LOC  0.998658  Sri Lanka    155  164    t1_loupxck  t3_1fo8hat\n",
       "42             LOC  0.999746  Sri Lanka     39   48    t1_loo3dpl  t1_loo37mt\n",
       "...            ...       ...        ...    ...  ...           ...         ...\n",
       "73425          LOC  0.998478  Sri Lanka    815  824    t1_hyxdffd   t3_t49aoy\n",
       "73472          LOC  0.964168  Sri Lanka    162  171    t1_i2p6ycq   t3_ts3p2v\n",
       "73530          LOC  0.960788  Sri Lanka     20   29    t1_elyu920   t3_bi8e5q\n",
       "73560          LOC  0.999656  Sri Lanka    303  312    t1_gjc2rbe   t3_kxsyrs\n",
       "73592          LOC  0.961774  Sri Lanka    810  819    t1_gg4qwsl   t3_kerz3b\n",
       "\n",
       "[3649 rows x 7 columns]"
      ]
     },
     "execution_count": 98,
     "metadata": {},
     "output_type": "execute_result"
    }
   ],
   "source": [
    "keys = list(dict(submissions_filtered['word'].value_counts()).keys())\n",
    "print(keys[0])\n",
    "sub_fr = answers_filtered[(answers_filtered['word']==keys[0])]\n",
    "sub_fr"
   ]
  },
  {
   "cell_type": "code",
   "execution_count": 65,
   "metadata": {},
   "outputs": [
    {
     "data": {
      "text/html": [
       "<div>\n",
       "<style scoped>\n",
       "    .dataframe tbody tr th:only-of-type {\n",
       "        vertical-align: middle;\n",
       "    }\n",
       "\n",
       "    .dataframe tbody tr th {\n",
       "        vertical-align: top;\n",
       "    }\n",
       "\n",
       "    .dataframe thead th {\n",
       "        text-align: right;\n",
       "    }\n",
       "</style>\n",
       "<table border=\"1\" class=\"dataframe\">\n",
       "  <thead>\n",
       "    <tr style=\"text-align: right;\">\n",
       "      <th></th>\n",
       "      <th>full_name</th>\n",
       "      <th>responds_to</th>\n",
       "      <th>text_body</th>\n",
       "      <th>result</th>\n",
       "    </tr>\n",
       "  </thead>\n",
       "  <tbody>\n",
       "    <tr>\n",
       "      <th>0</th>\n",
       "      <td>t3_1fo8hat</td>\n",
       "      <td>NaN</td>\n",
       "      <td>Harini Amarasuriya, feminist and outspoken adv...</td>\n",
       "      <td>[{'entity_group': 'PER', 'score': 0.9972281, '...</td>\n",
       "    </tr>\n",
       "    <tr>\n",
       "      <th>159</th>\n",
       "      <td>t3_1g42r4y</td>\n",
       "      <td>NaN</td>\n",
       "      <td>Oh hell nawww this ain’t it.</td>\n",
       "      <td>[{'entity_group': 'MISC', 'score': 0.57339954,...</td>\n",
       "    </tr>\n",
       "    <tr>\n",
       "      <th>371</th>\n",
       "      <td>t3_1fms0jd</td>\n",
       "      <td>NaN</td>\n",
       "      <td>Thank you Ranil! Thank you for everything you ...</td>\n",
       "      <td>[{'entity_group': 'PER', 'score': 0.67960984, ...</td>\n",
       "    </tr>\n",
       "    <tr>\n",
       "      <th>477</th>\n",
       "      <td>t3_1fxp8ei</td>\n",
       "      <td>NaN</td>\n",
       "      <td>What do you guys think about this person? I th...</td>\n",
       "      <td>[]</td>\n",
       "    </tr>\n",
       "    <tr>\n",
       "      <th>647</th>\n",
       "      <td>t3_1g16d6e</td>\n",
       "      <td>NaN</td>\n",
       "      <td>It finally happened - his nomination got rejected</td>\n",
       "      <td>[]</td>\n",
       "    </tr>\n",
       "    <tr>\n",
       "      <th>...</th>\n",
       "      <td>...</td>\n",
       "      <td>...</td>\n",
       "      <td>...</td>\n",
       "      <td>...</td>\n",
       "    </tr>\n",
       "    <tr>\n",
       "      <th>51860</th>\n",
       "      <td>t3_kxsyrs</td>\n",
       "      <td>NaN</td>\n",
       "      <td>SLT throttling ping like crazy</td>\n",
       "      <td>[{'entity_group': 'MISC', 'score': 0.6677458, ...</td>\n",
       "    </tr>\n",
       "    <tr>\n",
       "      <th>51865</th>\n",
       "      <td>t3_jsm9cx</td>\n",
       "      <td>NaN</td>\n",
       "      <td>For the fellow weebs who were worried Hiru TVs...</td>\n",
       "      <td>[{'entity_group': 'MISC', 'score': 0.40421125,...</td>\n",
       "    </tr>\n",
       "    <tr>\n",
       "      <th>51871</th>\n",
       "      <td>t3_kerz3b</td>\n",
       "      <td>NaN</td>\n",
       "      <td>Is it true that the government sold a part of ...</td>\n",
       "      <td>[{'entity_group': 'LOC', 'score': 0.99871755, ...</td>\n",
       "    </tr>\n",
       "    <tr>\n",
       "      <th>51876</th>\n",
       "      <td>t3_bq6r00</td>\n",
       "      <td>NaN</td>\n",
       "      <td>What do you guys think?</td>\n",
       "      <td>[{'entity_group': 'MISC', 'score': 0.7178134, ...</td>\n",
       "    </tr>\n",
       "    <tr>\n",
       "      <th>51888</th>\n",
       "      <td>t3_bi82s0</td>\n",
       "      <td>NaN</td>\n",
       "      <td>Is it true that all the foreigners from islami...</td>\n",
       "      <td>[{'entity_group': 'MISC', 'score': 0.81655, 'w...</td>\n",
       "    </tr>\n",
       "  </tbody>\n",
       "</table>\n",
       "<p>922 rows × 4 columns</p>\n",
       "</div>"
      ],
      "text/plain": [
       "        full_name responds_to  \\\n",
       "0      t3_1fo8hat         NaN   \n",
       "159    t3_1g42r4y         NaN   \n",
       "371    t3_1fms0jd         NaN   \n",
       "477    t3_1fxp8ei         NaN   \n",
       "647    t3_1g16d6e         NaN   \n",
       "...           ...         ...   \n",
       "51860   t3_kxsyrs         NaN   \n",
       "51865   t3_jsm9cx         NaN   \n",
       "51871   t3_kerz3b         NaN   \n",
       "51876   t3_bq6r00         NaN   \n",
       "51888   t3_bi82s0         NaN   \n",
       "\n",
       "                                               text_body  \\\n",
       "0      Harini Amarasuriya, feminist and outspoken adv...   \n",
       "159                         Oh hell nawww this ain’t it.   \n",
       "371    Thank you Ranil! Thank you for everything you ...   \n",
       "477    What do you guys think about this person? I th...   \n",
       "647    It finally happened - his nomination got rejected   \n",
       "...                                                  ...   \n",
       "51860                     SLT throttling ping like crazy   \n",
       "51865  For the fellow weebs who were worried Hiru TVs...   \n",
       "51871  Is it true that the government sold a part of ...   \n",
       "51876                            What do you guys think?   \n",
       "51888  Is it true that all the foreigners from islami...   \n",
       "\n",
       "                                                  result  \n",
       "0      [{'entity_group': 'PER', 'score': 0.9972281, '...  \n",
       "159    [{'entity_group': 'MISC', 'score': 0.57339954,...  \n",
       "371    [{'entity_group': 'PER', 'score': 0.67960984, ...  \n",
       "477                                                   []  \n",
       "647                                                   []  \n",
       "...                                                  ...  \n",
       "51860  [{'entity_group': 'MISC', 'score': 0.6677458, ...  \n",
       "51865  [{'entity_group': 'MISC', 'score': 0.40421125,...  \n",
       "51871  [{'entity_group': 'LOC', 'score': 0.99871755, ...  \n",
       "51876  [{'entity_group': 'MISC', 'score': 0.7178134, ...  \n",
       "51888  [{'entity_group': 'MISC', 'score': 0.81655, 'w...  \n",
       "\n",
       "[922 rows x 4 columns]"
      ]
     },
     "execution_count": 65,
     "metadata": {},
     "output_type": "execute_result"
    }
   ],
   "source": [
    "res['result']=res['text_body'].apply(lambda x: nlp(x))\n",
    "res"
   ]
  }
 ],
 "metadata": {
  "kernelspec": {
   "display_name": "venv",
   "language": "python",
   "name": "python3"
  },
  "language_info": {
   "codemirror_mode": {
    "name": "ipython",
    "version": 3
   },
   "file_extension": ".py",
   "mimetype": "text/x-python",
   "name": "python",
   "nbconvert_exporter": "python",
   "pygments_lexer": "ipython3",
   "version": "3.12.7"
  }
 },
 "nbformat": 4,
 "nbformat_minor": 2
}
