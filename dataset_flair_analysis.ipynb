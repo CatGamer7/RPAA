{
 "cells": [
  {
   "cell_type": "code",
   "execution_count": 1,
   "metadata": {},
   "outputs": [],
   "source": [
    "import pandas as pd\n",
    "import numpy as np\n",
    "import seaborn as sns\n",
    "from tqdm import tqdm\n",
    "tqdm.pandas()"
   ]
  },
  {
   "cell_type": "code",
   "execution_count": 2,
   "metadata": {},
   "outputs": [],
   "source": [
    "from json import dumps, loads, JSONEncoder"
   ]
  },
  {
   "cell_type": "code",
   "execution_count": 3,
   "metadata": {},
   "outputs": [],
   "source": [
    "sns.set_theme(rc={\n",
    "    \"figure.figsize\": (16, 9)\n",
    "})"
   ]
  },
  {
   "cell_type": "code",
   "execution_count": 4,
   "metadata": {},
   "outputs": [],
   "source": [
    "df = pd.read_csv(\"27_10_20_53.csv\")"
   ]
  },
  {
   "cell_type": "code",
   "execution_count": 5,
   "metadata": {},
   "outputs": [
    {
     "data": {
      "text/html": [
       "<div>\n",
       "<style scoped>\n",
       "    .dataframe tbody tr th:only-of-type {\n",
       "        vertical-align: middle;\n",
       "    }\n",
       "\n",
       "    .dataframe tbody tr th {\n",
       "        vertical-align: top;\n",
       "    }\n",
       "\n",
       "    .dataframe thead th {\n",
       "        text-align: right;\n",
       "    }\n",
       "</style>\n",
       "<table border=\"1\" class=\"dataframe\">\n",
       "  <thead>\n",
       "    <tr style=\"text-align: right;\">\n",
       "      <th></th>\n",
       "      <th>full_name</th>\n",
       "      <th>text_body</th>\n",
       "      <th>author_name</th>\n",
       "      <th>votes</th>\n",
       "      <th>responds_to</th>\n",
       "      <th>parent_submission_name</th>\n",
       "      <th>submission_flair</th>\n",
       "      <th>created_timestamp</th>\n",
       "      <th>parsed_timestamp</th>\n",
       "      <th>controversiality</th>\n",
       "    </tr>\n",
       "  </thead>\n",
       "  <tbody>\n",
       "    <tr>\n",
       "      <th>0</th>\n",
       "      <td>t3_1fo8hat</td>\n",
       "      <td>Harini Amarasuriya, feminist and outspoken adv...</td>\n",
       "      <td>t2_hwz7hlpj</td>\n",
       "      <td>682</td>\n",
       "      <td>NaN</td>\n",
       "      <td>t3_1fo8hat</td>\n",
       "      <td>Politics</td>\n",
       "      <td>1.727171e+09</td>\n",
       "      <td>1730036388</td>\n",
       "      <td>False</td>\n",
       "    </tr>\n",
       "    <tr>\n",
       "      <th>1</th>\n",
       "      <td>t1_loo1nty</td>\n",
       "      <td>I like the fact I am hearing a lot more Dr in ...</td>\n",
       "      <td>t2_7z9p1u76</td>\n",
       "      <td>203</td>\n",
       "      <td>t3_1fo8hat</td>\n",
       "      <td>t3_1fo8hat</td>\n",
       "      <td>Politics</td>\n",
       "      <td>1.727171e+09</td>\n",
       "      <td>1730036390</td>\n",
       "      <td>False</td>\n",
       "    </tr>\n",
       "    <tr>\n",
       "      <th>2</th>\n",
       "      <td>t1_loo6dk0</td>\n",
       "      <td>She's an excellent lecturer and very popular w...</td>\n",
       "      <td>t2_88sa0qyh</td>\n",
       "      <td>255</td>\n",
       "      <td>t3_1fo8hat</td>\n",
       "      <td>t3_1fo8hat</td>\n",
       "      <td>Politics</td>\n",
       "      <td>1.727171e+09</td>\n",
       "      <td>1730036390</td>\n",
       "      <td>False</td>\n",
       "    </tr>\n",
       "    <tr>\n",
       "      <th>3</th>\n",
       "      <td>t1_loo37mt</td>\n",
       "      <td>From the perspective of a bi-racial child of a...</td>\n",
       "      <td>t2_yhhuya1j4</td>\n",
       "      <td>135</td>\n",
       "      <td>t3_1fo8hat</td>\n",
       "      <td>t3_1fo8hat</td>\n",
       "      <td>Politics</td>\n",
       "      <td>1.727171e+09</td>\n",
       "      <td>1730036390</td>\n",
       "      <td>False</td>\n",
       "    </tr>\n",
       "    <tr>\n",
       "      <th>4</th>\n",
       "      <td>t1_loo9jcy</td>\n",
       "      <td>Let's hope we see some change here finally. Pe...</td>\n",
       "      <td>t2_14avw6woy3</td>\n",
       "      <td>35</td>\n",
       "      <td>t3_1fo8hat</td>\n",
       "      <td>t3_1fo8hat</td>\n",
       "      <td>Politics</td>\n",
       "      <td>1.727171e+09</td>\n",
       "      <td>1730036390</td>\n",
       "      <td>False</td>\n",
       "    </tr>\n",
       "  </tbody>\n",
       "</table>\n",
       "</div>"
      ],
      "text/plain": [
       "    full_name                                          text_body  \\\n",
       "0  t3_1fo8hat  Harini Amarasuriya, feminist and outspoken adv...   \n",
       "1  t1_loo1nty  I like the fact I am hearing a lot more Dr in ...   \n",
       "2  t1_loo6dk0  She's an excellent lecturer and very popular w...   \n",
       "3  t1_loo37mt  From the perspective of a bi-racial child of a...   \n",
       "4  t1_loo9jcy  Let's hope we see some change here finally. Pe...   \n",
       "\n",
       "     author_name  votes responds_to parent_submission_name submission_flair  \\\n",
       "0    t2_hwz7hlpj    682         NaN             t3_1fo8hat         Politics   \n",
       "1    t2_7z9p1u76    203  t3_1fo8hat             t3_1fo8hat         Politics   \n",
       "2    t2_88sa0qyh    255  t3_1fo8hat             t3_1fo8hat         Politics   \n",
       "3   t2_yhhuya1j4    135  t3_1fo8hat             t3_1fo8hat         Politics   \n",
       "4  t2_14avw6woy3     35  t3_1fo8hat             t3_1fo8hat         Politics   \n",
       "\n",
       "   created_timestamp  parsed_timestamp  controversiality  \n",
       "0       1.727171e+09        1730036388             False  \n",
       "1       1.727171e+09        1730036390             False  \n",
       "2       1.727171e+09        1730036390             False  \n",
       "3       1.727171e+09        1730036390             False  \n",
       "4       1.727171e+09        1730036390             False  "
      ]
     },
     "execution_count": 5,
     "metadata": {},
     "output_type": "execute_result"
    }
   ],
   "source": [
    "df.head()"
   ]
  },
  {
   "cell_type": "markdown",
   "metadata": {},
   "source": [
    "### Описание столбцов\n",
    "1. *full_name* - Идентификатор текстовой записи (публикация или комментарий). Тип: строка.\n",
    "2. *text_body* - Текстовое содержание записи, кодированное в UTF-8. Может содержать несвязный текст или текст на языке, отличном от английского. Может содержать пропуски (автор удалил аккаунт или комментарий). Тип: строка.\n",
    "3. *author_name* - Идентификатор автора текстовой записи. Может содержать пропуски (автор удалил аккаунт). Тип: строка.\n",
    "4. *votes* - Рейтинг записи. Тип: число.\n",
    "5. *responds_to* - Идентификатор записи, на которую отвечает данная. Может содержать пропуски (запись является корневой публикацией). Тип: строка.\n",
    "6. *parent_submission_name* - Идентификатор публикации, в дереве которой находится данная запись. Может содержать пропуски (запись является корневой публикацией). Тип: строка.\n",
    "7. *submission_flair* - Категория текстовой записи. Единая для всего дерева публикации. Тип: строка\n",
    "8. *created_timestamp* - UNIX метка времени создания записи по данным Reddit. Тип: число\n",
    "9. *parsed_timestamp* - UNIX метка времени сохранения записи парсером. Тип: число\n",
    "10. *controversiality* - Отметка о спорности публикации по данным Reddit. Тип: булев"
   ]
  },
  {
   "cell_type": "markdown",
   "metadata": {},
   "source": [
    "Использованные ключевые слова:\n",
    "1. 2022\n",
    "2. colombo\n",
    "3. cost\n",
    "4. crisis\n",
    "5. economic\n",
    "6. galle\n",
    "7. gota\n",
    "8. gotabaya \n",
    "9. kohuwala\n",
    "10. martial\n",
    "11. mirihana\n",
    "12. protest\n",
    "13. rajapaksa\n",
    "14. riot\n",
    "15. sjb\n",
    "16. storm\n"
   ]
  },
  {
   "cell_type": "code",
   "execution_count": 6,
   "metadata": {},
   "outputs": [
    {
     "name": "stdout",
     "output_type": "stream",
     "text": [
      "Row count: 51892\n",
      "Unique rows: 51892\n",
      "Unique authors (including null value): 7513\n",
      "Unique submissions (not comments): 922\n"
     ]
    }
   ],
   "source": [
    "print(f\"Row count: {df.shape[0]}\")\n",
    "\n",
    "print(f\"Unique rows: {df[\"full_name\"].nunique()}\")\n",
    "print(f\"Unique authors (including null value): {df[\"author_name\"].nunique()}\")\n",
    "print(f\"Unique submissions (not comments): {df[\"parent_submission_name\"].nunique()}\")"
   ]
  },
  {
   "cell_type": "code",
   "execution_count": 7,
   "metadata": {},
   "outputs": [],
   "source": [
    "df.drop_duplicates(subset=\"full_name\", inplace=True, ignore_index=True)"
   ]
  },
  {
   "cell_type": "code",
   "execution_count": 8,
   "metadata": {},
   "outputs": [
    {
     "name": "stdout",
     "output_type": "stream",
     "text": [
      "Row count: 51892\n",
      "Unique rows: 51892\n",
      "Unique authors (including null value): 7513\n",
      "Unique submissions (not comments): 922\n"
     ]
    }
   ],
   "source": [
    "print(f\"Row count: {df.shape[0]}\")\n",
    "\n",
    "print(f\"Unique rows: {df[\"full_name\"].nunique()}\")\n",
    "print(f\"Unique authors (including null value): {df[\"author_name\"].nunique()}\")\n",
    "print(f\"Unique submissions (not comments): {df[\"parent_submission_name\"].nunique()}\")"
   ]
  },
  {
   "cell_type": "code",
   "execution_count": 9,
   "metadata": {},
   "outputs": [
    {
     "data": {
      "text/plain": [
       "submission_flair\n",
       "Discussion          23021\n",
       "Politics            13827\n",
       "News                10747\n",
       "Rumour               4035\n",
       "Beaurocracy           105\n",
       "Rumour Disproven      105\n",
       "Name: count, dtype: int64"
      ]
     },
     "execution_count": 9,
     "metadata": {},
     "output_type": "execute_result"
    }
   ],
   "source": [
    "df[\"submission_flair\"].value_counts()"
   ]
  },
  {
   "cell_type": "markdown",
   "metadata": {},
   "source": [
    "### Признак controversiality "
   ]
  },
  {
   "cell_type": "code",
   "execution_count": 10,
   "metadata": {},
   "outputs": [
    {
     "data": {
      "text/plain": [
       "controversiality\n",
       "False    49056\n",
       "True      2836\n",
       "Name: count, dtype: int64"
      ]
     },
     "execution_count": 10,
     "metadata": {},
     "output_type": "execute_result"
    }
   ],
   "source": [
    "df[\"controversiality\"].value_counts()"
   ]
  },
  {
   "cell_type": "code",
   "execution_count": 11,
   "metadata": {},
   "outputs": [],
   "source": [
    "def build_replies_up(df: pd.DataFrame, starting_node: pd.DataFrame) -> list[str]:\n",
    "    out = [starting_node[\"text_body\"]]\n",
    "    next_parent = starting_node[\"responds_to\"]\n",
    "\n",
    "    while isinstance(next_parent, str):\n",
    "        node = df[df[\"full_name\"] == next_parent]\n",
    "        out.append(node.iloc[0]['text_body'])\n",
    "        next_parent = node.iloc[0]['responds_to']\n",
    "\n",
    "    return list(reversed(out))"
   ]
  },
  {
   "cell_type": "code",
   "execution_count": 12,
   "metadata": {},
   "outputs": [],
   "source": [
    "def print_replies(start_id: int) -> None:\n",
    "    for i in build_replies_up(df, df.iloc[start_id]):\n",
    "        print(i)\n",
    "        print(\"=\"*20)"
   ]
  },
  {
   "cell_type": "markdown",
   "metadata": {},
   "source": [
    "### Признак votes"
   ]
  },
  {
   "cell_type": "code",
   "execution_count": 13,
   "metadata": {},
   "outputs": [
    {
     "data": {
      "text/plain": [
       "count    51892.000000\n",
       "mean         7.852135\n",
       "std         23.030875\n",
       "min       -115.000000\n",
       "25%          1.000000\n",
       "50%          2.000000\n",
       "75%          6.000000\n",
       "max        868.000000\n",
       "Name: votes, dtype: float64"
      ]
     },
     "execution_count": 13,
     "metadata": {},
     "output_type": "execute_result"
    }
   ],
   "source": [
    "df[\"votes\"].describe()"
   ]
  },
  {
   "cell_type": "code",
   "execution_count": 14,
   "metadata": {},
   "outputs": [
    {
     "data": {
      "text/plain": [
       "<Axes: xlabel='votes', ylabel='Count'>"
      ]
     },
     "execution_count": 14,
     "metadata": {},
     "output_type": "execute_result"
    },
    {
     "data": {
      "image/png": "[encoded data removed]",
      "text/plain": [
       "<Figure size 1600x900 with 1 Axes>"
      ]
     },
     "metadata": {},
     "output_type": "display_data"
    }
   ],
   "source": [
    "sns.histplot(data=df, x=\"votes\", bins=100)"
   ]
  },
  {
   "cell_type": "code",
   "execution_count": 15,
   "metadata": {},
   "outputs": [
    {
     "data": {
      "text/plain": [
       "[(0.0, 100.0)]"
      ]
     },
     "execution_count": 15,
     "metadata": {},
     "output_type": "execute_result"
    },
    {
     "data": {
      "image/png": "[encoded data removed]",
      "text/plain": [
       "<Figure size 1600x900 with 1 Axes>"
      ]
     },
     "metadata": {},
     "output_type": "display_data"
    }
   ],
   "source": [
    "ax = sns.histplot(data=df, x=\"votes\", bins=50)\n",
    "ax.set(ylim=(0, 100))"
   ]
  },
  {
   "cell_type": "code",
   "execution_count": 16,
   "metadata": {},
   "outputs": [
    {
     "name": "stdout",
     "output_type": "stream",
     "text": [
      "99th quantile of votes: 107.08999999999651\n"
     ]
    }
   ],
   "source": [
    "print(f\"99th quantile of votes: {df[\"votes\"].quantile(0.99)}\")"
   ]
  },
  {
   "cell_type": "code",
   "execution_count": 17,
   "metadata": {},
   "outputs": [
    {
     "name": "stdout",
     "output_type": "stream",
     "text": [
      "90th quantile of votes: 18.0\n"
     ]
    }
   ],
   "source": [
    "print(f\"90th quantile of votes: {df[\"votes\"].quantile(0.90)}\")"
   ]
  },
  {
   "cell_type": "markdown",
   "metadata": {},
   "source": [
    "### Признак created_timestamp"
   ]
  },
  {
   "cell_type": "code",
   "execution_count": 18,
   "metadata": {},
   "outputs": [],
   "source": [
    "from datetime import datetime"
   ]
  },
  {
   "cell_type": "code",
   "execution_count": 19,
   "metadata": {},
   "outputs": [],
   "source": [
    "df[\"created_datetime\"] = df[\"created_timestamp\"].apply(\n",
    "    lambda x: datetime.fromtimestamp(x)\n",
    ")"
   ]
  },
  {
   "cell_type": "code",
   "execution_count": 20,
   "metadata": {},
   "outputs": [
    {
     "data": {
      "text/plain": [
       "Timestamp('2019-04-28 12:35:08')"
      ]
     },
     "execution_count": 20,
     "metadata": {},
     "output_type": "execute_result"
    }
   ],
   "source": [
    "df[\"created_datetime\"].min()"
   ]
  },
  {
   "cell_type": "code",
   "execution_count": 21,
   "metadata": {},
   "outputs": [
    {
     "data": {
      "text/plain": [
       "Timestamp('2024-10-27 19:32:54')"
      ]
     },
     "execution_count": 21,
     "metadata": {},
     "output_type": "execute_result"
    }
   ],
   "source": [
    "df[\"created_datetime\"].max()"
   ]
  },
  {
   "cell_type": "code",
   "execution_count": 22,
   "metadata": {},
   "outputs": [
    {
     "name": "stdout",
     "output_type": "stream",
     "text": [
      "0 days 00:12:43\n"
     ]
    }
   ],
   "source": [
    "df[\"parsed_timestamp\"] = df[\"parsed_timestamp\"].apply(\n",
    "    lambda x: datetime.fromtimestamp(x)\n",
    ")\n",
    "\n",
    "start = df[\"parsed_timestamp\"].min()\n",
    "finished = df[\"parsed_timestamp\"].max()\n",
    "\n",
    "print(finished - start)"
   ]
  },
  {
   "cell_type": "code",
   "execution_count": 23,
   "metadata": {},
   "outputs": [],
   "source": [
    "df[\"year\"] = df[\"created_datetime\"].apply(\n",
    "    lambda x: x.year\n",
    ")"
   ]
  },
  {
   "cell_type": "code",
   "execution_count": 24,
   "metadata": {},
   "outputs": [
    {
     "data": {
      "text/plain": [
       "year\n",
       "2019       41\n",
       "2020       44\n",
       "2021      423\n",
       "2022     1821\n",
       "2023     6294\n",
       "2024    43269\n",
       "dtype: int64"
      ]
     },
     "execution_count": 24,
     "metadata": {},
     "output_type": "execute_result"
    }
   ],
   "source": [
    "df.groupby(\"year\").size()"
   ]
  },
  {
   "cell_type": "code",
   "execution_count": 25,
   "metadata": {},
   "outputs": [
    {
     "data": {
      "text/html": [
       "<div>\n",
       "<style scoped>\n",
       "    .dataframe tbody tr th:only-of-type {\n",
       "        vertical-align: middle;\n",
       "    }\n",
       "\n",
       "    .dataframe tbody tr th {\n",
       "        vertical-align: top;\n",
       "    }\n",
       "\n",
       "    .dataframe thead th {\n",
       "        text-align: right;\n",
       "    }\n",
       "</style>\n",
       "<table border=\"1\" class=\"dataframe\">\n",
       "  <thead>\n",
       "    <tr style=\"text-align: right;\">\n",
       "      <th></th>\n",
       "      <th>count</th>\n",
       "      <th>mean</th>\n",
       "      <th>std</th>\n",
       "      <th>min</th>\n",
       "      <th>25%</th>\n",
       "      <th>50%</th>\n",
       "      <th>75%</th>\n",
       "      <th>max</th>\n",
       "    </tr>\n",
       "    <tr>\n",
       "      <th>year</th>\n",
       "      <th></th>\n",
       "      <th></th>\n",
       "      <th></th>\n",
       "      <th></th>\n",
       "      <th></th>\n",
       "      <th></th>\n",
       "      <th></th>\n",
       "      <th></th>\n",
       "    </tr>\n",
       "  </thead>\n",
       "  <tbody>\n",
       "    <tr>\n",
       "      <th>2019</th>\n",
       "      <td>41.0</td>\n",
       "      <td>6.463415</td>\n",
       "      <td>7.506989</td>\n",
       "      <td>-3.0</td>\n",
       "      <td>2.0</td>\n",
       "      <td>5.0</td>\n",
       "      <td>7.0</td>\n",
       "      <td>39.0</td>\n",
       "    </tr>\n",
       "    <tr>\n",
       "      <th>2020</th>\n",
       "      <td>44.0</td>\n",
       "      <td>2.272727</td>\n",
       "      <td>3.787149</td>\n",
       "      <td>-5.0</td>\n",
       "      <td>1.0</td>\n",
       "      <td>1.0</td>\n",
       "      <td>3.0</td>\n",
       "      <td>16.0</td>\n",
       "    </tr>\n",
       "    <tr>\n",
       "      <th>2021</th>\n",
       "      <td>423.0</td>\n",
       "      <td>6.555556</td>\n",
       "      <td>24.768332</td>\n",
       "      <td>-36.0</td>\n",
       "      <td>1.0</td>\n",
       "      <td>2.0</td>\n",
       "      <td>6.0</td>\n",
       "      <td>429.0</td>\n",
       "    </tr>\n",
       "    <tr>\n",
       "      <th>2022</th>\n",
       "      <td>1821.0</td>\n",
       "      <td>8.569467</td>\n",
       "      <td>22.894268</td>\n",
       "      <td>-39.0</td>\n",
       "      <td>1.0</td>\n",
       "      <td>3.0</td>\n",
       "      <td>8.0</td>\n",
       "      <td>354.0</td>\n",
       "    </tr>\n",
       "    <tr>\n",
       "      <th>2023</th>\n",
       "      <td>6294.0</td>\n",
       "      <td>7.167779</td>\n",
       "      <td>20.048887</td>\n",
       "      <td>-89.0</td>\n",
       "      <td>1.0</td>\n",
       "      <td>2.0</td>\n",
       "      <td>6.0</td>\n",
       "      <td>525.0</td>\n",
       "    </tr>\n",
       "    <tr>\n",
       "      <th>2024</th>\n",
       "      <td>43269.0</td>\n",
       "      <td>7.941159</td>\n",
       "      <td>23.439794</td>\n",
       "      <td>-115.0</td>\n",
       "      <td>1.0</td>\n",
       "      <td>2.0</td>\n",
       "      <td>6.0</td>\n",
       "      <td>868.0</td>\n",
       "    </tr>\n",
       "  </tbody>\n",
       "</table>\n",
       "</div>"
      ],
      "text/plain": [
       "        count      mean        std    min  25%  50%  75%    max\n",
       "year                                                           \n",
       "2019     41.0  6.463415   7.506989   -3.0  2.0  5.0  7.0   39.0\n",
       "2020     44.0  2.272727   3.787149   -5.0  1.0  1.0  3.0   16.0\n",
       "2021    423.0  6.555556  24.768332  -36.0  1.0  2.0  6.0  429.0\n",
       "2022   1821.0  8.569467  22.894268  -39.0  1.0  3.0  8.0  354.0\n",
       "2023   6294.0  7.167779  20.048887  -89.0  1.0  2.0  6.0  525.0\n",
       "2024  43269.0  7.941159  23.439794 -115.0  1.0  2.0  6.0  868.0"
      ]
     },
     "execution_count": 25,
     "metadata": {},
     "output_type": "execute_result"
    }
   ],
   "source": [
    "df.groupby(\"year\")[\"votes\"].describe()"
   ]
  },
  {
   "cell_type": "code",
   "execution_count": 26,
   "metadata": {},
   "outputs": [],
   "source": [
    "from transformers import (\n",
    "    AutoTokenizer, \n",
    "    AutoModelForTokenClassification,\n",
    "    AutoModelForSequenceClassification, \n",
    "    pipeline\n",
    ")"
   ]
  },
  {
   "cell_type": "code",
   "execution_count": 27,
   "metadata": {},
   "outputs": [
    {
     "name": "stdout",
     "output_type": "stream",
     "text": [
      "env: HF_HUB_DISABLE_SYMLINKS_WARNING=1\n"
     ]
    },
    {
     "name": "stderr",
     "output_type": "stream",
     "text": [
      "c:\\Users\\artur\\source\\rra\\venv\\Lib\\site-packages\\transformers\\pipelines\\token_classification.py:170: UserWarning: `grouped_entities` is deprecated and will be removed in version v5.0.0, defaulted to `aggregation_strategy=\"AggregationStrategy.SIMPLE\"` instead.\n",
      "  warnings.warn(\n"
     ]
    }
   ],
   "source": [
    "%env HF_HUB_DISABLE_SYMLINKS_WARNING=1\n",
    "\n",
    "ner_name = \"Babelscape/wikineural-multilingual-ner\"\n",
    "ner_tokenizer = AutoTokenizer.from_pretrained(ner_name)\n",
    "ner_model = AutoModelForTokenClassification.from_pretrained(ner_name)\n",
    "ner_pipe = pipeline(\"ner\", model=ner_model, tokenizer=ner_tokenizer, grouped_entities=True)"
   ]
  },
  {
   "cell_type": "code",
   "execution_count": 28,
   "metadata": {},
   "outputs": [],
   "source": [
    "df[\"text_body\"] = df[\"text_body\"].fillna(\"\")"
   ]
  },
  {
   "cell_type": "code",
   "execution_count": 29,
   "metadata": {},
   "outputs": [
    {
     "name": "stderr",
     "output_type": "stream",
     "text": [
      "100%|██████████| 51892/51892 [1:01:14<00:00, 14.12it/s]\n"
     ]
    }
   ],
   "source": [
    "df[\"named_entities\"] = df[\"text_body\"].progress_apply(\n",
    "    lambda x: ner_pipe(x) if isinstance(x, str) else []\n",
    ")"
   ]
  },
  {
   "cell_type": "code",
   "execution_count": 54,
   "metadata": {},
   "outputs": [],
   "source": [
    "class NumpyEncoder(JSONEncoder):\n",
    "    def default(self, obj):\n",
    "        if isinstance(obj, np.floating):\n",
    "            return float(obj)\n",
    "        else:\n",
    "            return super(NumpyEncoder, self).default(obj)"
   ]
  },
  {
   "cell_type": "code",
   "execution_count": 31,
   "metadata": {},
   "outputs": [],
   "source": [
    "df[\"named_entities_json\"] = df[\"named_entities\"].apply(\n",
    "    lambda x: dumps(x, cls=NumpyEncoder)\n",
    ")"
   ]
  },
  {
   "cell_type": "code",
   "execution_count": 32,
   "metadata": {},
   "outputs": [],
   "source": [
    "def build_replies_up_pos(df: pd.DataFrame, starting_node: tuple[str]) -> list[str]:\n",
    "    out = [starting_node[1]]\n",
    "    next_parent = starting_node[2]\n",
    "\n",
    "    while not pd.isna(next_parent):\n",
    "        node = df[df[\"full_name\"] == next_parent]\n",
    "        out.append(str(node.iloc[0]['text_body']))\n",
    "        next_parent = node.iloc[0]['responds_to']\n",
    "\n",
    "    return list(reversed(out))"
   ]
  },
  {
   "cell_type": "code",
   "execution_count": 33,
   "metadata": {},
   "outputs": [],
   "source": [
    "df[\"full_text\"] = df.apply(\n",
    "    lambda x: \" \".join(build_replies_up_pos(df, (x[\"full_name\"], x[\"text_body\"], x[\"responds_to\"]))),\n",
    "    axis=1\n",
    ")"
   ]
  },
  {
   "cell_type": "code",
   "execution_count": 34,
   "metadata": {},
   "outputs": [],
   "source": [
    "df.to_csv(\"kw/ner_full_text.csv\", index=False)"
   ]
  },
  {
   "cell_type": "code",
   "execution_count": 35,
   "metadata": {},
   "outputs": [
    {
     "name": "stdout",
     "output_type": "stream",
     "text": [
      "env: HF_HUB_DISABLE_SYMLINKS_WARNING=1\n"
     ]
    },
    {
     "name": "stderr",
     "output_type": "stream",
     "text": [
      "c:\\Users\\artur\\source\\rra\\venv\\Lib\\site-packages\\transformers\\pipelines\\text_classification.py:106: UserWarning: `return_all_scores` is now deprecated,  if want a similar functionality use `top_k=None` instead of `return_all_scores=True` or `top_k=1` instead of `return_all_scores=False`.\n",
      "  warnings.warn(\n"
     ]
    }
   ],
   "source": [
    "%env HF_HUB_DISABLE_SYMLINKS_WARNING=1\n",
    "\n",
    "emotion_name = \"j-hartmann/emotion-english-distilroberta-base\"\n",
    "emotion_tokenizer = AutoTokenizer.from_pretrained(emotion_name)\n",
    "emotion_model = AutoModelForSequenceClassification.from_pretrained(emotion_name)\n",
    "emotion_pipe = pipeline(\"text-classification\", model=emotion_model, tokenizer=emotion_tokenizer, return_all_scores=True)"
   ]
  },
  {
   "cell_type": "code",
   "execution_count": 36,
   "metadata": {},
   "outputs": [],
   "source": [
    "def emotional_exponential_average(source_text, model, sampling_size = 500, sampling_step = 100, momentum = 0.8):\n",
    "\n",
    "    # If 4-byte UTF-8 characters are present - make smaller steps to fit text into tokenizer window\n",
    "    if len(source_text[:sampling_size].encode()) > 500:\n",
    "        sampling_size = min(sampling_size // 4, 100)\n",
    "        sampling_step = min(sampling_step // 4, 20)\n",
    "\n",
    "    moving_average = None\n",
    "    try:\n",
    "        moving_average = model(source_text[:sampling_size])[0]\n",
    "    except RuntimeError:\n",
    "        return None\n",
    "\n",
    "    for i in range(sampling_step, len(source_text) - sampling_size, sampling_step):\n",
    "        try:\n",
    "            prediction = model(source_text[i:i + sampling_size])[0]\n",
    "        except RuntimeError:\n",
    "            return None\n",
    "\n",
    "        for average, current in zip(moving_average, prediction):\n",
    "            average[\"score\"] = momentum * average[\"score\"] + (1 - momentum) * current[\"score\"]\n",
    "\n",
    "    return moving_average"
   ]
  },
  {
   "cell_type": "code",
   "execution_count": 37,
   "metadata": {},
   "outputs": [
    {
     "name": "stderr",
     "output_type": "stream",
     "text": [
      " 65%|██████▍   | 33729/51892 [5:00:40<3:00:17,  1.68it/s]  Token indices sequence length is longer than the specified maximum sequence length for this model (615 > 512). Running this sequence through the model will result in indexing errors\n",
      "100%|██████████| 51892/51892 [7:20:20<00:00,  1.96it/s]    \n"
     ]
    }
   ],
   "source": [
    "df[\"emotion\"] = df[\"full_text\"].progress_apply(\n",
    "    lambda x: emotional_exponential_average(x, emotion_pipe)\n",
    ")"
   ]
  },
  {
   "cell_type": "code",
   "execution_count": 38,
   "metadata": {},
   "outputs": [],
   "source": [
    "df.to_csv(\"kw/ner_full_text_emotion.csv\", index=False)"
   ]
  },
  {
   "cell_type": "code",
   "execution_count": 39,
   "metadata": {},
   "outputs": [
    {
     "data": {
      "text/html": [
       "<div>\n",
       "<style scoped>\n",
       "    .dataframe tbody tr th:only-of-type {\n",
       "        vertical-align: middle;\n",
       "    }\n",
       "\n",
       "    .dataframe tbody tr th {\n",
       "        vertical-align: top;\n",
       "    }\n",
       "\n",
       "    .dataframe thead th {\n",
       "        text-align: right;\n",
       "    }\n",
       "</style>\n",
       "<table border=\"1\" class=\"dataframe\">\n",
       "  <thead>\n",
       "    <tr style=\"text-align: right;\">\n",
       "      <th></th>\n",
       "      <th>full_name</th>\n",
       "      <th>text_body</th>\n",
       "      <th>author_name</th>\n",
       "      <th>votes</th>\n",
       "      <th>responds_to</th>\n",
       "      <th>parent_submission_name</th>\n",
       "      <th>submission_flair</th>\n",
       "      <th>created_timestamp</th>\n",
       "      <th>parsed_timestamp</th>\n",
       "      <th>controversiality</th>\n",
       "      <th>created_datetime</th>\n",
       "      <th>year</th>\n",
       "      <th>named_entities</th>\n",
       "      <th>named_entities_json</th>\n",
       "      <th>full_text</th>\n",
       "      <th>emotion</th>\n",
       "    </tr>\n",
       "  </thead>\n",
       "  <tbody>\n",
       "    <tr>\n",
       "      <th>0</th>\n",
       "      <td>t3_1fo8hat</td>\n",
       "      <td>Harini Amarasuriya, feminist and outspoken adv...</td>\n",
       "      <td>t2_hwz7hlpj</td>\n",
       "      <td>682</td>\n",
       "      <td>NaN</td>\n",
       "      <td>t3_1fo8hat</td>\n",
       "      <td>Politics</td>\n",
       "      <td>1.727171e+09</td>\n",
       "      <td>1730036388</td>\n",
       "      <td>False</td>\n",
       "      <td>2024-09-24 16:36:32</td>\n",
       "      <td>2024</td>\n",
       "      <td>[{'entity_group': 'PER', 'score': 0.9972281, '...</td>\n",
       "      <td>[{\"entity_group\": \"PER\", \"score\": 0.9972280859...</td>\n",
       "      <td>Harini Amarasuriya, feminist and outspoken adv...</td>\n",
       "      <td>[{'label': 'anger', 'score': 0.007739213760942...</td>\n",
       "    </tr>\n",
       "    <tr>\n",
       "      <th>1</th>\n",
       "      <td>t1_loo1nty</td>\n",
       "      <td>I like the fact I am hearing a lot more Dr in ...</td>\n",
       "      <td>t2_7z9p1u76</td>\n",
       "      <td>203</td>\n",
       "      <td>t3_1fo8hat</td>\n",
       "      <td>t3_1fo8hat</td>\n",
       "      <td>Politics</td>\n",
       "      <td>1.727171e+09</td>\n",
       "      <td>1730036390</td>\n",
       "      <td>False</td>\n",
       "      <td>2024-09-24 16:36:32</td>\n",
       "      <td>2024</td>\n",
       "      <td>[]</td>\n",
       "      <td>[]</td>\n",
       "      <td>Harini Amarasuriya, feminist and outspoken adv...</td>\n",
       "      <td>[{'label': 'anger', 'score': 0.001830127090215...</td>\n",
       "    </tr>\n",
       "    <tr>\n",
       "      <th>2</th>\n",
       "      <td>t1_loo6dk0</td>\n",
       "      <td>She's an excellent lecturer and very popular w...</td>\n",
       "      <td>t2_88sa0qyh</td>\n",
       "      <td>255</td>\n",
       "      <td>t3_1fo8hat</td>\n",
       "      <td>t3_1fo8hat</td>\n",
       "      <td>Politics</td>\n",
       "      <td>1.727171e+09</td>\n",
       "      <td>1730036390</td>\n",
       "      <td>False</td>\n",
       "      <td>2024-09-24 16:36:32</td>\n",
       "      <td>2024</td>\n",
       "      <td>[{'entity_group': 'ORG', 'score': 0.99567485, ...</td>\n",
       "      <td>[{\"entity_group\": \"ORG\", \"score\": 0.9956748485...</td>\n",
       "      <td>Harini Amarasuriya, feminist and outspoken adv...</td>\n",
       "      <td>[{'label': 'anger', 'score': 0.221613391227912...</td>\n",
       "    </tr>\n",
       "    <tr>\n",
       "      <th>3</th>\n",
       "      <td>t1_loo37mt</td>\n",
       "      <td>From the perspective of a bi-racial child of a...</td>\n",
       "      <td>t2_yhhuya1j4</td>\n",
       "      <td>135</td>\n",
       "      <td>t3_1fo8hat</td>\n",
       "      <td>t3_1fo8hat</td>\n",
       "      <td>Politics</td>\n",
       "      <td>1.727171e+09</td>\n",
       "      <td>1730036390</td>\n",
       "      <td>False</td>\n",
       "      <td>2024-09-24 16:36:32</td>\n",
       "      <td>2024</td>\n",
       "      <td>[{'entity_group': 'LOC', 'score': 0.96534026, ...</td>\n",
       "      <td>[{\"entity_group\": \"LOC\", \"score\": 0.9653402566...</td>\n",
       "      <td>Harini Amarasuriya, feminist and outspoken adv...</td>\n",
       "      <td>[{'label': 'anger', 'score': 0.004419586155563...</td>\n",
       "    </tr>\n",
       "    <tr>\n",
       "      <th>4</th>\n",
       "      <td>t1_loo9jcy</td>\n",
       "      <td>Let's hope we see some change here finally. Pe...</td>\n",
       "      <td>t2_14avw6woy3</td>\n",
       "      <td>35</td>\n",
       "      <td>t3_1fo8hat</td>\n",
       "      <td>t3_1fo8hat</td>\n",
       "      <td>Politics</td>\n",
       "      <td>1.727171e+09</td>\n",
       "      <td>1730036390</td>\n",
       "      <td>False</td>\n",
       "      <td>2024-09-24 16:36:32</td>\n",
       "      <td>2024</td>\n",
       "      <td>[{'entity_group': 'MISC', 'score': 0.98209333,...</td>\n",
       "      <td>[{\"entity_group\": \"MISC\", \"score\": 0.982093334...</td>\n",
       "      <td>Harini Amarasuriya, feminist and outspoken adv...</td>\n",
       "      <td>[{'label': 'anger', 'score': 0.351707130670547...</td>\n",
       "    </tr>\n",
       "  </tbody>\n",
       "</table>\n",
       "</div>"
      ],
      "text/plain": [
       "    full_name                                          text_body  \\\n",
       "0  t3_1fo8hat  Harini Amarasuriya, feminist and outspoken adv...   \n",
       "1  t1_loo1nty  I like the fact I am hearing a lot more Dr in ...   \n",
       "2  t1_loo6dk0  She's an excellent lecturer and very popular w...   \n",
       "3  t1_loo37mt  From the perspective of a bi-racial child of a...   \n",
       "4  t1_loo9jcy  Let's hope we see some change here finally. Pe...   \n",
       "\n",
       "     author_name  votes responds_to parent_submission_name submission_flair  \\\n",
       "0    t2_hwz7hlpj    682         NaN             t3_1fo8hat         Politics   \n",
       "1    t2_7z9p1u76    203  t3_1fo8hat             t3_1fo8hat         Politics   \n",
       "2    t2_88sa0qyh    255  t3_1fo8hat             t3_1fo8hat         Politics   \n",
       "3   t2_yhhuya1j4    135  t3_1fo8hat             t3_1fo8hat         Politics   \n",
       "4  t2_14avw6woy3     35  t3_1fo8hat             t3_1fo8hat         Politics   \n",
       "\n",
       "   created_timestamp  parsed_timestamp  controversiality    created_datetime  \\\n",
       "0       1.727171e+09        1730036388             False 2024-09-24 16:36:32   \n",
       "1       1.727171e+09        1730036390             False 2024-09-24 16:36:32   \n",
       "2       1.727171e+09        1730036390             False 2024-09-24 16:36:32   \n",
       "3       1.727171e+09        1730036390             False 2024-09-24 16:36:32   \n",
       "4       1.727171e+09        1730036390             False 2024-09-24 16:36:32   \n",
       "\n",
       "   year                                     named_entities  \\\n",
       "0  2024  [{'entity_group': 'PER', 'score': 0.9972281, '...   \n",
       "1  2024                                                 []   \n",
       "2  2024  [{'entity_group': 'ORG', 'score': 0.99567485, ...   \n",
       "3  2024  [{'entity_group': 'LOC', 'score': 0.96534026, ...   \n",
       "4  2024  [{'entity_group': 'MISC', 'score': 0.98209333,...   \n",
       "\n",
       "                                 named_entities_json  \\\n",
       "0  [{\"entity_group\": \"PER\", \"score\": 0.9972280859...   \n",
       "1                                                 []   \n",
       "2  [{\"entity_group\": \"ORG\", \"score\": 0.9956748485...   \n",
       "3  [{\"entity_group\": \"LOC\", \"score\": 0.9653402566...   \n",
       "4  [{\"entity_group\": \"MISC\", \"score\": 0.982093334...   \n",
       "\n",
       "                                           full_text  \\\n",
       "0  Harini Amarasuriya, feminist and outspoken adv...   \n",
       "1  Harini Amarasuriya, feminist and outspoken adv...   \n",
       "2  Harini Amarasuriya, feminist and outspoken adv...   \n",
       "3  Harini Amarasuriya, feminist and outspoken adv...   \n",
       "4  Harini Amarasuriya, feminist and outspoken adv...   \n",
       "\n",
       "                                             emotion  \n",
       "0  [{'label': 'anger', 'score': 0.007739213760942...  \n",
       "1  [{'label': 'anger', 'score': 0.001830127090215...  \n",
       "2  [{'label': 'anger', 'score': 0.221613391227912...  \n",
       "3  [{'label': 'anger', 'score': 0.004419586155563...  \n",
       "4  [{'label': 'anger', 'score': 0.351707130670547...  "
      ]
     },
     "execution_count": 39,
     "metadata": {},
     "output_type": "execute_result"
    }
   ],
   "source": [
    "df.head()"
   ]
  },
  {
   "cell_type": "code",
   "execution_count": 40,
   "metadata": {},
   "outputs": [],
   "source": [
    "df[\"emotion_json\"] = df[\"emotion\"].apply(\n",
    "    lambda x: dumps(x, cls=NumpyEncoder)\n",
    ")"
   ]
  },
  {
   "cell_type": "code",
   "execution_count": 41,
   "metadata": {},
   "outputs": [],
   "source": [
    "df.to_csv(\"kw/ner_full_text_emotion_json.csv\", index=False)"
   ]
  },
  {
   "cell_type": "code",
   "execution_count": 42,
   "metadata": {},
   "outputs": [
    {
     "data": {
      "text/html": [
       "<div>\n",
       "<style scoped>\n",
       "    .dataframe tbody tr th:only-of-type {\n",
       "        vertical-align: middle;\n",
       "    }\n",
       "\n",
       "    .dataframe tbody tr th {\n",
       "        vertical-align: top;\n",
       "    }\n",
       "\n",
       "    .dataframe thead th {\n",
       "        text-align: right;\n",
       "    }\n",
       "</style>\n",
       "<table border=\"1\" class=\"dataframe\">\n",
       "  <thead>\n",
       "    <tr style=\"text-align: right;\">\n",
       "      <th></th>\n",
       "      <th>full_name</th>\n",
       "      <th>text_body</th>\n",
       "      <th>author_name</th>\n",
       "      <th>votes</th>\n",
       "      <th>responds_to</th>\n",
       "      <th>parent_submission_name</th>\n",
       "      <th>submission_flair</th>\n",
       "      <th>created_timestamp</th>\n",
       "      <th>parsed_timestamp</th>\n",
       "      <th>controversiality</th>\n",
       "      <th>created_datetime</th>\n",
       "      <th>year</th>\n",
       "      <th>named_entities</th>\n",
       "      <th>named_entities_json</th>\n",
       "      <th>full_text</th>\n",
       "      <th>emotion</th>\n",
       "      <th>emotion_json</th>\n",
       "    </tr>\n",
       "  </thead>\n",
       "  <tbody>\n",
       "    <tr>\n",
       "      <th>0</th>\n",
       "      <td>t3_1fo8hat</td>\n",
       "      <td>Harini Amarasuriya, feminist and outspoken adv...</td>\n",
       "      <td>t2_hwz7hlpj</td>\n",
       "      <td>682</td>\n",
       "      <td>NaN</td>\n",
       "      <td>t3_1fo8hat</td>\n",
       "      <td>Politics</td>\n",
       "      <td>1.727171e+09</td>\n",
       "      <td>1730036388</td>\n",
       "      <td>False</td>\n",
       "      <td>2024-09-24 16:36:32</td>\n",
       "      <td>2024</td>\n",
       "      <td>[{'entity_group': 'PER', 'score': 0.9972281, '...</td>\n",
       "      <td>[{\"entity_group\": \"PER\", \"score\": 0.9972280859...</td>\n",
       "      <td>Harini Amarasuriya, feminist and outspoken adv...</td>\n",
       "      <td>[{'label': 'anger', 'score': 0.007739213760942...</td>\n",
       "      <td>[{\"label\": \"anger\", \"score\": 0.007739213760942...</td>\n",
       "    </tr>\n",
       "    <tr>\n",
       "      <th>1</th>\n",
       "      <td>t1_loo1nty</td>\n",
       "      <td>I like the fact I am hearing a lot more Dr in ...</td>\n",
       "      <td>t2_7z9p1u76</td>\n",
       "      <td>203</td>\n",
       "      <td>t3_1fo8hat</td>\n",
       "      <td>t3_1fo8hat</td>\n",
       "      <td>Politics</td>\n",
       "      <td>1.727171e+09</td>\n",
       "      <td>1730036390</td>\n",
       "      <td>False</td>\n",
       "      <td>2024-09-24 16:36:32</td>\n",
       "      <td>2024</td>\n",
       "      <td>[]</td>\n",
       "      <td>[]</td>\n",
       "      <td>Harini Amarasuriya, feminist and outspoken adv...</td>\n",
       "      <td>[{'label': 'anger', 'score': 0.001830127090215...</td>\n",
       "      <td>[{\"label\": \"anger\", \"score\": 0.001830127090215...</td>\n",
       "    </tr>\n",
       "    <tr>\n",
       "      <th>2</th>\n",
       "      <td>t1_loo6dk0</td>\n",
       "      <td>She's an excellent lecturer and very popular w...</td>\n",
       "      <td>t2_88sa0qyh</td>\n",
       "      <td>255</td>\n",
       "      <td>t3_1fo8hat</td>\n",
       "      <td>t3_1fo8hat</td>\n",
       "      <td>Politics</td>\n",
       "      <td>1.727171e+09</td>\n",
       "      <td>1730036390</td>\n",
       "      <td>False</td>\n",
       "      <td>2024-09-24 16:36:32</td>\n",
       "      <td>2024</td>\n",
       "      <td>[{'entity_group': 'ORG', 'score': 0.99567485, ...</td>\n",
       "      <td>[{\"entity_group\": \"ORG\", \"score\": 0.9956748485...</td>\n",
       "      <td>Harini Amarasuriya, feminist and outspoken adv...</td>\n",
       "      <td>[{'label': 'anger', 'score': 0.221613391227912...</td>\n",
       "      <td>[{\"label\": \"anger\", \"score\": 0.221613391227912...</td>\n",
       "    </tr>\n",
       "    <tr>\n",
       "      <th>3</th>\n",
       "      <td>t1_loo37mt</td>\n",
       "      <td>From the perspective of a bi-racial child of a...</td>\n",
       "      <td>t2_yhhuya1j4</td>\n",
       "      <td>135</td>\n",
       "      <td>t3_1fo8hat</td>\n",
       "      <td>t3_1fo8hat</td>\n",
       "      <td>Politics</td>\n",
       "      <td>1.727171e+09</td>\n",
       "      <td>1730036390</td>\n",
       "      <td>False</td>\n",
       "      <td>2024-09-24 16:36:32</td>\n",
       "      <td>2024</td>\n",
       "      <td>[{'entity_group': 'LOC', 'score': 0.96534026, ...</td>\n",
       "      <td>[{\"entity_group\": \"LOC\", \"score\": 0.9653402566...</td>\n",
       "      <td>Harini Amarasuriya, feminist and outspoken adv...</td>\n",
       "      <td>[{'label': 'anger', 'score': 0.004419586155563...</td>\n",
       "      <td>[{\"label\": \"anger\", \"score\": 0.004419586155563...</td>\n",
       "    </tr>\n",
       "    <tr>\n",
       "      <th>4</th>\n",
       "      <td>t1_loo9jcy</td>\n",
       "      <td>Let's hope we see some change here finally. Pe...</td>\n",
       "      <td>t2_14avw6woy3</td>\n",
       "      <td>35</td>\n",
       "      <td>t3_1fo8hat</td>\n",
       "      <td>t3_1fo8hat</td>\n",
       "      <td>Politics</td>\n",
       "      <td>1.727171e+09</td>\n",
       "      <td>1730036390</td>\n",
       "      <td>False</td>\n",
       "      <td>2024-09-24 16:36:32</td>\n",
       "      <td>2024</td>\n",
       "      <td>[{'entity_group': 'MISC', 'score': 0.98209333,...</td>\n",
       "      <td>[{\"entity_group\": \"MISC\", \"score\": 0.982093334...</td>\n",
       "      <td>Harini Amarasuriya, feminist and outspoken adv...</td>\n",
       "      <td>[{'label': 'anger', 'score': 0.351707130670547...</td>\n",
       "      <td>[{\"label\": \"anger\", \"score\": 0.351707130670547...</td>\n",
       "    </tr>\n",
       "  </tbody>\n",
       "</table>\n",
       "</div>"
      ],
      "text/plain": [
       "    full_name                                          text_body  \\\n",
       "0  t3_1fo8hat  Harini Amarasuriya, feminist and outspoken adv...   \n",
       "1  t1_loo1nty  I like the fact I am hearing a lot more Dr in ...   \n",
       "2  t1_loo6dk0  She's an excellent lecturer and very popular w...   \n",
       "3  t1_loo37mt  From the perspective of a bi-racial child of a...   \n",
       "4  t1_loo9jcy  Let's hope we see some change here finally. Pe...   \n",
       "\n",
       "     author_name  votes responds_to parent_submission_name submission_flair  \\\n",
       "0    t2_hwz7hlpj    682         NaN             t3_1fo8hat         Politics   \n",
       "1    t2_7z9p1u76    203  t3_1fo8hat             t3_1fo8hat         Politics   \n",
       "2    t2_88sa0qyh    255  t3_1fo8hat             t3_1fo8hat         Politics   \n",
       "3   t2_yhhuya1j4    135  t3_1fo8hat             t3_1fo8hat         Politics   \n",
       "4  t2_14avw6woy3     35  t3_1fo8hat             t3_1fo8hat         Politics   \n",
       "\n",
       "   created_timestamp  parsed_timestamp  controversiality    created_datetime  \\\n",
       "0       1.727171e+09        1730036388             False 2024-09-24 16:36:32   \n",
       "1       1.727171e+09        1730036390             False 2024-09-24 16:36:32   \n",
       "2       1.727171e+09        1730036390             False 2024-09-24 16:36:32   \n",
       "3       1.727171e+09        1730036390             False 2024-09-24 16:36:32   \n",
       "4       1.727171e+09        1730036390             False 2024-09-24 16:36:32   \n",
       "\n",
       "   year                                     named_entities  \\\n",
       "0  2024  [{'entity_group': 'PER', 'score': 0.9972281, '...   \n",
       "1  2024                                                 []   \n",
       "2  2024  [{'entity_group': 'ORG', 'score': 0.99567485, ...   \n",
       "3  2024  [{'entity_group': 'LOC', 'score': 0.96534026, ...   \n",
       "4  2024  [{'entity_group': 'MISC', 'score': 0.98209333,...   \n",
       "\n",
       "                                 named_entities_json  \\\n",
       "0  [{\"entity_group\": \"PER\", \"score\": 0.9972280859...   \n",
       "1                                                 []   \n",
       "2  [{\"entity_group\": \"ORG\", \"score\": 0.9956748485...   \n",
       "3  [{\"entity_group\": \"LOC\", \"score\": 0.9653402566...   \n",
       "4  [{\"entity_group\": \"MISC\", \"score\": 0.982093334...   \n",
       "\n",
       "                                           full_text  \\\n",
       "0  Harini Amarasuriya, feminist and outspoken adv...   \n",
       "1  Harini Amarasuriya, feminist and outspoken adv...   \n",
       "2  Harini Amarasuriya, feminist and outspoken adv...   \n",
       "3  Harini Amarasuriya, feminist and outspoken adv...   \n",
       "4  Harini Amarasuriya, feminist and outspoken adv...   \n",
       "\n",
       "                                             emotion  \\\n",
       "0  [{'label': 'anger', 'score': 0.007739213760942...   \n",
       "1  [{'label': 'anger', 'score': 0.001830127090215...   \n",
       "2  [{'label': 'anger', 'score': 0.221613391227912...   \n",
       "3  [{'label': 'anger', 'score': 0.004419586155563...   \n",
       "4  [{'label': 'anger', 'score': 0.351707130670547...   \n",
       "\n",
       "                                        emotion_json  \n",
       "0  [{\"label\": \"anger\", \"score\": 0.007739213760942...  \n",
       "1  [{\"label\": \"anger\", \"score\": 0.001830127090215...  \n",
       "2  [{\"label\": \"anger\", \"score\": 0.221613391227912...  \n",
       "3  [{\"label\": \"anger\", \"score\": 0.004419586155563...  \n",
       "4  [{\"label\": \"anger\", \"score\": 0.351707130670547...  "
      ]
     },
     "execution_count": 42,
     "metadata": {},
     "output_type": "execute_result"
    }
   ],
   "source": [
    "df.head()"
   ]
  },
  {
   "cell_type": "code",
   "execution_count": 63,
   "metadata": {},
   "outputs": [],
   "source": [
    "df = pd.read_csv(\"result_flair/ner_emotion_analysis.csv\")\n",
    "df[\"emotion_json\"] = df[\"emotion_json\"].fillna(\"null\")"
   ]
  },
  {
   "cell_type": "code",
   "execution_count": 64,
   "metadata": {},
   "outputs": [],
   "source": [
    "df[\"named_entities\"] = df[\"named_entities_json\"].apply(\n",
    "    lambda x: loads(x)\n",
    ")\n",
    "\n",
    "df[\"emotion\"] = df[\"emotion_json\"].apply(\n",
    "    lambda x: loads(x)\n",
    ")"
   ]
  },
  {
   "cell_type": "code",
   "execution_count": 65,
   "metadata": {},
   "outputs": [
    {
     "name": "stdout",
     "output_type": "stream",
     "text": [
      "List length: 74757\n",
      "Set length: 17275\n"
     ]
    }
   ],
   "source": [
    "entity_list = []\n",
    "\n",
    "\n",
    "def extract_entities(row):\n",
    "    for entity_dict in row:\n",
    "        entity_list.append(entity_dict[\"word\"])\n",
    "\n",
    "\n",
    "df[\"named_entities\"].apply(\n",
    "    extract_entities\n",
    ")\n",
    "\n",
    "print(f\"List length: {len(entity_list)}\")\n",
    "print(f\"Set length: {len(set(entity_list))}\")"
   ]
  },
  {
   "cell_type": "code",
   "execution_count": 66,
   "metadata": {},
   "outputs": [],
   "source": [
    "def filter_entities(entities, treshold):\n",
    "    res = []\n",
    "    for entity in entities:\n",
    "        if(entity[\"score\"]>treshold):\n",
    "            res.append(entity)\n",
    "    return res"
   ]
  },
  {
   "cell_type": "code",
   "execution_count": 67,
   "metadata": {},
   "outputs": [],
   "source": [
    "df[\"named_entities\"] = df[\"named_entities\"].apply(\n",
    "    lambda x: filter_entities(x, 0.85)\n",
    ")"
   ]
  },
  {
   "cell_type": "code",
   "execution_count": 68,
   "metadata": {},
   "outputs": [
    {
     "name": "stdout",
     "output_type": "stream",
     "text": [
      "List length: 34792\n",
      "Set length: 7507\n"
     ]
    }
   ],
   "source": [
    "entity_list = []\n",
    "\n",
    "\n",
    "def extract_entities(row):\n",
    "    for entity_dict in row:\n",
    "        entity_list.append(entity_dict[\"word\"])\n",
    "\n",
    "\n",
    "df[\"named_entities\"].apply(\n",
    "    extract_entities\n",
    ")\n",
    "\n",
    "print(f\"List length: {len(entity_list)}\")\n",
    "print(f\"Set length: {len(set(entity_list))}\")"
   ]
  },
  {
   "cell_type": "code",
   "execution_count": 31,
   "metadata": {},
   "outputs": [
    {
     "data": {
      "text/plain": [
       "0        None\n",
       "1        None\n",
       "2        None\n",
       "3        None\n",
       "4        None\n",
       "         ... \n",
       "51887    None\n",
       "51888    None\n",
       "51889    None\n",
       "51890    None\n",
       "51891    None\n",
       "Length: 51892, dtype: object"
      ]
     },
     "execution_count": 31,
     "metadata": {},
     "output_type": "execute_result"
    }
   ],
   "source": [
    "entity_emotion = {}\n",
    "\n",
    "\n",
    "def row_to_dict(row):\n",
    "    ent, emo = row\n",
    "\n",
    "    for ent_dict in ent:\n",
    "        named_entity = ent_dict[\"word\"]\n",
    "        emotions_list = entity_emotion.get(named_entity)\n",
    "        \n",
    "        if not emo:\n",
    "            continue\n",
    "\n",
    "        emotion_vector = [emotion_dict[\"score\"] for emotion_dict in emo]\n",
    "        \n",
    "        if emotions_list:\n",
    "            emotions_list.append(emotion_vector)\n",
    "        else:\n",
    "            entity_emotion[named_entity] = [emotion_vector]\n",
    "\n",
    "\n",
    "df[[\"named_entities\", \"emotion\"]].apply(\n",
    "    row_to_dict,\n",
    "    axis=1\n",
    ")"
   ]
  },
  {
   "cell_type": "code",
   "execution_count": 32,
   "metadata": {},
   "outputs": [
    {
     "name": "stderr",
     "output_type": "stream",
     "text": [
      "  0%|          | 0/51892 [00:00<?, ?it/s]"
     ]
    },
    {
     "name": "stderr",
     "output_type": "stream",
     "text": [
      "100%|██████████| 51892/51892 [00:00<00:00, 613132.00it/s]\n"
     ]
    }
   ],
   "source": [
    "emotion_stats = {\n",
    "    \"anger\": [],\n",
    "    \"disgust\": [],\n",
    "    \"fear\": [],\n",
    "    \"joy\": [],\n",
    "    \"neutral\": [],\n",
    "    \"sadness\": [],\n",
    "    \"surprise\": []\n",
    "}\n",
    "\n",
    "\n",
    "def extract_emotion(row):\n",
    "    if not row:\n",
    "        return\n",
    "\n",
    "    for emotion_dict in row:\n",
    "        key = emotion_dict[\"label\"]\n",
    "        value = emotion_dict[\"score\"]\n",
    "\n",
    "        emotion_stats[key].append(value)\n",
    "\n",
    "\n",
    "df[\"emotion\"].progress_apply(\n",
    "    extract_emotion\n",
    ")\n",
    "\n",
    "\n",
    "emotion_stats_df = pd.DataFrame.from_dict(emotion_stats)"
   ]
  },
  {
   "cell_type": "code",
   "execution_count": 33,
   "metadata": {},
   "outputs": [
    {
     "data": {
      "text/html": [
       "<div>\n",
       "<style scoped>\n",
       "    .dataframe tbody tr th:only-of-type {\n",
       "        vertical-align: middle;\n",
       "    }\n",
       "\n",
       "    .dataframe tbody tr th {\n",
       "        vertical-align: top;\n",
       "    }\n",
       "\n",
       "    .dataframe thead th {\n",
       "        text-align: right;\n",
       "    }\n",
       "</style>\n",
       "<table border=\"1\" class=\"dataframe\">\n",
       "  <thead>\n",
       "    <tr style=\"text-align: right;\">\n",
       "      <th></th>\n",
       "      <th>anger</th>\n",
       "      <th>disgust</th>\n",
       "      <th>fear</th>\n",
       "      <th>joy</th>\n",
       "      <th>neutral</th>\n",
       "      <th>sadness</th>\n",
       "      <th>surprise</th>\n",
       "    </tr>\n",
       "  </thead>\n",
       "  <tbody>\n",
       "    <tr>\n",
       "      <th>count</th>\n",
       "      <td>51891.000000</td>\n",
       "      <td>51891.000000</td>\n",
       "      <td>51891.000000</td>\n",
       "      <td>51891.000000</td>\n",
       "      <td>51891.000000</td>\n",
       "      <td>51891.000000</td>\n",
       "      <td>51891.000000</td>\n",
       "    </tr>\n",
       "    <tr>\n",
       "      <th>mean</th>\n",
       "      <td>0.140994</td>\n",
       "      <td>0.109388</td>\n",
       "      <td>0.088078</td>\n",
       "      <td>0.059083</td>\n",
       "      <td>0.379814</td>\n",
       "      <td>0.082621</td>\n",
       "      <td>0.140022</td>\n",
       "    </tr>\n",
       "    <tr>\n",
       "      <th>std</th>\n",
       "      <td>0.191570</td>\n",
       "      <td>0.176446</td>\n",
       "      <td>0.170069</td>\n",
       "      <td>0.148792</td>\n",
       "      <td>0.284709</td>\n",
       "      <td>0.163389</td>\n",
       "      <td>0.199849</td>\n",
       "    </tr>\n",
       "    <tr>\n",
       "      <th>min</th>\n",
       "      <td>0.000462</td>\n",
       "      <td>0.000197</td>\n",
       "      <td>0.000191</td>\n",
       "      <td>0.000182</td>\n",
       "      <td>0.000618</td>\n",
       "      <td>0.000712</td>\n",
       "      <td>0.000346</td>\n",
       "    </tr>\n",
       "    <tr>\n",
       "      <th>25%</th>\n",
       "      <td>0.016637</td>\n",
       "      <td>0.009816</td>\n",
       "      <td>0.006662</td>\n",
       "      <td>0.003747</td>\n",
       "      <td>0.113610</td>\n",
       "      <td>0.011321</td>\n",
       "      <td>0.017784</td>\n",
       "    </tr>\n",
       "    <tr>\n",
       "      <th>50%</th>\n",
       "      <td>0.055168</td>\n",
       "      <td>0.035641</td>\n",
       "      <td>0.021301</td>\n",
       "      <td>0.008809</td>\n",
       "      <td>0.338598</td>\n",
       "      <td>0.024879</td>\n",
       "      <td>0.054169</td>\n",
       "    </tr>\n",
       "    <tr>\n",
       "      <th>75%</th>\n",
       "      <td>0.184540</td>\n",
       "      <td>0.123686</td>\n",
       "      <td>0.076058</td>\n",
       "      <td>0.031120</td>\n",
       "      <td>0.617858</td>\n",
       "      <td>0.064919</td>\n",
       "      <td>0.166204</td>\n",
       "    </tr>\n",
       "    <tr>\n",
       "      <th>max</th>\n",
       "      <td>0.993838</td>\n",
       "      <td>0.992125</td>\n",
       "      <td>0.992887</td>\n",
       "      <td>0.992633</td>\n",
       "      <td>0.969386</td>\n",
       "      <td>0.990671</td>\n",
       "      <td>0.985510</td>\n",
       "    </tr>\n",
       "  </tbody>\n",
       "</table>\n",
       "</div>"
      ],
      "text/plain": [
       "              anger       disgust          fear           joy       neutral  \\\n",
       "count  51891.000000  51891.000000  51891.000000  51891.000000  51891.000000   \n",
       "mean       0.140994      0.109388      0.088078      0.059083      0.379814   \n",
       "std        0.191570      0.176446      0.170069      0.148792      0.284709   \n",
       "min        0.000462      0.000197      0.000191      0.000182      0.000618   \n",
       "25%        0.016637      0.009816      0.006662      0.003747      0.113610   \n",
       "50%        0.055168      0.035641      0.021301      0.008809      0.338598   \n",
       "75%        0.184540      0.123686      0.076058      0.031120      0.617858   \n",
       "max        0.993838      0.992125      0.992887      0.992633      0.969386   \n",
       "\n",
       "            sadness      surprise  \n",
       "count  51891.000000  51891.000000  \n",
       "mean       0.082621      0.140022  \n",
       "std        0.163389      0.199849  \n",
       "min        0.000712      0.000346  \n",
       "25%        0.011321      0.017784  \n",
       "50%        0.024879      0.054169  \n",
       "75%        0.064919      0.166204  \n",
       "max        0.990671      0.985510  "
      ]
     },
     "execution_count": 33,
     "metadata": {},
     "output_type": "execute_result"
    }
   ],
   "source": [
    "emotion_stats_df.describe()"
   ]
  },
  {
   "cell_type": "code",
   "execution_count": 34,
   "metadata": {},
   "outputs": [
    {
     "data": {
      "text/plain": [
       "<Axes: >"
      ]
     },
     "execution_count": 34,
     "metadata": {},
     "output_type": "execute_result"
    },
    {
     "data": {
      "image/png": "[encoded data removed]",
      "text/plain": [
       "<Figure size 1600x900 with 1 Axes>"
      ]
     },
     "metadata": {},
     "output_type": "display_data"
    }
   ],
   "source": [
    "sns.boxplot(data = emotion_stats_df)"
   ]
  },
  {
   "cell_type": "code",
   "execution_count": 35,
   "metadata": {},
   "outputs": [],
   "source": [
    "entity_emotion_divergence = {}\n",
    "\n",
    "\n",
    "for k, v in entity_emotion.items():\n",
    "    if len(v) < 2:\n",
    "        continue\n",
    "\n",
    "    simmilarity_of_all_pairs = []\n",
    "\n",
    "    for i in range(len(v)):\n",
    "        for j in range(i + 1, len(v)):\n",
    "            simmilarity_of_all_pairs.append(\n",
    "                np.dot(v[i], v[j]) / (np.linalg.norm(v[i]) * np.linalg.norm(v[j]))\n",
    "            )\n",
    "\n",
    "    entity_emotion_divergence[k] = float(np.mean(simmilarity_of_all_pairs))"
   ]
  },
  {
   "cell_type": "code",
   "execution_count": 36,
   "metadata": {},
   "outputs": [],
   "source": [
    "sorted_entity_emotion_divergence = sorted(\n",
    "    entity_emotion_divergence.items(),\n",
    "    key=lambda x: x[1],\n",
    "    reverse=True\n",
    ")"
   ]
  },
  {
   "cell_type": "code",
   "execution_count": 37,
   "metadata": {},
   "outputs": [],
   "source": [
    "sorted_divergence = list(\n",
    "    map(\n",
    "        lambda x: x[1],\n",
    "        sorted_entity_emotion_divergence\n",
    "    )\n",
    ")"
   ]
  },
  {
   "cell_type": "code",
   "execution_count": 38,
   "metadata": {},
   "outputs": [
    {
     "data": {
      "text/plain": [
       "<Axes: ylabel='Count'>"
      ]
     },
     "execution_count": 38,
     "metadata": {},
     "output_type": "execute_result"
    },
    {
     "data": {
      "image/png": "[encoded data removed]",
      "text/plain": [
       "<Figure size 1600x900 with 1 Axes>"
      ]
     },
     "metadata": {},
     "output_type": "display_data"
    }
   ],
   "source": [
    "sns.histplot(x=sorted_divergence)"
   ]
  },
  {
   "cell_type": "code",
   "execution_count": 39,
   "metadata": {},
   "outputs": [
    {
     "data": {
      "text/plain": [
       "2067"
      ]
     },
     "execution_count": 39,
     "metadata": {},
     "output_type": "execute_result"
    }
   ],
   "source": [
    "len(sorted_divergence)"
   ]
  },
  {
   "cell_type": "code",
   "execution_count": 43,
   "metadata": {},
   "outputs": [],
   "source": [
    "ranged_entities = list(reversed(sorted_entity_emotion_divergence))"
   ]
  },
  {
   "cell_type": "code",
   "execution_count": 44,
   "metadata": {},
   "outputs": [],
   "source": [
    "problematic_entities = pd.DataFrame(ranged_entities, columns=['word', 'score'])"
   ]
  },
  {
   "cell_type": "code",
   "execution_count": 45,
   "metadata": {},
   "outputs": [
    {
     "data": {
      "text/html": [
       "<div>\n",
       "<style scoped>\n",
       "    .dataframe tbody tr th:only-of-type {\n",
       "        vertical-align: middle;\n",
       "    }\n",
       "\n",
       "    .dataframe tbody tr th {\n",
       "        vertical-align: top;\n",
       "    }\n",
       "\n",
       "    .dataframe thead th {\n",
       "        text-align: right;\n",
       "    }\n",
       "</style>\n",
       "<table border=\"1\" class=\"dataframe\">\n",
       "  <thead>\n",
       "    <tr style=\"text-align: right;\">\n",
       "      <th></th>\n",
       "      <th>score</th>\n",
       "    </tr>\n",
       "  </thead>\n",
       "  <tbody>\n",
       "    <tr>\n",
       "      <th>count</th>\n",
       "      <td>2067.000000</td>\n",
       "    </tr>\n",
       "    <tr>\n",
       "      <th>mean</th>\n",
       "      <td>0.653243</td>\n",
       "    </tr>\n",
       "    <tr>\n",
       "      <th>std</th>\n",
       "      <td>0.256822</td>\n",
       "    </tr>\n",
       "    <tr>\n",
       "      <th>min</th>\n",
       "      <td>0.016028</td>\n",
       "    </tr>\n",
       "    <tr>\n",
       "      <th>25%</th>\n",
       "      <td>0.488838</td>\n",
       "    </tr>\n",
       "    <tr>\n",
       "      <th>50%</th>\n",
       "      <td>0.646348</td>\n",
       "    </tr>\n",
       "    <tr>\n",
       "      <th>75%</th>\n",
       "      <td>0.891648</td>\n",
       "    </tr>\n",
       "    <tr>\n",
       "      <th>max</th>\n",
       "      <td>1.000000</td>\n",
       "    </tr>\n",
       "  </tbody>\n",
       "</table>\n",
       "</div>"
      ],
      "text/plain": [
       "             score\n",
       "count  2067.000000\n",
       "mean      0.653243\n",
       "std       0.256822\n",
       "min       0.016028\n",
       "25%       0.488838\n",
       "50%       0.646348\n",
       "75%       0.891648\n",
       "max       1.000000"
      ]
     },
     "execution_count": 45,
     "metadata": {},
     "output_type": "execute_result"
    }
   ],
   "source": [
    "problematic_entities.describe()"
   ]
  },
  {
   "cell_type": "code",
   "execution_count": 46,
   "metadata": {},
   "outputs": [
    {
     "data": {
      "text/html": [
       "<div>\n",
       "<style scoped>\n",
       "    .dataframe tbody tr th:only-of-type {\n",
       "        vertical-align: middle;\n",
       "    }\n",
       "\n",
       "    .dataframe tbody tr th {\n",
       "        vertical-align: top;\n",
       "    }\n",
       "\n",
       "    .dataframe thead th {\n",
       "        text-align: right;\n",
       "    }\n",
       "</style>\n",
       "<table border=\"1\" class=\"dataframe\">\n",
       "  <thead>\n",
       "    <tr style=\"text-align: right;\">\n",
       "      <th></th>\n",
       "      <th>word</th>\n",
       "      <th>score</th>\n",
       "    </tr>\n",
       "  </thead>\n",
       "  <tbody>\n",
       "    <tr>\n",
       "      <th>0</th>\n",
       "      <td>Pierce Brown</td>\n",
       "      <td>0.016028</td>\n",
       "    </tr>\n",
       "    <tr>\n",
       "      <th>1</th>\n",
       "      <td>Grand Hotel</td>\n",
       "      <td>0.021306</td>\n",
       "    </tr>\n",
       "    <tr>\n",
       "      <th>2</th>\n",
       "      <td>religion</td>\n",
       "      <td>0.022099</td>\n",
       "    </tr>\n",
       "    <tr>\n",
       "      <th>3</th>\n",
       "      <td>Sudan</td>\n",
       "      <td>0.023236</td>\n",
       "    </tr>\n",
       "    <tr>\n",
       "      <th>4</th>\n",
       "      <td>Royal</td>\n",
       "      <td>0.023324</td>\n",
       "    </tr>\n",
       "    <tr>\n",
       "      <th>...</th>\n",
       "      <td>...</td>\n",
       "      <td>...</td>\n",
       "    </tr>\n",
       "    <tr>\n",
       "      <th>851</th>\n",
       "      <td>US</td>\n",
       "      <td>0.598728</td>\n",
       "    </tr>\n",
       "    <tr>\n",
       "      <th>852</th>\n",
       "      <td>Porsche 959</td>\n",
       "      <td>0.599504</td>\n",
       "    </tr>\n",
       "    <tr>\n",
       "      <th>853</th>\n",
       "      <td>Andrew Tate</td>\n",
       "      <td>0.599516</td>\n",
       "    </tr>\n",
       "    <tr>\n",
       "      <th>854</th>\n",
       "      <td>Tamil Tigers</td>\n",
       "      <td>0.599570</td>\n",
       "    </tr>\n",
       "    <tr>\n",
       "      <th>855</th>\n",
       "      <td>e</td>\n",
       "      <td>0.599634</td>\n",
       "    </tr>\n",
       "  </tbody>\n",
       "</table>\n",
       "<p>856 rows × 2 columns</p>\n",
       "</div>"
      ],
      "text/plain": [
       "             word     score\n",
       "0    Pierce Brown  0.016028\n",
       "1     Grand Hotel  0.021306\n",
       "2        religion  0.022099\n",
       "3           Sudan  0.023236\n",
       "4           Royal  0.023324\n",
       "..            ...       ...\n",
       "851            US  0.598728\n",
       "852   Porsche 959  0.599504\n",
       "853   Andrew Tate  0.599516\n",
       "854  Tamil Tigers  0.599570\n",
       "855             e  0.599634\n",
       "\n",
       "[856 rows x 2 columns]"
      ]
     },
     "execution_count": 46,
     "metadata": {},
     "output_type": "execute_result"
    }
   ],
   "source": [
    "problematic_entities[problematic_entities[\"score\"] < 0.6]"
   ]
  },
  {
   "cell_type": "code",
   "execution_count": 41,
   "metadata": {},
   "outputs": [
    {
     "data": {
      "text/html": [
       "<div>\n",
       "<style scoped>\n",
       "    .dataframe tbody tr th:only-of-type {\n",
       "        vertical-align: middle;\n",
       "    }\n",
       "\n",
       "    .dataframe tbody tr th {\n",
       "        vertical-align: top;\n",
       "    }\n",
       "\n",
       "    .dataframe thead th {\n",
       "        text-align: right;\n",
       "    }\n",
       "</style>\n",
       "<table border=\"1\" class=\"dataframe\">\n",
       "  <thead>\n",
       "    <tr style=\"text-align: right;\">\n",
       "      <th></th>\n",
       "      <th>full_name</th>\n",
       "      <th>text_body</th>\n",
       "      <th>author_name</th>\n",
       "      <th>votes</th>\n",
       "      <th>responds_to</th>\n",
       "      <th>parent_submission_name</th>\n",
       "      <th>submission_flair</th>\n",
       "      <th>created_timestamp</th>\n",
       "      <th>parsed_timestamp</th>\n",
       "      <th>controversiality</th>\n",
       "      <th>created_datetime</th>\n",
       "      <th>year</th>\n",
       "      <th>named_entities_json</th>\n",
       "      <th>full_text</th>\n",
       "      <th>emotion_json</th>\n",
       "      <th>named_entities</th>\n",
       "      <th>emotion</th>\n",
       "    </tr>\n",
       "  </thead>\n",
       "  <tbody>\n",
       "    <tr>\n",
       "      <th>0</th>\n",
       "      <td>t3_1fo8hat</td>\n",
       "      <td>Harini Amarasuriya, feminist and outspoken adv...</td>\n",
       "      <td>t2_hwz7hlpj</td>\n",
       "      <td>682</td>\n",
       "      <td>NaN</td>\n",
       "      <td>t3_1fo8hat</td>\n",
       "      <td>Politics</td>\n",
       "      <td>1.727171e+09</td>\n",
       "      <td>1730036388</td>\n",
       "      <td>False</td>\n",
       "      <td>2024-09-24 16:36:32</td>\n",
       "      <td>2024</td>\n",
       "      <td>[{\"entity_group\": \"PER\", \"score\": 0.9972280859...</td>\n",
       "      <td>Harini Amarasuriya, feminist and outspoken adv...</td>\n",
       "      <td>[{\"label\": \"anger\", \"score\": 0.007739213760942...</td>\n",
       "      <td>[{'entity_group': 'PER', 'score': 0.9972280859...</td>\n",
       "      <td>[{'label': 'anger', 'score': 0.007739213760942...</td>\n",
       "    </tr>\n",
       "    <tr>\n",
       "      <th>1</th>\n",
       "      <td>t1_loo1nty</td>\n",
       "      <td>I like the fact I am hearing a lot more Dr in ...</td>\n",
       "      <td>t2_7z9p1u76</td>\n",
       "      <td>203</td>\n",
       "      <td>t3_1fo8hat</td>\n",
       "      <td>t3_1fo8hat</td>\n",
       "      <td>Politics</td>\n",
       "      <td>1.727171e+09</td>\n",
       "      <td>1730036390</td>\n",
       "      <td>False</td>\n",
       "      <td>2024-09-24 16:36:32</td>\n",
       "      <td>2024</td>\n",
       "      <td>[]</td>\n",
       "      <td>Harini Amarasuriya, feminist and outspoken adv...</td>\n",
       "      <td>[{\"label\": \"anger\", \"score\": 0.001830127090215...</td>\n",
       "      <td>[]</td>\n",
       "      <td>[{'label': 'anger', 'score': 0.001830127090215...</td>\n",
       "    </tr>\n",
       "    <tr>\n",
       "      <th>2</th>\n",
       "      <td>t1_loo6dk0</td>\n",
       "      <td>She's an excellent lecturer and very popular w...</td>\n",
       "      <td>t2_88sa0qyh</td>\n",
       "      <td>255</td>\n",
       "      <td>t3_1fo8hat</td>\n",
       "      <td>t3_1fo8hat</td>\n",
       "      <td>Politics</td>\n",
       "      <td>1.727171e+09</td>\n",
       "      <td>1730036390</td>\n",
       "      <td>False</td>\n",
       "      <td>2024-09-24 16:36:32</td>\n",
       "      <td>2024</td>\n",
       "      <td>[{\"entity_group\": \"ORG\", \"score\": 0.9956748485...</td>\n",
       "      <td>Harini Amarasuriya, feminist and outspoken adv...</td>\n",
       "      <td>[{\"label\": \"anger\", \"score\": 0.221613391227912...</td>\n",
       "      <td>[{'entity_group': 'ORG', 'score': 0.9956748485...</td>\n",
       "      <td>[{'label': 'anger', 'score': 0.221613391227912...</td>\n",
       "    </tr>\n",
       "    <tr>\n",
       "      <th>3</th>\n",
       "      <td>t1_loo37mt</td>\n",
       "      <td>From the perspective of a bi-racial child of a...</td>\n",
       "      <td>t2_yhhuya1j4</td>\n",
       "      <td>135</td>\n",
       "      <td>t3_1fo8hat</td>\n",
       "      <td>t3_1fo8hat</td>\n",
       "      <td>Politics</td>\n",
       "      <td>1.727171e+09</td>\n",
       "      <td>1730036390</td>\n",
       "      <td>False</td>\n",
       "      <td>2024-09-24 16:36:32</td>\n",
       "      <td>2024</td>\n",
       "      <td>[{\"entity_group\": \"LOC\", \"score\": 0.9653402566...</td>\n",
       "      <td>Harini Amarasuriya, feminist and outspoken adv...</td>\n",
       "      <td>[{\"label\": \"anger\", \"score\": 0.004419586155563...</td>\n",
       "      <td>[{'entity_group': 'LOC', 'score': 0.9653402566...</td>\n",
       "      <td>[{'label': 'anger', 'score': 0.004419586155563...</td>\n",
       "    </tr>\n",
       "    <tr>\n",
       "      <th>4</th>\n",
       "      <td>t1_loo9jcy</td>\n",
       "      <td>Let's hope we see some change here finally. Pe...</td>\n",
       "      <td>t2_14avw6woy3</td>\n",
       "      <td>35</td>\n",
       "      <td>t3_1fo8hat</td>\n",
       "      <td>t3_1fo8hat</td>\n",
       "      <td>Politics</td>\n",
       "      <td>1.727171e+09</td>\n",
       "      <td>1730036390</td>\n",
       "      <td>False</td>\n",
       "      <td>2024-09-24 16:36:32</td>\n",
       "      <td>2024</td>\n",
       "      <td>[{\"entity_group\": \"MISC\", \"score\": 0.982093334...</td>\n",
       "      <td>Harini Amarasuriya, feminist and outspoken adv...</td>\n",
       "      <td>[{\"label\": \"anger\", \"score\": 0.351707130670547...</td>\n",
       "      <td>[{'entity_group': 'MISC', 'score': 0.982093334...</td>\n",
       "      <td>[{'label': 'anger', 'score': 0.351707130670547...</td>\n",
       "    </tr>\n",
       "  </tbody>\n",
       "</table>\n",
       "</div>"
      ],
      "text/plain": [
       "    full_name                                          text_body  \\\n",
       "0  t3_1fo8hat  Harini Amarasuriya, feminist and outspoken adv...   \n",
       "1  t1_loo1nty  I like the fact I am hearing a lot more Dr in ...   \n",
       "2  t1_loo6dk0  She's an excellent lecturer and very popular w...   \n",
       "3  t1_loo37mt  From the perspective of a bi-racial child of a...   \n",
       "4  t1_loo9jcy  Let's hope we see some change here finally. Pe...   \n",
       "\n",
       "     author_name  votes responds_to parent_submission_name submission_flair  \\\n",
       "0    t2_hwz7hlpj    682         NaN             t3_1fo8hat         Politics   \n",
       "1    t2_7z9p1u76    203  t3_1fo8hat             t3_1fo8hat         Politics   \n",
       "2    t2_88sa0qyh    255  t3_1fo8hat             t3_1fo8hat         Politics   \n",
       "3   t2_yhhuya1j4    135  t3_1fo8hat             t3_1fo8hat         Politics   \n",
       "4  t2_14avw6woy3     35  t3_1fo8hat             t3_1fo8hat         Politics   \n",
       "\n",
       "   created_timestamp  parsed_timestamp  controversiality     created_datetime  \\\n",
       "0       1.727171e+09        1730036388             False  2024-09-24 16:36:32   \n",
       "1       1.727171e+09        1730036390             False  2024-09-24 16:36:32   \n",
       "2       1.727171e+09        1730036390             False  2024-09-24 16:36:32   \n",
       "3       1.727171e+09        1730036390             False  2024-09-24 16:36:32   \n",
       "4       1.727171e+09        1730036390             False  2024-09-24 16:36:32   \n",
       "\n",
       "   year                                named_entities_json  \\\n",
       "0  2024  [{\"entity_group\": \"PER\", \"score\": 0.9972280859...   \n",
       "1  2024                                                 []   \n",
       "2  2024  [{\"entity_group\": \"ORG\", \"score\": 0.9956748485...   \n",
       "3  2024  [{\"entity_group\": \"LOC\", \"score\": 0.9653402566...   \n",
       "4  2024  [{\"entity_group\": \"MISC\", \"score\": 0.982093334...   \n",
       "\n",
       "                                           full_text  \\\n",
       "0  Harini Amarasuriya, feminist and outspoken adv...   \n",
       "1  Harini Amarasuriya, feminist and outspoken adv...   \n",
       "2  Harini Amarasuriya, feminist and outspoken adv...   \n",
       "3  Harini Amarasuriya, feminist and outspoken adv...   \n",
       "4  Harini Amarasuriya, feminist and outspoken adv...   \n",
       "\n",
       "                                        emotion_json  \\\n",
       "0  [{\"label\": \"anger\", \"score\": 0.007739213760942...   \n",
       "1  [{\"label\": \"anger\", \"score\": 0.001830127090215...   \n",
       "2  [{\"label\": \"anger\", \"score\": 0.221613391227912...   \n",
       "3  [{\"label\": \"anger\", \"score\": 0.004419586155563...   \n",
       "4  [{\"label\": \"anger\", \"score\": 0.351707130670547...   \n",
       "\n",
       "                                      named_entities  \\\n",
       "0  [{'entity_group': 'PER', 'score': 0.9972280859...   \n",
       "1                                                 []   \n",
       "2  [{'entity_group': 'ORG', 'score': 0.9956748485...   \n",
       "3  [{'entity_group': 'LOC', 'score': 0.9653402566...   \n",
       "4  [{'entity_group': 'MISC', 'score': 0.982093334...   \n",
       "\n",
       "                                             emotion  \n",
       "0  [{'label': 'anger', 'score': 0.007739213760942...  \n",
       "1  [{'label': 'anger', 'score': 0.001830127090215...  \n",
       "2  [{'label': 'anger', 'score': 0.221613391227912...  \n",
       "3  [{'label': 'anger', 'score': 0.004419586155563...  \n",
       "4  [{'label': 'anger', 'score': 0.351707130670547...  "
      ]
     },
     "execution_count": 41,
     "metadata": {},
     "output_type": "execute_result"
    }
   ],
   "source": [
    "df.head()"
   ]
  },
  {
   "cell_type": "code",
   "execution_count": 55,
   "metadata": {},
   "outputs": [],
   "source": [
    "df[\"named_entities_json\"] = df[\"named_entities\"].apply(\n",
    "    lambda x: dumps(x, cls=NumpyEncoder)\n",
    ")"
   ]
  },
  {
   "cell_type": "code",
   "execution_count": 56,
   "metadata": {},
   "outputs": [],
   "source": [
    "df[\"emotion_json\"] = df[\"emotion\"].apply(\n",
    "    lambda x: dumps(x, cls=NumpyEncoder)\n",
    ")"
   ]
  },
  {
   "cell_type": "code",
   "execution_count": null,
   "metadata": {},
   "outputs": [],
   "source": [
    "df.to_csv(\"ner_emotion_analysis.csv\", index=False, columns=[\n",
    "    \"full_name\",\n",
    "    \"text_body\",\n",
    "    \"author_name\",\n",
    "    \"votes\",\n",
    "    \"responds_to\",\n",
    "    \"parent_submission_name\",\n",
    "    \"submission_flair\",\n",
    "    \"created_timestamp\",\n",
    "    \"parsed_timestamp\",\n",
    "    \"controversiality\",\n",
    "    \"created_datetime\",\n",
    "    \"year\",\n",
    "    \"named_entities_json\",\n",
    "    \"full_text\",\n",
    "    \"emotion_json\"\n",
    "])"
   ]
  }
 ],
 "metadata": {
  "kernelspec": {
   "display_name": "venv",
   "language": "python",
   "name": "python3"
  },
  "language_info": {
   "codemirror_mode": {
    "name": "ipython",
    "version": 3
   },
   "file_extension": ".py",
   "mimetype": "text/x-python",
   "name": "python",
   "nbconvert_exporter": "python",
   "pygments_lexer": "ipython3",
   "version": "3.12.4"
  }
 },
 "nbformat": 4,
 "nbformat_minor": 2
}
