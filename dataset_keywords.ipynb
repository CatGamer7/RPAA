{
 "cells": [
  {
   "cell_type": "code",
   "execution_count": 1,
   "metadata": {},
   "outputs": [],
   "source": [
    "import pandas as pd\n",
    "import seaborn as sns"
   ]
  },
  {
   "cell_type": "code",
   "execution_count": 2,
   "metadata": {},
   "outputs": [],
   "source": [
    "sns.set_theme(rc={\n",
    "    \"figure.figsize\": (16, 9)\n",
    "})"
   ]
  },
  {
   "cell_type": "code",
   "execution_count": 41,
   "metadata": {},
   "outputs": [],
   "source": [
    "df = pd.read_csv(\"kw_2024_11_03_22_52.csv\")"
   ]
  },
  {
   "cell_type": "code",
   "execution_count": 42,
   "metadata": {},
   "outputs": [
    {
     "data": {
      "text/html": [
       "<div>\n",
       "<style scoped>\n",
       "    .dataframe tbody tr th:only-of-type {\n",
       "        vertical-align: middle;\n",
       "    }\n",
       "\n",
       "    .dataframe tbody tr th {\n",
       "        vertical-align: top;\n",
       "    }\n",
       "\n",
       "    .dataframe thead th {\n",
       "        text-align: right;\n",
       "    }\n",
       "</style>\n",
       "<table border=\"1\" class=\"dataframe\">\n",
       "  <thead>\n",
       "    <tr style=\"text-align: right;\">\n",
       "      <th></th>\n",
       "      <th>full_name</th>\n",
       "      <th>text_body</th>\n",
       "      <th>author_name</th>\n",
       "      <th>votes</th>\n",
       "      <th>responds_to</th>\n",
       "      <th>parent_submission_name</th>\n",
       "      <th>submission_flair</th>\n",
       "      <th>created_timestamp</th>\n",
       "      <th>parsed_timestamp</th>\n",
       "      <th>controversiality</th>\n",
       "    </tr>\n",
       "  </thead>\n",
       "  <tbody>\n",
       "    <tr>\n",
       "      <th>0</th>\n",
       "      <td>t3_x1log3</td>\n",
       "      <td>Police Riot Control Unit (Credits: Thilina Kal...</td>\n",
       "      <td>t2_j86kk</td>\n",
       "      <td>138</td>\n",
       "      <td>NaN</td>\n",
       "      <td>t3_x1log3</td>\n",
       "      <td>NaN</td>\n",
       "      <td>1.661872e+09</td>\n",
       "      <td>1730648820</td>\n",
       "      <td>False</td>\n",
       "    </tr>\n",
       "    <tr>\n",
       "      <th>1</th>\n",
       "      <td>t1_imgioxb</td>\n",
       "      <td>At the end, they will all come out of the wood...</td>\n",
       "      <td>t2_8r2urza4</td>\n",
       "      <td>26</td>\n",
       "      <td>t3_x1log3</td>\n",
       "      <td>t3_x1log3</td>\n",
       "      <td>NaN</td>\n",
       "      <td>1.661872e+09</td>\n",
       "      <td>1730648820</td>\n",
       "      <td>False</td>\n",
       "    </tr>\n",
       "    <tr>\n",
       "      <th>2</th>\n",
       "      <td>t1_imfb9ot</td>\n",
       "      <td>How many exp points for winning the boss battle?</td>\n",
       "      <td>t2_fqpxmcur</td>\n",
       "      <td>15</td>\n",
       "      <td>t3_x1log3</td>\n",
       "      <td>t3_x1log3</td>\n",
       "      <td>NaN</td>\n",
       "      <td>1.661872e+09</td>\n",
       "      <td>1730648820</td>\n",
       "      <td>False</td>\n",
       "    </tr>\n",
       "    <tr>\n",
       "      <th>3</th>\n",
       "      <td>t1_imecoc8</td>\n",
       "      <td>Looks pretty badass putha</td>\n",
       "      <td>t2_ex2g3j3</td>\n",
       "      <td>30</td>\n",
       "      <td>t3_x1log3</td>\n",
       "      <td>t3_x1log3</td>\n",
       "      <td>NaN</td>\n",
       "      <td>1.661872e+09</td>\n",
       "      <td>1730648820</td>\n",
       "      <td>False</td>\n",
       "    </tr>\n",
       "    <tr>\n",
       "      <th>4</th>\n",
       "      <td>t1_imferb3</td>\n",
       "      <td>So, this is how this democracy looks that ever...</td>\n",
       "      <td>t2_g307d</td>\n",
       "      <td>16</td>\n",
       "      <td>t3_x1log3</td>\n",
       "      <td>t3_x1log3</td>\n",
       "      <td>NaN</td>\n",
       "      <td>1.661872e+09</td>\n",
       "      <td>1730648820</td>\n",
       "      <td>False</td>\n",
       "    </tr>\n",
       "  </tbody>\n",
       "</table>\n",
       "</div>"
      ],
      "text/plain": [
       "    full_name                                          text_body  author_name  \\\n",
       "0   t3_x1log3  Police Riot Control Unit (Credits: Thilina Kal...     t2_j86kk   \n",
       "1  t1_imgioxb  At the end, they will all come out of the wood...  t2_8r2urza4   \n",
       "2  t1_imfb9ot   How many exp points for winning the boss battle?  t2_fqpxmcur   \n",
       "3  t1_imecoc8                          Looks pretty badass putha   t2_ex2g3j3   \n",
       "4  t1_imferb3  So, this is how this democracy looks that ever...     t2_g307d   \n",
       "\n",
       "   votes responds_to parent_submission_name submission_flair  \\\n",
       "0    138         NaN              t3_x1log3              NaN   \n",
       "1     26   t3_x1log3              t3_x1log3              NaN   \n",
       "2     15   t3_x1log3              t3_x1log3              NaN   \n",
       "3     30   t3_x1log3              t3_x1log3              NaN   \n",
       "4     16   t3_x1log3              t3_x1log3              NaN   \n",
       "\n",
       "   created_timestamp  parsed_timestamp  controversiality  \n",
       "0       1.661872e+09        1730648820             False  \n",
       "1       1.661872e+09        1730648820             False  \n",
       "2       1.661872e+09        1730648820             False  \n",
       "3       1.661872e+09        1730648820             False  \n",
       "4       1.661872e+09        1730648820             False  "
      ]
     },
     "execution_count": 42,
     "metadata": {},
     "output_type": "execute_result"
    }
   ],
   "source": [
    "df.head()"
   ]
  },
  {
   "cell_type": "markdown",
   "metadata": {},
   "source": [
    "### Описание столбцов\n",
    "1. *full_name* - Идентификатор текстовой записи (публикация или комментарий). Тип: строка.\n",
    "2. *text_body* - Текстовое содержание записи, кодированное в UTF-8. Может содержать несвязный текст или текст на языке, отличном от английского. Может содержать пропуски (автор удалил аккаунт или комментарий). Тип: строка.\n",
    "3. *author_name* - Идентификатор автора текстовой записи. Может содержать пропуски (автор удалил аккаунт). Тип: строка.\n",
    "4. *votes* - Рейтинг записи. Тип: число.\n",
    "5. *responds_to* - Идентификатор записи, на которую отвечает данная. Может содержать пропуски (запись является корневой публикацией). Тип: строка.\n",
    "6. *parent_submission_name* - Идентификатор публикации, в дереве которой находится данная запись. Может содержать пропуски (запись является корневой публикацией). Тип: строка.\n",
    "7. *submission_flair* - Категория текстовой записи. Единая для всего дерева публикации. Тип: строка\n",
    "8. *created_timestamp* - UNIX метка времени создания записи по данным Reddit. Тип: число\n",
    "9. *parsed_timestamp* - UNIX метка времени сохранения записи парсером. Тип: число\n",
    "10. *controversiality* - Отметка о спорности публикации по данным Reddit. Тип: булев"
   ]
  },
  {
   "cell_type": "code",
   "execution_count": 43,
   "metadata": {},
   "outputs": [
    {
     "name": "stdout",
     "output_type": "stream",
     "text": [
      "Row count: 10109\n",
      "Unique rows: 9511\n",
      "Unique authors (including null value): 2279\n",
      "Unique submissions (not comments): 568\n"
     ]
    }
   ],
   "source": [
    "print(f\"Row count: {df.shape[0]}\")\n",
    "\n",
    "print(f\"Unique rows: {df[\"full_name\"].nunique()}\")\n",
    "print(f\"Unique authors (including null value): {df[\"author_name\"].nunique()}\")\n",
    "print(f\"Unique submissions (not comments): {df[\"parent_submission_name\"].nunique()}\")"
   ]
  },
  {
   "cell_type": "code",
   "execution_count": 44,
   "metadata": {},
   "outputs": [
    {
     "data": {
      "text/plain": [
       "submission_flair\n",
       "Discussion                 10\n",
       "News                        8\n",
       "Translation in comments     6\n",
       "Sports                      1\n",
       "Name: count, dtype: int64"
      ]
     },
     "execution_count": 44,
     "metadata": {},
     "output_type": "execute_result"
    }
   ],
   "source": [
    "df[\"submission_flair\"].value_counts()"
   ]
  },
  {
   "cell_type": "markdown",
   "metadata": {},
   "source": [
    "### Признак controversiality "
   ]
  },
  {
   "cell_type": "code",
   "execution_count": 45,
   "metadata": {},
   "outputs": [
    {
     "data": {
      "text/plain": [
       "controversiality\n",
       "False    9890\n",
       "True      219\n",
       "Name: count, dtype: int64"
      ]
     },
     "execution_count": 45,
     "metadata": {},
     "output_type": "execute_result"
    }
   ],
   "source": [
    "df[\"controversiality\"].value_counts()"
   ]
  },
  {
   "cell_type": "code",
   "execution_count": 46,
   "metadata": {},
   "outputs": [
    {
     "data": {
      "text/plain": [
       "submission_flair         controversiality\n",
       "Discussion               False               10\n",
       "News                     False                8\n",
       "Sports                   False                1\n",
       "Translation in comments  False                6\n",
       "dtype: int64"
      ]
     },
     "execution_count": 46,
     "metadata": {},
     "output_type": "execute_result"
    }
   ],
   "source": [
    "df.groupby([\"submission_flair\", \"controversiality\"]).size()"
   ]
  },
  {
   "cell_type": "code",
   "execution_count": 47,
   "metadata": {},
   "outputs": [],
   "source": [
    "def build_replies_up(df: pd.DataFrame, starting_node: pd.DataFrame) -> list[str]:\n",
    "    out = [starting_node[\"text_body\"]]\n",
    "    next_parent = starting_node[\"responds_to\"]\n",
    "\n",
    "    while isinstance(next_parent, str):\n",
    "        node = df[df[\"full_name\"] == next_parent]\n",
    "        out.append(node.iloc[0]['text_body'])\n",
    "        next_parent = node.iloc[0]['responds_to']\n",
    "\n",
    "    return list(reversed(out))"
   ]
  },
  {
   "cell_type": "code",
   "execution_count": 48,
   "metadata": {},
   "outputs": [],
   "source": [
    "def print_replies(start_id: int) -> None:\n",
    "    for i in build_replies_up(df, df.iloc[start_id]):\n",
    "        print(i)\n",
    "        print(\"=\"*20)"
   ]
  },
  {
   "cell_type": "markdown",
   "metadata": {},
   "source": [
    "### Признак votes"
   ]
  },
  {
   "cell_type": "code",
   "execution_count": 49,
   "metadata": {},
   "outputs": [
    {
     "data": {
      "text/plain": [
       "count    10109.000000\n",
       "mean         6.373034\n",
       "std         24.210351\n",
       "min        -54.000000\n",
       "25%          1.000000\n",
       "50%          2.000000\n",
       "75%          5.000000\n",
       "max       1271.000000\n",
       "Name: votes, dtype: float64"
      ]
     },
     "execution_count": 49,
     "metadata": {},
     "output_type": "execute_result"
    }
   ],
   "source": [
    "df[\"votes\"].describe()"
   ]
  },
  {
   "cell_type": "code",
   "execution_count": 50,
   "metadata": {},
   "outputs": [
    {
     "data": {
      "text/plain": [
       "<Axes: xlabel='votes', ylabel='Count'>"
      ]
     },
     "execution_count": 50,
     "metadata": {},
     "output_type": "execute_result"
    },
    {
     "data": {
      "image/png": "[encoded data removed]",
      "text/plain": [
       "<Figure size 1600x900 with 1 Axes>"
      ]
     },
     "metadata": {},
     "output_type": "display_data"
    }
   ],
   "source": [
    "sns.histplot(data=df, x=\"votes\", bins=100)"
   ]
  },
  {
   "cell_type": "code",
   "execution_count": 51,
   "metadata": {},
   "outputs": [
    {
     "data": {
      "text/plain": [
       "[(0.0, 100.0)]"
      ]
     },
     "execution_count": 51,
     "metadata": {},
     "output_type": "execute_result"
    },
    {
     "data": {
      "image/png": "[encoded data removed]",
      "text/plain": [
       "<Figure size 1600x900 with 1 Axes>"
      ]
     },
     "metadata": {},
     "output_type": "display_data"
    }
   ],
   "source": [
    "ax = sns.histplot(data=df, x=\"votes\", bins=50)\n",
    "ax.set(ylim=(0, 100))"
   ]
  },
  {
   "cell_type": "code",
   "execution_count": 52,
   "metadata": {},
   "outputs": [
    {
     "name": "stdout",
     "output_type": "stream",
     "text": [
      "99th quantile of votes: 67.92000000000007\n"
     ]
    }
   ],
   "source": [
    "print(f\"99th quantile of votes: {df[\"votes\"].quantile(0.99)}\")"
   ]
  },
  {
   "cell_type": "code",
   "execution_count": 54,
   "metadata": {},
   "outputs": [
    {
     "data": {
      "text/html": [
       "<div>\n",
       "<style scoped>\n",
       "    .dataframe tbody tr th:only-of-type {\n",
       "        vertical-align: middle;\n",
       "    }\n",
       "\n",
       "    .dataframe tbody tr th {\n",
       "        vertical-align: top;\n",
       "    }\n",
       "\n",
       "    .dataframe thead th {\n",
       "        text-align: right;\n",
       "    }\n",
       "</style>\n",
       "<table border=\"1\" class=\"dataframe\">\n",
       "  <thead>\n",
       "    <tr style=\"text-align: right;\">\n",
       "      <th></th>\n",
       "      <th>count</th>\n",
       "      <th>mean</th>\n",
       "      <th>std</th>\n",
       "      <th>min</th>\n",
       "      <th>25%</th>\n",
       "      <th>50%</th>\n",
       "      <th>75%</th>\n",
       "      <th>max</th>\n",
       "    </tr>\n",
       "    <tr>\n",
       "      <th>submission_flair</th>\n",
       "      <th></th>\n",
       "      <th></th>\n",
       "      <th></th>\n",
       "      <th></th>\n",
       "      <th></th>\n",
       "      <th></th>\n",
       "      <th></th>\n",
       "      <th></th>\n",
       "    </tr>\n",
       "  </thead>\n",
       "  <tbody>\n",
       "    <tr>\n",
       "      <th>Discussion</th>\n",
       "      <td>10.0</td>\n",
       "      <td>3.800</td>\n",
       "      <td>3.489667</td>\n",
       "      <td>1.0</td>\n",
       "      <td>1.25</td>\n",
       "      <td>2.5</td>\n",
       "      <td>4.50</td>\n",
       "      <td>10.0</td>\n",
       "    </tr>\n",
       "    <tr>\n",
       "      <th>News</th>\n",
       "      <td>8.0</td>\n",
       "      <td>4.625</td>\n",
       "      <td>3.067689</td>\n",
       "      <td>1.0</td>\n",
       "      <td>2.00</td>\n",
       "      <td>4.0</td>\n",
       "      <td>7.25</td>\n",
       "      <td>9.0</td>\n",
       "    </tr>\n",
       "    <tr>\n",
       "      <th>Sports</th>\n",
       "      <td>1.0</td>\n",
       "      <td>17.000</td>\n",
       "      <td>NaN</td>\n",
       "      <td>17.0</td>\n",
       "      <td>17.00</td>\n",
       "      <td>17.0</td>\n",
       "      <td>17.00</td>\n",
       "      <td>17.0</td>\n",
       "    </tr>\n",
       "    <tr>\n",
       "      <th>Translation in comments</th>\n",
       "      <td>6.0</td>\n",
       "      <td>12.500</td>\n",
       "      <td>14.896308</td>\n",
       "      <td>1.0</td>\n",
       "      <td>2.25</td>\n",
       "      <td>7.5</td>\n",
       "      <td>15.75</td>\n",
       "      <td>40.0</td>\n",
       "    </tr>\n",
       "  </tbody>\n",
       "</table>\n",
       "</div>"
      ],
      "text/plain": [
       "                         count    mean        std   min    25%   50%    75%  \\\n",
       "submission_flair                                                              \n",
       "Discussion                10.0   3.800   3.489667   1.0   1.25   2.5   4.50   \n",
       "News                       8.0   4.625   3.067689   1.0   2.00   4.0   7.25   \n",
       "Sports                     1.0  17.000        NaN  17.0  17.00  17.0  17.00   \n",
       "Translation in comments    6.0  12.500  14.896308   1.0   2.25   7.5  15.75   \n",
       "\n",
       "                          max  \n",
       "submission_flair               \n",
       "Discussion               10.0  \n",
       "News                      9.0  \n",
       "Sports                   17.0  \n",
       "Translation in comments  40.0  "
      ]
     },
     "execution_count": 54,
     "metadata": {},
     "output_type": "execute_result"
    }
   ],
   "source": [
    "df.groupby(\"submission_flair\")[\"votes\"].describe()"
   ]
  },
  {
   "cell_type": "code",
   "execution_count": 55,
   "metadata": {},
   "outputs": [
    {
     "data": {
      "text/plain": [
       "submission_flair         controversiality\n",
       "Discussion               False                3.800\n",
       "News                     False                4.625\n",
       "Sports                   False               17.000\n",
       "Translation in comments  False               12.500\n",
       "Name: votes, dtype: float64"
      ]
     },
     "execution_count": 55,
     "metadata": {},
     "output_type": "execute_result"
    }
   ],
   "source": [
    "df.groupby([\"submission_flair\", \"controversiality\"])[\"votes\"].mean()"
   ]
  },
  {
   "cell_type": "code",
   "execution_count": 56,
   "metadata": {},
   "outputs": [
    {
     "data": {
      "text/plain": [
       "submission_flair         controversiality\n",
       "Discussion               False                2.5\n",
       "News                     False                4.0\n",
       "Sports                   False               17.0\n",
       "Translation in comments  False                7.5\n",
       "Name: votes, dtype: float64"
      ]
     },
     "execution_count": 56,
     "metadata": {},
     "output_type": "execute_result"
    }
   ],
   "source": [
    "df.groupby([\"submission_flair\", \"controversiality\"])[\"votes\"].median()"
   ]
  },
  {
   "cell_type": "code",
   "execution_count": 57,
   "metadata": {},
   "outputs": [
    {
     "data": {
      "text/plain": [
       "submission_flair         controversiality\n",
       "Discussion               False               10\n",
       "News                     False                9\n",
       "Sports                   False               17\n",
       "Translation in comments  False               40\n",
       "Name: votes, dtype: int64"
      ]
     },
     "execution_count": 57,
     "metadata": {},
     "output_type": "execute_result"
    }
   ],
   "source": [
    "df.groupby([\"submission_flair\", \"controversiality\"])[\"votes\"].max()"
   ]
  },
  {
   "cell_type": "code",
   "execution_count": 58,
   "metadata": {},
   "outputs": [
    {
     "name": "stdout",
     "output_type": "stream",
     "text": [
      "90th quantile of votes: 13.0\n"
     ]
    }
   ],
   "source": [
    "print(f\"90th quantile of votes: {df[\"votes\"].quantile(0.90)}\")"
   ]
  },
  {
   "cell_type": "markdown",
   "metadata": {},
   "source": [
    "### Признак created_timestamp"
   ]
  },
  {
   "cell_type": "code",
   "execution_count": 59,
   "metadata": {},
   "outputs": [],
   "source": [
    "from datetime import datetime"
   ]
  },
  {
   "cell_type": "code",
   "execution_count": 60,
   "metadata": {},
   "outputs": [],
   "source": [
    "df[\"created_datetime\"] = df[\"created_timestamp\"].apply(\n",
    "    lambda x: datetime.fromtimestamp(x)\n",
    ")"
   ]
  },
  {
   "cell_type": "code",
   "execution_count": 61,
   "metadata": {},
   "outputs": [
    {
     "data": {
      "text/plain": [
       "Timestamp('2012-12-10 01:16:28')"
      ]
     },
     "execution_count": 61,
     "metadata": {},
     "output_type": "execute_result"
    }
   ],
   "source": [
    "df[\"created_datetime\"].min()"
   ]
  },
  {
   "cell_type": "code",
   "execution_count": 62,
   "metadata": {},
   "outputs": [
    {
     "data": {
      "text/plain": [
       "Timestamp('2023-06-10 11:42:20')"
      ]
     },
     "execution_count": 62,
     "metadata": {},
     "output_type": "execute_result"
    }
   ],
   "source": [
    "df[\"created_datetime\"].max()"
   ]
  },
  {
   "cell_type": "code",
   "execution_count": 63,
   "metadata": {},
   "outputs": [],
   "source": [
    "df[\"year\"] = df[\"created_datetime\"].apply(\n",
    "    lambda x: x.year\n",
    ")"
   ]
  },
  {
   "cell_type": "code",
   "execution_count": 64,
   "metadata": {},
   "outputs": [
    {
     "data": {
      "text/plain": [
       "year\n",
       "2012       5\n",
       "2013      10\n",
       "2014       9\n",
       "2015      18\n",
       "2016       2\n",
       "2017      82\n",
       "2018     182\n",
       "2019     454\n",
       "2020     916\n",
       "2021    1951\n",
       "2022    5535\n",
       "2023     945\n",
       "Name: votes, dtype: int64"
      ]
     },
     "execution_count": 64,
     "metadata": {},
     "output_type": "execute_result"
    }
   ],
   "source": [
    "df.groupby(\"year\")[\"votes\"].size()"
   ]
  },
  {
   "cell_type": "code",
   "execution_count": 65,
   "metadata": {},
   "outputs": [
    {
     "data": {
      "text/plain": [
       "year  submission_flair       \n",
       "2022  Discussion                 10\n",
       "      News                        8\n",
       "      Sports                      1\n",
       "      Translation in comments     6\n",
       "Name: votes, dtype: int64"
      ]
     },
     "execution_count": 65,
     "metadata": {},
     "output_type": "execute_result"
    }
   ],
   "source": [
    "df.groupby([\"year\", \"submission_flair\"])[\"votes\"].size()"
   ]
  },
  {
   "cell_type": "code",
   "execution_count": 66,
   "metadata": {},
   "outputs": [
    {
     "data": {
      "text/plain": [
       "year  controversiality\n",
       "2012  False                  5\n",
       "2013  False                 10\n",
       "2014  False                  9\n",
       "2015  False                 18\n",
       "2016  False                  2\n",
       "2017  False                 82\n",
       "2018  False                180\n",
       "      True                   2\n",
       "2019  False                423\n",
       "      True                  31\n",
       "2020  False                885\n",
       "      True                  31\n",
       "2021  False               1922\n",
       "      True                  29\n",
       "2022  False               5421\n",
       "      True                 114\n",
       "2023  False                933\n",
       "      True                  12\n",
       "Name: votes, dtype: int64"
      ]
     },
     "execution_count": 66,
     "metadata": {},
     "output_type": "execute_result"
    }
   ],
   "source": [
    "df.groupby([\"year\", \"controversiality\"])[\"votes\"].size()"
   ]
  },
  {
   "cell_type": "code",
   "execution_count": 69,
   "metadata": {},
   "outputs": [
    {
     "data": {
      "text/html": [
       "<div>\n",
       "<style scoped>\n",
       "    .dataframe tbody tr th:only-of-type {\n",
       "        vertical-align: middle;\n",
       "    }\n",
       "\n",
       "    .dataframe tbody tr th {\n",
       "        vertical-align: top;\n",
       "    }\n",
       "\n",
       "    .dataframe thead th {\n",
       "        text-align: right;\n",
       "    }\n",
       "</style>\n",
       "<table border=\"1\" class=\"dataframe\">\n",
       "  <thead>\n",
       "    <tr style=\"text-align: right;\">\n",
       "      <th></th>\n",
       "      <th>count</th>\n",
       "      <th>mean</th>\n",
       "      <th>std</th>\n",
       "      <th>min</th>\n",
       "      <th>25%</th>\n",
       "      <th>50%</th>\n",
       "      <th>75%</th>\n",
       "      <th>max</th>\n",
       "    </tr>\n",
       "    <tr>\n",
       "      <th>year</th>\n",
       "      <th></th>\n",
       "      <th></th>\n",
       "      <th></th>\n",
       "      <th></th>\n",
       "      <th></th>\n",
       "      <th></th>\n",
       "      <th></th>\n",
       "      <th></th>\n",
       "    </tr>\n",
       "  </thead>\n",
       "  <tbody>\n",
       "    <tr>\n",
       "      <th>2012</th>\n",
       "      <td>5.0</td>\n",
       "      <td>2.000000</td>\n",
       "      <td>1.224745</td>\n",
       "      <td>1.0</td>\n",
       "      <td>1.00</td>\n",
       "      <td>2.0</td>\n",
       "      <td>2.00</td>\n",
       "      <td>4.0</td>\n",
       "    </tr>\n",
       "    <tr>\n",
       "      <th>2013</th>\n",
       "      <td>10.0</td>\n",
       "      <td>2.700000</td>\n",
       "      <td>2.907844</td>\n",
       "      <td>1.0</td>\n",
       "      <td>1.00</td>\n",
       "      <td>1.0</td>\n",
       "      <td>2.75</td>\n",
       "      <td>9.0</td>\n",
       "    </tr>\n",
       "    <tr>\n",
       "      <th>2014</th>\n",
       "      <td>9.0</td>\n",
       "      <td>2.888889</td>\n",
       "      <td>2.420973</td>\n",
       "      <td>0.0</td>\n",
       "      <td>1.00</td>\n",
       "      <td>3.0</td>\n",
       "      <td>3.00</td>\n",
       "      <td>8.0</td>\n",
       "    </tr>\n",
       "    <tr>\n",
       "      <th>2015</th>\n",
       "      <td>18.0</td>\n",
       "      <td>2.833333</td>\n",
       "      <td>2.727852</td>\n",
       "      <td>1.0</td>\n",
       "      <td>1.00</td>\n",
       "      <td>2.0</td>\n",
       "      <td>2.00</td>\n",
       "      <td>10.0</td>\n",
       "    </tr>\n",
       "    <tr>\n",
       "      <th>2016</th>\n",
       "      <td>2.0</td>\n",
       "      <td>5.500000</td>\n",
       "      <td>0.707107</td>\n",
       "      <td>5.0</td>\n",
       "      <td>5.25</td>\n",
       "      <td>5.5</td>\n",
       "      <td>5.75</td>\n",
       "      <td>6.0</td>\n",
       "    </tr>\n",
       "    <tr>\n",
       "      <th>2017</th>\n",
       "      <td>82.0</td>\n",
       "      <td>3.195122</td>\n",
       "      <td>3.297732</td>\n",
       "      <td>1.0</td>\n",
       "      <td>1.00</td>\n",
       "      <td>2.0</td>\n",
       "      <td>3.00</td>\n",
       "      <td>20.0</td>\n",
       "    </tr>\n",
       "    <tr>\n",
       "      <th>2018</th>\n",
       "      <td>182.0</td>\n",
       "      <td>2.593407</td>\n",
       "      <td>2.720814</td>\n",
       "      <td>-1.0</td>\n",
       "      <td>1.00</td>\n",
       "      <td>2.0</td>\n",
       "      <td>3.00</td>\n",
       "      <td>18.0</td>\n",
       "    </tr>\n",
       "    <tr>\n",
       "      <th>2019</th>\n",
       "      <td>454.0</td>\n",
       "      <td>4.013216</td>\n",
       "      <td>7.499216</td>\n",
       "      <td>-12.0</td>\n",
       "      <td>1.00</td>\n",
       "      <td>2.0</td>\n",
       "      <td>5.00</td>\n",
       "      <td>111.0</td>\n",
       "    </tr>\n",
       "    <tr>\n",
       "      <th>2020</th>\n",
       "      <td>916.0</td>\n",
       "      <td>4.947598</td>\n",
       "      <td>10.686158</td>\n",
       "      <td>-23.0</td>\n",
       "      <td>1.00</td>\n",
       "      <td>2.0</td>\n",
       "      <td>5.00</td>\n",
       "      <td>123.0</td>\n",
       "    </tr>\n",
       "    <tr>\n",
       "      <th>2021</th>\n",
       "      <td>1951.0</td>\n",
       "      <td>5.281394</td>\n",
       "      <td>11.068934</td>\n",
       "      <td>-17.0</td>\n",
       "      <td>1.00</td>\n",
       "      <td>2.0</td>\n",
       "      <td>5.00</td>\n",
       "      <td>161.0</td>\n",
       "    </tr>\n",
       "    <tr>\n",
       "      <th>2022</th>\n",
       "      <td>5535.0</td>\n",
       "      <td>7.766396</td>\n",
       "      <td>31.203527</td>\n",
       "      <td>-30.0</td>\n",
       "      <td>1.00</td>\n",
       "      <td>2.0</td>\n",
       "      <td>6.00</td>\n",
       "      <td>1271.0</td>\n",
       "    </tr>\n",
       "    <tr>\n",
       "      <th>2023</th>\n",
       "      <td>945.0</td>\n",
       "      <td>4.149206</td>\n",
       "      <td>12.134223</td>\n",
       "      <td>-54.0</td>\n",
       "      <td>1.00</td>\n",
       "      <td>2.0</td>\n",
       "      <td>4.00</td>\n",
       "      <td>225.0</td>\n",
       "    </tr>\n",
       "  </tbody>\n",
       "</table>\n",
       "</div>"
      ],
      "text/plain": [
       "       count      mean        std   min   25%  50%   75%     max\n",
       "year                                                            \n",
       "2012     5.0  2.000000   1.224745   1.0  1.00  2.0  2.00     4.0\n",
       "2013    10.0  2.700000   2.907844   1.0  1.00  1.0  2.75     9.0\n",
       "2014     9.0  2.888889   2.420973   0.0  1.00  3.0  3.00     8.0\n",
       "2015    18.0  2.833333   2.727852   1.0  1.00  2.0  2.00    10.0\n",
       "2016     2.0  5.500000   0.707107   5.0  5.25  5.5  5.75     6.0\n",
       "2017    82.0  3.195122   3.297732   1.0  1.00  2.0  3.00    20.0\n",
       "2018   182.0  2.593407   2.720814  -1.0  1.00  2.0  3.00    18.0\n",
       "2019   454.0  4.013216   7.499216 -12.0  1.00  2.0  5.00   111.0\n",
       "2020   916.0  4.947598  10.686158 -23.0  1.00  2.0  5.00   123.0\n",
       "2021  1951.0  5.281394  11.068934 -17.0  1.00  2.0  5.00   161.0\n",
       "2022  5535.0  7.766396  31.203527 -30.0  1.00  2.0  6.00  1271.0\n",
       "2023   945.0  4.149206  12.134223 -54.0  1.00  2.0  4.00   225.0"
      ]
     },
     "execution_count": 69,
     "metadata": {},
     "output_type": "execute_result"
    }
   ],
   "source": [
    "df.groupby(\"year\")[\"votes\"].describe()"
   ]
  }
 ],
 "metadata": {
  "kernelspec": {
   "display_name": "venv",
   "language": "python",
   "name": "python3"
  },
  "language_info": {
   "codemirror_mode": {
    "name": "ipython",
    "version": 3
   },
   "file_extension": ".py",
   "mimetype": "text/x-python",
   "name": "python",
   "nbconvert_exporter": "python",
   "pygments_lexer": "ipython3",
   "version": "3.12.4"
  }
 },
 "nbformat": 4,
 "nbformat_minor": 2
}
