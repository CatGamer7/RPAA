{
 "cells": [
  {
   "cell_type": "code",
   "execution_count": 2,
   "metadata": {},
   "outputs": [],
   "source": [
    "import pandas as pd\n",
    "import numpy as np\n",
    "import seaborn as sns\n",
    "from tqdm import tqdm\n",
    "tqdm.pandas()"
   ]
  },
  {
   "cell_type": "code",
   "execution_count": 3,
   "metadata": {},
   "outputs": [],
   "source": [
    "from json import dumps, loads, JSONEncoder"
   ]
  },
  {
   "cell_type": "code",
   "execution_count": 14,
   "metadata": {},
   "outputs": [],
   "source": [
    "sns.set_theme(rc={\n",
    "    \"figure.figsize\": (16, 9)\n",
    "})"
   ]
  },
  {
   "cell_type": "code",
   "execution_count": 186,
   "metadata": {},
   "outputs": [],
   "source": [
    "df = pd.read_csv(\"kw_2024_11_12_02_54.csv\")"
   ]
  },
  {
   "cell_type": "code",
   "execution_count": 187,
   "metadata": {},
   "outputs": [
    {
     "data": {
      "text/html": [
       "<div>\n",
       "<style scoped>\n",
       "    .dataframe tbody tr th:only-of-type {\n",
       "        vertical-align: middle;\n",
       "    }\n",
       "\n",
       "    .dataframe tbody tr th {\n",
       "        vertical-align: top;\n",
       "    }\n",
       "\n",
       "    .dataframe thead th {\n",
       "        text-align: right;\n",
       "    }\n",
       "</style>\n",
       "<table border=\"1\" class=\"dataframe\">\n",
       "  <thead>\n",
       "    <tr style=\"text-align: right;\">\n",
       "      <th></th>\n",
       "      <th>full_name</th>\n",
       "      <th>text_body</th>\n",
       "      <th>author_name</th>\n",
       "      <th>votes</th>\n",
       "      <th>responds_to</th>\n",
       "      <th>parent_submission_name</th>\n",
       "      <th>submission_flair</th>\n",
       "      <th>created_timestamp</th>\n",
       "      <th>parsed_timestamp</th>\n",
       "      <th>controversiality</th>\n",
       "    </tr>\n",
       "  </thead>\n",
       "  <tbody>\n",
       "    <tr>\n",
       "      <th>0</th>\n",
       "      <td>t3_un1z9w</td>\n",
       "      <td>Sri Lankan opposition leader Sajith Premadasa ...</td>\n",
       "      <td>t2_63oe5kpm</td>\n",
       "      <td>179</td>\n",
       "      <td>NaN</td>\n",
       "      <td>t3_un1z9w</td>\n",
       "      <td>NaN</td>\n",
       "      <td>1.652245e+09</td>\n",
       "      <td>1731353678</td>\n",
       "      <td>False</td>\n",
       "    </tr>\n",
       "    <tr>\n",
       "      <th>1</th>\n",
       "      <td>t1_i868ljo</td>\n",
       "      <td>Look at this dudes car !! Has he ever had a jo...</td>\n",
       "      <td>NaN</td>\n",
       "      <td>36</td>\n",
       "      <td>t3_un1z9w</td>\n",
       "      <td>t3_un1z9w</td>\n",
       "      <td>NaN</td>\n",
       "      <td>1.652245e+09</td>\n",
       "      <td>1731353680</td>\n",
       "      <td>False</td>\n",
       "    </tr>\n",
       "    <tr>\n",
       "      <th>2</th>\n",
       "      <td>t1_i86ogbn</td>\n",
       "      <td>Anyone with half a brain knows this guy is a p...</td>\n",
       "      <td>t2_96ecn1c5</td>\n",
       "      <td>26</td>\n",
       "      <td>t3_un1z9w</td>\n",
       "      <td>t3_un1z9w</td>\n",
       "      <td>NaN</td>\n",
       "      <td>1.652245e+09</td>\n",
       "      <td>1731353680</td>\n",
       "      <td>False</td>\n",
       "    </tr>\n",
       "    <tr>\n",
       "      <th>3</th>\n",
       "      <td>t1_i85t3da</td>\n",
       "      <td>Why is there some blind arab man trying to cro...</td>\n",
       "      <td>t2_8ctz6ggl</td>\n",
       "      <td>43</td>\n",
       "      <td>t3_un1z9w</td>\n",
       "      <td>t3_un1z9w</td>\n",
       "      <td>NaN</td>\n",
       "      <td>1.652245e+09</td>\n",
       "      <td>1731353680</td>\n",
       "      <td>False</td>\n",
       "    </tr>\n",
       "    <tr>\n",
       "      <th>4</th>\n",
       "      <td>t1_i85mb6t</td>\n",
       "      <td>/r/praisethecameraman</td>\n",
       "      <td>t2_684r0o1z</td>\n",
       "      <td>23</td>\n",
       "      <td>t3_un1z9w</td>\n",
       "      <td>t3_un1z9w</td>\n",
       "      <td>NaN</td>\n",
       "      <td>1.652245e+09</td>\n",
       "      <td>1731353680</td>\n",
       "      <td>False</td>\n",
       "    </tr>\n",
       "  </tbody>\n",
       "</table>\n",
       "</div>"
      ],
      "text/plain": [
       "    full_name                                          text_body  author_name  \\\n",
       "0   t3_un1z9w  Sri Lankan opposition leader Sajith Premadasa ...  t2_63oe5kpm   \n",
       "1  t1_i868ljo  Look at this dudes car !! Has he ever had a jo...          NaN   \n",
       "2  t1_i86ogbn  Anyone with half a brain knows this guy is a p...  t2_96ecn1c5   \n",
       "3  t1_i85t3da  Why is there some blind arab man trying to cro...  t2_8ctz6ggl   \n",
       "4  t1_i85mb6t                              /r/praisethecameraman  t2_684r0o1z   \n",
       "\n",
       "   votes responds_to parent_submission_name submission_flair  \\\n",
       "0    179         NaN              t3_un1z9w              NaN   \n",
       "1     36   t3_un1z9w              t3_un1z9w              NaN   \n",
       "2     26   t3_un1z9w              t3_un1z9w              NaN   \n",
       "3     43   t3_un1z9w              t3_un1z9w              NaN   \n",
       "4     23   t3_un1z9w              t3_un1z9w              NaN   \n",
       "\n",
       "   created_timestamp  parsed_timestamp  controversiality  \n",
       "0       1.652245e+09        1731353678             False  \n",
       "1       1.652245e+09        1731353680             False  \n",
       "2       1.652245e+09        1731353680             False  \n",
       "3       1.652245e+09        1731353680             False  \n",
       "4       1.652245e+09        1731353680             False  "
      ]
     },
     "execution_count": 187,
     "metadata": {},
     "output_type": "execute_result"
    }
   ],
   "source": [
    "df.head()"
   ]
  },
  {
   "cell_type": "markdown",
   "metadata": {},
   "source": [
    "### Описание столбцов\n",
    "1. *full_name* - Идентификатор текстовой записи (публикация или комментарий). Тип: строка.\n",
    "2. *text_body* - Текстовое содержание записи, кодированное в UTF-8. Может содержать несвязный текст или текст на языке, отличном от английского. Может содержать пропуски (автор удалил аккаунт или комментарий). Тип: строка.\n",
    "3. *author_name* - Идентификатор автора текстовой записи. Может содержать пропуски (автор удалил аккаунт). Тип: строка.\n",
    "4. *votes* - Рейтинг записи. Тип: число.\n",
    "5. *responds_to* - Идентификатор записи, на которую отвечает данная. Может содержать пропуски (запись является корневой публикацией). Тип: строка.\n",
    "6. *parent_submission_name* - Идентификатор публикации, в дереве которой находится данная запись. Может содержать пропуски (запись является корневой публикацией). Тип: строка.\n",
    "7. *submission_flair* - Категория текстовой записи. Единая для всего дерева публикации. Тип: строка\n",
    "8. *created_timestamp* - UNIX метка времени создания записи по данным Reddit. Тип: число\n",
    "9. *parsed_timestamp* - UNIX метка времени сохранения записи парсером. Тип: число\n",
    "10. *controversiality* - Отметка о спорности публикации по данным Reddit. Тип: булев"
   ]
  },
  {
   "cell_type": "markdown",
   "metadata": {},
   "source": [
    "Использованные ключевые слова:\n",
    "1. 2022\n",
    "2. colombo\n",
    "3. cost\n",
    "4. crisis\n",
    "5. economic\n",
    "6. galle\n",
    "7. gota\n",
    "8. gotabaya \n",
    "9. kohuwala\n",
    "10. martial\n",
    "11. mirihana\n",
    "12. protest\n",
    "13. rajapaksa\n",
    "14. riot\n",
    "15. sjb\n",
    "16. storm\n"
   ]
  },
  {
   "cell_type": "code",
   "execution_count": 188,
   "metadata": {},
   "outputs": [
    {
     "name": "stdout",
     "output_type": "stream",
     "text": [
      "Row count: 30559\n",
      "Unique rows: 24606\n",
      "Unique authors (including null value): 4391\n",
      "Unique submissions (not comments): 1569\n"
     ]
    }
   ],
   "source": [
    "print(f\"Row count: {df.shape[0]}\")\n",
    "\n",
    "print(f\"Unique rows: {df[\"full_name\"].nunique()}\")\n",
    "print(f\"Unique authors (including null value): {df[\"author_name\"].nunique()}\")\n",
    "print(f\"Unique submissions (not comments): {df[\"parent_submission_name\"].nunique()}\")"
   ]
  },
  {
   "cell_type": "code",
   "execution_count": 189,
   "metadata": {},
   "outputs": [],
   "source": [
    "df.drop_duplicates(subset=\"full_name\", inplace=True, ignore_index=True)"
   ]
  },
  {
   "cell_type": "code",
   "execution_count": 190,
   "metadata": {},
   "outputs": [
    {
     "name": "stdout",
     "output_type": "stream",
     "text": [
      "Row count: 24606\n",
      "Unique rows: 24606\n",
      "Unique authors (including null value): 4391\n",
      "Unique submissions (not comments): 1569\n"
     ]
    }
   ],
   "source": [
    "print(f\"Row count: {df.shape[0]}\")\n",
    "\n",
    "print(f\"Unique rows: {df[\"full_name\"].nunique()}\")\n",
    "print(f\"Unique authors (including null value): {df[\"author_name\"].nunique()}\")\n",
    "print(f\"Unique submissions (not comments): {df[\"parent_submission_name\"].nunique()}\")"
   ]
  },
  {
   "cell_type": "code",
   "execution_count": 191,
   "metadata": {},
   "outputs": [
    {
     "data": {
      "text/plain": [
       "submission_flair\n",
       "Discussion                 19\n",
       "Rumour Disproven           14\n",
       "Repetitive Topic           13\n",
       "News                        8\n",
       "Translation in comments     6\n",
       "Editorialized Title         1\n",
       "Sports                      1\n",
       "Name: count, dtype: int64"
      ]
     },
     "execution_count": 191,
     "metadata": {},
     "output_type": "execute_result"
    }
   ],
   "source": [
    "df[\"submission_flair\"].value_counts()"
   ]
  },
  {
   "cell_type": "markdown",
   "metadata": {},
   "source": [
    "### Признак controversiality "
   ]
  },
  {
   "cell_type": "code",
   "execution_count": 192,
   "metadata": {},
   "outputs": [
    {
     "data": {
      "text/plain": [
       "controversiality\n",
       "False    24006\n",
       "True       600\n",
       "Name: count, dtype: int64"
      ]
     },
     "execution_count": 192,
     "metadata": {},
     "output_type": "execute_result"
    }
   ],
   "source": [
    "df[\"controversiality\"].value_counts()"
   ]
  },
  {
   "cell_type": "code",
   "execution_count": 193,
   "metadata": {},
   "outputs": [],
   "source": [
    "def build_replies_up(df: pd.DataFrame, starting_node: pd.DataFrame) -> list[str]:\n",
    "    out = [starting_node[\"text_body\"]]\n",
    "    next_parent = starting_node[\"responds_to\"]\n",
    "\n",
    "    while isinstance(next_parent, str):\n",
    "        node = df[df[\"full_name\"] == next_parent]\n",
    "        out.append(node.iloc[0]['text_body'])\n",
    "        next_parent = node.iloc[0]['responds_to']\n",
    "\n",
    "    return list(reversed(out))"
   ]
  },
  {
   "cell_type": "code",
   "execution_count": 194,
   "metadata": {},
   "outputs": [],
   "source": [
    "def print_replies(start_id: int) -> None:\n",
    "    for i in build_replies_up(df, df.iloc[start_id]):\n",
    "        print(i)\n",
    "        print(\"=\"*20)"
   ]
  },
  {
   "cell_type": "markdown",
   "metadata": {},
   "source": [
    "### Признак votes"
   ]
  },
  {
   "cell_type": "code",
   "execution_count": 195,
   "metadata": {},
   "outputs": [
    {
     "data": {
      "text/plain": [
       "count    24606.000000\n",
       "mean         5.990937\n",
       "std         19.460760\n",
       "min        -58.000000\n",
       "25%          1.000000\n",
       "50%          2.000000\n",
       "75%          5.000000\n",
       "max       1276.000000\n",
       "Name: votes, dtype: float64"
      ]
     },
     "execution_count": 195,
     "metadata": {},
     "output_type": "execute_result"
    }
   ],
   "source": [
    "df[\"votes\"].describe()"
   ]
  },
  {
   "cell_type": "code",
   "execution_count": 196,
   "metadata": {},
   "outputs": [
    {
     "data": {
      "text/plain": [
       "<Axes: xlabel='votes', ylabel='Count'>"
      ]
     },
     "execution_count": 196,
     "metadata": {},
     "output_type": "execute_result"
    },
    {
     "data": {
      "image/png": "[encoded data removed]",
      "text/plain": [
       "<Figure size 1600x900 with 1 Axes>"
      ]
     },
     "metadata": {},
     "output_type": "display_data"
    }
   ],
   "source": [
    "sns.histplot(data=df, x=\"votes\", bins=100)"
   ]
  },
  {
   "cell_type": "code",
   "execution_count": 197,
   "metadata": {},
   "outputs": [
    {
     "data": {
      "text/plain": [
       "[(0.0, 100.0)]"
      ]
     },
     "execution_count": 197,
     "metadata": {},
     "output_type": "execute_result"
    },
    {
     "data": {
      "image/png": "[encoded data removed]",
      "text/plain": [
       "<Figure size 1600x900 with 1 Axes>"
      ]
     },
     "metadata": {},
     "output_type": "display_data"
    }
   ],
   "source": [
    "ax = sns.histplot(data=df, x=\"votes\", bins=50)\n",
    "ax.set(ylim=(0, 100))"
   ]
  },
  {
   "cell_type": "code",
   "execution_count": 198,
   "metadata": {},
   "outputs": [
    {
     "name": "stdout",
     "output_type": "stream",
     "text": [
      "99th quantile of votes: 65.0\n"
     ]
    }
   ],
   "source": [
    "print(f\"99th quantile of votes: {df[\"votes\"].quantile(0.99)}\")"
   ]
  },
  {
   "cell_type": "code",
   "execution_count": 199,
   "metadata": {},
   "outputs": [
    {
     "name": "stdout",
     "output_type": "stream",
     "text": [
      "90th quantile of votes: 12.0\n"
     ]
    }
   ],
   "source": [
    "print(f\"90th quantile of votes: {df[\"votes\"].quantile(0.90)}\")"
   ]
  },
  {
   "cell_type": "markdown",
   "metadata": {},
   "source": [
    "### Признак created_timestamp"
   ]
  },
  {
   "cell_type": "code",
   "execution_count": 200,
   "metadata": {},
   "outputs": [],
   "source": [
    "from datetime import datetime"
   ]
  },
  {
   "cell_type": "code",
   "execution_count": 201,
   "metadata": {},
   "outputs": [],
   "source": [
    "df[\"created_datetime\"] = df[\"created_timestamp\"].apply(\n",
    "    lambda x: datetime.fromtimestamp(x)\n",
    ")"
   ]
  },
  {
   "cell_type": "code",
   "execution_count": 202,
   "metadata": {},
   "outputs": [
    {
     "data": {
      "text/plain": [
       "Timestamp('2012-09-18 20:40:11')"
      ]
     },
     "execution_count": 202,
     "metadata": {},
     "output_type": "execute_result"
    }
   ],
   "source": [
    "df[\"created_datetime\"].min()"
   ]
  },
  {
   "cell_type": "code",
   "execution_count": 203,
   "metadata": {},
   "outputs": [
    {
     "data": {
      "text/plain": [
       "Timestamp('2023-06-10 11:42:20')"
      ]
     },
     "execution_count": 203,
     "metadata": {},
     "output_type": "execute_result"
    }
   ],
   "source": [
    "df[\"created_datetime\"].max()"
   ]
  },
  {
   "cell_type": "code",
   "execution_count": 204,
   "metadata": {},
   "outputs": [],
   "source": [
    "df[\"year\"] = df[\"created_datetime\"].apply(\n",
    "    lambda x: x.year\n",
    ")"
   ]
  },
  {
   "cell_type": "code",
   "execution_count": 205,
   "metadata": {},
   "outputs": [
    {
     "data": {
      "text/plain": [
       "year\n",
       "2012        8\n",
       "2013       73\n",
       "2014      108\n",
       "2015       56\n",
       "2016      197\n",
       "2017      257\n",
       "2018      553\n",
       "2019     3042\n",
       "2020     1718\n",
       "2021     3758\n",
       "2022    12337\n",
       "2023     2499\n",
       "dtype: int64"
      ]
     },
     "execution_count": 205,
     "metadata": {},
     "output_type": "execute_result"
    }
   ],
   "source": [
    "df.groupby(\"year\").size()"
   ]
  },
  {
   "cell_type": "code",
   "execution_count": 206,
   "metadata": {},
   "outputs": [
    {
     "data": {
      "text/html": [
       "<div>\n",
       "<style scoped>\n",
       "    .dataframe tbody tr th:only-of-type {\n",
       "        vertical-align: middle;\n",
       "    }\n",
       "\n",
       "    .dataframe tbody tr th {\n",
       "        vertical-align: top;\n",
       "    }\n",
       "\n",
       "    .dataframe thead th {\n",
       "        text-align: right;\n",
       "    }\n",
       "</style>\n",
       "<table border=\"1\" class=\"dataframe\">\n",
       "  <thead>\n",
       "    <tr style=\"text-align: right;\">\n",
       "      <th></th>\n",
       "      <th>count</th>\n",
       "      <th>mean</th>\n",
       "      <th>std</th>\n",
       "      <th>min</th>\n",
       "      <th>25%</th>\n",
       "      <th>50%</th>\n",
       "      <th>75%</th>\n",
       "      <th>max</th>\n",
       "    </tr>\n",
       "    <tr>\n",
       "      <th>year</th>\n",
       "      <th></th>\n",
       "      <th></th>\n",
       "      <th></th>\n",
       "      <th></th>\n",
       "      <th></th>\n",
       "      <th></th>\n",
       "      <th></th>\n",
       "      <th></th>\n",
       "    </tr>\n",
       "  </thead>\n",
       "  <tbody>\n",
       "    <tr>\n",
       "      <th>2012</th>\n",
       "      <td>8.0</td>\n",
       "      <td>2.625000</td>\n",
       "      <td>1.597990</td>\n",
       "      <td>1.0</td>\n",
       "      <td>1.75</td>\n",
       "      <td>2.0</td>\n",
       "      <td>3.50</td>\n",
       "      <td>5.0</td>\n",
       "    </tr>\n",
       "    <tr>\n",
       "      <th>2013</th>\n",
       "      <td>73.0</td>\n",
       "      <td>2.808219</td>\n",
       "      <td>2.252514</td>\n",
       "      <td>-1.0</td>\n",
       "      <td>1.00</td>\n",
       "      <td>2.0</td>\n",
       "      <td>4.00</td>\n",
       "      <td>12.0</td>\n",
       "    </tr>\n",
       "    <tr>\n",
       "      <th>2014</th>\n",
       "      <td>108.0</td>\n",
       "      <td>2.990741</td>\n",
       "      <td>2.666845</td>\n",
       "      <td>0.0</td>\n",
       "      <td>1.00</td>\n",
       "      <td>2.0</td>\n",
       "      <td>4.00</td>\n",
       "      <td>13.0</td>\n",
       "    </tr>\n",
       "    <tr>\n",
       "      <th>2015</th>\n",
       "      <td>56.0</td>\n",
       "      <td>2.553571</td>\n",
       "      <td>3.044635</td>\n",
       "      <td>-6.0</td>\n",
       "      <td>1.00</td>\n",
       "      <td>2.0</td>\n",
       "      <td>3.25</td>\n",
       "      <td>11.0</td>\n",
       "    </tr>\n",
       "    <tr>\n",
       "      <th>2016</th>\n",
       "      <td>197.0</td>\n",
       "      <td>2.213198</td>\n",
       "      <td>2.772906</td>\n",
       "      <td>-4.0</td>\n",
       "      <td>1.00</td>\n",
       "      <td>2.0</td>\n",
       "      <td>3.00</td>\n",
       "      <td>23.0</td>\n",
       "    </tr>\n",
       "    <tr>\n",
       "      <th>2017</th>\n",
       "      <td>257.0</td>\n",
       "      <td>2.926070</td>\n",
       "      <td>3.379393</td>\n",
       "      <td>-6.0</td>\n",
       "      <td>1.00</td>\n",
       "      <td>2.0</td>\n",
       "      <td>3.00</td>\n",
       "      <td>24.0</td>\n",
       "    </tr>\n",
       "    <tr>\n",
       "      <th>2018</th>\n",
       "      <td>553.0</td>\n",
       "      <td>3.452080</td>\n",
       "      <td>5.405811</td>\n",
       "      <td>-12.0</td>\n",
       "      <td>1.00</td>\n",
       "      <td>2.0</td>\n",
       "      <td>3.00</td>\n",
       "      <td>57.0</td>\n",
       "    </tr>\n",
       "    <tr>\n",
       "      <th>2019</th>\n",
       "      <td>3042.0</td>\n",
       "      <td>4.072978</td>\n",
       "      <td>8.569921</td>\n",
       "      <td>-16.0</td>\n",
       "      <td>1.00</td>\n",
       "      <td>2.0</td>\n",
       "      <td>5.00</td>\n",
       "      <td>193.0</td>\n",
       "    </tr>\n",
       "    <tr>\n",
       "      <th>2020</th>\n",
       "      <td>1718.0</td>\n",
       "      <td>5.662980</td>\n",
       "      <td>14.417073</td>\n",
       "      <td>-23.0</td>\n",
       "      <td>1.00</td>\n",
       "      <td>2.0</td>\n",
       "      <td>5.00</td>\n",
       "      <td>226.0</td>\n",
       "    </tr>\n",
       "    <tr>\n",
       "      <th>2021</th>\n",
       "      <td>3758.0</td>\n",
       "      <td>6.159393</td>\n",
       "      <td>21.020109</td>\n",
       "      <td>-35.0</td>\n",
       "      <td>1.00</td>\n",
       "      <td>2.0</td>\n",
       "      <td>5.75</td>\n",
       "      <td>771.0</td>\n",
       "    </tr>\n",
       "    <tr>\n",
       "      <th>2022</th>\n",
       "      <td>12337.0</td>\n",
       "      <td>7.149064</td>\n",
       "      <td>23.391280</td>\n",
       "      <td>-36.0</td>\n",
       "      <td>1.00</td>\n",
       "      <td>2.0</td>\n",
       "      <td>6.00</td>\n",
       "      <td>1276.0</td>\n",
       "    </tr>\n",
       "    <tr>\n",
       "      <th>2023</th>\n",
       "      <td>2499.0</td>\n",
       "      <td>4.065626</td>\n",
       "      <td>10.158299</td>\n",
       "      <td>-58.0</td>\n",
       "      <td>1.00</td>\n",
       "      <td>2.0</td>\n",
       "      <td>4.00</td>\n",
       "      <td>225.0</td>\n",
       "    </tr>\n",
       "  </tbody>\n",
       "</table>\n",
       "</div>"
      ],
      "text/plain": [
       "        count      mean        std   min   25%  50%   75%     max\n",
       "year                                                             \n",
       "2012      8.0  2.625000   1.597990   1.0  1.75  2.0  3.50     5.0\n",
       "2013     73.0  2.808219   2.252514  -1.0  1.00  2.0  4.00    12.0\n",
       "2014    108.0  2.990741   2.666845   0.0  1.00  2.0  4.00    13.0\n",
       "2015     56.0  2.553571   3.044635  -6.0  1.00  2.0  3.25    11.0\n",
       "2016    197.0  2.213198   2.772906  -4.0  1.00  2.0  3.00    23.0\n",
       "2017    257.0  2.926070   3.379393  -6.0  1.00  2.0  3.00    24.0\n",
       "2018    553.0  3.452080   5.405811 -12.0  1.00  2.0  3.00    57.0\n",
       "2019   3042.0  4.072978   8.569921 -16.0  1.00  2.0  5.00   193.0\n",
       "2020   1718.0  5.662980  14.417073 -23.0  1.00  2.0  5.00   226.0\n",
       "2021   3758.0  6.159393  21.020109 -35.0  1.00  2.0  5.75   771.0\n",
       "2022  12337.0  7.149064  23.391280 -36.0  1.00  2.0  6.00  1276.0\n",
       "2023   2499.0  4.065626  10.158299 -58.0  1.00  2.0  4.00   225.0"
      ]
     },
     "execution_count": 206,
     "metadata": {},
     "output_type": "execute_result"
    }
   ],
   "source": [
    "df.groupby(\"year\")[\"votes\"].describe()"
   ]
  },
  {
   "cell_type": "code",
   "execution_count": 3,
   "metadata": {},
   "outputs": [],
   "source": [
    "from transformers import (\n",
    "    AutoTokenizer, \n",
    "    AutoModelForTokenClassification,\n",
    "    AutoModelForSequenceClassification, \n",
    "    pipeline\n",
    ")"
   ]
  },
  {
   "cell_type": "code",
   "execution_count": 208,
   "metadata": {},
   "outputs": [
    {
     "name": "stdout",
     "output_type": "stream",
     "text": [
      "env: HF_HUB_DISABLE_SYMLINKS_WARNING=1\n"
     ]
    },
    {
     "name": "stderr",
     "output_type": "stream",
     "text": [
      "c:\\Users\\artur\\source\\rra\\venv\\Lib\\site-packages\\transformers\\pipelines\\token_classification.py:170: UserWarning: `grouped_entities` is deprecated and will be removed in version v5.0.0, defaulted to `aggregation_strategy=\"AggregationStrategy.SIMPLE\"` instead.\n",
      "  warnings.warn(\n"
     ]
    }
   ],
   "source": [
    "%env HF_HUB_DISABLE_SYMLINKS_WARNING=1\n",
    "\n",
    "ner_name = \"Babelscape/wikineural-multilingual-ner\"\n",
    "ner_tokenizer = AutoTokenizer.from_pretrained(ner_name)\n",
    "ner_model = AutoModelForTokenClassification.from_pretrained(ner_name)\n",
    "ner_pipe = pipeline(\"ner\", model=ner_model, tokenizer=ner_tokenizer, grouped_entities=True)"
   ]
  },
  {
   "cell_type": "code",
   "execution_count": 209,
   "metadata": {},
   "outputs": [],
   "source": [
    "df[\"text_body\"] = df[\"text_body\"].fillna(\"\")"
   ]
  },
  {
   "cell_type": "code",
   "execution_count": 210,
   "metadata": {},
   "outputs": [
    {
     "name": "stderr",
     "output_type": "stream",
     "text": [
      "100%|██████████| 24606/24606 [28:58<00:00, 14.15it/s] \n"
     ]
    }
   ],
   "source": [
    "df[\"named_entities\"] = df[\"text_body\"].progress_apply(\n",
    "    lambda x: ner_pipe(x) if isinstance(x, str) else []\n",
    ")"
   ]
  },
  {
   "cell_type": "code",
   "execution_count": 4,
   "metadata": {},
   "outputs": [],
   "source": [
    "class NumpyEncoder(JSONEncoder):\n",
    "    def default(self, obj):\n",
    "        if isinstance(obj, np.floating):\n",
    "            return float(obj)\n",
    "        else:\n",
    "            return super(NumpyEncoder, self).default(obj)"
   ]
  },
  {
   "cell_type": "code",
   "execution_count": 212,
   "metadata": {},
   "outputs": [],
   "source": [
    "df[\"named_entities_json\"] = df[\"named_entities\"].apply(\n",
    "    lambda x: dumps(x, cls=NumpyEncoder)\n",
    ")"
   ]
  },
  {
   "cell_type": "code",
   "execution_count": 5,
   "metadata": {},
   "outputs": [],
   "source": [
    "def build_replies_up_pos(df: pd.DataFrame, starting_node: tuple[str]) -> list[str]:\n",
    "    out = [starting_node[1]]\n",
    "    next_parent = starting_node[2]\n",
    "\n",
    "    while not pd.isna(next_parent):\n",
    "        node = df[df[\"full_name\"] == next_parent]\n",
    "        out.append(str(node.iloc[0]['text_body']))\n",
    "        next_parent = node.iloc[0]['responds_to']\n",
    "\n",
    "    return list(reversed(out))"
   ]
  },
  {
   "cell_type": "code",
   "execution_count": 214,
   "metadata": {},
   "outputs": [],
   "source": [
    "df[\"full_text\"] = df.apply(\n",
    "    lambda x: \" \".join(build_replies_up_pos(df, (x[\"full_name\"], x[\"text_body\"], x[\"responds_to\"]))),\n",
    "    axis=1\n",
    ")"
   ]
  },
  {
   "cell_type": "code",
   "execution_count": 215,
   "metadata": {},
   "outputs": [],
   "source": [
    "df.to_csv(\"kw/ner_full_text.csv\", index=False)"
   ]
  },
  {
   "cell_type": "code",
   "execution_count": 216,
   "metadata": {},
   "outputs": [
    {
     "name": "stdout",
     "output_type": "stream",
     "text": [
      "env: HF_HUB_DISABLE_SYMLINKS_WARNING=1\n"
     ]
    },
    {
     "name": "stderr",
     "output_type": "stream",
     "text": [
      "c:\\Users\\artur\\source\\rra\\venv\\Lib\\site-packages\\transformers\\pipelines\\text_classification.py:106: UserWarning: `return_all_scores` is now deprecated,  if want a similar functionality use `top_k=None` instead of `return_all_scores=True` or `top_k=1` instead of `return_all_scores=False`.\n",
      "  warnings.warn(\n"
     ]
    }
   ],
   "source": [
    "%env HF_HUB_DISABLE_SYMLINKS_WARNING=1\n",
    "\n",
    "emotion_name = \"j-hartmann/emotion-english-distilroberta-base\"\n",
    "emotion_tokenizer = AutoTokenizer.from_pretrained(emotion_name)\n",
    "emotion_model = AutoModelForSequenceClassification.from_pretrained(emotion_name)\n",
    "emotion_pipe = pipeline(\"text-classification\", model=emotion_model, tokenizer=emotion_tokenizer, return_all_scores=True)"
   ]
  },
  {
   "cell_type": "code",
   "execution_count": 6,
   "metadata": {},
   "outputs": [],
   "source": [
    "def emotional_exponential_average(source_text, model, sampling_size = 500, sampling_step = 100, momentum = 0.8):\n",
    "\n",
    "    # If 4-byte UTF-8 characters are present - make smaller steps to fit text into tokenizer window\n",
    "    if len(source_text[:sampling_size].encode()) > 500:\n",
    "        sampling_size = min(sampling_size // 4, 100)\n",
    "        sampling_step = min(sampling_step // 4, 20)\n",
    "\n",
    "    moving_average = None\n",
    "    try:\n",
    "        moving_average = model(source_text[:sampling_size])[0]\n",
    "    except RuntimeError:\n",
    "        return None\n",
    "\n",
    "    for i in range(sampling_step, len(source_text) - sampling_size, sampling_step):\n",
    "        try:\n",
    "            prediction = model(source_text[i:i + sampling_size])[0]\n",
    "        except RuntimeError:\n",
    "            return None\n",
    "\n",
    "        for average, current in zip(moving_average, prediction):\n",
    "            average[\"score\"] = momentum * average[\"score\"] + (1 - momentum) * current[\"score\"]\n",
    "\n",
    "    return moving_average"
   ]
  },
  {
   "cell_type": "code",
   "execution_count": 218,
   "metadata": {},
   "outputs": [
    {
     "name": "stderr",
     "output_type": "stream",
     "text": [
      "100%|██████████| 24606/24606 [2:18:45<00:00,  2.96it/s]   \n"
     ]
    }
   ],
   "source": [
    "df[\"emotion\"] = df[\"full_text\"].progress_apply(\n",
    "    lambda x: emotional_exponential_average(x, emotion_pipe)\n",
    ")"
   ]
  },
  {
   "cell_type": "code",
   "execution_count": 219,
   "metadata": {},
   "outputs": [],
   "source": [
    "df.to_csv(\"kw/ner_full_text_emotion.csv\", index=False)"
   ]
  },
  {
   "cell_type": "code",
   "execution_count": 220,
   "metadata": {},
   "outputs": [
    {
     "data": {
      "text/html": [
       "<div>\n",
       "<style scoped>\n",
       "    .dataframe tbody tr th:only-of-type {\n",
       "        vertical-align: middle;\n",
       "    }\n",
       "\n",
       "    .dataframe tbody tr th {\n",
       "        vertical-align: top;\n",
       "    }\n",
       "\n",
       "    .dataframe thead th {\n",
       "        text-align: right;\n",
       "    }\n",
       "</style>\n",
       "<table border=\"1\" class=\"dataframe\">\n",
       "  <thead>\n",
       "    <tr style=\"text-align: right;\">\n",
       "      <th></th>\n",
       "      <th>full_name</th>\n",
       "      <th>text_body</th>\n",
       "      <th>author_name</th>\n",
       "      <th>votes</th>\n",
       "      <th>responds_to</th>\n",
       "      <th>parent_submission_name</th>\n",
       "      <th>submission_flair</th>\n",
       "      <th>created_timestamp</th>\n",
       "      <th>parsed_timestamp</th>\n",
       "      <th>controversiality</th>\n",
       "      <th>created_datetime</th>\n",
       "      <th>year</th>\n",
       "      <th>named_entities</th>\n",
       "      <th>named_entities_json</th>\n",
       "      <th>full_text</th>\n",
       "      <th>emotion</th>\n",
       "    </tr>\n",
       "  </thead>\n",
       "  <tbody>\n",
       "    <tr>\n",
       "      <th>0</th>\n",
       "      <td>t3_un1z9w</td>\n",
       "      <td>Sri Lankan opposition leader Sajith Premadasa ...</td>\n",
       "      <td>t2_63oe5kpm</td>\n",
       "      <td>179</td>\n",
       "      <td>NaN</td>\n",
       "      <td>t3_un1z9w</td>\n",
       "      <td>NaN</td>\n",
       "      <td>1.652245e+09</td>\n",
       "      <td>1731353678</td>\n",
       "      <td>False</td>\n",
       "      <td>2022-05-11 12:03:15</td>\n",
       "      <td>2022</td>\n",
       "      <td>[{'entity_group': 'PER', 'score': 0.99757975, ...</td>\n",
       "      <td>[{\"entity_group\": \"PER\", \"score\": 0.9975797533...</td>\n",
       "      <td>Sri Lankan opposition leader Sajith Premadasa ...</td>\n",
       "      <td>[{'label': 'anger', 'score': 0.201455861330032...</td>\n",
       "    </tr>\n",
       "    <tr>\n",
       "      <th>1</th>\n",
       "      <td>t1_i868ljo</td>\n",
       "      <td>Look at this dudes car !! Has he ever had a jo...</td>\n",
       "      <td>NaN</td>\n",
       "      <td>36</td>\n",
       "      <td>t3_un1z9w</td>\n",
       "      <td>t3_un1z9w</td>\n",
       "      <td>NaN</td>\n",
       "      <td>1.652245e+09</td>\n",
       "      <td>1731353680</td>\n",
       "      <td>False</td>\n",
       "      <td>2022-05-11 12:03:15</td>\n",
       "      <td>2022</td>\n",
       "      <td>[]</td>\n",
       "      <td>[]</td>\n",
       "      <td>Sri Lankan opposition leader Sajith Premadasa ...</td>\n",
       "      <td>[{'label': 'anger', 'score': 0.207774564623832...</td>\n",
       "    </tr>\n",
       "    <tr>\n",
       "      <th>2</th>\n",
       "      <td>t1_i86ogbn</td>\n",
       "      <td>Anyone with half a brain knows this guy is a p...</td>\n",
       "      <td>t2_96ecn1c5</td>\n",
       "      <td>26</td>\n",
       "      <td>t3_un1z9w</td>\n",
       "      <td>t3_un1z9w</td>\n",
       "      <td>NaN</td>\n",
       "      <td>1.652245e+09</td>\n",
       "      <td>1731353680</td>\n",
       "      <td>False</td>\n",
       "      <td>2022-05-11 12:03:15</td>\n",
       "      <td>2022</td>\n",
       "      <td>[{'entity_group': 'ORG', 'score': 0.79692316, ...</td>\n",
       "      <td>[{\"entity_group\": \"ORG\", \"score\": 0.7969231605...</td>\n",
       "      <td>Sri Lankan opposition leader Sajith Premadasa ...</td>\n",
       "      <td>[{'label': 'anger', 'score': 0.164950283700237...</td>\n",
       "    </tr>\n",
       "    <tr>\n",
       "      <th>3</th>\n",
       "      <td>t1_i85t3da</td>\n",
       "      <td>Why is there some blind arab man trying to cro...</td>\n",
       "      <td>t2_8ctz6ggl</td>\n",
       "      <td>43</td>\n",
       "      <td>t3_un1z9w</td>\n",
       "      <td>t3_un1z9w</td>\n",
       "      <td>NaN</td>\n",
       "      <td>1.652245e+09</td>\n",
       "      <td>1731353680</td>\n",
       "      <td>False</td>\n",
       "      <td>2022-05-11 12:03:15</td>\n",
       "      <td>2022</td>\n",
       "      <td>[{'entity_group': 'MISC', 'score': 0.92525345,...</td>\n",
       "      <td>[{\"entity_group\": \"MISC\", \"score\": 0.925253450...</td>\n",
       "      <td>Sri Lankan opposition leader Sajith Premadasa ...</td>\n",
       "      <td>[{'label': 'anger', 'score': 0.151034057140350...</td>\n",
       "    </tr>\n",
       "    <tr>\n",
       "      <th>4</th>\n",
       "      <td>t1_i85mb6t</td>\n",
       "      <td>/r/praisethecameraman</td>\n",
       "      <td>t2_684r0o1z</td>\n",
       "      <td>23</td>\n",
       "      <td>t3_un1z9w</td>\n",
       "      <td>t3_un1z9w</td>\n",
       "      <td>NaN</td>\n",
       "      <td>1.652245e+09</td>\n",
       "      <td>1731353680</td>\n",
       "      <td>False</td>\n",
       "      <td>2022-05-11 12:03:15</td>\n",
       "      <td>2022</td>\n",
       "      <td>[{'entity_group': 'MISC', 'score': 0.5501193, ...</td>\n",
       "      <td>[{\"entity_group\": \"MISC\", \"score\": 0.550119280...</td>\n",
       "      <td>Sri Lankan opposition leader Sajith Premadasa ...</td>\n",
       "      <td>[{'label': 'anger', 'score': 0.250387310981750...</td>\n",
       "    </tr>\n",
       "  </tbody>\n",
       "</table>\n",
       "</div>"
      ],
      "text/plain": [
       "    full_name                                          text_body  author_name  \\\n",
       "0   t3_un1z9w  Sri Lankan opposition leader Sajith Premadasa ...  t2_63oe5kpm   \n",
       "1  t1_i868ljo  Look at this dudes car !! Has he ever had a jo...          NaN   \n",
       "2  t1_i86ogbn  Anyone with half a brain knows this guy is a p...  t2_96ecn1c5   \n",
       "3  t1_i85t3da  Why is there some blind arab man trying to cro...  t2_8ctz6ggl   \n",
       "4  t1_i85mb6t                              /r/praisethecameraman  t2_684r0o1z   \n",
       "\n",
       "   votes responds_to parent_submission_name submission_flair  \\\n",
       "0    179         NaN              t3_un1z9w              NaN   \n",
       "1     36   t3_un1z9w              t3_un1z9w              NaN   \n",
       "2     26   t3_un1z9w              t3_un1z9w              NaN   \n",
       "3     43   t3_un1z9w              t3_un1z9w              NaN   \n",
       "4     23   t3_un1z9w              t3_un1z9w              NaN   \n",
       "\n",
       "   created_timestamp  parsed_timestamp  controversiality    created_datetime  \\\n",
       "0       1.652245e+09        1731353678             False 2022-05-11 12:03:15   \n",
       "1       1.652245e+09        1731353680             False 2022-05-11 12:03:15   \n",
       "2       1.652245e+09        1731353680             False 2022-05-11 12:03:15   \n",
       "3       1.652245e+09        1731353680             False 2022-05-11 12:03:15   \n",
       "4       1.652245e+09        1731353680             False 2022-05-11 12:03:15   \n",
       "\n",
       "   year                                     named_entities  \\\n",
       "0  2022  [{'entity_group': 'PER', 'score': 0.99757975, ...   \n",
       "1  2022                                                 []   \n",
       "2  2022  [{'entity_group': 'ORG', 'score': 0.79692316, ...   \n",
       "3  2022  [{'entity_group': 'MISC', 'score': 0.92525345,...   \n",
       "4  2022  [{'entity_group': 'MISC', 'score': 0.5501193, ...   \n",
       "\n",
       "                                 named_entities_json  \\\n",
       "0  [{\"entity_group\": \"PER\", \"score\": 0.9975797533...   \n",
       "1                                                 []   \n",
       "2  [{\"entity_group\": \"ORG\", \"score\": 0.7969231605...   \n",
       "3  [{\"entity_group\": \"MISC\", \"score\": 0.925253450...   \n",
       "4  [{\"entity_group\": \"MISC\", \"score\": 0.550119280...   \n",
       "\n",
       "                                           full_text  \\\n",
       "0  Sri Lankan opposition leader Sajith Premadasa ...   \n",
       "1  Sri Lankan opposition leader Sajith Premadasa ...   \n",
       "2  Sri Lankan opposition leader Sajith Premadasa ...   \n",
       "3  Sri Lankan opposition leader Sajith Premadasa ...   \n",
       "4  Sri Lankan opposition leader Sajith Premadasa ...   \n",
       "\n",
       "                                             emotion  \n",
       "0  [{'label': 'anger', 'score': 0.201455861330032...  \n",
       "1  [{'label': 'anger', 'score': 0.207774564623832...  \n",
       "2  [{'label': 'anger', 'score': 0.164950283700237...  \n",
       "3  [{'label': 'anger', 'score': 0.151034057140350...  \n",
       "4  [{'label': 'anger', 'score': 0.250387310981750...  "
      ]
     },
     "execution_count": 220,
     "metadata": {},
     "output_type": "execute_result"
    }
   ],
   "source": [
    "df.head()"
   ]
  },
  {
   "cell_type": "code",
   "execution_count": 221,
   "metadata": {},
   "outputs": [],
   "source": [
    "df[\"emotion_json\"] = df[\"emotion\"].apply(\n",
    "    lambda x: dumps(x, cls=NumpyEncoder)\n",
    ")"
   ]
  },
  {
   "cell_type": "code",
   "execution_count": 222,
   "metadata": {},
   "outputs": [],
   "source": [
    "df.to_csv(\"kw/ner_full_text_emotion_json.csv\", index=False)"
   ]
  },
  {
   "cell_type": "code",
   "execution_count": 223,
   "metadata": {},
   "outputs": [
    {
     "data": {
      "text/html": [
       "<div>\n",
       "<style scoped>\n",
       "    .dataframe tbody tr th:only-of-type {\n",
       "        vertical-align: middle;\n",
       "    }\n",
       "\n",
       "    .dataframe tbody tr th {\n",
       "        vertical-align: top;\n",
       "    }\n",
       "\n",
       "    .dataframe thead th {\n",
       "        text-align: right;\n",
       "    }\n",
       "</style>\n",
       "<table border=\"1\" class=\"dataframe\">\n",
       "  <thead>\n",
       "    <tr style=\"text-align: right;\">\n",
       "      <th></th>\n",
       "      <th>full_name</th>\n",
       "      <th>text_body</th>\n",
       "      <th>author_name</th>\n",
       "      <th>votes</th>\n",
       "      <th>responds_to</th>\n",
       "      <th>parent_submission_name</th>\n",
       "      <th>submission_flair</th>\n",
       "      <th>created_timestamp</th>\n",
       "      <th>parsed_timestamp</th>\n",
       "      <th>controversiality</th>\n",
       "      <th>created_datetime</th>\n",
       "      <th>year</th>\n",
       "      <th>named_entities</th>\n",
       "      <th>named_entities_json</th>\n",
       "      <th>full_text</th>\n",
       "      <th>emotion</th>\n",
       "      <th>emotion_json</th>\n",
       "    </tr>\n",
       "  </thead>\n",
       "  <tbody>\n",
       "    <tr>\n",
       "      <th>0</th>\n",
       "      <td>t3_un1z9w</td>\n",
       "      <td>Sri Lankan opposition leader Sajith Premadasa ...</td>\n",
       "      <td>t2_63oe5kpm</td>\n",
       "      <td>179</td>\n",
       "      <td>NaN</td>\n",
       "      <td>t3_un1z9w</td>\n",
       "      <td>NaN</td>\n",
       "      <td>1.652245e+09</td>\n",
       "      <td>1731353678</td>\n",
       "      <td>False</td>\n",
       "      <td>2022-05-11 12:03:15</td>\n",
       "      <td>2022</td>\n",
       "      <td>[{'entity_group': 'PER', 'score': 0.99757975, ...</td>\n",
       "      <td>[{\"entity_group\": \"PER\", \"score\": 0.9975797533...</td>\n",
       "      <td>Sri Lankan opposition leader Sajith Premadasa ...</td>\n",
       "      <td>[{'label': 'anger', 'score': 0.201455861330032...</td>\n",
       "      <td>[{\"label\": \"anger\", \"score\": 0.201455861330032...</td>\n",
       "    </tr>\n",
       "    <tr>\n",
       "      <th>1</th>\n",
       "      <td>t1_i868ljo</td>\n",
       "      <td>Look at this dudes car !! Has he ever had a jo...</td>\n",
       "      <td>NaN</td>\n",
       "      <td>36</td>\n",
       "      <td>t3_un1z9w</td>\n",
       "      <td>t3_un1z9w</td>\n",
       "      <td>NaN</td>\n",
       "      <td>1.652245e+09</td>\n",
       "      <td>1731353680</td>\n",
       "      <td>False</td>\n",
       "      <td>2022-05-11 12:03:15</td>\n",
       "      <td>2022</td>\n",
       "      <td>[]</td>\n",
       "      <td>[]</td>\n",
       "      <td>Sri Lankan opposition leader Sajith Premadasa ...</td>\n",
       "      <td>[{'label': 'anger', 'score': 0.207774564623832...</td>\n",
       "      <td>[{\"label\": \"anger\", \"score\": 0.207774564623832...</td>\n",
       "    </tr>\n",
       "    <tr>\n",
       "      <th>2</th>\n",
       "      <td>t1_i86ogbn</td>\n",
       "      <td>Anyone with half a brain knows this guy is a p...</td>\n",
       "      <td>t2_96ecn1c5</td>\n",
       "      <td>26</td>\n",
       "      <td>t3_un1z9w</td>\n",
       "      <td>t3_un1z9w</td>\n",
       "      <td>NaN</td>\n",
       "      <td>1.652245e+09</td>\n",
       "      <td>1731353680</td>\n",
       "      <td>False</td>\n",
       "      <td>2022-05-11 12:03:15</td>\n",
       "      <td>2022</td>\n",
       "      <td>[{'entity_group': 'ORG', 'score': 0.79692316, ...</td>\n",
       "      <td>[{\"entity_group\": \"ORG\", \"score\": 0.7969231605...</td>\n",
       "      <td>Sri Lankan opposition leader Sajith Premadasa ...</td>\n",
       "      <td>[{'label': 'anger', 'score': 0.164950283700237...</td>\n",
       "      <td>[{\"label\": \"anger\", \"score\": 0.164950283700237...</td>\n",
       "    </tr>\n",
       "    <tr>\n",
       "      <th>3</th>\n",
       "      <td>t1_i85t3da</td>\n",
       "      <td>Why is there some blind arab man trying to cro...</td>\n",
       "      <td>t2_8ctz6ggl</td>\n",
       "      <td>43</td>\n",
       "      <td>t3_un1z9w</td>\n",
       "      <td>t3_un1z9w</td>\n",
       "      <td>NaN</td>\n",
       "      <td>1.652245e+09</td>\n",
       "      <td>1731353680</td>\n",
       "      <td>False</td>\n",
       "      <td>2022-05-11 12:03:15</td>\n",
       "      <td>2022</td>\n",
       "      <td>[{'entity_group': 'MISC', 'score': 0.92525345,...</td>\n",
       "      <td>[{\"entity_group\": \"MISC\", \"score\": 0.925253450...</td>\n",
       "      <td>Sri Lankan opposition leader Sajith Premadasa ...</td>\n",
       "      <td>[{'label': 'anger', 'score': 0.151034057140350...</td>\n",
       "      <td>[{\"label\": \"anger\", \"score\": 0.151034057140350...</td>\n",
       "    </tr>\n",
       "    <tr>\n",
       "      <th>4</th>\n",
       "      <td>t1_i85mb6t</td>\n",
       "      <td>/r/praisethecameraman</td>\n",
       "      <td>t2_684r0o1z</td>\n",
       "      <td>23</td>\n",
       "      <td>t3_un1z9w</td>\n",
       "      <td>t3_un1z9w</td>\n",
       "      <td>NaN</td>\n",
       "      <td>1.652245e+09</td>\n",
       "      <td>1731353680</td>\n",
       "      <td>False</td>\n",
       "      <td>2022-05-11 12:03:15</td>\n",
       "      <td>2022</td>\n",
       "      <td>[{'entity_group': 'MISC', 'score': 0.5501193, ...</td>\n",
       "      <td>[{\"entity_group\": \"MISC\", \"score\": 0.550119280...</td>\n",
       "      <td>Sri Lankan opposition leader Sajith Premadasa ...</td>\n",
       "      <td>[{'label': 'anger', 'score': 0.250387310981750...</td>\n",
       "      <td>[{\"label\": \"anger\", \"score\": 0.250387310981750...</td>\n",
       "    </tr>\n",
       "  </tbody>\n",
       "</table>\n",
       "</div>"
      ],
      "text/plain": [
       "    full_name                                          text_body  author_name  \\\n",
       "0   t3_un1z9w  Sri Lankan opposition leader Sajith Premadasa ...  t2_63oe5kpm   \n",
       "1  t1_i868ljo  Look at this dudes car !! Has he ever had a jo...          NaN   \n",
       "2  t1_i86ogbn  Anyone with half a brain knows this guy is a p...  t2_96ecn1c5   \n",
       "3  t1_i85t3da  Why is there some blind arab man trying to cro...  t2_8ctz6ggl   \n",
       "4  t1_i85mb6t                              /r/praisethecameraman  t2_684r0o1z   \n",
       "\n",
       "   votes responds_to parent_submission_name submission_flair  \\\n",
       "0    179         NaN              t3_un1z9w              NaN   \n",
       "1     36   t3_un1z9w              t3_un1z9w              NaN   \n",
       "2     26   t3_un1z9w              t3_un1z9w              NaN   \n",
       "3     43   t3_un1z9w              t3_un1z9w              NaN   \n",
       "4     23   t3_un1z9w              t3_un1z9w              NaN   \n",
       "\n",
       "   created_timestamp  parsed_timestamp  controversiality    created_datetime  \\\n",
       "0       1.652245e+09        1731353678             False 2022-05-11 12:03:15   \n",
       "1       1.652245e+09        1731353680             False 2022-05-11 12:03:15   \n",
       "2       1.652245e+09        1731353680             False 2022-05-11 12:03:15   \n",
       "3       1.652245e+09        1731353680             False 2022-05-11 12:03:15   \n",
       "4       1.652245e+09        1731353680             False 2022-05-11 12:03:15   \n",
       "\n",
       "   year                                     named_entities  \\\n",
       "0  2022  [{'entity_group': 'PER', 'score': 0.99757975, ...   \n",
       "1  2022                                                 []   \n",
       "2  2022  [{'entity_group': 'ORG', 'score': 0.79692316, ...   \n",
       "3  2022  [{'entity_group': 'MISC', 'score': 0.92525345,...   \n",
       "4  2022  [{'entity_group': 'MISC', 'score': 0.5501193, ...   \n",
       "\n",
       "                                 named_entities_json  \\\n",
       "0  [{\"entity_group\": \"PER\", \"score\": 0.9975797533...   \n",
       "1                                                 []   \n",
       "2  [{\"entity_group\": \"ORG\", \"score\": 0.7969231605...   \n",
       "3  [{\"entity_group\": \"MISC\", \"score\": 0.925253450...   \n",
       "4  [{\"entity_group\": \"MISC\", \"score\": 0.550119280...   \n",
       "\n",
       "                                           full_text  \\\n",
       "0  Sri Lankan opposition leader Sajith Premadasa ...   \n",
       "1  Sri Lankan opposition leader Sajith Premadasa ...   \n",
       "2  Sri Lankan opposition leader Sajith Premadasa ...   \n",
       "3  Sri Lankan opposition leader Sajith Premadasa ...   \n",
       "4  Sri Lankan opposition leader Sajith Premadasa ...   \n",
       "\n",
       "                                             emotion  \\\n",
       "0  [{'label': 'anger', 'score': 0.201455861330032...   \n",
       "1  [{'label': 'anger', 'score': 0.207774564623832...   \n",
       "2  [{'label': 'anger', 'score': 0.164950283700237...   \n",
       "3  [{'label': 'anger', 'score': 0.151034057140350...   \n",
       "4  [{'label': 'anger', 'score': 0.250387310981750...   \n",
       "\n",
       "                                        emotion_json  \n",
       "0  [{\"label\": \"anger\", \"score\": 0.201455861330032...  \n",
       "1  [{\"label\": \"anger\", \"score\": 0.207774564623832...  \n",
       "2  [{\"label\": \"anger\", \"score\": 0.164950283700237...  \n",
       "3  [{\"label\": \"anger\", \"score\": 0.151034057140350...  \n",
       "4  [{\"label\": \"anger\", \"score\": 0.250387310981750...  "
      ]
     },
     "execution_count": 223,
     "metadata": {},
     "output_type": "execute_result"
    }
   ],
   "source": [
    "df.head()"
   ]
  },
  {
   "cell_type": "code",
   "execution_count": 4,
   "metadata": {},
   "outputs": [],
   "source": [
    "df = pd.read_csv(\"result_kw/ner_emotion_analysis.csv\")\n",
    "\n",
    "df[\"named_entities\"] = df[\"named_entities_json\"].apply(\n",
    "    lambda x: loads(x)\n",
    ")\n",
    "\n",
    "df[\"emotion\"] = df[\"emotion_json\"].apply(\n",
    "    lambda x: loads(x)\n",
    ")"
   ]
  },
  {
   "cell_type": "code",
   "execution_count": 5,
   "metadata": {},
   "outputs": [
    {
     "name": "stdout",
     "output_type": "stream",
     "text": [
      "List length: 36849\n",
      "Set length: 10588\n"
     ]
    }
   ],
   "source": [
    "entity_list = []\n",
    "\n",
    "\n",
    "def extract_entities(row):\n",
    "    for entity_dict in row:\n",
    "        entity_list.append(entity_dict[\"word\"])\n",
    "\n",
    "\n",
    "df[\"named_entities\"].apply(\n",
    "    extract_entities\n",
    ")\n",
    "\n",
    "print(f\"List length: {len(entity_list)}\")\n",
    "print(f\"Set length: {len(set(entity_list))}\")"
   ]
  },
  {
   "cell_type": "code",
   "execution_count": 6,
   "metadata": {},
   "outputs": [
    {
     "data": {
      "text/html": [
       "<div>\n",
       "<style scoped>\n",
       "    .dataframe tbody tr th:only-of-type {\n",
       "        vertical-align: middle;\n",
       "    }\n",
       "\n",
       "    .dataframe tbody tr th {\n",
       "        vertical-align: top;\n",
       "    }\n",
       "\n",
       "    .dataframe thead th {\n",
       "        text-align: right;\n",
       "    }\n",
       "</style>\n",
       "<table border=\"1\" class=\"dataframe\">\n",
       "  <thead>\n",
       "    <tr style=\"text-align: right;\">\n",
       "      <th></th>\n",
       "      <th>0</th>\n",
       "    </tr>\n",
       "  </thead>\n",
       "  <tbody>\n",
       "    <tr>\n",
       "      <th>count</th>\n",
       "      <td>36849.000000</td>\n",
       "    </tr>\n",
       "    <tr>\n",
       "      <th>mean</th>\n",
       "      <td>0.796379</td>\n",
       "    </tr>\n",
       "    <tr>\n",
       "      <th>std</th>\n",
       "      <td>0.199428</td>\n",
       "    </tr>\n",
       "    <tr>\n",
       "      <th>min</th>\n",
       "      <td>0.156471</td>\n",
       "    </tr>\n",
       "    <tr>\n",
       "      <th>25%</th>\n",
       "      <td>0.632613</td>\n",
       "    </tr>\n",
       "    <tr>\n",
       "      <th>50%</th>\n",
       "      <td>0.856483</td>\n",
       "    </tr>\n",
       "    <tr>\n",
       "      <th>75%</th>\n",
       "      <td>0.985834</td>\n",
       "    </tr>\n",
       "    <tr>\n",
       "      <th>max</th>\n",
       "      <td>0.999918</td>\n",
       "    </tr>\n",
       "  </tbody>\n",
       "</table>\n",
       "</div>"
      ],
      "text/plain": [
       "                  0\n",
       "count  36849.000000\n",
       "mean       0.796379\n",
       "std        0.199428\n",
       "min        0.156471\n",
       "25%        0.632613\n",
       "50%        0.856483\n",
       "75%        0.985834\n",
       "max        0.999918"
      ]
     },
     "execution_count": 6,
     "metadata": {},
     "output_type": "execute_result"
    }
   ],
   "source": [
    "entity_score_list = []\n",
    "\n",
    "\n",
    "def extract_entities(row):\n",
    "    for entity_dict in row:\n",
    "        entity_score_list.append(entity_dict[\"score\"])\n",
    "\n",
    "\n",
    "df[\"named_entities\"].apply(\n",
    "    extract_entities\n",
    ")\n",
    "\n",
    "df_describe = pd.DataFrame(entity_score_list)\n",
    "df_describe.describe()"
   ]
  },
  {
   "cell_type": "code",
   "execution_count": 7,
   "metadata": {},
   "outputs": [],
   "source": [
    "def filter_entities(entities, treshold):\n",
    "    res = []\n",
    "    for entity in entities:\n",
    "        if(entity[\"score\"]>treshold):\n",
    "            res.append(entity)\n",
    "    return res"
   ]
  },
  {
   "cell_type": "code",
   "execution_count": 8,
   "metadata": {},
   "outputs": [],
   "source": [
    "df[\"named_entities\"] = df[\"named_entities\"].apply(\n",
    "    lambda x: filter_entities(x, 0.85)\n",
    ")"
   ]
  },
  {
   "cell_type": "code",
   "execution_count": 9,
   "metadata": {},
   "outputs": [
    {
     "name": "stdout",
     "output_type": "stream",
     "text": [
      "List length: 18722\n",
      "Set length: 4833\n"
     ]
    }
   ],
   "source": [
    "entity_list = []\n",
    "\n",
    "\n",
    "def extract_entities(row):\n",
    "    for entity_dict in row:\n",
    "        entity_list.append(entity_dict[\"word\"])\n",
    "\n",
    "\n",
    "df[\"named_entities\"].apply(\n",
    "    extract_entities\n",
    ")\n",
    "\n",
    "print(f\"List length: {len(entity_list)}\")\n",
    "print(f\"Set length: {len(set(entity_list))}\")"
   ]
  },
  {
   "cell_type": "code",
   "execution_count": 10,
   "metadata": {},
   "outputs": [
    {
     "data": {
      "text/plain": [
       "0        None\n",
       "1        None\n",
       "2        None\n",
       "3        None\n",
       "4        None\n",
       "         ... \n",
       "24601    None\n",
       "24602    None\n",
       "24603    None\n",
       "24604    None\n",
       "24605    None\n",
       "Length: 24606, dtype: object"
      ]
     },
     "execution_count": 10,
     "metadata": {},
     "output_type": "execute_result"
    }
   ],
   "source": [
    "entity_emotion = {}\n",
    "\n",
    "\n",
    "def row_to_dict(row):\n",
    "    ent, emo = row\n",
    "\n",
    "    for ent_dict in ent:\n",
    "        named_entity = ent_dict[\"word\"]\n",
    "        emotions_list = entity_emotion.get(named_entity)\n",
    "        \n",
    "        if not emo:\n",
    "            continue\n",
    "\n",
    "        emotion_vector = [emotion_dict[\"score\"] for emotion_dict in emo]\n",
    "        \n",
    "        if emotions_list:\n",
    "            emotions_list.append(emotion_vector)\n",
    "        else:\n",
    "            entity_emotion[named_entity] = [emotion_vector]\n",
    "\n",
    "\n",
    "df[[\"named_entities\", \"emotion\"]].apply(\n",
    "    row_to_dict,\n",
    "    axis=1\n",
    ")"
   ]
  },
  {
   "cell_type": "code",
   "execution_count": 11,
   "metadata": {},
   "outputs": [
    {
     "name": "stderr",
     "output_type": "stream",
     "text": [
      "100%|██████████| 24606/24606 [00:00<00:00, 692367.85it/s]\n"
     ]
    }
   ],
   "source": [
    "emotion_stats = {\n",
    "    \"anger\": [],\n",
    "    \"disgust\": [],\n",
    "    \"fear\": [],\n",
    "    \"joy\": [],\n",
    "    \"neutral\": [],\n",
    "    \"sadness\": [],\n",
    "    \"surprise\": []\n",
    "}\n",
    "\n",
    "\n",
    "def extract_emotion(row):\n",
    "    for emotion_dict in row:\n",
    "        key = emotion_dict[\"label\"]\n",
    "        value = emotion_dict[\"score\"]\n",
    "\n",
    "        emotion_stats[key].append(value)\n",
    "\n",
    "\n",
    "df[\"emotion\"].progress_apply(\n",
    "    extract_emotion\n",
    ")\n",
    "\n",
    "\n",
    "emotion_stats_df = pd.DataFrame.from_dict(emotion_stats)"
   ]
  },
  {
   "cell_type": "code",
   "execution_count": 12,
   "metadata": {},
   "outputs": [
    {
     "data": {
      "text/html": [
       "<div>\n",
       "<style scoped>\n",
       "    .dataframe tbody tr th:only-of-type {\n",
       "        vertical-align: middle;\n",
       "    }\n",
       "\n",
       "    .dataframe tbody tr th {\n",
       "        vertical-align: top;\n",
       "    }\n",
       "\n",
       "    .dataframe thead th {\n",
       "        text-align: right;\n",
       "    }\n",
       "</style>\n",
       "<table border=\"1\" class=\"dataframe\">\n",
       "  <thead>\n",
       "    <tr style=\"text-align: right;\">\n",
       "      <th></th>\n",
       "      <th>anger</th>\n",
       "      <th>disgust</th>\n",
       "      <th>fear</th>\n",
       "      <th>joy</th>\n",
       "      <th>neutral</th>\n",
       "      <th>sadness</th>\n",
       "      <th>surprise</th>\n",
       "    </tr>\n",
       "  </thead>\n",
       "  <tbody>\n",
       "    <tr>\n",
       "      <th>count</th>\n",
       "      <td>24606.000000</td>\n",
       "      <td>24606.000000</td>\n",
       "      <td>24606.000000</td>\n",
       "      <td>24606.000000</td>\n",
       "      <td>24606.000000</td>\n",
       "      <td>24606.000000</td>\n",
       "      <td>24606.000000</td>\n",
       "    </tr>\n",
       "    <tr>\n",
       "      <th>mean</th>\n",
       "      <td>0.137031</td>\n",
       "      <td>0.082691</td>\n",
       "      <td>0.103906</td>\n",
       "      <td>0.063679</td>\n",
       "      <td>0.402317</td>\n",
       "      <td>0.084208</td>\n",
       "      <td>0.126169</td>\n",
       "    </tr>\n",
       "    <tr>\n",
       "      <th>std</th>\n",
       "      <td>0.204582</td>\n",
       "      <td>0.152045</td>\n",
       "      <td>0.191681</td>\n",
       "      <td>0.154578</td>\n",
       "      <td>0.299481</td>\n",
       "      <td>0.164734</td>\n",
       "      <td>0.185326</td>\n",
       "    </tr>\n",
       "    <tr>\n",
       "      <th>min</th>\n",
       "      <td>0.000570</td>\n",
       "      <td>0.000158</td>\n",
       "      <td>0.000213</td>\n",
       "      <td>0.000244</td>\n",
       "      <td>0.000326</td>\n",
       "      <td>0.000820</td>\n",
       "      <td>0.000343</td>\n",
       "    </tr>\n",
       "    <tr>\n",
       "      <th>25%</th>\n",
       "      <td>0.012419</td>\n",
       "      <td>0.006093</td>\n",
       "      <td>0.006567</td>\n",
       "      <td>0.003812</td>\n",
       "      <td>0.114586</td>\n",
       "      <td>0.011265</td>\n",
       "      <td>0.016212</td>\n",
       "    </tr>\n",
       "    <tr>\n",
       "      <th>50%</th>\n",
       "      <td>0.041513</td>\n",
       "      <td>0.020761</td>\n",
       "      <td>0.023259</td>\n",
       "      <td>0.009171</td>\n",
       "      <td>0.366738</td>\n",
       "      <td>0.024627</td>\n",
       "      <td>0.049788</td>\n",
       "    </tr>\n",
       "    <tr>\n",
       "      <th>75%</th>\n",
       "      <td>0.166300</td>\n",
       "      <td>0.082122</td>\n",
       "      <td>0.095823</td>\n",
       "      <td>0.034110</td>\n",
       "      <td>0.671362</td>\n",
       "      <td>0.068052</td>\n",
       "      <td>0.148795</td>\n",
       "    </tr>\n",
       "    <tr>\n",
       "      <th>max</th>\n",
       "      <td>0.989281</td>\n",
       "      <td>0.990443</td>\n",
       "      <td>0.993502</td>\n",
       "      <td>0.989890</td>\n",
       "      <td>0.971468</td>\n",
       "      <td>0.988969</td>\n",
       "      <td>0.984274</td>\n",
       "    </tr>\n",
       "  </tbody>\n",
       "</table>\n",
       "</div>"
      ],
      "text/plain": [
       "              anger       disgust          fear           joy       neutral  \\\n",
       "count  24606.000000  24606.000000  24606.000000  24606.000000  24606.000000   \n",
       "mean       0.137031      0.082691      0.103906      0.063679      0.402317   \n",
       "std        0.204582      0.152045      0.191681      0.154578      0.299481   \n",
       "min        0.000570      0.000158      0.000213      0.000244      0.000326   \n",
       "25%        0.012419      0.006093      0.006567      0.003812      0.114586   \n",
       "50%        0.041513      0.020761      0.023259      0.009171      0.366738   \n",
       "75%        0.166300      0.082122      0.095823      0.034110      0.671362   \n",
       "max        0.989281      0.990443      0.993502      0.989890      0.971468   \n",
       "\n",
       "            sadness      surprise  \n",
       "count  24606.000000  24606.000000  \n",
       "mean       0.084208      0.126169  \n",
       "std        0.164734      0.185326  \n",
       "min        0.000820      0.000343  \n",
       "25%        0.011265      0.016212  \n",
       "50%        0.024627      0.049788  \n",
       "75%        0.068052      0.148795  \n",
       "max        0.988969      0.984274  "
      ]
     },
     "execution_count": 12,
     "metadata": {},
     "output_type": "execute_result"
    }
   ],
   "source": [
    "emotion_stats_df.describe()"
   ]
  },
  {
   "cell_type": "code",
   "execution_count": 15,
   "metadata": {},
   "outputs": [
    {
     "data": {
      "text/plain": [
       "<Axes: >"
      ]
     },
     "execution_count": 15,
     "metadata": {},
     "output_type": "execute_result"
    },
    {
     "data": {
      "image/png": "[encoded data removed]",
      "text/plain": [
       "<Figure size 1600x900 with 1 Axes>"
      ]
     },
     "metadata": {},
     "output_type": "display_data"
    }
   ],
   "source": [
    "sns.boxplot(data = emotion_stats_df)"
   ]
  },
  {
   "cell_type": "code",
   "execution_count": 16,
   "metadata": {},
   "outputs": [],
   "source": [
    "entity_emotion_divergence = {}\n",
    "\n",
    "\n",
    "for k, v in entity_emotion.items():\n",
    "    if len(v) < 2:\n",
    "        continue\n",
    "\n",
    "    simmilarity_of_all_pairs = []\n",
    "\n",
    "    for i in range(len(v)):\n",
    "        for j in range(i + 1, len(v)):\n",
    "            simmilarity_of_all_pairs.append(\n",
    "                np.dot(v[i], v[j]) / (np.linalg.norm(v[i]) * np.linalg.norm(v[j]))\n",
    "            )\n",
    "\n",
    "    entity_emotion_divergence[k] = float(np.mean(simmilarity_of_all_pairs))"
   ]
  },
  {
   "cell_type": "code",
   "execution_count": 17,
   "metadata": {},
   "outputs": [],
   "source": [
    "sorted_entity_emotion_divergence = sorted(\n",
    "    entity_emotion_divergence.items(),\n",
    "    key=lambda x: x[1],\n",
    "    reverse=True\n",
    ")"
   ]
  },
  {
   "cell_type": "code",
   "execution_count": 18,
   "metadata": {},
   "outputs": [],
   "source": [
    "sorted_divergence = list(\n",
    "    map(\n",
    "        lambda x: x[1],\n",
    "        sorted_entity_emotion_divergence\n",
    "    )\n",
    ")"
   ]
  },
  {
   "cell_type": "code",
   "execution_count": 19,
   "metadata": {},
   "outputs": [
    {
     "data": {
      "text/plain": [
       "<Axes: ylabel='Count'>"
      ]
     },
     "execution_count": 19,
     "metadata": {},
     "output_type": "execute_result"
    },
    {
     "data": {
      "image/png": "[encoded data removed]",
      "text/plain": [
       "<Figure size 1600x900 with 1 Axes>"
      ]
     },
     "metadata": {},
     "output_type": "display_data"
    }
   ],
   "source": [
    "sns.histplot(x=sorted_divergence)"
   ]
  },
  {
   "cell_type": "code",
   "execution_count": 20,
   "metadata": {},
   "outputs": [
    {
     "data": {
      "text/plain": [
       "1299"
      ]
     },
     "execution_count": 20,
     "metadata": {},
     "output_type": "execute_result"
    }
   ],
   "source": [
    "len(sorted_divergence)"
   ]
  },
  {
   "cell_type": "code",
   "execution_count": null,
   "metadata": {},
   "outputs": [],
   "source": [
    "ranged_entities = list(reversed(sorted_entity_emotion_divergence))"
   ]
  },
  {
   "cell_type": "code",
   "execution_count": 24,
   "metadata": {},
   "outputs": [],
   "source": [
    "problematic_entities = pd.DataFrame(ranged_entities, columns=['word', 'score'])"
   ]
  },
  {
   "cell_type": "code",
   "execution_count": 25,
   "metadata": {},
   "outputs": [
    {
     "data": {
      "text/html": [
       "<div>\n",
       "<style scoped>\n",
       "    .dataframe tbody tr th:only-of-type {\n",
       "        vertical-align: middle;\n",
       "    }\n",
       "\n",
       "    .dataframe tbody tr th {\n",
       "        vertical-align: top;\n",
       "    }\n",
       "\n",
       "    .dataframe thead th {\n",
       "        text-align: right;\n",
       "    }\n",
       "</style>\n",
       "<table border=\"1\" class=\"dataframe\">\n",
       "  <thead>\n",
       "    <tr style=\"text-align: right;\">\n",
       "      <th></th>\n",
       "      <th>score</th>\n",
       "    </tr>\n",
       "  </thead>\n",
       "  <tbody>\n",
       "    <tr>\n",
       "      <th>count</th>\n",
       "      <td>1299.000000</td>\n",
       "    </tr>\n",
       "    <tr>\n",
       "      <th>mean</th>\n",
       "      <td>0.682821</td>\n",
       "    </tr>\n",
       "    <tr>\n",
       "      <th>std</th>\n",
       "      <td>0.255806</td>\n",
       "    </tr>\n",
       "    <tr>\n",
       "      <th>min</th>\n",
       "      <td>0.009471</td>\n",
       "    </tr>\n",
       "    <tr>\n",
       "      <th>25%</th>\n",
       "      <td>0.519505</td>\n",
       "    </tr>\n",
       "    <tr>\n",
       "      <th>50%</th>\n",
       "      <td>0.682751</td>\n",
       "    </tr>\n",
       "    <tr>\n",
       "      <th>75%</th>\n",
       "      <td>0.935452</td>\n",
       "    </tr>\n",
       "    <tr>\n",
       "      <th>max</th>\n",
       "      <td>1.000000</td>\n",
       "    </tr>\n",
       "  </tbody>\n",
       "</table>\n",
       "</div>"
      ],
      "text/plain": [
       "             score\n",
       "count  1299.000000\n",
       "mean      0.682821\n",
       "std       0.255806\n",
       "min       0.009471\n",
       "25%       0.519505\n",
       "50%       0.682751\n",
       "75%       0.935452\n",
       "max       1.000000"
      ]
     },
     "execution_count": 25,
     "metadata": {},
     "output_type": "execute_result"
    }
   ],
   "source": [
    "problematic_entities.describe()"
   ]
  },
  {
   "cell_type": "code",
   "execution_count": 27,
   "metadata": {},
   "outputs": [
    {
     "data": {
      "text/html": [
       "<div>\n",
       "<style scoped>\n",
       "    .dataframe tbody tr th:only-of-type {\n",
       "        vertical-align: middle;\n",
       "    }\n",
       "\n",
       "    .dataframe tbody tr th {\n",
       "        vertical-align: top;\n",
       "    }\n",
       "\n",
       "    .dataframe thead th {\n",
       "        text-align: right;\n",
       "    }\n",
       "</style>\n",
       "<table border=\"1\" class=\"dataframe\">\n",
       "  <thead>\n",
       "    <tr style=\"text-align: right;\">\n",
       "      <th></th>\n",
       "      <th>word</th>\n",
       "      <th>score</th>\n",
       "    </tr>\n",
       "  </thead>\n",
       "  <tbody>\n",
       "    <tr>\n",
       "      <th>0</th>\n",
       "      <td>AMDT</td>\n",
       "      <td>0.009471</td>\n",
       "    </tr>\n",
       "    <tr>\n",
       "      <th>1</th>\n",
       "      <td>New Year</td>\n",
       "      <td>0.016697</td>\n",
       "    </tr>\n",
       "    <tr>\n",
       "      <th>2</th>\n",
       "      <td>My3</td>\n",
       "      <td>0.017206</td>\n",
       "    </tr>\n",
       "    <tr>\n",
       "      <th>3</th>\n",
       "      <td>Power Cut</td>\n",
       "      <td>0.018553</td>\n",
       "    </tr>\n",
       "    <tr>\n",
       "      <th>4</th>\n",
       "      <td>University of Peradeniya</td>\n",
       "      <td>0.020998</td>\n",
       "    </tr>\n",
       "    <tr>\n",
       "      <th>...</th>\n",
       "      <td>...</td>\n",
       "      <td>...</td>\n",
       "    </tr>\n",
       "    <tr>\n",
       "      <th>489</th>\n",
       "      <td>Japanese</td>\n",
       "      <td>0.599043</td>\n",
       "    </tr>\n",
       "    <tr>\n",
       "      <th>490</th>\n",
       "      <td>GM</td>\n",
       "      <td>0.599094</td>\n",
       "    </tr>\n",
       "    <tr>\n",
       "      <th>491</th>\n",
       "      <td>TN</td>\n",
       "      <td>0.599214</td>\n",
       "    </tr>\n",
       "    <tr>\n",
       "      <th>492</th>\n",
       "      <td>ISIS</td>\n",
       "      <td>0.599560</td>\n",
       "    </tr>\n",
       "    <tr>\n",
       "      <th>493</th>\n",
       "      <td>North East</td>\n",
       "      <td>0.599759</td>\n",
       "    </tr>\n",
       "  </tbody>\n",
       "</table>\n",
       "<p>494 rows × 2 columns</p>\n",
       "</div>"
      ],
      "text/plain": [
       "                         word     score\n",
       "0                        AMDT  0.009471\n",
       "1                    New Year  0.016697\n",
       "2                         My3  0.017206\n",
       "3                   Power Cut  0.018553\n",
       "4    University of Peradeniya  0.020998\n",
       "..                        ...       ...\n",
       "489                  Japanese  0.599043\n",
       "490                        GM  0.599094\n",
       "491                        TN  0.599214\n",
       "492                      ISIS  0.599560\n",
       "493                North East  0.599759\n",
       "\n",
       "[494 rows x 2 columns]"
      ]
     },
     "execution_count": 27,
     "metadata": {},
     "output_type": "execute_result"
    }
   ],
   "source": [
    "problematic_entities[problematic_entities[\"score\"] < 0.6]"
   ]
  },
  {
   "cell_type": "code",
   "execution_count": 22,
   "metadata": {},
   "outputs": [
    {
     "data": {
      "text/html": [
       "<div>\n",
       "<style scoped>\n",
       "    .dataframe tbody tr th:only-of-type {\n",
       "        vertical-align: middle;\n",
       "    }\n",
       "\n",
       "    .dataframe tbody tr th {\n",
       "        vertical-align: top;\n",
       "    }\n",
       "\n",
       "    .dataframe thead th {\n",
       "        text-align: right;\n",
       "    }\n",
       "</style>\n",
       "<table border=\"1\" class=\"dataframe\">\n",
       "  <thead>\n",
       "    <tr style=\"text-align: right;\">\n",
       "      <th></th>\n",
       "      <th>full_name</th>\n",
       "      <th>text_body</th>\n",
       "      <th>author_name</th>\n",
       "      <th>votes</th>\n",
       "      <th>responds_to</th>\n",
       "      <th>parent_submission_name</th>\n",
       "      <th>submission_flair</th>\n",
       "      <th>created_timestamp</th>\n",
       "      <th>parsed_timestamp</th>\n",
       "      <th>controversiality</th>\n",
       "      <th>created_datetime</th>\n",
       "      <th>year</th>\n",
       "      <th>named_entities_json</th>\n",
       "      <th>full_text</th>\n",
       "      <th>emotion_json</th>\n",
       "      <th>named_entities</th>\n",
       "      <th>emotion</th>\n",
       "    </tr>\n",
       "  </thead>\n",
       "  <tbody>\n",
       "    <tr>\n",
       "      <th>0</th>\n",
       "      <td>t3_un1z9w</td>\n",
       "      <td>Sri Lankan opposition leader Sajith Premadasa ...</td>\n",
       "      <td>t2_63oe5kpm</td>\n",
       "      <td>179</td>\n",
       "      <td>NaN</td>\n",
       "      <td>t3_un1z9w</td>\n",
       "      <td>NaN</td>\n",
       "      <td>1.652245e+09</td>\n",
       "      <td>1731353678</td>\n",
       "      <td>False</td>\n",
       "      <td>2022-05-11 12:03:15</td>\n",
       "      <td>2022</td>\n",
       "      <td>[{\"entity_group\": \"PER\", \"score\": 0.9975797533...</td>\n",
       "      <td>Sri Lankan opposition leader Sajith Premadasa ...</td>\n",
       "      <td>[{\"label\": \"anger\", \"score\": 0.201455861330032...</td>\n",
       "      <td>[{'entity_group': 'PER', 'score': 0.9975797533...</td>\n",
       "      <td>[{'label': 'anger', 'score': 0.201455861330032...</td>\n",
       "    </tr>\n",
       "    <tr>\n",
       "      <th>1</th>\n",
       "      <td>t1_i868ljo</td>\n",
       "      <td>Look at this dudes car !! Has he ever had a jo...</td>\n",
       "      <td>NaN</td>\n",
       "      <td>36</td>\n",
       "      <td>t3_un1z9w</td>\n",
       "      <td>t3_un1z9w</td>\n",
       "      <td>NaN</td>\n",
       "      <td>1.652245e+09</td>\n",
       "      <td>1731353680</td>\n",
       "      <td>False</td>\n",
       "      <td>2022-05-11 12:03:15</td>\n",
       "      <td>2022</td>\n",
       "      <td>[]</td>\n",
       "      <td>Sri Lankan opposition leader Sajith Premadasa ...</td>\n",
       "      <td>[{\"label\": \"anger\", \"score\": 0.207774564623832...</td>\n",
       "      <td>[]</td>\n",
       "      <td>[{'label': 'anger', 'score': 0.207774564623832...</td>\n",
       "    </tr>\n",
       "    <tr>\n",
       "      <th>2</th>\n",
       "      <td>t1_i86ogbn</td>\n",
       "      <td>Anyone with half a brain knows this guy is a p...</td>\n",
       "      <td>t2_96ecn1c5</td>\n",
       "      <td>26</td>\n",
       "      <td>t3_un1z9w</td>\n",
       "      <td>t3_un1z9w</td>\n",
       "      <td>NaN</td>\n",
       "      <td>1.652245e+09</td>\n",
       "      <td>1731353680</td>\n",
       "      <td>False</td>\n",
       "      <td>2022-05-11 12:03:15</td>\n",
       "      <td>2022</td>\n",
       "      <td>[{\"entity_group\": \"ORG\", \"score\": 0.7969231605...</td>\n",
       "      <td>Sri Lankan opposition leader Sajith Premadasa ...</td>\n",
       "      <td>[{\"label\": \"anger\", \"score\": 0.164950283700237...</td>\n",
       "      <td>[{'entity_group': 'ORG', 'score': 0.8951702117...</td>\n",
       "      <td>[{'label': 'anger', 'score': 0.164950283700237...</td>\n",
       "    </tr>\n",
       "    <tr>\n",
       "      <th>3</th>\n",
       "      <td>t1_i85t3da</td>\n",
       "      <td>Why is there some blind arab man trying to cro...</td>\n",
       "      <td>t2_8ctz6ggl</td>\n",
       "      <td>43</td>\n",
       "      <td>t3_un1z9w</td>\n",
       "      <td>t3_un1z9w</td>\n",
       "      <td>NaN</td>\n",
       "      <td>1.652245e+09</td>\n",
       "      <td>1731353680</td>\n",
       "      <td>False</td>\n",
       "      <td>2022-05-11 12:03:15</td>\n",
       "      <td>2022</td>\n",
       "      <td>[{\"entity_group\": \"MISC\", \"score\": 0.925253450...</td>\n",
       "      <td>Sri Lankan opposition leader Sajith Premadasa ...</td>\n",
       "      <td>[{\"label\": \"anger\", \"score\": 0.151034057140350...</td>\n",
       "      <td>[{'entity_group': 'MISC', 'score': 0.925253450...</td>\n",
       "      <td>[{'label': 'anger', 'score': 0.151034057140350...</td>\n",
       "    </tr>\n",
       "    <tr>\n",
       "      <th>4</th>\n",
       "      <td>t1_i85mb6t</td>\n",
       "      <td>/r/praisethecameraman</td>\n",
       "      <td>t2_684r0o1z</td>\n",
       "      <td>23</td>\n",
       "      <td>t3_un1z9w</td>\n",
       "      <td>t3_un1z9w</td>\n",
       "      <td>NaN</td>\n",
       "      <td>1.652245e+09</td>\n",
       "      <td>1731353680</td>\n",
       "      <td>False</td>\n",
       "      <td>2022-05-11 12:03:15</td>\n",
       "      <td>2022</td>\n",
       "      <td>[{\"entity_group\": \"MISC\", \"score\": 0.550119280...</td>\n",
       "      <td>Sri Lankan opposition leader Sajith Premadasa ...</td>\n",
       "      <td>[{\"label\": \"anger\", \"score\": 0.250387310981750...</td>\n",
       "      <td>[]</td>\n",
       "      <td>[{'label': 'anger', 'score': 0.250387310981750...</td>\n",
       "    </tr>\n",
       "  </tbody>\n",
       "</table>\n",
       "</div>"
      ],
      "text/plain": [
       "    full_name                                          text_body  author_name  \\\n",
       "0   t3_un1z9w  Sri Lankan opposition leader Sajith Premadasa ...  t2_63oe5kpm   \n",
       "1  t1_i868ljo  Look at this dudes car !! Has he ever had a jo...          NaN   \n",
       "2  t1_i86ogbn  Anyone with half a brain knows this guy is a p...  t2_96ecn1c5   \n",
       "3  t1_i85t3da  Why is there some blind arab man trying to cro...  t2_8ctz6ggl   \n",
       "4  t1_i85mb6t                              /r/praisethecameraman  t2_684r0o1z   \n",
       "\n",
       "   votes responds_to parent_submission_name submission_flair  \\\n",
       "0    179         NaN              t3_un1z9w              NaN   \n",
       "1     36   t3_un1z9w              t3_un1z9w              NaN   \n",
       "2     26   t3_un1z9w              t3_un1z9w              NaN   \n",
       "3     43   t3_un1z9w              t3_un1z9w              NaN   \n",
       "4     23   t3_un1z9w              t3_un1z9w              NaN   \n",
       "\n",
       "   created_timestamp  parsed_timestamp  controversiality     created_datetime  \\\n",
       "0       1.652245e+09        1731353678             False  2022-05-11 12:03:15   \n",
       "1       1.652245e+09        1731353680             False  2022-05-11 12:03:15   \n",
       "2       1.652245e+09        1731353680             False  2022-05-11 12:03:15   \n",
       "3       1.652245e+09        1731353680             False  2022-05-11 12:03:15   \n",
       "4       1.652245e+09        1731353680             False  2022-05-11 12:03:15   \n",
       "\n",
       "   year                                named_entities_json  \\\n",
       "0  2022  [{\"entity_group\": \"PER\", \"score\": 0.9975797533...   \n",
       "1  2022                                                 []   \n",
       "2  2022  [{\"entity_group\": \"ORG\", \"score\": 0.7969231605...   \n",
       "3  2022  [{\"entity_group\": \"MISC\", \"score\": 0.925253450...   \n",
       "4  2022  [{\"entity_group\": \"MISC\", \"score\": 0.550119280...   \n",
       "\n",
       "                                           full_text  \\\n",
       "0  Sri Lankan opposition leader Sajith Premadasa ...   \n",
       "1  Sri Lankan opposition leader Sajith Premadasa ...   \n",
       "2  Sri Lankan opposition leader Sajith Premadasa ...   \n",
       "3  Sri Lankan opposition leader Sajith Premadasa ...   \n",
       "4  Sri Lankan opposition leader Sajith Premadasa ...   \n",
       "\n",
       "                                        emotion_json  \\\n",
       "0  [{\"label\": \"anger\", \"score\": 0.201455861330032...   \n",
       "1  [{\"label\": \"anger\", \"score\": 0.207774564623832...   \n",
       "2  [{\"label\": \"anger\", \"score\": 0.164950283700237...   \n",
       "3  [{\"label\": \"anger\", \"score\": 0.151034057140350...   \n",
       "4  [{\"label\": \"anger\", \"score\": 0.250387310981750...   \n",
       "\n",
       "                                      named_entities  \\\n",
       "0  [{'entity_group': 'PER', 'score': 0.9975797533...   \n",
       "1                                                 []   \n",
       "2  [{'entity_group': 'ORG', 'score': 0.8951702117...   \n",
       "3  [{'entity_group': 'MISC', 'score': 0.925253450...   \n",
       "4                                                 []   \n",
       "\n",
       "                                             emotion  \n",
       "0  [{'label': 'anger', 'score': 0.201455861330032...  \n",
       "1  [{'label': 'anger', 'score': 0.207774564623832...  \n",
       "2  [{'label': 'anger', 'score': 0.164950283700237...  \n",
       "3  [{'label': 'anger', 'score': 0.151034057140350...  \n",
       "4  [{'label': 'anger', 'score': 0.250387310981750...  "
      ]
     },
     "execution_count": 22,
     "metadata": {},
     "output_type": "execute_result"
    }
   ],
   "source": [
    "df.head()"
   ]
  },
  {
   "cell_type": "code",
   "execution_count": 237,
   "metadata": {},
   "outputs": [],
   "source": [
    "df.to_csv(\"kw/ner_emotion_analysis.csv\", index=False, columns=[\n",
    "    \"full_name\",\n",
    "    \"text_body\",\n",
    "    \"author_name\",\n",
    "    \"votes\",\n",
    "    \"responds_to\",\n",
    "    \"parent_submission_name\",\n",
    "    \"submission_flair\",\n",
    "    \"created_timestamp\",\n",
    "    \"parsed_timestamp\",\n",
    "    \"controversiality\",\n",
    "    \"created_datetime\",\n",
    "    \"year\",\n",
    "    \"named_entities_json\",\n",
    "    \"full_text\",\n",
    "    \"emotion_json\"\n",
    "])"
   ]
  }
 ],
 "metadata": {
  "kernelspec": {
   "display_name": "venv",
   "language": "python",
   "name": "python3"
  },
  "language_info": {
   "codemirror_mode": {
    "name": "ipython",
    "version": 3
   },
   "file_extension": ".py",
   "mimetype": "text/x-python",
   "name": "python",
   "nbconvert_exporter": "python",
   "pygments_lexer": "ipython3",
   "version": "3.12.4"
  }
 },
 "nbformat": 4,
 "nbformat_minor": 2
}
